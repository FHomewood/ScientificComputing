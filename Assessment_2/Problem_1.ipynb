{
 "cells": [
  {
   "cell_type": "markdown",
   "metadata": {},
   "source": [
    "# Assessed Problem #1"
   ]
  },
  {
   "cell_type": "code",
   "execution_count": 13,
   "metadata": {
    "collapsed": false
   },
   "outputs": [
    {
     "name": "stdout",
     "output_type": "stream",
     "text": [
      "326045071.665\n",
      "326045071.66535544\n",
      "326045071.66535544\n"
     ]
    }
   ],
   "source": [
    "#Lagrange points\n",
    "#part b)\n",
    "\n",
    "#Libraries\n",
    "import matplotlib.pyplot as plt\n",
    "import scipy.optimize as opt\n",
    "from ridder import *\n",
    "from newtonRaphson import *\n",
    "#\n",
    "\n",
    "#Initialize constants\n",
    "G = 6.674*10.**-11\n",
    "M = 5.974*10.**+24\n",
    "m = 7.348*10.**+22\n",
    "R = 3.844*10.**+8\n",
    "w = 2.662*10.**-6\n",
    "#\n",
    "\n",
    "#Define Subroutines\n",
    "def f(r):\n",
    "    return (G*M/r**2)-(G*m/(R-r)**2)-(w*w*r)\n",
    "def df(r):\n",
    "    return -2*G*M*r**-3 - 2*G*m*(R-r)**-3-w**2\n",
    "#\n",
    "\n",
    "#Computation\n",
    "fsolve_root = opt.fsolve(f,0.5*R)[0]\n",
    "newton_root = newtonRaphson(f,df,0.1,R-0.1)\n",
    "ridder_root = ridder(f,0.1,R-0.1)\n",
    "#\n",
    "\n",
    "#Output\n",
    "\n",
    "print (fsolve_root)\n",
    "print (newton_root)\n",
    "print (ridder_root)\n",
    "#"
   ]
  },
  {
   "cell_type": "code",
   "execution_count": null,
   "metadata": {
    "collapsed": true
   },
   "outputs": [],
   "source": []
  }
 ],
 "metadata": {
  "kernelspec": {
   "display_name": "Python 3",
   "language": "python",
   "name": "python3"
  },
  "language_info": {
   "codemirror_mode": {
    "name": "ipython",
    "version": 3
   },
   "file_extension": ".py",
   "mimetype": "text/x-python",
   "name": "python",
   "nbconvert_exporter": "python",
   "pygments_lexer": "ipython3",
   "version": "3.6.0"
  }
 },
 "nbformat": 4,
 "nbformat_minor": 2
}
