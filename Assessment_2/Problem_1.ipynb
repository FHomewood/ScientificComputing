{
 "cells": [
  {
   "cell_type": "code",
   "execution_count": 128,
   "metadata": {},
   "outputs": [
    {
     "data": {
      "image/png": "[encoded data removed]",
      "text/plain": [
       "<matplotlib.figure.Figure at 0x198dca15be0>"
      ]
     },
     "metadata": {},
     "output_type": "display_data"
    },
    {
     "name": "stdout",
     "output_type": "stream",
     "text": [
      "6.674e-11 5.974e+24 7.348e+22 384400000.0 2.6619999999999997e-06\n"
     ]
    }
   ],
   "source": [
    "#Lagrange points\n",
    "#part b)\n",
    "\n",
    "#Libraries\n",
    "import numpy as np\n",
    "import matplotlib.pyplot as plt\n",
    "import scipy.optimize as opt\n",
    "#\n",
    "\n",
    "#Initialize constants\n",
    "G = 6.674*10.**-11\n",
    "M = 5.974*10.**+24\n",
    "m = 7.348*10.**+22\n",
    "R = 3.844*10.**+8\n",
    "w = 2.662*10.**-6\n",
    "#\n",
    "\n",
    "#Define Subroutines\n",
    "def func(r):\n",
    "    ret = (G*M/r**2)-(G*m/(R-r)**2)-(w*w*r)\n",
    "    return ret\n",
    "#\n",
    "\n",
    "#Computation\n",
    "x = np.arange(1,60.,0.1)\n",
    "y = func(x)\n",
    "\n",
    "plt.plot(x,y,'b',-x,y,'b')\n",
    "#plt.axis([-600000,600000,-100000,100000])\n",
    "plt.show()\n",
    "#\n",
    "\n",
    "#Output\n",
    "print(G,M,m,R,w)\n",
    "#"
   ]
  },
  {
   "cell_type": "code",
   "execution_count": null,
   "metadata": {
    "collapsed": true
   },
   "outputs": [],
   "source": []
  },
  {
   "cell_type": "code",
   "execution_count": null,
   "metadata": {
    "collapsed": true
   },
   "outputs": [],
   "source": []
  }
 ],
 "metadata": {
  "kernelspec": {
   "display_name": "Python 3",
   "language": "python",
   "name": "python3"
  },
  "language_info": {
   "codemirror_mode": {
    "name": "ipython",
    "version": 3
   },
   "file_extension": ".py",
   "mimetype": "text/x-python",
   "name": "python",
   "nbconvert_exporter": "python",
   "pygments_lexer": "ipython3",
   "version": "3.6.3"
  }
 },
 "nbformat": 4,
 "nbformat_minor": 2
}
