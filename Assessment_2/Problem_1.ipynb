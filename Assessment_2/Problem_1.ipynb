{
 "cells": [
  {
   "cell_type": "markdown",
   "metadata": {},
   "source": [
    "# Assessed Problem #1"
   ]
  },
  {
   "cell_type": "markdown",
   "metadata": {},
   "source": [
    "<html>\n",
    "    <body>\n",
    "        <img src=\"https://i.imgur.com/6ZMJSch.png\"/>\n",
    "        <p> $$The \\ second \\ law \\ of \\ Newtonian \\ Mechanics \\ states \\ that \\ the \\ sum \\ of \\ the \\ forces \\ acting \\\\ on \\ a \\  body \\ are \\ equivalent \\ to \\ the \\ acceleration \\ of \\ the \\ body \\ multiplied \\ by \\ it's \\ inertial \\ resistance$$</p>\n",
    "        <p> $$ \\sum F = ma $$ </p>\n",
    "        <p> $$ To \\ form \\ the \\ equation \\ I \\ evaluate \\ both \\ sides \\ independantly \\ then \\ reequate \\ them \\ later$$ </p>\n",
    "        <img src=\"https://i.imgur.com/EPCiIsl.png\"/>\n",
    "        <p> $$ Assuming \\ the \\ mass \\ of \\ the \\ satellite \\ is \\ 'N' \\ we \\ can \\ use \\ Newton's \\ Laws \\ of \\ gravitation \\\\ to \\ find \\ the \\ forces \\ acting \\ on \\ satellite \\ If \\ we \\ define \\ the \\ positive \\ direction \\ as \\ the \\ Earthward \\\\ pointing \\ direction \\ from \\ the \\ diagram \\ we \\ update \\ the \\ previous \\ equation \\ to \\ include \\ the \\ new \\ information$$ </p>\n",
    "        <p> $$ \\frac{GMN}{r^2} - \\frac{GmN}{(R-r)^2} = Na$$</p>\n",
    "        <p> $$ Now \\ the \\ only \\ thing \\ to \\ find \\ to \\ complete \\ the \\ equation \\ is \\ the \\ formula \\ for \\ the \\ gravitational \\ acceleration \\ of \\ the \\ system // // to \\ do \\ this \\ we \\ must \\ consider \\ the \\ nature \\ of \\ oscillatory \\ motion$$</p>\n",
    "        <img src=\"https://i.imgur.com/kTwmR0q.png\"/>\n",
    "        <p> $$ motion \\ of \\ the \\ satellite \\ N \\ can \\ be \\ described \\ as \\ a \\ sinusoidal \\ function \\ as \\ such: $$ </p>\n",
    "        <p> $$ x = A_0 Sin(\\omega t ) $$ </p>\n",
    "        <p> $$ to \\ which \\ the \\ acceleration \\ of \\ this \\ function \\ can \\ be \\ described \\ by \\ it's \\ second \\ derivative:  $$ </p>\n",
    "        <p> $$ a = -\\omega^2 A_0 Sin(\\omega t) $$ </p>\n",
    "        <p> $$ where \\ A_0 \\ is \\ the \\ amplitude \\ of \\ the \\ oscillation \\ which \\ in \\ this \\ case \\ is \\ the \\ radius \\ of \\ the \\ satellite's \\ orbit. \\ Taking \\ the \\ amplitude \\ of \\ this \\ oscillation \\ gives \\ us \\ the \\ acceleration \\ of \\ the \\ satellite, \\ and \\ thus \\ we \\ can \\ complete \\ the \\ equation.$$ </p>\n",
    "        <p> $$ \\lceil a \\rceil = \\lceil-\\omega^2 A_0 Sin(\\omega t)\\rceil = \\omega^2r$$</p>\n",
    "        <p> $$ \\frac{GMN}{r^2} - \\frac{GmN}{(R-r)^2} = N \\omega^2 r $$</p>\n",
    "        <p> $$ From \\ this \\ we \\ can \\ see \\ that \\ the \\ mass \\ of \\ the \\ satellite \\ has \\ no \\ component \\ in \\ the \\ equation $$</p>\n",
    "        <p> $$ thus: $$</p>\n",
    "        <p> $$ \\frac{GM}{r^2} - \\frac{Gm}{(R-r)^2} = \\omega^2 r \\ \\ \\ \\ \\ \\ \\ \\ \\ \\ \\ as \\ reqd.$$</p>\n",
    "    </body>\n",
    "</html>"
   ]
  },
  {
   "cell_type": "code",
   "execution_count": 2,
   "metadata": {},
   "outputs": [
    {
     "name": "stdout",
     "output_type": "stream",
     "text": [
      "The f_Solve function computes L1 is at a radius           3.2605e+08m from the Earth.\n",
      "The Newton-Raphson function computes L1 is at a radius    3.2605e+08m from the Earth.\n",
      "The Ridder function computes L1 is at a radius            3.2605e+08m from the Earth.\n",
      "\n",
      "The f_Solve function computes that the L1 point is        84.8% of the distance to the moon.\n",
      "The Newton-Raphson function computes that the L1 point is 84.8% of the distance to the moon.\n",
      "The Ridder function computes that the L1 point is         84.8% of the distance to the moon.\n",
      "\n",
      "As you can see all of these functions give equivalent answers to five significant figures.\n"
     ]
    }
   ],
   "source": [
    "#part b)\n",
    "\n",
    "#Libraries\n",
    "import matplotlib.pyplot as plt\n",
    "import scipy.optimize as opt\n",
    "from ridder import *\n",
    "from newtonRaphson import *\n",
    "#\n",
    "\n",
    "#Initialize constants\n",
    "G = 6.674E-11 #Gravitational Constant\n",
    "M = 5.974E+24 #Earth's Mass\n",
    "m = 7.348E+22 #Lunar Mass\n",
    "R = 3.844E+8  #Lunar Orbital Radius\n",
    "w = 2.662E-6  #Lunar Orbital Angular Frequency\n",
    "#\n",
    "\n",
    "#Define Subroutines\n",
    "def f(r):   #returns the quintic function for r\n",
    "    return G*M/r**2-G*m/(R-r)**2-w*w*r\n",
    "def df(r):  #returns the derivitive of the quintic function,\n",
    "            #this is only required for the Newton-Raphson method\n",
    "    return -2*G*M*r**-3 - 2*G*m*(R-r)**-3-w**2\n",
    "#\n",
    "\n",
    "#Computation\n",
    "    # Returns the first solution the F_Solve function finds\n",
    "    # I chose the value of the best estimate to be R/2 since it is equidistant from both massive bodies\n",
    "    # however since Earth is more massive than the moon a more accurate estimate would have been closer to R\n",
    "fsolve_root = opt.fsolve(f,0.5*R)[0]\n",
    "\n",
    "    # Returns the output of the newton Raphson function\n",
    "    # The bounds for this function were defined to avoid 0 and R as these locations are exactly 0 meters from a massive body\n",
    "    # and as such they have an undefined acceleration at that point.\n",
    "newton_root = newtonRaphson(f,df,0.1,R-0.1) \n",
    "\n",
    "    # Returns the output of the ridder function\n",
    "    #This too avoids the 0 and R points\n",
    "ridder_root = ridder(f,0.1,R-0.1)\n",
    "#\n",
    "\n",
    "#Output\n",
    "print(\"The f_Solve function computes L1 is at a radius           {:.4e}m from the Earth.\".format(fsolve_root))\n",
    "print(\"The Newton-Raphson function computes L1 is at a radius    {:.4e}m from the Earth.\".format(newton_root))\n",
    "print(\"The Ridder function computes L1 is at a radius            {:.4e}m from the Earth.\".format(ridder_root))\n",
    "print()\n",
    "print(\"The f_Solve function computes that the L1 point is        {0:.1f}% of the distance to the moon.\".format(100*fsolve_root/R))\n",
    "print(\"The Newton-Raphson function computes that the L1 point is {0:.1f}% of the distance to the moon.\".format(100*newton_root/R))\n",
    "print(\"The Ridder function computes that the L1 point is         {0:.1f}% of the distance to the moon.\".format(100*ridder_root/R))\n",
    "print()\n",
    "print(\"As you can see all of these functions give equivalent answers to five significant figures.\")\n",
    "#"
   ]
  }
 ],
 "metadata": {
  "kernelspec": {
   "display_name": "Python 3",
   "language": "python",
   "name": "python3"
  },
  "language_info": {
   "codemirror_mode": {
    "name": "ipython",
    "version": 3
   },
   "file_extension": ".py",
   "mimetype": "text/x-python",
   "name": "python",
   "nbconvert_exporter": "python",
   "pygments_lexer": "ipython3",
   "version": "3.6.3"
  }
 },
 "nbformat": 4,
 "nbformat_minor": 2
}
