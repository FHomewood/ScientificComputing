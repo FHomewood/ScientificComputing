{
 "cells": [
  {
   "cell_type": "markdown",
   "metadata": {},
   "source": [
    "# It's been a long road...\n"
   ]
  },
  {
   "cell_type": "code",
   "execution_count": null,
   "metadata": {
    "collapsed": true
   },
   "outputs": [],
   "source": [
    "#Libraries\n",
    "import numpy as np\n",
    "import matplotlib.pyplot as plt\n",
    "from run_kut4 import *\n",
    "#\n",
    "p=np.pi\n",
    "#Define Subroutines\n",
    "def f(x,y):\n",
    "    return 2/np.pi/((2*np.cos(x) - 2*np.cos(y)))\n",
    "def expansion(X):\n",
    "    return 1+X**2/16+11*X**4/3072\n",
    "#\n",
    "X,Y = integrate(f,0,1,np.pi/2,0.1)\n",
    "\n",
    "plt.plot(X, Y           , 'k-', label = \"Real\"         )\n",
    "plt.plot(X, expansion(X), 'b-', label = \"Expansion\"    )\n",
    "plt.plot(X,[1]*len(X)   , 'r-', label = \"Approximation\")\n",
    "\n",
    "error = 1\n",
    "for i in X:\n",
    "    if (error < 1.01 and expansion(i) > 1.01):\n",
    "        plt.plot(i,expansion(i), 'ko',markersize = 4, label = \"Error threshold\")\n",
    "    error = expansion(i)\n",
    "    \n",
    "plt.xlabel(\"$\\Theta_0$\")\n",
    "plt.ylabel(\"$T/T_0$\")\n",
    "plt.legend()\n",
    "plt.show()\n"
   ]
  },
  {
   "cell_type": "code",
   "execution_count": null,
   "metadata": {
    "collapsed": true
   },
   "outputs": [],
   "source": [
    "#Libraries\n",
    "import numpy as np\n",
    "import matplotlib.pyplot as plt\n",
    "#\n",
    "p=np.pi\n",
    "#Define Subroutines\n",
    "def f(x,y):\n",
    "    return 2/np.pi/np.sqrt(2*np.cos(x) - 2*np.cos(y))\n",
    "def expansion(X):\n",
    "    return 1+X**2/16+11*X**4/3072\n",
    "#\n",
    "X = np.arange(0,p/2,0.01)\n",
    "hrange = []\n",
    "for O in np.arange(0,p/2,0.001):\n",
    "    nsum = 0.\n",
    "    for n in np.arange(0, O, 0.001):\n",
    "        nsum += f(n,O)\n",
    "    hrange.append(nsum)\n",
    "\n",
    "plt.plot(np.arange(0,p/2,0.01), hrange, 'k-', label = \"Real\")\n",
    "plt.plot(X, expansion(X), 'b-', label = \"Expansion\"    )\n",
    "plt.plot(X,[1]*len(X)   , 'r-', label = \"Approximation\")\n",
    "\n",
    "error = 1\n",
    "for i in X:\n",
    "    if (error < 1.01 and expansion(i) > 1.01):\n",
    "        plt.plot(i,expansion(i), 'ko',markersize = 4, label = \"Error threshold\")\n",
    "    error = expansion(i)\n",
    "    \n",
    "plt.xlabel(\"$\\Theta_0$\")\n",
    "plt.ylabel(\"$T/T_0$\")\n",
    "plt.legend()\n",
    "plt.show()"
   ]
  },
  {
   "cell_type": "code",
   "execution_count": null,
   "metadata": {
    "collapsed": true
   },
   "outputs": [],
   "source": [
    "#Libraries\n",
    "import numpy as np\n",
    "import matplotlib.pyplot as plt\n",
    "from scipy import integrate\n",
    "from romberg import *\n",
    "#\n",
    "#Define Subroutines\n",
    "def f(y):\n",
    "    def function(x):\n",
    "        return 2/np.pi/np.sqrt(2*np.cos(x) - 2*np.cos(y))\n",
    "    return function\n",
    "\n",
    "def expansion(X):\n",
    "    return 1+X**2/16+11*X**4/3072\n",
    "\n",
    "#\n",
    "\n",
    "\n",
    "X = np.linspace(0.0,np.pi/2,1000)[1:]\n",
    "y = []\n",
    "for x in X:\n",
    "    fx = f(x)\n",
    "    y.append(integrate.quad(fx,0.,x)[0])\n",
    "\n",
    "plt.plot(X, expansion(X), 'b-', label = \"Taylor Expansion\"    )\n",
    "plt.plot(X, y           , 'k-', label = \"Real\"         )\n",
    "plt.plot(X,[1]*len(X)   , 'r-', label = \"Approximation\")\n",
    "\n",
    "error = 0\n",
    "for i in range(len(X)):\n",
    "    if (error < 1.01 and y[i] > 1.01):\n",
    "        plt.plot(X[i],y[i], 'ko',markersize = 4, label = \"Error threshold\")\n",
    "    error = y[i]\n",
    "    \n",
    "plt.title(\"$Period \\ model \\ comparison \\ graph$\")\n",
    "plt.xlabel(\"$\\Theta_0$\")\n",
    "plt.ylabel(\"$T/T_0$\")\n",
    "plt.legend()\n",
    "plt.show()"
   ]
  }
 ],
 "metadata": {
  "kernelspec": {
   "display_name": "Python 3",
   "language": "python",
   "name": "python3"
  },
  "language_info": {
   "codemirror_mode": {
    "name": "ipython",
    "version": 3
   },
   "file_extension": ".py",
   "mimetype": "text/x-python",
   "name": "python",
   "nbconvert_exporter": "python",
   "pygments_lexer": "ipython3",
   "version": "3.6.0"
  }
 },
 "nbformat": 4,
 "nbformat_minor": 2
}
