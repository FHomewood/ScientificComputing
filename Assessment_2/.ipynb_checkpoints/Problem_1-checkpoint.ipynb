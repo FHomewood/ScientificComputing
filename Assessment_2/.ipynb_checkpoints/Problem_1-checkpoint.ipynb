{
 "cells": [
  {
   "cell_type": "code",
   "execution_count": 22,
   "metadata": {
    "collapsed": false
   },
   "outputs": [
    {
     "data": {
      "image/png": "[encoded data removed]",
      "text/plain": [
       "<matplotlib.figure.Figure at 0x27b8006d518>"
      ]
     },
     "metadata": {},
     "output_type": "display_data"
    },
    {
     "name": "stdout",
     "output_type": "stream",
     "text": [
      "[  3.26045072e+08]\n"
     ]
    }
   ],
   "source": [
    "#Lagrange points\n",
    "#part b)\n",
    "\n",
    "#Libraries\n",
    "import numpy as np\n",
    "import matplotlib.pyplot as plt\n",
    "import scipy.optimize as opt\n",
    "#\n",
    "\n",
    "#Initialize constants\n",
    "G = 6.674*10.**-11\n",
    "M = 5.974*10.**+24\n",
    "m = 7.348*10.**+22\n",
    "R = 3.844*10.**+8\n",
    "w = 2.662*10.**-6\n",
    "#\n",
    "\n",
    "#Define Subroutines\n",
    "def func(r):\n",
    "    ret = (G*M/r**2)-(G*m/(R-r)**2)-(w*w*r)\n",
    "    return ret\n",
    "#\n",
    "\n",
    "#Computation\n",
    "roots = opt.fsolve(func,1)\n",
    "#\n",
    "\n",
    "#Output\n",
    "plt.show()\n",
    "print (roots)\n",
    "#"
   ]
  },
  {
   "cell_type": "code",
   "execution_count": null,
   "metadata": {
    "collapsed": true
   },
   "outputs": [],
   "source": []
  },
  {
   "cell_type": "code",
   "execution_count": null,
   "metadata": {
    "collapsed": true
   },
   "outputs": [],
   "source": []
  }
 ],
 "metadata": {
  "kernelspec": {
   "display_name": "Python 3",
   "language": "python",
   "name": "python3"
  },
  "language_info": {
   "codemirror_mode": {
    "name": "ipython",
    "version": 3
   },
   "file_extension": ".py",
   "mimetype": "text/x-python",
   "name": "python",
   "nbconvert_exporter": "python",
   "pygments_lexer": "ipython3",
   "version": "3.6.0"
  }
 },
 "nbformat": 4,
 "nbformat_minor": 2
}
