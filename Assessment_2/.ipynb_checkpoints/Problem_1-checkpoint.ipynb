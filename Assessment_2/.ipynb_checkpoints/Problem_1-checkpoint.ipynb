{
 "cells": [
  {
   "cell_type": "code",
   "execution_count": null,
   "metadata": {
    "collapsed": false
   },
   "outputs": [],
   "source": [
    "#Lagrange points\n",
    "#part b)\n",
    "\n",
    "#Libraries\n",
    "import numpy as np\n",
    "import matplotlib.pyplot as plt\n",
    "#\n",
    "\n",
    "#Define Subroutines\n",
    "def function(x):\n",
    "    return G*M*x**-2 - G*m*(R-x)**-2-w**2*x\n",
    "#\n",
    "\n",
    "#Initialize constants\n",
    "G = 6.674E-11\n",
    "M = 5.974E+24\n",
    "m = 7.348E+22\n",
    "R = 3.844E+08\n",
    "w = 2.662E-06\n",
    "#\n",
    "\n",
    "#Computation\n",
    "x = np.arange(0,10,0.001)\n",
    "plt.plot(x,function(x))\n",
    "#\n",
    "\n",
    "#Output\n",
    "plt.show()\n",
    "#"
   ]
  },
  {
   "cell_type": "code",
   "execution_count": null,
   "metadata": {
    "collapsed": true
   },
   "outputs": [],
   "source": []
  }
 ],
 "metadata": {
  "kernelspec": {
   "display_name": "Python 3",
   "language": "python",
   "name": "python3"
  },
  "language_info": {
   "codemirror_mode": {
    "name": "ipython",
    "version": 3
   },
   "file_extension": ".py",
   "mimetype": "text/x-python",
   "name": "python",
   "nbconvert_exporter": "python",
   "pygments_lexer": "ipython3",
   "version": "3.6.0"
  }
 },
 "nbformat": 4,
 "nbformat_minor": 2
}
