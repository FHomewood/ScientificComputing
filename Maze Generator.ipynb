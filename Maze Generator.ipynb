{
 "cells": [
  {
   "cell_type": "code",
   "execution_count": 1,
   "metadata": {},
   "outputs": [
    {
     "name": "stderr",
     "output_type": "stream",
     "text": [
      "C:\\Users\\Chikan\\Anaconda3.5.0.1\\lib\\site-packages\\ipykernel_launcher.py:18: DeprecationWarning: This function is deprecated. Please call randint(0, 40 + 1) instead\n",
      "C:\\Users\\Chikan\\Anaconda3.5.0.1\\lib\\site-packages\\ipykernel_launcher.py:18: DeprecationWarning: This function is deprecated. Please call randint(0, 20 + 1) instead\n",
      "C:\\Users\\Chikan\\Anaconda3.5.0.1\\lib\\site-packages\\ipykernel_launcher.py:27: DeprecationWarning: This function is deprecated. Please call randint(0, 3 + 1) instead\n",
      "C:\\Users\\Chikan\\Anaconda3.5.0.1\\lib\\site-packages\\ipykernel_launcher.py:27: DeprecationWarning: This function is deprecated. Please call randint(0, 2 + 1) instead\n",
      "C:\\Users\\Chikan\\Anaconda3.5.0.1\\lib\\site-packages\\ipykernel_launcher.py:27: DeprecationWarning: This function is deprecated. Please call randint(0, 1 + 1) instead\n"
     ]
    },
    {
     "data": {
      "image/png": "[encoded data removed]",
      "text/plain": [
       "<matplotlib.figure.Figure at 0x28fcbdab5c0>"
      ]
     },
     "metadata": {},
     "output_type": "display_data"
    }
   ],
   "source": [
    "import numpy\n",
    "from numpy.random import random_integers as rand\n",
    "import matplotlib.pyplot as pyplot\n",
    "\n",
    "def maze(width=81, height=51, complexity=.75, density=.75):\n",
    "    # Only odd shapes\n",
    "    shape = ((height // 2) * 2 + 1, (width // 2) * 2 + 1)\n",
    "    # Adjust complexity and density relative to maze size\n",
    "    complexity = int(complexity * (5 * (shape[0] + shape[1])))\n",
    "    density    = int(density * ((shape[0] // 2) * (shape[1] // 2)))\n",
    "    # Build actual maze\n",
    "    Z = numpy.zeros(shape, dtype=bool)\n",
    "    # Fill borders\n",
    "    Z[0, :] = Z[-1, :] = 1\n",
    "    Z[:, 0] = Z[:, -1] = 1\n",
    "    # Make aisles\n",
    "    for i in range(density):\n",
    "        x, y = rand(0, shape[1] // 2) * 2, rand(0, shape[0] // 2) * 2\n",
    "        Z[y, x] = 1\n",
    "        for j in range(complexity):\n",
    "            neighbours = []\n",
    "            if x > 1:             neighbours.append((y, x - 2))\n",
    "            if x < shape[1] - 2:  neighbours.append((y, x + 2))\n",
    "            if y > 1:             neighbours.append((y - 2, x))\n",
    "            if y < shape[0] - 2:  neighbours.append((y + 2, x))\n",
    "            if len(neighbours):\n",
    "                y_,x_ = neighbours[rand(0, len(neighbours) - 1)]\n",
    "                if Z[y_, x_] == 0:\n",
    "                    Z[y_, x_] = 1\n",
    "                    Z[y_ + (y - y_) // 2, x_ + (x - x_) // 2] = 1\n",
    "                    x, y = x_, y_\n",
    "    return Z\n",
    "\n",
    "pyplot.figure(figsize=(10, 5))\n",
    "pyplot.imshow(maze(80, 40), cmap=pyplot.cm.binary, interpolation='nearest')\n",
    "pyplot.xticks([]), pyplot.yticks([])\n",
    "pyplot.show()"
   ]
  },
  {
   "cell_type": "code",
   "execution_count": 87,
   "metadata": {},
   "outputs": [
    {
     "data": {
      "image/png": "[encoded data removed]",
      "text/plain": [
       "<matplotlib.figure.Figure at 0x28fce40cda0>"
      ]
     },
     "metadata": {},
     "output_type": "display_data"
    }
   ],
   "source": [
    "#libraries\n",
    "import numpy\n",
    "import numpy.random as rand\n",
    "import matplotlib.pyplot as pyplot\n",
    "#\n",
    "\n",
    "#Subroutines\n",
    "def draw3square(array): #draws a random 3x3 square on the array\n",
    "    m = [-1,1] # multipliers\n",
    "    R = rand.randint(0,2)\n",
    "    if rand.randint(0,2) == 1:\n",
    "        d = [n//2,n//2+m[R]*2]\n",
    "        array[d] = 1\n",
    "    else: d = 0\n",
    "    return array\n",
    "#\n",
    "\n",
    "n = 10 #array size\n",
    "\n",
    "Area = numpy.zeros((n,n),dtype = bool)\n",
    "for i in range(4):\n",
    "    for j in range(4):\n",
    "        Area[i+(n-4)//2,j+(n-4)//2] = 1\n",
    "\n",
    "draw3square(Area)\n",
    "pyplot.figure(figsize=(8, 8))\n",
    "pyplot.imshow(Area, extent=(0, n, 0,n), cmap=pyplot.cm.binary, interpolation='nearest')\n",
    "pyplot.grid()\n",
    "pyplot.show()"
   ]
  },
  {
   "cell_type": "code",
   "execution_count": null,
   "metadata": {
    "collapsed": true
   },
   "outputs": [],
   "source": []
  },
  {
   "cell_type": "code",
   "execution_count": null,
   "metadata": {
    "collapsed": true
   },
   "outputs": [],
   "source": []
  }
 ],
 "metadata": {
  "kernelspec": {
   "display_name": "Python 3",
   "language": "python",
   "name": "python3"
  },
  "language_info": {
   "codemirror_mode": {
    "name": "ipython",
    "version": 3
   },
   "file_extension": ".py",
   "mimetype": "text/x-python",
   "name": "python",
   "nbconvert_exporter": "python",
   "pygments_lexer": "ipython3",
   "version": "3.6.3"
  }
 },
 "nbformat": 4,
 "nbformat_minor": 2
}
