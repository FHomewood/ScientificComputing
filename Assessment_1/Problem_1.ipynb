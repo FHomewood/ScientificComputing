{
 "cells": [
  {
   "cell_type": "markdown",
   "metadata": {},
   "source": [
    "# Assessed Problem #1"
   ]
  },
  {
   "cell_type": "markdown",
   "metadata": {},
   "source": [
    "$$The \\space linear \\space equations \\space used \\space to \\space calculate \\space the \\space matrix \\space equation \\space are \\space derived \\space from \\space the \\space understanding \\space of \\space Newton's \\space second \\space law.$$\n",
    "\n",
    "$$$$ $$\\sum F = m*a$$ $$$$\n",
    "$$so\\space each\\space of\\space the\\space linear\\space equations\\space is\\space found\\space by\\space noting\\space the\\space forces\\space being\\space applied\\space to\\space them\\space and\\space $$$$ equating\\space them\\space to\\space mass\\space multiplied\\space with\\space the\\space acceleration\\space of\\space the\\space system.$$\n",
    "\n",
    "$$T_1 + m_1a        = m_1g(Sin \\theta − \\mu_1 Cos \\theta)$$\n",
    "$$−T_1 + T_2 + m_2a = m_2g(Sin \\theta − \\mu_2 Cos \\theta)$$\n",
    "$$−T_2 + T_3 + m_3a = m_3g(Sin \\theta − \\mu_3 Cos \\theta)$$\n",
    "$$−T_3 + m_4a       = −m_4g$$ $$$$\n",
    "\n",
    "$$This \\space can \\space be \\space rewritten \\space as \\space a \\space matrix \\space calculation \\space 'Ax = b'$$ $$$$\n",
    "$$\n",
    "\\begin{bmatrix}\n",
    "     1  &  0 &  0  & m_1\\\\\n",
    "    -1  &  1 &  0  & m_2\\\\\n",
    "    -0  & -1 &  1  & m_3\\\\\n",
    "     0  &  0 & -1  & m_4\\\\\n",
    "\\end{bmatrix}\n",
    "\\space\n",
    "\\begin{bmatrix}\n",
    "    T_1\\\\\n",
    "    T_2\\\\\n",
    "    T_3\\\\\n",
    "    a\\\\\n",
    "\\end{bmatrix}\n",
    "\\space =\\space\n",
    "\\begin{bmatrix}\n",
    "    m_1g(Sin \\theta − \\mu_1 Cos \\theta)\\\\\n",
    "    m_2g(Sin \\theta − \\mu_2 Cos \\theta)\\\\\n",
    "    m_3g(Sin \\theta − \\mu_3 Cos \\theta)\\\\\n",
    "    −m_4g\\\\\n",
    "\\end{bmatrix}$$\n",
    "$$$$ $$$$\n",
    "$$ Given \\space the \\space parameters \\space m_i \\space \\mu_i \\space g \\space and \\space \\theta \\space are \\space provided \\space these \\space matrices \\space can \\space simply \\space be \\space parsed \\space through \\space the \\space Gaussian \\space Pivot \\space function $$$$ \\space to \\space get \\space the \\space numerical \\space values \\space of \\space each \\space of \\space the \\space Tensions \\space as \\space well \\space as \\space the \\space Acceleration \\space of \\space the \\space system $$"
   ]
  },
  {
   "cell_type": "code",
   "execution_count": 6,
   "metadata": {},
   "outputs": [
    {
     "name": "stdout",
     "output_type": "stream",
     "text": [
      "Populating the interactive namespace from numpy and matplotlib\n",
      "T1 = 35.93 N\n",
      "T2 = 48.91 N\n",
      "T3 = 68.61 N\n",
      "a  =  1.62 m^3/s\n"
     ]
    },
    {
     "data": {
      "image/png": "[encoded data removed]",
      "text/plain": [
       "<matplotlib.figure.Figure at 0x250beeb8a58>"
      ]
     },
     "metadata": {},
     "output_type": "display_data"
    }
   ],
   "source": [
    "#Libraries\n",
    "import gaussPivot as gP\n",
    "import numpy as np\n",
    "import matplotlib.pyplot as plt\n",
    "%pylab inline\n",
    "#\n",
    "\n",
    "#Initialize given parameters\n",
    "#(where O is theta in Radians and u is equivalent to mu)\n",
    "g = 9.82\n",
    "O = (45)  /180*np.pi\n",
    "m = [10,4,5,6]\n",
    "u = [0.25,0.3,0.2]\n",
    "#\n",
    "\n",
    "#Define matrix parameters as per equation\n",
    "A = np.array(\n",
    "    [[ 1, 0, 0, m[0]],\n",
    "     [-1, 1, 0, m[1]],\n",
    "     [ 0,-1, 1, m[2]],\n",
    "     [ 0, 0,-1, m[3]]])\n",
    "b = np.array(\n",
    "    [m[0]*g*(np.sin(O)-u[0]*np.cos(O)),\n",
    "     m[1]*g*(np.sin(O)-u[1]*np.cos(O)),\n",
    "     m[2]*g*(np.sin(O)-u[2]*np.cos(O)),\n",
    "     -m[3]*g])\n",
    "#\n",
    "\n",
    "#Solve using Gauss Pivot function\n",
    "x = gP.gaussPivot(A,b)\n",
    "#\n",
    "\n",
    "#Create new smooth-esque range\n",
    "O = np.arange(0,90,1)\n",
    "#\n",
    "\n",
    "#Redefine b Array in terms of the new 'O' parameter\n",
    "b = np.array(\n",
    "    [m[0]*g*(np.sin(O*np.pi/180)-u[0]*np.cos(O*np.pi/180)),\n",
    "     m[1]*g*(np.sin(O*np.pi/180)-u[1]*np.cos(O*np.pi/180)),\n",
    "     m[2]*g*(np.sin(O*np.pi/180)-u[2]*np.cos(O*np.pi/180)),\n",
    "     -m[3]*g])\n",
    "#\n",
    "\n",
    "#Calculate values of M4 Acceleration from each value of 'O'\n",
    "#(taking only the third parameter because it corresponds to the acceleration solution)\n",
    "acceleration = gP.gaussPivot(A,b)[3]\n",
    "#\n",
    "\n",
    "#Plot and Customize the function for ease of understanding\n",
    "plt.plot(O,acceleration, 'black',label = 'M4 Acceleration')\n",
    "plt.plot(O,[-9.81]*len(O),'red',label = 'Free Fall Acceleration')\n",
    "plt.legend()\n",
    "plt.title(\"Acceleration Comparison\")\n",
    "plt.xlabel(\"Theta (degrees)\")\n",
    "plt.ylabel(\"Acceleration (m^3/s)\")\n",
    "#\n",
    "\n",
    "#Outputs\n",
    "print (\"T1 = \" + str(np.round(x[0],2)) + \" N\")\n",
    "print (\"T2 = \" + str(np.round(x[1],2)) + \" N\")\n",
    "print (\"T3 = \" + str(np.round(x[2],2)) + \" N\")\n",
    "print (\"a  =  \"+ str(np.round(x[3],2)) + \" m^3/s\")\n",
    "plt.show()\n",
    "#"
   ]
  },
  {
   "cell_type": "markdown",
   "metadata": {
    "collapsed": true
   },
   "source": [
    "\n",
    "$There \\ are \\ many \\ methods \\ of \\ demonstrating \\ whether \\ or \\ not \\ the \\ fourth \\ mass \\ reaches \\ free \\ fall \\ acceleration \\ I \\ chose \\ to \\ visually \\ display \\ how \\ the \\\\ acceleration \\ of \\ m_4 \\ changes \\ with \\ \\theta \\ this \\ shows \\ the \\ trend \\ as \\ well \\ as \\ the \\ location \\ of \\ any \\ intersections \\ Alas \\ from \\ this \\ diagram \\ you \\ can \\ see \\ that \\\\ there \\ is \\ no \\ value \\ of \\ \\theta \\ where \\ m_4 \\ reaches \\ free \\ fall \\ acceleration \\ since \\ the \\ lines \\ do \\ not \\ intersect \\ This \\ method \\ is \\ very \\ computer \\ intensive \\ since \\ it \\\\ requires \\ running \\ the \\ Gaussian \\ Pivot \\ operation \\ 900 \\ times \\ however \\ since \\ the \\ computation \\ is \\ simple \\ linear \\ algebra \\ it \\ is \\ perfectly \\ within \\ the \\ limits \\ to \\\\ use \\ significantly \\ more \\ computing \\ power \\ to \\ give \\ broader \\ understanding \\ of \\ how \\ the \\ m_4 \\ acceleration \\ changes \\ rather \\ than \\ just \\ whether \\ or \\ not \\ the \\\\ mass \\ is \\ in \\ free \\ fall \\ at \\ a \\ certain \\ time$"
   ]
  },
  {
   "cell_type": "code",
   "execution_count": null,
   "metadata": {
    "collapsed": true
   },
   "outputs": [],
   "source": []
  }
 ],
 "metadata": {
  "kernelspec": {
   "display_name": "Python 3",
   "language": "python",
   "name": "python3"
  },
  "language_info": {
   "codemirror_mode": {
    "name": "ipython",
    "version": 3
   },
   "file_extension": ".py",
   "mimetype": "text/x-python",
   "name": "python",
   "nbconvert_exporter": "python",
   "pygments_lexer": "ipython3",
   "version": "3.6.3"
  }
 },
 "nbformat": 4,
 "nbformat_minor": 2
}
