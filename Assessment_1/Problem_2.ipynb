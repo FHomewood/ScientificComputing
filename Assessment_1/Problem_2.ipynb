{
 "cells": [
  {
   "cell_type": "markdown",
   "metadata": {},
   "source": [
    "# Assessed Problem #2"
   ]
  },
  {
   "cell_type": "markdown",
   "metadata": {},
   "source": [
    "$$The \\space system \\space of \\space linear \\space equations \\space that \\space describes \\space Kirchoff's \\space laws \\space for \\space each \\space of \\space the \\space current \\space loops \\space is:$$\n",
    "\n",
    "$$i_1: +80i_1 -  50i_2 - 30i_3 -   0i_4 =  240$$\n",
    "$$i_2: -50i_1 + 100i_2 - 10i_3 -  25i_4 = 0  $$\n",
    "$$i_3: -30i_1 -  10i_2 + 65i_3 -  20i_4 = 0  $$\n",
    "$$i_4: + 0i_1 -  25i_2 - 20i_3 + 100i_4 = 0  $$\n",
    "$$$$\n",
    "$$\n",
    "This \\space can \\space be \\space rewritten \\space as \\space a \\space matrix \\space calculation \\space 'Ax = b'$$ $$$$\n",
    "\n",
    "$$\n",
    "\\begin{bmatrix}\n",
    "     80  & -50 & -30  &   0\\\\\n",
    "    -50  & 100 & -10  & -25\\\\\n",
    "    -30  & -10 &  65  & -20\\\\\n",
    "      0  & -25 & -20  & 100\\\\\n",
    "\\end{bmatrix}\n",
    "\\space\n",
    "\\begin{bmatrix}\n",
    "    i_1\\\\\n",
    "    i_2\\\\\n",
    "    i_3\\\\\n",
    "    i_4\\\\\n",
    "\\end{bmatrix}\n",
    "\\space =\\space\n",
    "\\begin{bmatrix}\n",
    "    240\\\\\n",
    "      0\\\\\n",
    "      0\\\\\n",
    "      0\\\\\n",
    "\\end{bmatrix}\n",
    "$$"
   ]
  },
  {
   "cell_type": "code",
   "execution_count": 24,
   "metadata": {},
   "outputs": [
    {
     "name": "stdout",
     "output_type": "stream",
     "text": [
      "Lower Triangular Matrix: \n",
      "\n",
      "[[ 1.          0.          0.          0.        ]\n",
      " [-0.625       1.          0.          0.        ]\n",
      " [-0.375      -0.41818182  1.          0.        ]\n",
      " [ 0.         -0.36363636 -0.72984749  1.        ]]\n",
      "\n",
      "\n",
      "\n",
      "Upper Triangular Matrix: \n",
      "\n",
      "[[ 80.         -50.         -30.           0.        ]\n",
      " [  0.          68.75       -28.75       -25.        ]\n",
      " [  0.           0.          41.72727273 -30.45454545]\n",
      " [  0.           0.           0.          68.68191721]]\n",
      "\n",
      "\n",
      "\n",
      "Scipy Solution:\n",
      "[ 8.36478985  5.32910389  5.42426646  2.41712926]\n",
      "\n",
      "\n",
      "\n",
      "Gaussian Elimination Solution:\n",
      "[ 8.36478985  5.32910389  5.42426646  2.41712926]\n"
     ]
    }
   ],
   "source": [
    "#Libraries\n",
    "from scipy import linalg\n",
    "from gaussPivot import *\n",
    "#\n",
    "\n",
    "#Define Matrix equation\n",
    "A = [[80.,-50.,-30.,0.],\n",
    "     [-50.,100.,-10.,-25.],\n",
    "     [-30.,-10.,65.,-20.],\n",
    "     [0.,-25.,-20.,100.]]\n",
    "b = [240.,0.,0.,0.]\n",
    "#\n",
    "\n",
    "#Convert to triangular matrices\n",
    "p,l,u = linalg.lu(A)\n",
    "#\n",
    "\n",
    "#Solve using Scipy\n",
    "X1 =linalg.solve(A,b)\n",
    "#\n",
    "\n",
    "#Reformat the parameters for gaussPivot function\n",
    "A = np.array(A)\n",
    "b = np.array(b)\n",
    "#\n",
    "\n",
    "#Solve using Gaussian Elimination\n",
    "X2 = gaussPivot(A,b)\n",
    "#\n",
    "\n",
    "#Outputs\n",
    "print(\"Lower Triangular Matrix: \\n\")\n",
    "print(str(l))\n",
    "print(\"\\n\\n\")\n",
    "print(\"Upper Triangular Matrix: \\n\")\n",
    "print(str(u))\n",
    "print(\"\\n\\n\")\n",
    "print(\"Scipy Solution:\")\n",
    "print(X1)\n",
    "print(\"\\n\\n\")\n",
    "print(\"Gaussian Elimination Solution:\")\n",
    "print(X2)\n",
    "#"
   ]
  },
  {
   "cell_type": "markdown",
   "metadata": {
    "collapsed": true
   },
   "source": [
    "$Here \\ you \\ can \\ see \\ the \\ Linalg \\ function \\ has \\ computed \\ the \\ solution \\ to \\ the \\ both \\ of \\ the \\ Triangular \\ matrices \\ from \\ the \\ Kirchoff \\ Equations \\ also \\ notice \\\\ that \\ using \\ GaussPivot \\ and \\ LinalgSolve \\ have \\ given \\ two \\ identical \\ matrices \\ as \\ outputs \\ It \\ appears \\ that \\ the \\ GaussPivot \\ algorithm \\ only \\ returns \\ the \\\\ matrix \\ with \\ integer \\ parameters \\ if \\ you \\ feed \\ it \\ integer \\ matrices \\ as \\ a \\ result \\ all \\ of \\ the \\ matrices \\ have \\ been \\ defined \\ in \\ terms \\ of \\ floating \\ point \\ values$"
   ]
  },
  {
   "cell_type": "code",
   "execution_count": null,
   "metadata": {
    "collapsed": true
   },
   "outputs": [],
   "source": []
  }
 ],
 "metadata": {
  "kernelspec": {
   "display_name": "Python 3",
   "language": "python",
   "name": "python3"
  },
  "language_info": {
   "codemirror_mode": {
    "name": "ipython",
    "version": 3
   },
   "file_extension": ".py",
   "mimetype": "text/x-python",
   "name": "python",
   "nbconvert_exporter": "python",
   "pygments_lexer": "ipython3",
   "version": "3.6.3"
  }
 },
 "nbformat": 4,
 "nbformat_minor": 2
}
