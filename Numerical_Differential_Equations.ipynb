{
 "cells": [
  {
   "cell_type": "code",
   "execution_count": 1,
   "metadata": {},
   "outputs": [
    {
     "name": "stdout",
     "output_type": "stream",
     "text": [
      "Populating the interactive namespace from numpy and matplotlib\n"
     ]
    }
   ],
   "source": [
    "%pylab inline"
   ]
  },
  {
   "cell_type": "markdown",
   "metadata": {},
   "source": [
    "## Numerical differential equations\n",
    "\n",
    "**Problem**: Solve the logistic equation  \n",
    "$$\\frac{dy}{dt}=y(1-y)$$ with initial condition $y(0)=0.1$."
   ]
  },
  {
   "cell_type": "code",
   "execution_count": 2,
   "metadata": {},
   "outputs": [
    {
     "ename": "ModuleNotFoundError",
     "evalue": "No module named 'run_kut4'",
     "output_type": "error",
     "traceback": [
      "\u001b[0;31m---------------------------------------------------------------------------\u001b[0m",
      "\u001b[0;31mModuleNotFoundError\u001b[0m                       Traceback (most recent call last)",
      "\u001b[0;32m<ipython-input-2-75a38826b4cf>\u001b[0m in \u001b[0;36m<module>\u001b[0;34m()\u001b[0m\n\u001b[1;32m      4\u001b[0m \u001b[1;32mfrom\u001b[0m \u001b[0mscipy\u001b[0m \u001b[1;32mimport\u001b[0m \u001b[0mintegrate\u001b[0m\u001b[1;33m\u001b[0m\u001b[0m\n\u001b[1;32m      5\u001b[0m \u001b[1;32mfrom\u001b[0m \u001b[0mprintSoln\u001b[0m \u001b[1;32mimport\u001b[0m \u001b[1;33m*\u001b[0m\u001b[1;33m\u001b[0m\u001b[0m\n\u001b[0;32m----> 6\u001b[0;31m \u001b[1;32mfrom\u001b[0m \u001b[0mrun_kut4\u001b[0m \u001b[1;32mimport\u001b[0m \u001b[1;33m*\u001b[0m\u001b[1;33m\u001b[0m\u001b[0m\n\u001b[0m\u001b[1;32m      7\u001b[0m \u001b[1;32mimport\u001b[0m \u001b[0mpylab\u001b[0m \u001b[1;32mas\u001b[0m \u001b[0mpl\u001b[0m\u001b[1;33m\u001b[0m\u001b[0m\n",
      "\u001b[0;31mModuleNotFoundError\u001b[0m: No module named 'run_kut4'"
     ]
    }
   ],
   "source": [
    "# Import the required modules\n",
    "from numpy import array,zeros\n",
    "import scipy\n",
    "from scipy import integrate\n",
    "from printSoln import *\n",
    "from run_kut4 import *\n",
    "import pylab as pl"
   ]
  },
  {
   "cell_type": "code",
   "execution_count": 19,
   "metadata": {},
   "outputs": [],
   "source": [
    "# First set up the right-hand side RHS) of the equation\n",
    "def f(x,y):\n",
    "    f=zeros(1)            # sets up RHS as a vector (here of just one element)\n",
    "    f[0]=y[0]*(1.0-y[0])  # RHS; note that y is also a vector\n",
    "    return f"
   ]
  },
  {
   "cell_type": "code",
   "execution_count": 24,
   "metadata": {},
   "outputs": [
    {
     "name": "stdout",
     "output_type": "stream",
     "text": [
      "\n",
      "        x         y[ 0 ] \n",
      "   0.0000e+00    1.0000e-01\n",
      "   1.0000e+00    2.3197e-01\n",
      "   2.0000e+00    4.5085e-01\n",
      "   3.0000e+00    6.9057e-01\n",
      "   4.0000e+00    8.5849e-01\n",
      "   5.0000e+00    9.4283e-01\n"
     ]
    },
    {
     "data": {
      "image/png": "[encoded data removed]",
      "text/plain": [
       "<matplotlib.figure.Figure at 0x2b643ee3e750>"
      ]
     },
     "metadata": {},
     "output_type": "display_data"
    }
   ],
   "source": [
    "# Example: using Runge-Kutta of 4th order\n",
    "x = 0.0 # Start of integration\n",
    "xStop = 5.0 # End of integration\n",
    "y = array([0.1]) # Initial value of {y}\n",
    "h = 0.001 # Step size\n",
    "freq = 1000 # Printout frequency - print the result every 1000 steps\n",
    "\n",
    "X,Y = integrate(f,x,y,xStop,h) # call the RK4 solver\n",
    "printSoln(X,Y,freq)            # Print the solution (code on SD)\n",
    "\n",
    "pl.plot(X,Y[:,0])              # Plot the solution\n",
    "pl.xlabel('Time')\n",
    "pl.ylabel('Population')\n",
    "pl.show()\n"
   ]
  },
  {
   "cell_type": "code",
   "execution_count": 21,
   "metadata": {
    "collapsed": true
   },
   "outputs": [],
   "source": [
    "# Same example equation solved with the internal solver\n",
    "\n",
    "# First set up the right-hand side RHS) of the equation\n",
    "# NOTE THE DIFFERENT ORDER OF THE FUNCTION ARGUMENTS COMPARED TO ABOVE\n",
    "def g(y,x):\n",
    "    g=zeros(1)            # sets up RHS as a vector \n",
    "    g[0]=y[0]*(1.0-y[0])  # RHS; note that y is also a vector\n",
    "    return g"
   ]
  },
  {
   "cell_type": "code",
   "execution_count": 23,
   "metadata": {},
   "outputs": [
    {
     "data": {
      "image/png": "[encoded data removed]",
      "text/plain": [
       "<matplotlib.figure.Figure at 0x2b641c8b93d0>"
      ]
     },
     "metadata": {},
     "output_type": "display_data"
    }
   ],
   "source": [
    "x=np.linspace(0,5,100) # where do we want the solution\n",
    "\n",
    "y0=array([0.1])        # initial condition\n",
    "\n",
    "z=scipy.integrate.odeint(g,y0,x) # call the solver\n",
    "z=z.reshape(np.size(x))          # reformat the answer\n",
    "\n",
    "pl.plot(x,z)              # Plot the solution\n",
    "pl.xlabel('Time')\n",
    "pl.ylabel('Population')\n",
    "pl.show()"
   ]
  },
  {
   "cell_type": "markdown",
   "metadata": {},
   "source": [
    "## Systems of equations \n",
    "\n",
    "** Problem ** Solve the predator-prey equations (presented in class):\n",
    "\n",
    "\\begin{eqnarray}\n",
    "\\frac{dN}{dt}&=&N(a-bP)\\\\\n",
    "\\frac{dP}{dt}&=&P(cN-d)\n",
    "\\end{eqnarray}\n",
    "\n",
    "where $a=c=1$, $b=d=1$ and with initial conditions $N(0)=0.1$, $P(0)=0.03$."
   ]
  },
  {
   "cell_type": "code",
   "execution_count": 3,
   "metadata": {},
   "outputs": [
    {
     "ename": "TypeError",
     "evalue": "'module' object is not callable",
     "output_type": "error",
     "traceback": [
      "\u001b[0;31m---------------------------------------------------------------------------\u001b[0m",
      "\u001b[0;31mTypeError\u001b[0m                                 Traceback (most recent call last)",
      "\u001b[0;32m<ipython-input-3-0a089501bd58>\u001b[0m in \u001b[0;36m<module>\u001b[0;34m()\u001b[0m\n\u001b[1;32m     12\u001b[0m \u001b[0mh\u001b[0m \u001b[1;33m=\u001b[0m \u001b[1;36m0.05\u001b[0m \u001b[1;31m# Step size\u001b[0m\u001b[1;33m\u001b[0m\u001b[0m\n\u001b[1;32m     13\u001b[0m \u001b[0mfreq\u001b[0m \u001b[1;33m=\u001b[0m \u001b[1;36m20\u001b[0m \u001b[1;31m# Printout frequency\u001b[0m\u001b[1;33m\u001b[0m\u001b[0m\n\u001b[0;32m---> 14\u001b[0;31m \u001b[0mX\u001b[0m\u001b[1;33m,\u001b[0m\u001b[0mY\u001b[0m \u001b[1;33m=\u001b[0m \u001b[0mintegrate\u001b[0m\u001b[1;33m(\u001b[0m\u001b[0mF\u001b[0m\u001b[1;33m,\u001b[0m\u001b[0mx\u001b[0m\u001b[1;33m,\u001b[0m\u001b[0my\u001b[0m\u001b[1;33m,\u001b[0m\u001b[0mxStop\u001b[0m\u001b[1;33m,\u001b[0m\u001b[0mh\u001b[0m\u001b[1;33m)\u001b[0m\u001b[1;33m\u001b[0m\u001b[0m\n\u001b[0m\u001b[1;32m     15\u001b[0m \u001b[0mprintSoln\u001b[0m\u001b[1;33m(\u001b[0m\u001b[0mX\u001b[0m\u001b[1;33m,\u001b[0m\u001b[0mY\u001b[0m\u001b[1;33m,\u001b[0m\u001b[0mfreq\u001b[0m\u001b[1;33m)\u001b[0m\u001b[1;33m\u001b[0m\u001b[0m\n\u001b[1;32m     16\u001b[0m \u001b[0mpl\u001b[0m\u001b[1;33m.\u001b[0m\u001b[0mplot\u001b[0m\u001b[1;33m(\u001b[0m\u001b[0mX\u001b[0m\u001b[1;33m,\u001b[0m\u001b[0mY\u001b[0m\u001b[1;33m[\u001b[0m\u001b[1;33m:\u001b[0m\u001b[1;33m,\u001b[0m\u001b[1;36m0\u001b[0m\u001b[1;33m]\u001b[0m\u001b[1;33m,\u001b[0m\u001b[0mlabel\u001b[0m \u001b[1;33m=\u001b[0m \u001b[1;34m'Rabbit population'\u001b[0m\u001b[1;33m)\u001b[0m\u001b[1;33m\u001b[0m\u001b[0m\n",
      "\u001b[0;31mTypeError\u001b[0m: 'module' object is not callable"
     ]
    }
   ],
   "source": [
    "# Define right-hand sides of equations (into a vector!). \n",
    "# 'y', containing all functions to be solved for, is also a vector \n",
    "def F(x,y,a=1.0,b=2.0,c=1.0,d=2.0):\n",
    "    F = zeros(2)\n",
    "    F[0] = y[0]*(a-b*y[1])\n",
    "    F[1] = y[1]*(c*y[0]-d)\n",
    "    return F\n",
    "\n",
    "x = 0.0 # Start of integration\n",
    "xStop = 10.0 # End of integration\n",
    "y = array([0.1, 0.03]) # Initial values of {y}\n",
    "h = 0.05 # Step size\n",
    "freq = 20 # Printout frequency\n",
    "X,Y = integrate(F,x,y,xStop,h)\n",
    "printSoln(X,Y,freq)\n",
    "pl.plot(X,Y[:,0],label = 'Rabbit population')\n",
    "pl.plot(X,Y[:,1],label = 'Fox population')\n",
    "pl.xlabel('Time')\n",
    "pl.legend()\n",
    "pl.show()\n"
   ]
  },
  {
   "cell_type": "markdown",
   "metadata": {},
   "source": [
    "## Stiff equation example\n",
    "\n",
    "** Problem ** Solve the equation modelling flame propagation\n",
    "$$\\dot{y}=y^2-y^3$$\n",
    "for $0\\leq t\\leq 2/\\delta$, $y(0)=\\delta$ and $\\delta=0.001$."
   ]
  },
  {
   "cell_type": "code",
   "execution_count": 28,
   "metadata": {},
   "outputs": [
    {
     "data": {
      "image/png": "[encoded data removed]",
      "text/plain": [
       "<matplotlib.figure.Figure at 0x2b643ef2bb90>"
      ]
     },
     "metadata": {},
     "output_type": "display_data"
    }
   ],
   "source": [
    "# Define the right hand side\n",
    "def f(y,t):\n",
    "    return y**2-y**3\n",
    "\n",
    "# Parameter\n",
    "delta=0.001\n",
    "# Where do we want the solution?\n",
    "x=np.linspace(0,2./delta,100)\n",
    "# Call the solver\n",
    "z=scipy.integrate.odeint(f,delta,x)\n",
    "z=z.reshape(np.size(x))          # reformat the answer\n",
    "\n",
    "pl.plot(x,z)              # Plot the solution\n",
    "pl.xlabel('Time')\n",
    "pl.ylabel('Position')\n",
    "pl.show()"
   ]
  },
  {
   "cell_type": "code",
   "execution_count": null,
   "metadata": {
    "collapsed": true
   },
   "outputs": [],
   "source": []
  }
 ],
 "metadata": {
  "kernelspec": {
   "display_name": "Python 3",
   "language": "python",
   "name": "python3"
  },
  "language_info": {
   "codemirror_mode": {
    "name": "ipython",
    "version": 3
   },
   "file_extension": ".py",
   "mimetype": "text/x-python",
   "name": "python",
   "nbconvert_exporter": "python",
   "pygments_lexer": "ipython3",
   "version": "3.6.3"
  }
 },
 "nbformat": 4,
 "nbformat_minor": 1
}
