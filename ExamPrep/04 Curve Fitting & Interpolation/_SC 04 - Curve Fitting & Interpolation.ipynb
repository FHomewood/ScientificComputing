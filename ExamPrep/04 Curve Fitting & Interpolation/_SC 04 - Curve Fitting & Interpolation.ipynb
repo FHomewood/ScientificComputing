{
 "cells": [
  {
   "cell_type": "code",
   "execution_count": 3,
   "metadata": {
    "collapsed": true
   },
   "outputs": [],
   "source": [
    "import numpy as np\n",
    "from scipy.interpolate import interp1d, barycentric_interpolate\n",
    "from scipy.optimize import curve_fit\n",
    "import pylab"
   ]
  },
  {
   "cell_type": "markdown",
   "metadata": {},
   "source": [
    "# Question 1\n",
    "### 1a)"
   ]
  },
  {
   "cell_type": "code",
   "execution_count": 2,
   "metadata": {
    "collapsed": true
   },
   "outputs": [],
   "source": [
    "#define the two sets of values with arrays\n",
    "x = np.array([1.0, 2.5, 3.5, 4.0, 1.1, 1.8, 2.2, 3.7])\n",
    "y = np.array([6.008, 15.722, 27.130, 33.772, 5.257, 9.549, 11.098, 28.828])"
   ]
  },
  {
   "cell_type": "code",
   "execution_count": 3,
   "metadata": {
    "collapsed": true
   },
   "outputs": [],
   "source": [
    "#define the the equations of a straight and curved (quadratic) line\n",
    "def func(x, a, b):\n",
    "    return a*x + b\n",
    "\n",
    "def fe(x,d,e,f):\n",
    "    return d*(x**2)+e*x+f"
   ]
  },
  {
   "cell_type": "code",
   "execution_count": 4,
   "metadata": {
    "collapsed": true
   },
   "outputs": [],
   "source": [
    "#use the curve fit function to derive best fit values for the coefficients of each fit function.\n",
    "popt1, pcov1 = curve_fit(func, x, y)\n",
    "popt2, pcov2 = curve_fit(fe, x, y)\n",
    "\n",
    "#generate 50 evenly spaced x values between 1 and 4\n",
    "xn=np.linspace(1,4,50)"
   ]
  },
  {
   "cell_type": "code",
   "execution_count": 5,
   "metadata": {
    "collapsed": false
   },
   "outputs": [
    {
     "data": {
      "image/png": "[encoded data removed]",
      "text/plain": [
       "<matplotlib.figure.Figure at 0x8bf37b8>"
      ]
     },
     "metadata": {},
     "output_type": "display_data"
    }
   ],
   "source": [
    "#plot.\n",
    "pylab.plot(x,y, 'o', label='data points')\n",
    "pylab.plot(xn,popt1[0]*xn+popt1[1],label='line')\n",
    "pylab.plot(xn,popt2[0]*(xn**2)+popt2[1]*xn+popt2[2],label='curve')\n",
    "pylab.legend(loc='best')\n",
    "pylab.show()"
   ]
  },
  {
   "cell_type": "code",
   "execution_count": 6,
   "metadata": {
    "collapsed": false
   },
   "outputs": [
    {
     "name": "stdout",
     "output_type": "stream",
     "text": [
      "2.24356382796\n",
      "0.74209830316\n"
     ]
    }
   ],
   "source": [
    "#this just calcuates the standard deviations away from the fit for each function.\n",
    "s1=0\n",
    "yfx1 = (popt1[0]*x+popt1[1])\n",
    "s1 = sum((y - yfx1)**2)\n",
    "sd1 = (abs(s1/(2-len(x))))**0.5\n",
    "\n",
    "s2=0\n",
    "yfx2 = (popt2[0]*(x**2)+popt2[1]*x+popt2[2])\n",
    "s2 = sum((y - yfx2)**2)\n",
    "sd2 = (abs(s2/(2-len(x))))**0.5\n",
    "\n",
    "print sd1\n",
    "print sd2"
   ]
  },
  {
   "cell_type": "markdown",
   "metadata": {},
   "source": [
    "Standard deviation of the quadratic fit is less therefore, this is a better fit."
   ]
  },
  {
   "cell_type": "markdown",
   "metadata": {},
   "source": [
    "### 1b)"
   ]
  },
  {
   "cell_type": "code",
   "execution_count": 7,
   "metadata": {
    "collapsed": true
   },
   "outputs": [],
   "source": [
    "#generate arrays of the two sets of values.\n",
    "x1 = np.array([0.5,1.0,1.5,2.0,2.5])\n",
    "y1=([0.541,0.398,0.232,0.106,0.052])"
   ]
  },
  {
   "cell_type": "code",
   "execution_count": 8,
   "metadata": {
    "collapsed": true
   },
   "outputs": [],
   "source": [
    "#define the function.\n",
    "def fenc(x1,a,b):\n",
    "    return a*x1*np.exp(b*x1)"
   ]
  },
  {
   "cell_type": "code",
   "execution_count": 9,
   "metadata": {
    "collapsed": false
   },
   "outputs": [
    {
     "name": "stdout",
     "output_type": "stream",
     "text": [
      "2.90177776864 -1.97656791358\n"
     ]
    }
   ],
   "source": [
    "#curve fit solve again and print the coefficients.\n",
    "popt3, pcov3 = curve_fit(fenc, x1, y1)\n",
    "\n",
    "print popt3[0],popt3[1]"
   ]
  },
  {
   "cell_type": "code",
   "execution_count": 10,
   "metadata": {
    "collapsed": false
   },
   "outputs": [
    {
     "name": "stdout",
     "output_type": "stream",
     "text": [
      "4.29520272223\n"
     ]
    }
   ],
   "source": [
    "#standard deviations again\n",
    "s2=0\n",
    "yfx2 = popt3[0]*x1+np.exp(popt3[1]*x1)\n",
    "s2 = sum((y1 - yfx2)**2)\n",
    "sd2 = (abs(s2/(2-len(x))))**0.5\n",
    "print sd2"
   ]
  },
  {
   "cell_type": "markdown",
   "metadata": {},
   "source": [
    "### 1c)"
   ]
  },
  {
   "cell_type": "code",
   "execution_count": 11,
   "metadata": {
    "collapsed": true
   },
   "outputs": [],
   "source": [
    "#cd1=(2*Fd)/(r*(u**2)*A)\n",
    "#generate arrays of the values.\n",
    "Re=np.array([0.2,2,20,200,2000,20000])\n",
    "Cd=np.array([103,13.9,2.72,0.800,0.401,0.433])\n",
    "\n",
    "#define their logs as Rel and Cdl\n",
    "Rel=np.log(Re)\n",
    "Cdl=np.log(Cd)"
   ]
  },
  {
   "cell_type": "code",
   "execution_count": 12,
   "metadata": {
    "collapsed": true
   },
   "outputs": [],
   "source": [
    "#generate a set of values between the min and max values of the data set Rel.\n",
    "#interpolate the values to be plotted on the x and y axis.\n",
    "#define functions for linear and cubic splines.\n",
    "x3 = np.linspace(min(Rel),max(Rel))\n",
    "y3 = barycentric_interpolate(Rel, Cdl, x3) #polynomial fit\n",
    "f_linear = interp1d(x3,y3) #linear spline fit\n",
    "f_cubic1 = interp1d(Rel,Cdl, kind='cubic') #cubic spline fit"
   ]
  },
  {
   "cell_type": "code",
   "execution_count": 13,
   "metadata": {
    "collapsed": false
   },
   "outputs": [
    {
     "data": {
      "image/png": "[encoded data removed]",
      "text/plain": [
       "<matplotlib.figure.Figure at 0x8b7b978>"
      ]
     },
     "metadata": {},
     "output_type": "display_data"
    }
   ],
   "source": [
    "#plot.\n",
    "pylab.plot(Rel,Cdl, 'o', label='data points')\n",
    "pylab.plot(x3, y3, label='polynomial')\n",
    "pylab.plot(x3,f_linear(x3), label='linear')\n",
    "pylab.plot(x3,f_cubic1(x3), label='cubic')\n",
    "pylab.legend(loc='best')\n",
    "pylab.show()"
   ]
  },
  {
   "cell_type": "code",
   "execution_count": 14,
   "metadata": {
    "collapsed": false
   },
   "outputs": [
    {
     "name": "stdout",
     "output_type": "stream",
     "text": [
      "86.560557839 2.88455196189 0.267142992896 0.102274279813\n",
      "86.780149978 2.88798512777 0.268145246718 0.101882564905\n"
     ]
    }
   ],
   "source": [
    "#print values of Cd at each point for each value method of fitting.\n",
    "a = 10**f_cubic1(np.log(5))\n",
    "b = 10**f_cubic1(np.log(50))\n",
    "c = 10**f_cubic1(np.log(500))\n",
    "d = 10**f_cubic1(np.log(5000))\n",
    "e = 10**f_linear(np.log(5))\n",
    "f = 10**f_linear(np.log(50))\n",
    "g = 10**f_linear(np.log(500))\n",
    "h = 10**f_linear(np.log(5000))\n",
    "\n",
    "print a, b, c, d\n",
    "print e, f, g, h"
   ]
  },
  {
   "cell_type": "markdown",
   "metadata": {},
   "source": [
    "# Question 2"
   ]
  },
  {
   "cell_type": "code",
   "execution_count": 15,
   "metadata": {
    "collapsed": true
   },
   "outputs": [],
   "source": [
    "#define 11 equally spaced set of values between -pi & pi for x.\n",
    "x = np.linspace(-np.pi,np.pi, 11)"
   ]
  },
  {
   "cell_type": "code",
   "execution_count": 16,
   "metadata": {
    "collapsed": true
   },
   "outputs": [],
   "source": [
    "#define the function to be used.\n",
    "def f(x):\n",
    "    y = ([])\n",
    "    for n in x:\n",
    "        if n<0:\n",
    "            y.append(-1)\n",
    "        if n>=0:\n",
    "            y.append(1)\n",
    "    return y"
   ]
  },
  {
   "cell_type": "code",
   "execution_count": 17,
   "metadata": {
    "collapsed": true
   },
   "outputs": [],
   "source": [
    "#to interpolate the points, begin by generating many (1000) points in the range -pi & pi.\n",
    "#interpolate the the point giving the x values, the y values and the 1000 generate values.\n",
    "#the last line is for part (b) to find the cubic spline fit of the x and y values.\n",
    "xi = np.linspace(-np.pi,np.pi, 1000)\n",
    "yi = barycentric_interpolate(x, f(x), xi)\n",
    "f_cubic2 = interp1d(x,f(x), kind='cubic')"
   ]
  },
  {
   "cell_type": "code",
   "execution_count": 18,
   "metadata": {
    "collapsed": false
   },
   "outputs": [],
   "source": [
    "#set up an array of the three values to be evaluated on the fit.\n",
    "#find the actual y values according to the function named 'xa_true'\n",
    "#interpolate the values in the same way as before but with the generated values 'xa' to find the values given from the interpolation method.\n",
    "#use the cubic spline function from before to find the values using this method.\n",
    "xa = ([-1.5,1,3])\n",
    "xa_true = f(xa)\n",
    "xa_bi = barycentric_interpolate(x, f(x), xa)\n",
    "xa_cubic = f_cubic2(xa)"
   ]
  },
  {
   "cell_type": "code",
   "execution_count": 19,
   "metadata": {
    "collapsed": false
   },
   "outputs": [
    {
     "name": "stdout",
     "output_type": "stream",
     "text": [
      "x= [-1.5, 1, 3]\n",
      "True Values [-1, 1, 1]\n",
      "Interpolated Values [-0.55878995  0.78467732  6.21284005]\n",
      "Interpolated Errors [ 0.44121005  0.21532268  5.21284005]\n",
      "There 11 points in the fit therefore it is a 10th order polynomial\n",
      "Cubic Values [-0.93929221  0.95312773  1.016033  ]\n",
      "Cubic Errors [ 0.06070779  0.04687227  0.016033  ]\n"
     ]
    },
    {
     "data": {
      "image/png": "[encoded data removed]",
      "text/plain": [
       "<matplotlib.figure.Figure at 0x913ad68>"
      ]
     },
     "metadata": {},
     "output_type": "display_data"
    }
   ],
   "source": [
    "#print the value found and compare them with the true values by finding the decimal error.\n",
    "print 'x=', xa\n",
    "print 'True Values', xa_true\n",
    "print 'Interpolated Values', xa_bi\n",
    "print 'Interpolated Errors', abs((xa_true-xa_bi) / xa_true)\n",
    "print 'There 11 points in the fit therefore it is a 10th order polynomial'\n",
    "print 'Cubic Values', xa_cubic\n",
    "print 'Cubic Errors', abs((xa_true-xa_cubic) / xa_true)\n",
    "\n",
    "pylab.plot(x,f(x), 'o', label='data points')\n",
    "pylab.plot(xi, yi, label='polynomial')\n",
    "pylab.plot(xi, f_cubic2(xi), label='cubic')\n",
    "pylab.legend(loc='best')\n",
    "pylab.show()"
   ]
  },
  {
   "cell_type": "code",
   "execution_count": 20,
   "metadata": {
    "collapsed": true
   },
   "outputs": [],
   "source": [
    "#define the hyperbolic function in (d)\n",
    "def func(x, a, b, c):\n",
    "    return a*np.tanh(b*x+c)"
   ]
  },
  {
   "cell_type": "code",
   "execution_count": 21,
   "metadata": {
    "collapsed": true
   },
   "outputs": [],
   "source": [
    "#generate noise according to the given function which generates y values slightly higher lower than the true values.\n",
    "yn = f(x) + 0.1*np.random.random(len(x))"
   ]
  },
  {
   "cell_type": "code",
   "execution_count": 22,
   "metadata": {
    "collapsed": false
   },
   "outputs": [
    {
     "name": "stderr",
     "output_type": "stream",
     "text": [
      "C:\\Program Files\\Anaconda2\\lib\\site-packages\\scipy\\optimize\\minpack.py:715: OptimizeWarning: Covariance of the parameters could not be estimated\n",
      "  category=OptimizeWarning)\n"
     ]
    }
   ],
   "source": [
    "#find the curve fit of the function for both the true values and the noisey values.\n",
    "popt1, pcov1 = curve_fit(func, x, f(x))\n",
    "popt2, pcov2 = curve_fit(func, x, yn)"
   ]
  },
  {
   "cell_type": "code",
   "execution_count": 23,
   "metadata": {
    "collapsed": false
   },
   "outputs": [
    {
     "name": "stdout",
     "output_type": "stream",
     "text": [
      "(a,b,c)= 1.00000000001 38.4713125862 11.9717512914\n",
      "(a,b,c) w/ noise= 1.02281674269 27.0877733329 14.7863166001\n"
     ]
    }
   ],
   "source": [
    "#print the coefficients found from both fits.\n",
    "print '(a,b,c)=', popt1[0], popt1[1], popt1[2]\n",
    "print '(a,b,c) w/ noise=', popt2[0], popt2[1], popt2[2]"
   ]
  },
  {
   "cell_type": "code",
   "execution_count": 24,
   "metadata": {
    "collapsed": false
   },
   "outputs": [
    {
     "data": {
      "image/png": "[encoded data removed]",
      "text/plain": [
       "<matplotlib.figure.Figure at 0x8bf3208>"
      ]
     },
     "metadata": {},
     "output_type": "display_data"
    }
   ],
   "source": [
    "#plot all values from this question.\n",
    "pylab.plot(x,yn, 'o', label='noisey data points')\n",
    "pylab.plot(xi,popt1[0]*np.tanh(popt1[1]*xi+popt1[2]),label='fit')\n",
    "pylab.plot(xi,popt2[0]*np.tanh(popt2[1]*xi+popt2[2]),label='fit w/ noise')\n",
    "pylab.legend(loc='best')\n",
    "pylab.show()"
   ]
  },
  {
   "cell_type": "markdown",
   "metadata": {},
   "source": [
    "The parameters a,b,c are reduced for the fit with noise introduced on the data points.\n",
    "Introducing noise into the values on the y axis gives a smoother fit between the two halves of the set of values."
   ]
  },
  {
   "cell_type": "markdown",
   "metadata": {},
   "source": [
    "# Past Paper Question 2013-14"
   ]
  },
  {
   "cell_type": "code",
   "execution_count": 4,
   "metadata": {
    "collapsed": false
   },
   "outputs": [],
   "source": [
    "#define the arrays\n",
    "h = np.array([0.,1.525,3.050,4.575,6.10,7.625,9.150])\n",
    "p = np.array([1.,0.8617,0.7385,0.6292,0.5328,0.4481,0.3741])"
   ]
  },
  {
   "cell_type": "code",
   "execution_count": 5,
   "metadata": {
    "collapsed": true
   },
   "outputs": [],
   "source": [
    "#generate values for x to be plotted\n",
    "#interpolate the values to give a polynomial fit\n",
    "#find the cubic splines using interp1d\n",
    "x = np.linspace(min(h),max(h))\n",
    "y = barycentric_interpolate(h, p, x) #polynomial fit\n",
    "f_cubic = interp1d(h,p, kind='cubic') #cubic spline fit"
   ]
  },
  {
   "cell_type": "code",
   "execution_count": 7,
   "metadata": {
    "collapsed": false
   },
   "outputs": [],
   "source": [
    "pylab.plot(h,p, 'o', label='data points')\n",
    "pylab.plot(x, y, label='polynomial')\n",
    "pylab.plot(x,f_cubic(x), label='cubic')\n",
    "pylab.legend(loc='best')\n",
    "pylab.show()"
   ]
  },
  {
   "cell_type": "code",
   "execution_count": 8,
   "metadata": {
    "collapsed": true
   },
   "outputs": [],
   "source": [
    "#runs the interpolate and interp1d functions for each value\n",
    "h2_poly = barycentric_interpolate(h, p, 2)\n",
    "h4_poly = barycentric_interpolate(h, p, 4)\n",
    "h8_poly = barycentric_interpolate(h, p, 8)\n",
    "h2_cub = f_cubic(2)\n",
    "h4_cub = f_cubic(4)\n",
    "h8_cub = f_cubic(8)"
   ]
  },
  {
   "cell_type": "code",
   "execution_count": 9,
   "metadata": {
    "collapsed": false
   },
   "outputs": [
    {
     "name": "stdout",
     "output_type": "stream",
     "text": [
      "values for a) 0.821776765804 0.668838720134 0.428931828448\n",
      "values for b) 0.821767808776 0.668840822907 0.428944803738\n"
     ]
    }
   ],
   "source": [
    "print 'values for a)', h2_poly, h4_poly, h8_poly\n",
    "print 'values for b)', h2_cub, h4_cub, h8_cub"
   ]
  },
  {
   "cell_type": "code",
   "execution_count": 10,
   "metadata": {
    "collapsed": false
   },
   "outputs": [
    {
     "name": "stdout",
     "output_type": "stream",
     "text": [
      "relative percentage errors\n",
      "h=2 -> 0.00108997062658\n",
      "h=4 -> 0.000314390703315\n",
      "h=8 -> 0.00302493218105\n"
     ]
    }
   ],
   "source": [
    "#calculate the relative errors.\n",
    "print 'relative percentage errors'\n",
    "print 'h=2 ->', abs((h2_poly/h2_cub)-1)*100\n",
    "print 'h=4 ->', abs((h4_poly/h4_cub)-1)*100\n",
    "print 'h=8 ->', abs((h8_poly/h8_cub)-1)*100"
   ]
  },
  {
   "cell_type": "code",
   "execution_count": 11,
   "metadata": {
    "collapsed": false
   },
   "outputs": [
    {
     "name": "stdout",
     "output_type": "stream",
     "text": [
      "absolute percentage errors\n",
      "poly error -> 0.173325353159\n",
      "cubic 0.173011506388\n"
     ]
    }
   ],
   "source": [
    "#caluclate the absolute errors.\n",
    "h4 = 0.67\n",
    "\n",
    "print 'absolute percentage errors'\n",
    "print 'poly error ->', abs((h4_poly/h4)-1)*100\n",
    "print 'cubic', abs((h4_cub/h4)-1)*100"
   ]
  }
 ],
 "metadata": {
  "anaconda-cloud": {},
  "kernelspec": {
   "display_name": "Python [Root]",
   "language": "python",
   "name": "Python [Root]"
  },
  "language_info": {
   "codemirror_mode": {
    "name": "ipython",
    "version": 2
   },
   "file_extension": ".py",
   "mimetype": "text/x-python",
   "name": "python",
   "nbconvert_exporter": "python",
   "pygments_lexer": "ipython2",
   "version": "2.7.11"
  }
 },
 "nbformat": 4,
 "nbformat_minor": 1
}
