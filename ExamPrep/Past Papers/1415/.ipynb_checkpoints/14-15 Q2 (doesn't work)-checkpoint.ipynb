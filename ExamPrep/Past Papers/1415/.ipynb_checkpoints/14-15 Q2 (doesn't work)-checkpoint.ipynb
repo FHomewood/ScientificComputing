{
 "cells": [
  {
   "cell_type": "code",
   "execution_count": 1,
   "metadata": {
    "collapsed": false
   },
   "outputs": [
    {
     "ename": "ValueError",
     "evalue": "too many values to unpack (expected 2)",
     "output_type": "error",
     "traceback": [
      "\u001b[0;31m---------------------------------------------------------------------------\u001b[0m",
      "\u001b[0;31mValueError\u001b[0m                                Traceback (most recent call last)",
      "\u001b[0;32m<ipython-input-1-af8ad54e4233>\u001b[0m in \u001b[0;36m<module>\u001b[0;34m()\u001b[0m\n\u001b[1;32m     45\u001b[0m \u001b[1;31m# Define alpha and get answer\u001b[0m\u001b[1;33m\u001b[0m\u001b[1;33m\u001b[0m\u001b[0m\n\u001b[1;32m     46\u001b[0m \u001b[0malpha\u001b[0m \u001b[1;33m=\u001b[0m \u001b[0ma_r10\u001b[0m\u001b[1;33m\u001b[0m\u001b[0m\n\u001b[0;32m---> 47\u001b[0;31m \u001b[0mx_10\u001b[0m\u001b[1;33m,\u001b[0m \u001b[0my_10\u001b[0m \u001b[1;33m=\u001b[0m \u001b[0mintegrate\u001b[0m\u001b[1;33m.\u001b[0m\u001b[0modeint\u001b[0m\u001b[1;33m(\u001b[0m\u001b[0msys\u001b[0m\u001b[1;33m,\u001b[0m\u001b[0mics\u001b[0m\u001b[1;33m,\u001b[0m\u001b[0mt_range\u001b[0m\u001b[1;33m)\u001b[0m\u001b[1;33m\u001b[0m\u001b[0m\n\u001b[0m\u001b[1;32m     48\u001b[0m \u001b[1;33m\u001b[0m\u001b[0m\n\u001b[1;32m     49\u001b[0m \u001b[0mplt\u001b[0m\u001b[1;33m.\u001b[0m\u001b[0mfigure\u001b[0m\u001b[1;33m(\u001b[0m\u001b[1;36m1\u001b[0m\u001b[1;33m)\u001b[0m\u001b[1;33m\u001b[0m\u001b[0m\n",
      "\u001b[0;31mValueError\u001b[0m: too many values to unpack (expected 2)"
     ]
    }
   ],
   "source": [
    "\"\"\"\n",
    "I already know this doesn't work. I didn't have time to fix it.\n",
    "\"\"\"\n",
    "\n",
    "from scipy import integrate\n",
    "import numpy as np\n",
    "import matplotlib.pyplot as plt\n",
    "\n",
    "\n",
    "# Define constants\n",
    "c = 0.005\n",
    "g = 9.81\n",
    "\n",
    "# Angles\n",
    "a_r10 = np.deg2rad(10)\n",
    "a_r20 = np.deg2rad(20)\n",
    "a_r80 = np.deg2rad(80)\n",
    "\n",
    "alpha = a_r10\n",
    "\n",
    "# ICS\n",
    "x0 = 0\n",
    "y0 = 0\n",
    "a0 = 1000*(np.cos(alpha))\n",
    "b0 = 1000*(np.sin(alpha))\n",
    "ics = [x0,y0,a0,b0]\n",
    "\n",
    "\n",
    "# Set up range\n",
    "t_range = np.linspace(0,30,3000)\n",
    "\n",
    "# Define function to integrate\n",
    "def sys(q,t):\n",
    "    xi = q[0]\n",
    "    ai = q[1]\n",
    "    yi = q[3]\n",
    "    bi = q[2]\n",
    "    f0 = ai #dx = a\n",
    "    f2 = bi #dy = b\n",
    "    f1 = (-c*(ai)*(np.sqrt((ai**2)+(bi**2))))\n",
    "    f3 = (-c*(bi)*(np.sqrt((ai**2)+(bi**2))))-g\n",
    "    return [f0,f1,f2,f3]\n",
    "    \n",
    "\n",
    "# Define alpha and get answer\n",
    "alpha = a_r10\n",
    "x_10, y_10 = integrate.odeint(sys,ics,t_range)\n",
    "\n",
    "plt.figure(1)\n",
    "plt.plot(x_10,y_10)\n",
    "plt.show()"
   ]
  },
  {
   "cell_type": "code",
   "execution_count": null,
   "metadata": {
    "collapsed": true
   },
   "outputs": [],
   "source": []
  }
 ],
 "metadata": {
  "kernelspec": {
   "display_name": "Python [default]",
   "language": "python",
   "name": "python3"
  },
  "language_info": {
   "codemirror_mode": {
    "name": "ipython",
    "version": 3
   },
   "file_extension": ".py",
   "mimetype": "text/x-python",
   "name": "python",
   "nbconvert_exporter": "python",
   "pygments_lexer": "ipython3",
   "version": "3.5.2"
  }
 },
 "nbformat": 4,
 "nbformat_minor": 1
}
