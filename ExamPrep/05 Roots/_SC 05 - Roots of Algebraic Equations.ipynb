{
 "cells": [
  {
   "cell_type": "code",
   "execution_count": 5,
   "metadata": {
    "collapsed": false
   },
   "outputs": [],
   "source": [
    "import numpy as np\n",
    "import pylab as pl\n",
    "import scipy as sci\n",
    "from scipy import optimize\n",
    "from ridder import *\n",
    "from newtonRaphson import *\n",
    "from newtonRaphson2 import *\n",
    "import matplotlib.pyplot as plt"
   ]
  },
  {
   "cell_type": "markdown",
   "metadata": {},
   "source": [
    "# Question 1\n",
    "### 1a)"
   ]
  },
  {
   "cell_type": "code",
   "execution_count": 2,
   "metadata": {
    "collapsed": true
   },
   "outputs": [],
   "source": [
    "#define the fucntion and the derivative of the function (needed for the Newton Raphson method)\n",
    "def f(z):\n",
    "    return np.sin(z)+3.*np.cos(z)-2\n",
    "def df(z):\n",
    "    return np.cos(z)-3.*np.sin(z)"
   ]
  },
  {
   "cell_type": "code",
   "execution_count": 3,
   "metadata": {
    "collapsed": false
   },
   "outputs": [
    {
     "data": {
      "image/png": "[encoded data removed]",
      "text/plain": [
       "<matplotlib.figure.Figure at 0x7796ef0>"
      ]
     },
     "metadata": {},
     "output_type": "display_data"
    }
   ],
   "source": [
    "#generate a set of values between +/-2 for x, use this to get a set of y values and plot.\n",
    "x=np.linspace(-2,2,1000)\n",
    "y=f(x)\n",
    "pl.plot(x,y)\n",
    "pl.show()"
   ]
  },
  {
   "cell_type": "markdown",
   "metadata": {},
   "source": [
    "Based on the plot we expect 2 roots, one in the interval (−1, 0), and one\n",
    "in (1, 1.5).\n",
    "### 1b), c) & d)"
   ]
  },
  {
   "cell_type": "code",
   "execution_count": 4,
   "metadata": {
    "collapsed": false
   },
   "outputs": [
    {
     "name": "stdout",
     "output_type": "stream",
     "text": [
      "Ridder method results -0.564326569396 1.20782767819\n"
     ]
    }
   ],
   "source": [
    "#Ridder method requires original function and approximate interval of the root.\n",
    "r_root1 = ridder(f,-1.,0.)\n",
    "r_root2 = ridder(f,1.,1.5)\n",
    "print 'Ridder method results', r_root1, r_root2"
   ]
  },
  {
   "cell_type": "code",
   "execution_count": 5,
   "metadata": {
    "collapsed": false
   },
   "outputs": [
    {
     "name": "stdout",
     "output_type": "stream",
     "text": [
      "Newton Raphson method results -0.564326569397 1.20782767819\n"
     ]
    }
   ],
   "source": [
    "#Newton Raphson method requires original function, first derivative and approximate interval of the root.\n",
    "nr_root1 = newtonRaphson(f,df,-1.,0.)\n",
    "nr_root2 = newtonRaphson(f,df,1.,1.5)\n",
    "print 'Newton Raphson method results', nr_root1, nr_root2"
   ]
  },
  {
   "cell_type": "code",
   "execution_count": 6,
   "metadata": {
    "collapsed": false
   },
   "outputs": [
    {
     "name": "stdout",
     "output_type": "stream",
     "text": [
      "fsolve results [-0.56432657] [ 1.20782768]\n"
     ]
    }
   ],
   "source": [
    "#fsolve method requires original function and approximate value of the root (gives more rough value).\n",
    "a=sci.optimize.fsolve(f,-1.)\n",
    "b=sci.optimize.fsolve(f,1.)\n",
    "print 'fsolve results',a,b"
   ]
  },
  {
   "cell_type": "markdown",
   "metadata": {},
   "source": [
    "# Question 2"
   ]
  },
  {
   "cell_type": "code",
   "execution_count": 7,
   "metadata": {
    "collapsed": true
   },
   "outputs": [],
   "source": [
    "#This defines the function as a vector array but I have no idea why it's R-C/(1+e*sin(theta+alpha))\n",
    "#Maybe so the function =0?\n",
    "def f(z):\n",
    "    return np.array([6870.-z[0]/(1+z[1]*np.sin(z[2]-np.pi/6.)),6728.-z[0]/(1+z[1]*np.sin(z[2])),6615.-z[0]/(1+z[1]*np.sin(z[2]+np.pi/6.))])"
   ]
  },
  {
   "cell_type": "code",
   "execution_count": 8,
   "metadata": {
    "collapsed": true
   },
   "outputs": [],
   "source": [
    "#define an array for the rough values of z[0],z[1],z[2]\n",
    "x0=np.array([6800.,0.5,0.])"
   ]
  },
  {
   "cell_type": "code",
   "execution_count": 9,
   "metadata": {
    "collapsed": false
   },
   "outputs": [
    {
     "name": "stdout",
     "output_type": "stream",
     "text": [
      "Newton-Raphson solution is: C= 6819.29379321 e= 0.0405989590577 alpha= 0.34078399795\n"
     ]
    }
   ],
   "source": [
    "#Use Newton Raphson2 to solve for each parameter of x0\n",
    "a=newtonRaphson2(f,x0)\n",
    "print 'Newton-Raphson solution is: C=', a[0], 'e=', a[1], 'alpha=', a[2]"
   ]
  },
  {
   "cell_type": "code",
   "execution_count": 10,
   "metadata": {
    "collapsed": false
   },
   "outputs": [
    {
     "name": "stdout",
     "output_type": "stream",
     "text": [
      "fsolve solution is: C= 6819.29379321 e= 0.0405989590577 alpha= 0.340783997955\n"
     ]
    }
   ],
   "source": [
    "#Use fsolve to solve for each parameter of x0\n",
    "b=sci.optimize.fsolve(f,x0)\n",
    "print 'fsolve solution is: C=', b[0], 'e=', b[1], 'alpha=', b[2]"
   ]
  },
  {
   "cell_type": "code",
   "execution_count": 11,
   "metadata": {
    "collapsed": false
   },
   "outputs": [
    {
     "name": "stdout",
     "output_type": "stream",
     "text": [
      "Pericentre is at R= 6553.23910701 at angle 1.23001232884 radians\n"
     ]
    }
   ],
   "source": [
    "print 'Pericentre is at R=',b[0]/(1.+b[1]), 'at angle', -a[2]+np.pi/2., 'radians'"
   ]
  },
  {
   "cell_type": "code",
   "execution_count": 14,
   "metadata": {
    "collapsed": false
   },
   "outputs": [],
   "source": [
    "#generate set of values for theta and define the function for R with coefficients caluculated by NewtonRaphson2 method. (for plotting on a polar plot.)\n",
    "theta = np.linspace( 0, 2*np.pi, 100 )\n",
    "R = a[0] / (1 + a[1] * np.sin(theta + a[2]))"
   ]
  },
  {
   "cell_type": "code",
   "execution_count": 15,
   "metadata": {
    "collapsed": false
   },
   "outputs": [
    {
     "data": {
      "image/png": "[encoded data removed]",
      "text/plain": [
       "<matplotlib.figure.Figure at 0x77969e8>"
      ]
     },
     "metadata": {},
     "output_type": "display_data"
    }
   ],
   "source": [
    "#Plot points on a polar plot to visualise the orbit.\n",
    "ax = plt.subplot( 111, polar=True )\n",
    "ax.hold('on')\n",
    "ax.plot(theta, R, color='red', linewidth=1 )\n",
    "ax.set_rmax(8000)\n",
    "ax.grid(True)\n",
    "plt.show()"
   ]
  },
  {
   "cell_type": "markdown",
   "metadata": {},
   "source": [
    "# Past Paper Question 2014-15"
   ]
  },
  {
   "cell_type": "code",
   "execution_count": 6,
   "metadata": {
    "collapsed": true
   },
   "outputs": [],
   "source": [
    "def f(x):\n",
    "    return 1-np.exp(-c0*x)-x"
   ]
  },
  {
   "cell_type": "code",
   "execution_count": 7,
   "metadata": {
    "collapsed": false
   },
   "outputs": [],
   "source": [
    "c0=2\n",
    "\n",
    "x1=np.linspace(-0.2,1,1000)\n",
    "pl.plot(x1,f(x1))\n",
    "pl.show()"
   ]
  },
  {
   "cell_type": "markdown",
   "metadata": {},
   "source": [
    "Answers lie somwhere in the interval [-0.2,1.0]"
   ]
  },
  {
   "cell_type": "code",
   "execution_count": 8,
   "metadata": {
    "collapsed": false
   },
   "outputs": [
    {
     "name": "stdout",
     "output_type": "stream",
     "text": [
      "x= [ 0.79681213] [ 0.]\n"
     ]
    }
   ],
   "source": [
    "a=optimize.fsolve(f,1.,xtol=1e-7)\n",
    "b=optimize.fsolve(f,-0.2,xtol=1e-7)\n",
    "\n",
    "print 'x=', a, b"
   ]
  },
  {
   "cell_type": "code",
   "execution_count": 10,
   "metadata": {
    "collapsed": false
   },
   "outputs": [],
   "source": [
    "c_range = np.arange(0,3.01,0.01)\n",
    "\n",
    "def g(c):\n",
    "    func = lambda x : (1-np.exp(-c*x)-x)\n",
    "    func_sol = optimize.fsolve(func,1.,xtol=1e-7)\n",
    "    return func_sol"
   ]
  },
  {
   "cell_type": "code",
   "execution_count": 11,
   "metadata": {
    "collapsed": false
   },
   "outputs": [
    {
     "name": "stderr",
     "output_type": "stream",
     "text": [
      "C:\\Program Files\\Anaconda\\lib\\site-packages\\scipy\\optimize\\minpack.py:161: RuntimeWarning: The iteration is not making good progress, as measured by the \n",
      "  improvement from the last ten iterations.\n",
      "  warnings.warn(msg, RuntimeWarning)\n"
     ]
    }
   ],
   "source": [
    "x_plot = np.zeros(len(c_range))\n",
    "\n",
    "for i in range(len(c_range)):\n",
    "    x_plot[i] = g(c_range[i])"
   ]
  },
  {
   "cell_type": "code",
   "execution_count": 12,
   "metadata": {
    "collapsed": false
   },
   "outputs": [
    {
     "name": "stderr",
     "output_type": "stream",
     "text": [
      "C:\\Program Files\\Anaconda\\lib\\site-packages\\matplotlib\\axes\\_axes.py:519: UserWarning: No labelled objects found. Use label='...' kwarg on individual plots.\n",
      "  warnings.warn(\"No labelled objects found. \"\n"
     ]
    }
   ],
   "source": [
    "pl.plot(c_range,x_plot)\n",
    "plt.title(r'Graph of $x(c)$ vs $c$')\n",
    "plt.legend(loc=0)\n",
    "plt.xlabel(r'$c$')\n",
    "plt.ylabel(r'$x(c)$')\n",
    "plt.show()"
   ]
  }
 ],
 "metadata": {
  "anaconda-cloud": {},
  "kernelspec": {
   "display_name": "Python [Root]",
   "language": "python",
   "name": "Python [Root]"
  },
  "language_info": {
   "codemirror_mode": {
    "name": "ipython",
    "version": 2
   },
   "file_extension": ".py",
   "mimetype": "text/x-python",
   "name": "python",
   "nbconvert_exporter": "python",
   "pygments_lexer": "ipython2",
   "version": "2.7.11"
  }
 },
 "nbformat": 4,
 "nbformat_minor": 1
}
