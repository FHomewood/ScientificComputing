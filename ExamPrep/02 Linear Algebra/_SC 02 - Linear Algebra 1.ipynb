{
 "cells": [
  {
   "cell_type": "code",
   "execution_count": 124,
   "metadata": {
    "collapsed": true
   },
   "outputs": [],
   "source": [
    "import numpy as np\n",
    "from numpy import zeros, array, dot, random\n",
    "from gaussElimin import *\n",
    "from numpy import linalg\n",
    "import pylab as plt"
   ]
  },
  {
   "cell_type": "markdown",
   "metadata": {},
   "source": [
    "# Question 1"
   ]
  },
  {
   "cell_type": "code",
   "execution_count": 125,
   "metadata": {
    "collapsed": false
   },
   "outputs": [],
   "source": [
    "j=0 #just counts which loop we are on.\n",
    "error=zeros(5) #array for storing errors\n",
    "values = (50,100,200,300,400)"
   ]
  },
  {
   "cell_type": "code",
   "execution_count": 126,
   "metadata": {
    "collapsed": false
   },
   "outputs": [],
   "source": [
    "for n in values: #for loop for each n\n",
    "    a=10.*random.random((n,n)) #generates array of random numbers between 0 & 10. with dimensions (n x n)\n",
    "    #print a\n",
    "\n",
    "    x=array(range(n))+1.0 #generates array with values of 0 to (n-1) then adds one to each making array of (1 to n)\n",
    "    b=dot(a,x) #dot product of a and x\n",
    "    c=gaussElimin(a,b) #runs gaussElimin code on each\n",
    "    \n",
    "    error[j]=max(abs(c-x)) #finds the absolute value of error in the two matrices\n",
    "    j=j+1 #add one to our counting variable\n",
    "j=0"
   ]
  },
  {
   "cell_type": "code",
   "execution_count": 119,
   "metadata": {
    "collapsed": false
   },
   "outputs": [
    {
     "name": "stdout",
     "output_type": "stream",
     "text": [
      "Element-by-element error is: \n",
      "[  1.43067780e-11   1.88393301e-10   3.83110432e-10   1.26848931e-09\n",
      "   1.89082601e-06]\n"
     ]
    },
    {
     "data": {
      "image/png": "[encoded data removed]",
      "text/plain": [
       "<matplotlib.figure.Figure at 0x9d787f0>"
      ]
     },
     "metadata": {},
     "output_type": "display_data"
    }
   ],
   "source": [
    "print 'Element-by-element error is: \\n', error\n",
    "\n",
    "plt.title('log graph of error vs. n')\n",
    "plt.semilogy(values,error)\n",
    "plt.show()"
   ]
  },
  {
   "cell_type": "markdown",
   "metadata": {},
   "source": [
    "# Question 2"
   ]
  },
  {
   "cell_type": "code",
   "execution_count": 120,
   "metadata": {
    "collapsed": true
   },
   "outputs": [],
   "source": [
    "#Define variables to be used\n",
    "R1 = R3 = R5 = 1000.0\n",
    "R2 = R4 = R6 = 2000.0\n",
    "C1 = 10**-6\n",
    "C2 = 0.5*10**-6\n",
    "Xp = 3\n",
    "W = 1000"
   ]
  },
  {
   "cell_type": "code",
   "execution_count": 121,
   "metadata": {
    "collapsed": true
   },
   "outputs": [],
   "source": [
    "#Create the two matrices out of the LHS and RHS of the equations.\n",
    "#For the first equation,the x3 coefficient=0 and for the 3rd equation, the x1 coefficient=0.\n",
    "A = np.array([[1.0/R1+1.0/R4+complex(0,W*C1),complex(0,-W*C1),0],\n",
    "               [complex(0,-W*C1),complex(1.0/R2 + 1.0/R5, W*C1+W*C2),complex(0,-W*C2)],\n",
    "                [0,complex(0,-W*C2),complex(1.0/R3 + 1.0/R6, W*C2)]])\n",
    "B = np.array([Xp/R1,Xp/R2,Xp/R3])"
   ]
  },
  {
   "cell_type": "code",
   "execution_count": 122,
   "metadata": {
    "collapsed": false
   },
   "outputs": [],
   "source": [
    "#Use np.linalg.solve to solve for each parameter [0,1,2] and print solutions as complex numbers\n",
    "X1 = np.linalg.solve(A,B)[0]\n",
    "X2 = np.linalg.solve(A,B)[1]\n",
    "X3 = np.linalg.solve(A,B)[2]\n",
    "#print np.linalg.solve(A,B), '\\n'"
   ]
  },
  {
   "cell_type": "code",
   "execution_count": 123,
   "metadata": {
    "collapsed": false
   },
   "outputs": [
    {
     "name": "stdout",
     "output_type": "stream",
     "text": [
      "V1: Amplitude = 1.70143906588 , Phase angle = -5.46909497011\n",
      "V2: Amplitude = 1.48060534654 , Phase angle = 11.5834186047\n",
      "V3: Amplitude = 1.86076932006 , Phase angle = -4.16467265187\n"
     ]
    }
   ],
   "source": [
    "#Print solutions with np.angle to find phase angle and \"deg='true'\" to give the phase angle in degrees.\n",
    "print 'V1: Amplitude =', abs(X1), ', Phase angle =',np.angle(X1, deg='true')\n",
    "print 'V2: Amplitude =', abs(X2), ', Phase angle =',np.angle(X2, deg='true')\n",
    "print 'V3: Amplitude =', abs(X3), ', Phase angle =',np.angle(X3, deg='true')"
   ]
  }
 ],
 "metadata": {
  "anaconda-cloud": {},
  "kernelspec": {
   "display_name": "Python [conda root]",
   "language": "python",
   "name": "conda-root-py"
  },
  "language_info": {
   "codemirror_mode": {
    "name": "ipython",
    "version": 2
   },
   "file_extension": ".py",
   "mimetype": "text/x-python",
   "name": "python",
   "nbconvert_exporter": "python",
   "pygments_lexer": "ipython2",
   "version": "2.7.12"
  }
 },
 "nbformat": 4,
 "nbformat_minor": 1
}
