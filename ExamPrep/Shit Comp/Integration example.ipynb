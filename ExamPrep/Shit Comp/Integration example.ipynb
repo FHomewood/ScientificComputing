{
 "cells": [
  {
   "cell_type": "code",
   "execution_count": 10,
   "metadata": {
    "collapsed": true
   },
   "outputs": [],
   "source": [
    "import numpy\n",
    "import matplotlib.pyplot as pl\n",
    "import scipy\n",
    "from scipy import integrate\n",
    "from pylab import *\n",
    "from scipy import interpolate, optimize\n",
    "from numpy import *"
   ]
  },
  {
   "cell_type": "code",
   "execution_count": 11,
   "metadata": {
    "collapsed": false
   },
   "outputs": [
    {
     "name": "stdout",
     "output_type": "stream",
     "text": [
      "Populating the interactive namespace from numpy and matplotlib\n"
     ]
    }
   ],
   "source": [
    "%pylab inline"
   ]
  },
  {
   "cell_type": "code",
   "execution_count": 12,
   "metadata": {
    "collapsed": true
   },
   "outputs": [],
   "source": [
    "#Make Constants\n",
    "i0=100\n",
    "R=0.5\n",
    "t0=0.01"
   ]
  },
  {
   "cell_type": "code",
   "execution_count": 14,
   "metadata": {
    "collapsed": false
   },
   "outputs": [],
   "source": [
    "def i(t):\n",
    "    q =  i0*numpy.exp(-t/t0)*numpy.sin(2.0*t/t0)\n",
    "    return (q**2)\n",
    "t_range = numpy.linspace(0.0, 1.0, 100)\n",
    "i_array = np.zeros(len(t_range))"
   ]
  },
  {
   "cell_type": "code",
   "execution_count": 15,
   "metadata": {
    "collapsed": false
   },
   "outputs": [],
   "source": [
    "for n in range(len(t_range)):\n",
    "    i_array[n] = i((t_range[n]))"
   ]
  },
  {
   "cell_type": "code",
   "execution_count": 16,
   "metadata": {
    "collapsed": false
   },
   "outputs": [
    {
     "data": {
      "image/png": "[encoded data removed]",
      "text/plain": [
       "<matplotlib.figure.Figure at 0x7bb7ba8>"
      ]
     },
     "metadata": {},
     "output_type": "display_data"
    }
   ],
   "source": [
    "plt.figure(1)\n",
    "plt.semilogy(t_range,i_array,label=r'$[i(t)]^2$')\n",
    "plt.title(r'$[i_t]^2$ vs $t$')\n",
    "plt.xlabel(r'$t$ (s)')\n",
    "plt.ylabel(r'$[i(t)]^2$ (${A^2}$)')\n",
    "plt.legend(loc=0)\n",
    "plt.show()"
   ]
  },
  {
   "cell_type": "code",
   "execution_count": 39,
   "metadata": {
    "collapsed": true
   },
   "outputs": [],
   "source": [
    "from scipy import integrate\n",
    "import numpy as np\n",
    "import matplotlib.pyplot as plt"
   ]
  },
  {
   "cell_type": "code",
   "execution_count": 40,
   "metadata": {
    "collapsed": false
   },
   "outputs": [
    {
     "name": "stdout",
     "output_type": "stream",
     "text": [
      "E = 10.0 with an error of 1.90924164045e-08\n"
     ]
    }
   ],
   "source": [
    "integrand = lambda t: R*(((i0)*np.exp(-t/t0)*(np.sin((2*t)/t0)))**2)\n",
    "E, error = integrate.quad(integrand,0,np.inf)\n",
    "print \"E = \" + str(E) + \" with an error of \" + str(error)\n"
   ]
  },
  {
   "cell_type": "code",
   "execution_count": 37,
   "metadata": {
    "collapsed": false
   },
   "outputs": [],
   "source": [
    "from scipy import integrate\n",
    "import numpy as np\n",
    "import matplotlib.pyplot as plt\n",
    "\n",
    "# Define constants\n",
    "i0 = 100.0\n",
    "R = 0.5\n",
    "t0 = 0.01"
   ]
  },
  {
   "cell_type": "code",
   "execution_count": 20,
   "metadata": {
    "collapsed": false
   },
   "outputs": [
    {
     "name": "stdout",
     "output_type": "stream",
     "text": [
      "E = 10.0 with an error of 1.90924164045e-08\n"
     ]
    }
   ],
   "source": [
    "integrand = lambda t: R*(((i0)*np.exp(-t/t0)*(np.sin((2*t)/t0)))**2)\n",
    "E, error = integrate.quad(integrand,0,np.inf)\n",
    "print \"E = \" + str(E) + \" with an error of \" + str(error)"
   ]
  },
  {
   "cell_type": "code",
   "execution_count": 41,
   "metadata": {
    "collapsed": true
   },
   "outputs": [],
   "source": [
    "k=1.3807*10**(-23)"
   ]
  },
  {
   "cell_type": "code",
   "execution_count": 43,
   "metadata": {
    "collapsed": false
   },
   "outputs": [],
   "source": [
    "integrand = lambda x:(((x**4)*(np.exp(x)))/(((np.exp(x))-1)**2)) #Thing inside integral\n",
    "urange = np.arange(0.05,1.05,0.05) #integration limits and number of points"
   ]
  },
  {
   "cell_type": "code",
   "execution_count": 44,
   "metadata": {
    "collapsed": true
   },
   "outputs": [],
   "source": [
    "def g(u):  #this is where actual integration, redfine limits\n",
    "    intres,interror = integrate.quad(integrand,0,(1/u),epsabs=1.49*10**(-8))\n",
    "    res = (u**3)*intres #timesing anything outside the integral\n",
    "    return res"
   ]
  },
  {
   "cell_type": "code",
   "execution_count": 45,
   "metadata": {
    "collapsed": true
   },
   "outputs": [],
   "source": [
    "gu_plot = np.zeros(len(urange)) #creates empty arrary for a plot "
   ]
  },
  {
   "cell_type": "code",
   "execution_count": 46,
   "metadata": {
    "collapsed": true
   },
   "outputs": [],
   "source": [
    "for i in range(0,(len(urange))):\n",
    "    gu_plot[i]=g(urange[i]) #for filling the array for g(u)"
   ]
  },
  {
   "cell_type": "code",
   "execution_count": 48,
   "metadata": {
    "collapsed": false
   },
   "outputs": [
    {
     "data": {
      "image/png": "[encoded data removed]",
      "text/plain": [
       "<matplotlib.figure.Figure at 0x9ac67f0>"
      ]
     },
     "metadata": {},
     "output_type": "display_data"
    }
   ],
   "source": [
    "plt.figure(1)\n",
    "plt.plot(urange,gu_plot)\n",
    "plt.title(r'$g(u)$vs$u$')\n",
    "plt.show()"
   ]
  },
  {
   "cell_type": "code",
   "execution_count": null,
   "metadata": {
    "collapsed": true
   },
   "outputs": [],
   "source": []
  }
 ],
 "metadata": {
  "kernelspec": {
   "display_name": "Python [Root]",
   "language": "python",
   "name": "Python [Root]"
  },
  "language_info": {
   "codemirror_mode": {
    "name": "ipython",
    "version": 2
   },
   "file_extension": ".py",
   "mimetype": "text/x-python",
   "name": "python",
   "nbconvert_exporter": "python",
   "pygments_lexer": "ipython2",
   "version": "2.7.11"
  }
 },
 "nbformat": 4,
 "nbformat_minor": 0
}
