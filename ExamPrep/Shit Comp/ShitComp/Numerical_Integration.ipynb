{
 "cells": [
  {
   "cell_type": "code",
   "execution_count": 1,
   "metadata": {
    "collapsed": false
   },
   "outputs": [
    {
     "name": "stdout",
     "output_type": "stream",
     "text": [
      "Populating the interactive namespace from numpy and matplotlib\n"
     ]
    }
   ],
   "source": [
    "%pylab inline"
   ]
  },
  {
   "cell_type": "code",
   "execution_count": 2,
   "metadata": {
    "collapsed": true
   },
   "outputs": [],
   "source": [
    "# Import the required modules\n",
    "import math\n",
    "import numpy as np\n",
    "import scipy as sci\n",
    "from scipy import integrate\n",
    "from trapezoid import *\n",
    "from romberg import *"
   ]
  },
  {
   "cell_type": "markdown",
   "metadata": {},
   "source": [
    "## Numerical integration\n",
    "\n",
    "**Problem**: Calculate the Error Function integral \n",
    "$$erf(x)=\\frac2{\\sqrt{\\pi}}\\int_0^x e^{-t^2}dt$$ for $x=1$."
   ]
  },
  {
   "cell_type": "code",
   "execution_count": 3,
   "metadata": {
    "collapsed": false
   },
   "outputs": [],
   "source": [
    "# First set up the integrant function\n",
    "def g(t):\n",
    "    return math.exp(-t**2)"
   ]
  },
  {
   "cell_type": "code",
   "execution_count": 10,
   "metadata": {
    "collapsed": false
   },
   "outputs": [
    {
     "name": "stdout",
     "output_type": "stream",
     "text": [
      "(0.84270079294971478, '1d20')\n"
     ]
    }
   ],
   "source": [
    "#Exact result\n",
    "exact=sci.special.erf(1)\n",
    "print(exact,'1d20')"
   ]
  },
  {
   "cell_type": "code",
   "execution_count": 5,
   "metadata": {
    "collapsed": false
   },
   "outputs": [
    {
     "name": "stdout",
     "output_type": "stream",
     "text": [
      "('Trapezoid method result and relative error: ', 0.84270131073851373, 6.1443967215912797e-07)\n"
     ]
    }
   ],
   "source": [
    "#Trapezoid method example\n",
    "r = zeros(21) # we will be storing the results here\n",
    "r[1] = trapezoid(g,0.0,sqrt(math.pi),0.0,1) # first call is special, since no  \n",
    "                                            # result to be refined yet exists\n",
    "for k in range(2,21):\n",
    "    r[k] = trapezoid(g,0.0,1.0,r[k-1],k) # refinements of the answer using ever more points \n",
    "    \n",
    "result=2.0/math.sqrt(math.pi)*r[20]\n",
    "print('Trapezoid method result and relative error: ',result,abs(exact-result)/exact)\n",
    "\n",
    "#Note the relatively large error of the trapezoid method, even for very large number \n",
    "#of sub-intervals"
   ]
  },
  {
   "cell_type": "code",
   "execution_count": 6,
   "metadata": {
    "collapsed": false
   },
   "outputs": [
    {
     "name": "stdout",
     "output_type": "stream",
     "text": [
      "('Romberg method result and number of panels: ', 0.84270079326867053, 16)\n",
      "('error= ', 3.7849228737938172e-10)\n"
     ]
    }
   ],
   "source": [
    "#Romberg method : DO NOT USE INTEGERS AS LIMITS\n",
    "erf2,nP=romberg(g,0.0,1.0)\n",
    "print('Romberg method result and number of panels: ',2.0/sqrt(math.pi)*erf2,nP)\n",
    "print('relative error= ',abs(2.0/sqrt(math.pi)*erf2-exact)/exact)"
   ]
  },
  {
   "cell_type": "code",
   "execution_count": 8,
   "metadata": {
    "collapsed": false
   },
   "outputs": [
    {
     "name": "stdout",
     "output_type": "stream",
     "text": [
      "('quad method result and estimated error: ', 0.8427007929497149, 8.291413475940725e-15)\n",
      "('actual error= ', 1.3174581463713008e-16)\n"
     ]
    }
   ],
   "source": [
    "#Internal 'quad' integrator\n",
    "erf3,err=sci.integrate.quad(g,0.0,1.0)\n",
    "print('quad method result and estimated error: ',2.0/math.sqrt(math.pi)*erf3,err)\n",
    "print('actual relative error= ',abs(2.0/sqrt(math.pi)*erf3-exact)/exact)"
   ]
  },
  {
   "cell_type": "code",
   "execution_count": null,
   "metadata": {
    "collapsed": true
   },
   "outputs": [],
   "source": []
  }
 ],
 "metadata": {
  "anaconda-cloud": {},
  "kernelspec": {
   "display_name": "Python [default]",
   "language": "python",
   "name": "python3"
  },
  "language_info": {
   "codemirror_mode": {
    "name": "ipython",
    "version": 3
   },
   "file_extension": ".py",
   "mimetype": "text/x-python",
   "name": "python",
   "nbconvert_exporter": "python",
   "pygments_lexer": "ipython3",
   "version": "3.5.2"
  }
 },
 "nbformat": 4,
 "nbformat_minor": 0
}
