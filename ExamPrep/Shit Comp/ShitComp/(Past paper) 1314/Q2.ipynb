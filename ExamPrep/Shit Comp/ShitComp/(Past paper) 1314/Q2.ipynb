{
 "cells": [
  {
   "cell_type": "code",
   "execution_count": 4,
   "metadata": {
    "collapsed": false
   },
   "outputs": [
    {
     "name": "stdout",
     "output_type": "stream",
     "text": [
      "At 2km, the polynomial, interpolated value is:\n",
      "0.8217767658035282\n",
      "And at 4km, the interpolated value is:\n",
      "0.6688387201338334\n",
      "And at 8km, the interpolated value is:\n",
      "0.4289318284483341\n",
      "At h=2, h=4 and h=8 respectively, using a cubic spline, rho=\n",
      "0.8217678087757938 ,  0.6688408229072 ,  0.42894480373774124\n",
      "Absolute error for polynomial interpolation:\n",
      "0.00116127986617\n",
      "Relative error for polynomial interpolation:\n",
      "0.00173325353159\n",
      "\n",
      "Absolute error for cubic spline:\n",
      "0.0011591770928\n",
      "Relative error for cubic spline:\n",
      "0.00173011506388\n"
     ]
    }
   ],
   "source": [
    "from pylab import *\n",
    "from scipy import interpolate, optimize\n",
    "from numpy import *\n",
    "\n",
    "# construct data point arrays first\n",
    "h = array([0.0,1.525,3.050,4.575,6.100,7.625,9.150])\n",
    "rho = array([1.0,0.8617,0.7385,0.6292,0.5328,0.4481,0.3741])\n",
    "\n",
    "\n",
    "# Part A\n",
    "# use Barycentric initally as the most direct path to an answer\n",
    "print (\"At 2km, the polynomial, interpolated value is:\")\n",
    "print(str(interpolate.barycentric_interpolate(h,rho,2.0)))\n",
    "\n",
    "print (\"And at 4km, the interpolated value is:\")\n",
    "print(str(interpolate.barycentric_interpolate(h,rho,4.0)))\n",
    "\n",
    "print (\"And at 8km, the interpolated value is:\")\n",
    "print (str(interpolate.barycentric_interpolate(h,rho,8.0)))\n",
    "\n",
    "\n",
    "# B: cubic spline\n",
    "fit = interpolate.interp1d(h,rho,kind='cubic') #set up fit, called as fit(value)\n",
    "\n",
    "print (\"At h=2, h=4 and h=8 respectively, using a cubic spline, rho=\")\n",
    "print (fit(2.0), \", \", fit(4.0), \", \",fit(8.0))\n",
    "\n",
    "\n",
    "# C: errors\n",
    "rho_actual = 0.67\n",
    "\n",
    "print (\"Absolute error for polynomial interpolation:\")\n",
    "err_abso_poly = np.abs(interpolate.barycentric_interpolate(h,rho,4.0)-rho_actual)\n",
    "print (err_abso_poly)\n",
    "print (\"Relative error for polynomial interpolation:\")\n",
    "print (np.abs((err_abso_poly)/rho_actual))\n",
    "\n",
    "print (\"\\nAbsolute error for cubic spline:\")\n",
    "err_abso_spline = np.abs((fit(4.0)-rho_actual))\n",
    "print (err_abso_spline)\n",
    "print (\"Relative error for cubic spline:\")\n",
    "print (np.abs((err_abso_spline)/rho_actual))"
   ]
  },
  {
   "cell_type": "code",
   "execution_count": null,
   "metadata": {
    "collapsed": true
   },
   "outputs": [],
   "source": []
  }
 ],
 "metadata": {
  "anaconda-cloud": {},
  "kernelspec": {
   "display_name": "Python [default]",
   "language": "python",
   "name": "python3"
  },
  "language_info": {
   "codemirror_mode": {
    "name": "ipython",
    "version": 3
   },
   "file_extension": ".py",
   "mimetype": "text/x-python",
   "name": "python",
   "nbconvert_exporter": "python",
   "pygments_lexer": "ipython3",
   "version": "3.5.2"
  }
 },
 "nbformat": 4,
 "nbformat_minor": 1
}
