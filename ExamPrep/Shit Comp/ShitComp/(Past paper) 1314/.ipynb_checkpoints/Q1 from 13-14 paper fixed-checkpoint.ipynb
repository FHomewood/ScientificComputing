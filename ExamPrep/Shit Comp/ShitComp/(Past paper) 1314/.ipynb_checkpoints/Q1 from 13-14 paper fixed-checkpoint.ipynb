{
 "cells": [
  {
   "cell_type": "code",
   "execution_count": 3,
   "metadata": {
    "collapsed": false
   },
   "outputs": [
    {
     "name": "stdout",
     "output_type": "stream",
     "text": [
      "Time to fall 5000m is between:\n",
      "84.77 seconds; here y = 4999.55943887\n",
      "and\n",
      "84.78 seconds; here y = 5000.18147382\n"
     ]
    },
    {
     "data": {
      "image/png": "[encoded data removed]",
      "text/plain": [
       "<matplotlib.figure.Figure at 0x1a85161f320>"
      ]
     },
     "metadata": {},
     "output_type": "display_data"
    },
    {
     "name": "stdout",
     "output_type": "stream",
     "text": [
      "maximum speed is 62.1972747764\n"
     ]
    }
   ],
   "source": [
    "from scipy import integrate\n",
    "import numpy as np\n",
    "import matplotlib.pyplot as plt\n",
    "\n",
    "\n",
    "def sys(q,t):\n",
    "    yi = q[0]\n",
    "    xi = q[1]\n",
    "    f0 = xi\n",
    "    f1 = (g - ((cD/m)*(xi**2)))\n",
    "    return [f0,f1]\n",
    "    \n",
    "\n",
    "# Constants\n",
    "g =  9.80665\n",
    "cD =  0.2028\n",
    "m = 80\n",
    "\n",
    "# ICS\n",
    "x0 = 0\n",
    "y0 = 0\n",
    "ics = [y0,x0]\n",
    "\n",
    "t = np.linspace(0,100,10000) #I need to learn how to use this kind of code, was used in the lectures\n",
    "sol = integrate.odeint(sys,ics,t)#sol must be solution or solve, the : means everything. So all the data in the 0th column\n",
    "y = sol[:,0] \n",
    "x = sol[:,1]\n",
    "\n",
    "print (\"Time to fall 5000m is between:\")\n",
    "t5000_b1 = np.min(np.where(y>5000))-1\n",
    "t5000_b2 = np.min(np.where(y>5000))\n",
    "\n",
    "print ((str(t5000_b1/100)) + \" seconds; here y = \" + str(y[t5000_b1]))\n",
    "print (\"and\")\n",
    "print ((str(t5000_b2/100)) + \" seconds; here y = \" + str(y[t5000_b2]))\n",
    "\n",
    "plt.figure(0)\n",
    "plt.plot(t,x, label='Velocity')\n",
    "plt.legend(loc=4)\n",
    "plt.title('Skydiver velocity vs time')\n",
    "plt.xlabel(r'$t$')\n",
    "plt.ylabel(r'$v$')\n",
    "plt.plot()\n",
    "plt.show()\n",
    "\n",
    "xmax = np.max(x)\n",
    "print (\"maximum speed is \" + str(xmax))\n",
    "\n",
    "# and we are dooooon\n"
   ]
  },
  {
   "cell_type": "code",
   "execution_count": null,
   "metadata": {
    "collapsed": true
   },
   "outputs": [],
   "source": []
  }
 ],
 "metadata": {
  "anaconda-cloud": {},
  "kernelspec": {
   "display_name": "Python [default]",
   "language": "python",
   "name": "python3"
  },
  "language_info": {
   "codemirror_mode": {
    "name": "ipython",
    "version": 3
   },
   "file_extension": ".py",
   "mimetype": "text/x-python",
   "name": "python",
   "nbconvert_exporter": "python",
   "pygments_lexer": "ipython3",
   "version": "3.5.2"
  }
 },
 "nbformat": 4,
 "nbformat_minor": 1
}
