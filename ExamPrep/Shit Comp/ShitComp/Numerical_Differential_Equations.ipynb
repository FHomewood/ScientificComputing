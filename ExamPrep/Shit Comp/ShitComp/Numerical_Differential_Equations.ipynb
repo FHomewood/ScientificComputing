{
 "cells": [
  {
   "cell_type": "code",
   "execution_count": 5,
   "metadata": {
    "collapsed": false
   },
   "outputs": [
    {
     "name": "stdout",
     "output_type": "stream",
     "text": [
      "Populating the interactive namespace from numpy and matplotlib\n"
     ]
    },
    {
     "name": "stderr",
     "output_type": "stream",
     "text": [
      "WARNING: pylab import has clobbered these variables: ['f']\n",
      "`%matplotlib` prevents importing * from pylab and numpy\n"
     ]
    }
   ],
   "source": [
    "%pylab inline"
   ]
  },
  {
   "cell_type": "markdown",
   "metadata": {},
   "source": [
    "## Numerical differential equations\n",
    "\n",
    "**Problem**: Solve the logistic equation  \n",
    "$$\\frac{dy}{dt}=y(1-y)$$ with initial condition $y(0)=0.1$."
   ]
  },
  {
   "cell_type": "code",
   "execution_count": 6,
   "metadata": {
    "collapsed": false
   },
   "outputs": [
    {
     "ename": "SyntaxError",
     "evalue": "Missing parentheses in call to 'print' (printSoln.py, line 11)",
     "output_type": "error",
     "traceback": [
      "\u001b[0;36m  File \u001b[0;32m\"I:\\Users-2\\Users\\ShitComp with PDF textbook\\ShitComp\\printSoln.py\"\u001b[0;36m, line \u001b[0;32m11\u001b[0m\n\u001b[0;31m    print \"\\n        x  \",\u001b[0m\n\u001b[0m                        ^\u001b[0m\n\u001b[0;31mSyntaxError\u001b[0m\u001b[0;31m:\u001b[0m Missing parentheses in call to 'print'\n"
     ]
    }
   ],
   "source": [
    "# Import the required modules\n",
    "from numpy import array,zeros\n",
    "import scipy\n",
    "from scipy import integrate\n",
    "from printSoln import *\n",
    "from run_kut4 import *\n",
    "import pylab as pl"
   ]
  },
  {
   "cell_type": "code",
   "execution_count": 7,
   "metadata": {
    "collapsed": false
   },
   "outputs": [],
   "source": [
    "# First set up the right-hand side RHS) of the equation\n",
    "def f(x,y):\n",
    "    f=zeros(1)            # sets up RHS as a vector (here of just one element)\n",
    "    f[0]=y[0]*(1.0-y[0])  # RHS; note that y is also a vector\n",
    "    return f"
   ]
  },
  {
   "cell_type": "code",
   "execution_count": 8,
   "metadata": {
    "collapsed": false
   },
   "outputs": [
    {
     "ename": "TypeError",
     "evalue": "'module' object is not callable",
     "output_type": "error",
     "traceback": [
      "\u001b[0;31m---------------------------------------------------------------------------\u001b[0m",
      "\u001b[0;31mTypeError\u001b[0m                                 Traceback (most recent call last)",
      "\u001b[0;32m<ipython-input-8-3796bb6b68cc>\u001b[0m in \u001b[0;36m<module>\u001b[0;34m()\u001b[0m\n\u001b[1;32m      6\u001b[0m \u001b[0mfreq\u001b[0m \u001b[1;33m=\u001b[0m \u001b[1;36m1000\u001b[0m \u001b[1;31m# Printout frequency - print the result every 1000 steps\u001b[0m\u001b[1;33m\u001b[0m\u001b[0m\n\u001b[1;32m      7\u001b[0m \u001b[1;33m\u001b[0m\u001b[0m\n\u001b[0;32m----> 8\u001b[0;31m \u001b[0mX\u001b[0m\u001b[1;33m,\u001b[0m\u001b[0mY\u001b[0m \u001b[1;33m=\u001b[0m \u001b[0mintegrate\u001b[0m\u001b[1;33m(\u001b[0m\u001b[0mf\u001b[0m\u001b[1;33m,\u001b[0m\u001b[0mx\u001b[0m\u001b[1;33m,\u001b[0m\u001b[0my\u001b[0m\u001b[1;33m,\u001b[0m\u001b[0mxStop\u001b[0m\u001b[1;33m,\u001b[0m\u001b[0mh\u001b[0m\u001b[1;33m)\u001b[0m \u001b[1;31m# call the RK4 solver\u001b[0m\u001b[1;33m\u001b[0m\u001b[0m\n\u001b[0m\u001b[1;32m      9\u001b[0m \u001b[0mprintSoln\u001b[0m\u001b[1;33m(\u001b[0m\u001b[0mX\u001b[0m\u001b[1;33m,\u001b[0m\u001b[0mY\u001b[0m\u001b[1;33m,\u001b[0m\u001b[0mfreq\u001b[0m\u001b[1;33m)\u001b[0m            \u001b[1;31m# Print the solution (code on SD)\u001b[0m\u001b[1;33m\u001b[0m\u001b[0m\n\u001b[1;32m     10\u001b[0m \u001b[1;33m\u001b[0m\u001b[0m\n",
      "\u001b[0;31mTypeError\u001b[0m: 'module' object is not callable"
     ]
    }
   ],
   "source": [
    "# Example: using Runge-Kutta of 4th order\n",
    "x = 0.0 # Start of integration\n",
    "xStop = 5.0 # End of integration\n",
    "y = array([0.1]) # Initial value of {y}\n",
    "h = 0.001 # Step size\n",
    "freq = 1000 # Printout frequency - print the result every 1000 steps\n",
    "\n",
    "X,Y = integrate(f,x,y,xStop,h) # call the RK4 solver\n",
    "printSoln(X,Y,freq)            # Print the solution (code on SD)\n",
    "\n",
    "pl.plot(X,Y[:,0])              # Plot the solution\n",
    "pl.xlabel('Time')\n",
    "pl.ylabel('Population')\n",
    "pl.show()\n"
   ]
  },
  {
   "cell_type": "code",
   "execution_count": 9,
   "metadata": {
    "collapsed": true
   },
   "outputs": [],
   "source": [
    "# Same example equation solved with the internal solver\n",
    "\n",
    "# First set up the right-hand side RHS) of the equation\n",
    "# NOTE THE DIFFERENT ORDER OF THE FUNCTION ARGUMENTS COMPARED TO ABOVE\n",
    "def g(y,x):\n",
    "    g=zeros(1)            # sets up RHS as a vector \n",
    "    g[0]=y[0]*(1.0-y[0])  # RHS; note that y is also a vector\n",
    "    return g"
   ]
  },
  {
   "cell_type": "code",
   "execution_count": 10,
   "metadata": {
    "collapsed": false
   },
   "outputs": [
    {
     "ename": "NameError",
     "evalue": "name 'pl' is not defined",
     "output_type": "error",
     "traceback": [
      "\u001b[0;31m---------------------------------------------------------------------------\u001b[0m",
      "\u001b[0;31mNameError\u001b[0m                                 Traceback (most recent call last)",
      "\u001b[0;32m<ipython-input-10-088f51313a10>\u001b[0m in \u001b[0;36m<module>\u001b[0;34m()\u001b[0m\n\u001b[1;32m      6\u001b[0m \u001b[0mz\u001b[0m\u001b[1;33m=\u001b[0m\u001b[0mz\u001b[0m\u001b[1;33m.\u001b[0m\u001b[0mreshape\u001b[0m\u001b[1;33m(\u001b[0m\u001b[0mnp\u001b[0m\u001b[1;33m.\u001b[0m\u001b[0msize\u001b[0m\u001b[1;33m(\u001b[0m\u001b[0mx\u001b[0m\u001b[1;33m)\u001b[0m\u001b[1;33m)\u001b[0m          \u001b[1;31m# reformat the answer\u001b[0m\u001b[1;33m\u001b[0m\u001b[0m\n\u001b[1;32m      7\u001b[0m \u001b[1;33m\u001b[0m\u001b[0m\n\u001b[0;32m----> 8\u001b[0;31m \u001b[0mpl\u001b[0m\u001b[1;33m.\u001b[0m\u001b[0mplot\u001b[0m\u001b[1;33m(\u001b[0m\u001b[0mx\u001b[0m\u001b[1;33m,\u001b[0m\u001b[0mz\u001b[0m\u001b[1;33m)\u001b[0m              \u001b[1;31m# Plot the solution\u001b[0m\u001b[1;33m\u001b[0m\u001b[0m\n\u001b[0m\u001b[1;32m      9\u001b[0m \u001b[0mpl\u001b[0m\u001b[1;33m.\u001b[0m\u001b[0mxlabel\u001b[0m\u001b[1;33m(\u001b[0m\u001b[1;34m'Time'\u001b[0m\u001b[1;33m)\u001b[0m\u001b[1;33m\u001b[0m\u001b[0m\n\u001b[1;32m     10\u001b[0m \u001b[0mpl\u001b[0m\u001b[1;33m.\u001b[0m\u001b[0mylabel\u001b[0m\u001b[1;33m(\u001b[0m\u001b[1;34m'Population'\u001b[0m\u001b[1;33m)\u001b[0m\u001b[1;33m\u001b[0m\u001b[0m\n",
      "\u001b[0;31mNameError\u001b[0m: name 'pl' is not defined"
     ]
    }
   ],
   "source": [
    "x=np.linspace(0,5,100) # where do we want the solution\n",
    "\n",
    "y0=array([0.1])        # initial condition\n",
    "\n",
    "z=scipy.integrate.odeint(g,y0,x) # call the solver\n",
    "z=z.reshape(np.size(x))          # reformat the answer\n",
    "\n",
    "pl.plot(x,z)              # Plot the solution\n",
    "pl.xlabel('Time')\n",
    "pl.ylabel('Population')\n",
    "pl.show()"
   ]
  },
  {
   "cell_type": "markdown",
   "metadata": {},
   "source": [
    "## Systems of equations \n",
    "\n",
    "** Problem ** Solve the predator-prey equations (presented in class):\n",
    "\n",
    "\\begin{eqnarray}\n",
    "\\frac{dN}{dt}&=&N(a-bP)\\\\\n",
    "\\frac{dP}{dt}&=&P(cN-d)\n",
    "\\end{eqnarray}\n",
    "\n",
    "where $a=c=1$, $b=d=2$ and with initial conditions $N(0)=0.1$, $P(0)=0.03$."
   ]
  },
  {
   "cell_type": "code",
   "execution_count": 3,
   "metadata": {
    "collapsed": false
   },
   "outputs": [
    {
     "ename": "NameError",
     "evalue": "name 'integrate' is not defined",
     "output_type": "error",
     "traceback": [
      "\u001b[0;31m---------------------------------------------------------------------------\u001b[0m",
      "\u001b[0;31mNameError\u001b[0m                                 Traceback (most recent call last)",
      "\u001b[0;32m<ipython-input-3-c8e24483d569>\u001b[0m in \u001b[0;36m<module>\u001b[0;34m()\u001b[0m\n\u001b[1;32m     14\u001b[0m \u001b[0mh\u001b[0m \u001b[1;33m=\u001b[0m \u001b[1;36m0.05\u001b[0m \u001b[1;31m# Step size\u001b[0m\u001b[1;33m\u001b[0m\u001b[0m\n\u001b[1;32m     15\u001b[0m \u001b[0mfreq\u001b[0m \u001b[1;33m=\u001b[0m \u001b[1;36m20\u001b[0m \u001b[1;31m# Printout frequency\u001b[0m\u001b[1;33m\u001b[0m\u001b[0m\n\u001b[0;32m---> 16\u001b[0;31m \u001b[0mX\u001b[0m\u001b[1;33m,\u001b[0m\u001b[0mY\u001b[0m \u001b[1;33m=\u001b[0m \u001b[0mintegrate\u001b[0m\u001b[1;33m(\u001b[0m\u001b[0mF\u001b[0m\u001b[1;33m,\u001b[0m\u001b[0mx\u001b[0m\u001b[1;33m,\u001b[0m\u001b[0my\u001b[0m\u001b[1;33m,\u001b[0m\u001b[0mxStop\u001b[0m\u001b[1;33m,\u001b[0m\u001b[0mh\u001b[0m\u001b[1;33m)\u001b[0m\u001b[1;33m\u001b[0m\u001b[0m\n\u001b[0m\u001b[1;32m     17\u001b[0m \u001b[0mprintSoln\u001b[0m\u001b[1;33m(\u001b[0m\u001b[0mX\u001b[0m\u001b[1;33m,\u001b[0m\u001b[0mY\u001b[0m\u001b[1;33m,\u001b[0m\u001b[0mfreq\u001b[0m\u001b[1;33m)\u001b[0m\u001b[1;33m\u001b[0m\u001b[0m\n\u001b[1;32m     18\u001b[0m \u001b[0mpl\u001b[0m\u001b[1;33m.\u001b[0m\u001b[0mplot\u001b[0m\u001b[1;33m(\u001b[0m\u001b[0mX\u001b[0m\u001b[1;33m,\u001b[0m\u001b[0mY\u001b[0m\u001b[1;33m[\u001b[0m\u001b[1;33m:\u001b[0m\u001b[1;33m,\u001b[0m\u001b[1;36m0\u001b[0m\u001b[1;33m]\u001b[0m\u001b[1;33m,\u001b[0m\u001b[0mlabel\u001b[0m\u001b[1;33m=\u001b[0m\u001b[1;34m'Rabbit population'\u001b[0m\u001b[1;33m)\u001b[0m\u001b[1;33m\u001b[0m\u001b[0m\n",
      "\u001b[0;31mNameError\u001b[0m: name 'integrate' is not defined"
     ]
    }
   ],
   "source": [
    "import numpy as np\n",
    "\n",
    "# Define right-hand sides of equations (into a vector!). \n",
    "# 'y', containing all functions to be solved for, is also a vector \n",
    "def F(x,y,a=1.0,b=2.0,c=1.0,d=2.0):\n",
    "    F = zeros(2)\n",
    "    F[0] = y[0]*(a-b*y[1])\n",
    "    F[1] = y[1]*(c*y[0]-d)\n",
    "    return F\n",
    "\n",
    "x = 0.0 # Start of integration\n",
    "xStop = 10.0 # End of integration\n",
    "y = np.array([0.1, 0.03]) # Initial values of {y}\n",
    "h = 0.05 # Step size\n",
    "freq = 20 # Printout frequency\n",
    "X,Y = integrate(F,x,y,xStop,h)\n",
    "printSoln(X,Y,freq)\n",
    "pl.plot(X,Y[:,0],label='Rabbit population')\n",
    "pl.plot(X,Y[:,1],label='Fox population')\n",
    "pl.xlabel('Time')\n",
    "pl.legend()\n",
    "pl.show()\n"
   ]
  },
  {
   "cell_type": "markdown",
   "metadata": {},
   "source": [
    "## Stiff equation example\n",
    "\n",
    "** Problem ** Solve the equation modelling flame propagation\n",
    "$$\\dot{y}=y^2-y^3$$\n",
    "for $0\\leq t\\leq 2/\\delta$, $y(0)=\\delta$ and $\\delta=0.001$."
   ]
  },
  {
   "cell_type": "code",
   "execution_count": 28,
   "metadata": {
    "collapsed": false
   },
   "outputs": [
    {
     "data": {
      "image/png": "[encoded data removed]",
      "text/plain": [
       "<matplotlib.figure.Figure at 0x2b643ef2bb90>"
      ]
     },
     "metadata": {},
     "output_type": "display_data"
    }
   ],
   "source": [
    "# Define the right hand side\n",
    "def f(y,t):\n",
    "    return y**2-y**3\n",
    "\n",
    "# Parameter\n",
    "delta=0.001\n",
    "# Where do we want the solution?\n",
    "x=np.linspace(0,2.0/delta,100)\n",
    "# Call the solver\n",
    "z=scipy.integrate.odeint(f,delta,x)\n",
    "z=z.reshape(np.size(x))          # reformat the answer\n",
    "\n",
    "pl.plot(x,z)              # Plot the solution\n",
    "pl.xlabel('Time')\n",
    "pl.ylabel('Position')\n",
    "pl.show()"
   ]
  },
  {
   "cell_type": "code",
   "execution_count": null,
   "metadata": {
    "collapsed": true
   },
   "outputs": [],
   "source": []
  }
 ],
 "metadata": {
  "kernelspec": {
   "display_name": "Python [conda root]",
   "language": "python",
   "name": "conda-root-py"
  },
  "language_info": {
   "codemirror_mode": {
    "name": "ipython",
    "version": 3
   },
   "file_extension": ".py",
   "mimetype": "text/x-python",
   "name": "python",
   "nbconvert_exporter": "python",
   "pygments_lexer": "ipython3",
   "version": "3.5.2"
  }
 },
 "nbformat": 4,
 "nbformat_minor": 0
}
