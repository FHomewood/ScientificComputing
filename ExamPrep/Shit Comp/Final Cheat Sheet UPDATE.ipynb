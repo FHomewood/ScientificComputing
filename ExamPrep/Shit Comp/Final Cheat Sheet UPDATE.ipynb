{
 "cells": [
  {
   "cell_type": "code",
   "execution_count": 1,
   "metadata": {
    "collapsed": false
   },
   "outputs": [],
   "source": [
    "import numpy"
   ]
  },
  {
   "cell_type": "code",
   "execution_count": 17,
   "metadata": {
    "collapsed": false
   },
   "outputs": [
    {
     "name": "stdout",
     "output_type": "stream",
     "text": [
      "Populating the interactive namespace from numpy and matplotlib\n"
     ]
    }
   ],
   "source": [
    "%pylab inline"
   ]
  },
  {
   "cell_type": "code",
   "execution_count": 2,
   "metadata": {
    "collapsed": false
   },
   "outputs": [
    {
     "data": {
      "text/plain": [
       "u'C:\\\\Users\\\\mps27\\\\Documents'"
      ]
     },
     "execution_count": 2,
     "metadata": {},
     "output_type": "execute_result"
    }
   ],
   "source": [
    "pwd #import crap with this"
   ]
  },
  {
   "cell_type": "markdown",
   "metadata": {},
   "source": [
    "$$ Making-Matricies $$"
   ]
  },
  {
   "cell_type": "code",
   "execution_count": 3,
   "metadata": {
    "collapsed": false
   },
   "outputs": [
    {
     "name": "stdout",
     "output_type": "stream",
     "text": [
      "[[ 2.  1.]\n",
      " [ 3.  4.]]\n"
     ]
    }
   ],
   "source": [
    "from numpy import array,float\n",
    "a=array([[2.0,1.0],[3.0,4.0]])\n",
    "print(a)"
   ]
  },
  {
   "cell_type": "code",
   "execution_count": 4,
   "metadata": {
    "collapsed": false
   },
   "outputs": [
    {
     "name": "stdout",
     "output_type": "stream",
     "text": [
      "[[ 0.  0.]\n",
      " [ 0.  0.]]\n"
     ]
    }
   ],
   "source": [
    "b=(numpy.zeros((2,2)))\n",
    "print (b)"
   ]
  },
  {
   "cell_type": "code",
   "execution_count": 5,
   "metadata": {
    "collapsed": false
   },
   "outputs": [
    {
     "name": "stdout",
     "output_type": "stream",
     "text": [
      "[10 12 14 16 18]\n"
     ]
    }
   ],
   "source": [
    "c=(numpy.arange(10,20,2))\n",
    "print (c)"
   ]
  },
  {
   "cell_type": "code",
   "execution_count": 6,
   "metadata": {
    "collapsed": false
   },
   "outputs": [
    {
     "name": "stdout",
     "output_type": "stream",
     "text": [
      "[[ 0.  1.  2.]\n",
      " [ 3.  4.  5.]\n",
      " [ 6.  7.  8.]]\n"
     ]
    }
   ],
   "source": [
    "d = numpy.linspace(0,8,9).reshape(3,3)\n",
    "print(d)"
   ]
  },
  {
   "cell_type": "code",
   "execution_count": 7,
   "metadata": {
    "collapsed": false
   },
   "outputs": [
    {
     "name": "stdout",
     "output_type": "stream",
     "text": [
      "[[ 2.  3.  5.]\n",
      " [ 3.  6.  5.]\n",
      " [ 8. -3.  8.]]\n"
     ]
    }
   ],
   "source": [
    "d[0]=[2,3,5]    # Change a row\n",
    "d[1,1]=6        # Change an element\n",
    "d[2,0:2]=[8,-3] # Change part of a row\n",
    "print(d)"
   ]
  },
  {
   "cell_type": "markdown",
   "metadata": {},
   "source": [
    "$$ Creating-matricies-of-functions $$"
   ]
  },
  {
   "cell_type": "code",
   "execution_count": 19,
   "metadata": {
    "collapsed": true
   },
   "outputs": [],
   "source": [
    "def f(x):\n",
    "  return x**3     # sample function\n",
    "\n",
    "n = 5           # no of points in [0,1]\n",
    "dx = 1.0/(n-1)  # x spacing\n",
    "xlist = [i*dx for i in range(n)]\n",
    "ylist = [f(x) for x in xlist]"
   ]
  },
  {
   "cell_type": "code",
   "execution_count": 20,
   "metadata": {
    "collapsed": false
   },
   "outputs": [
    {
     "name": "stdout",
     "output_type": "stream",
     "text": [
      "(array([ 0.  ,  0.25,  0.5 ,  0.75,  1.  ]), array([ 0.      ,  0.015625,  0.125   ,  0.421875,  1.      ]))\n"
     ]
    }
   ],
   "source": [
    "import numpy as np\n",
    "x2 = np.array(xlist)\n",
    "y2 = np.array(ylist)\n",
    "print(x2,y2)"
   ]
  },
  {
   "cell_type": "code",
   "execution_count": 21,
   "metadata": {
    "collapsed": false
   },
   "outputs": [
    {
     "name": "stdout",
     "output_type": "stream",
     "text": [
      "(array([ 0.  ,  0.25,  0.5 ,  0.75,  1.  ]), array([ 0.      ,  0.015625,  0.125   ,  0.421875,  1.      ]))\n"
     ]
    }
   ],
   "source": [
    "n = 5                     # number of points\n",
    "x3 = np.linspace(0, 1, n) # n points in [0, 1]\n",
    "y3 = np.zeros(n)          # n zeros (float data type)\n",
    "for i in xrange(n):\n",
    "     y3[i] = f(x3[i])\n",
    "print(x3,y3)"
   ]
  },
  {
   "cell_type": "code",
   "execution_count": 22,
   "metadata": {
    "collapsed": false
   },
   "outputs": [
    {
     "ename": "NameError",
     "evalue": "name 'A' is not defined",
     "output_type": "error",
     "traceback": [
      "\u001b[1;31m---------------------------------------------------------------------------\u001b[0m",
      "\u001b[1;31mNameError\u001b[0m                                 Traceback (most recent call last)",
      "\u001b[1;32m<ipython-input-22-f251aca55c24>\u001b[0m in \u001b[0;36m<module>\u001b[1;34m()\u001b[0m\n\u001b[0;32m      1\u001b[0m \u001b[1;32mfrom\u001b[0m \u001b[0mnumpy\u001b[0m\u001b[1;33m.\u001b[0m\u001b[0mlinalg\u001b[0m \u001b[1;32mimport\u001b[0m \u001b[0minv\u001b[0m\u001b[1;33m,\u001b[0m\u001b[0msolve\u001b[0m\u001b[1;33m\u001b[0m\u001b[0m\n\u001b[1;32m----> 2\u001b[1;33m \u001b[1;32mprint\u001b[0m\u001b[1;33m(\u001b[0m\u001b[0minv\u001b[0m\u001b[1;33m(\u001b[0m\u001b[0mA\u001b[0m\u001b[1;33m)\u001b[0m\u001b[1;33m)\u001b[0m \u001b[1;31m# Matrix inverse\u001b[0m\u001b[1;33m\u001b[0m\u001b[0m\n\u001b[0m\u001b[0;32m      3\u001b[0m \u001b[1;32mprint\u001b[0m\u001b[1;33m(\u001b[0m\u001b[0msolve\u001b[0m\u001b[1;33m(\u001b[0m\u001b[0mA\u001b[0m\u001b[1;33m,\u001b[0m\u001b[0mb\u001b[0m\u001b[1;33m)\u001b[0m\u001b[1;33m)\u001b[0m \u001b[1;31m# Solve the system of equations [A]{x} = {b}\u001b[0m\u001b[1;33m\u001b[0m\u001b[0m\n",
      "\u001b[1;31mNameError\u001b[0m: name 'A' is not defined"
     ]
    }
   ],
   "source": [
    "from numpy.linalg import inv,solve\n",
    "print(inv(A)) # Matrix inverse\n",
    "print(solve(A,b)) # Solve the system of equations [A]{x} = {b}"
   ]
  },
  {
   "cell_type": "markdown",
   "metadata": {},
   "source": [
    "$$ Plotting $$"
   ]
  },
  {
   "cell_type": "code",
   "execution_count": 34,
   "metadata": {
    "collapsed": true
   },
   "outputs": [],
   "source": [
    "import numpy as np\n",
    "import matplotlib.pyplot as plt"
   ]
  },
  {
   "cell_type": "code",
   "execution_count": 39,
   "metadata": {
    "collapsed": false
   },
   "outputs": [],
   "source": [
    "def f(x):\n",
    "    return x**2\n",
    "dx = 1\n",
    "x0 = [i*dx for i in range (-5,6)]\n",
    "y = [f(x) for x in x0]"
   ]
  },
  {
   "cell_type": "code",
   "execution_count": 40,
   "metadata": {
    "collapsed": false
   },
   "outputs": [
    {
     "name": "stdout",
     "output_type": "stream",
     "text": [
      "(array([-5, -4, -3, -2, -1,  0,  1,  2,  3,  4,  5]), array([25, 16,  9,  4,  1,  0,  1,  4,  9, 16, 25]))\n"
     ]
    }
   ],
   "source": [
    "x1 = np.array(x0)\n",
    "y1 = np.array(y)\n",
    "print (x1,y1)"
   ]
  },
  {
   "cell_type": "markdown",
   "metadata": {},
   "source": [
    "$$ Fitting-data-to-graphs $$"
   ]
  },
  {
   "cell_type": "code",
   "execution_count": 53,
   "metadata": {
    "collapsed": false
   },
   "outputs": [
    {
     "data": {
      "image/png": "[encoded data removed]",
      "text/plain": [
       "<matplotlib.figure.Figure at 0x7e488d0>"
      ]
     },
     "metadata": {},
     "output_type": "display_data"
    }
   ],
   "source": [
    "plt.plot(x1,y1,':rs') #:rs = dotted red squares\n",
    "plt.xlabel(\"X crap\")\n",
    "plt.ylabel(\"Y crap\")\n",
    "plt.axis([-6,6,-1,30])\n",
    "plt.legend('$$')\n",
    "plt.show()"
   ]
  },
  {
   "cell_type": "markdown",
   "metadata": {},
   "source": [
    "$$ Plotting:Ae^{-kx}*cos(2pi*nu*x) $$"
   ]
  },
  {
   "cell_type": "code",
   "execution_count": 54,
   "metadata": {
    "collapsed": false
   },
   "outputs": [],
   "source": [
    "#parameters\n",
    "A, nu, k = 10, 4, 2\n",
    "\n",
    "#function for creating the data points to be interpolated\n",
    "def f(x, A, nu, k):\n",
    "    return A * np.exp(-k*x) * np.cos(2*np.pi * nu * x)\n",
    "\n",
    "#create the data points to be interpolated\n",
    "xmax, nx = 0.5, 8 \n",
    "x = np.linspace(0, xmax, nx) #(starting point, end point, number of points)\n",
    "y = f(x, A, nu, k)  #X and Y are the data points"
   ]
  },
  {
   "cell_type": "code",
   "execution_count": 55,
   "metadata": {
    "collapsed": true
   },
   "outputs": [],
   "source": [
    "#Polynomial Fit\n",
    "#generate the points where we want to evaluate the interpolating functions\n",
    "x0 = np.linspace(0, xmax, 100)\n",
    "\n",
    "#polynomial interpolation - this gives vector y where the polynomial is already evaluated\n",
    "y0 = barycentric_interpolate(x, y, x0) #X0 and Y0 are polynomial fitted data"
   ]
  },
  {
   "cell_type": "code",
   "execution_count": 56,
   "metadata": {
    "collapsed": true
   },
   "outputs": [],
   "source": [
    "# splines: linear and cubic\n",
    "f_linear  = interp1d(x, y)\n",
    "f_cubic   = interp1d(x, y, kind='cubic')"
   ]
  },
  {
   "cell_type": "code",
   "execution_count": 57,
   "metadata": {
    "collapsed": false
   },
   "outputs": [
    {
     "data": {
      "image/png": "[encoded data removed]",
      "text/plain": [
       "<matplotlib.figure.Figure at 0x80e1518>"
      ]
     },
     "metadata": {},
     "output_type": "display_data"
    }
   ],
   "source": [
    "#plot all results and the original data\n",
    "pylab.plot(x, y, 'o', label='data points')\n",
    "\n",
    "pylab.plot(x0, y0, label='polynomial')\n",
    "\n",
    "pylab.plot(x0, f_linear(x0), label='linear')\n",
    "\n",
    "pylab.plot(x0, f_cubic(x0), label='cubic')\n",
    "\n",
    "pylab.legend()\n",
    "pylab.show()"
   ]
  },
  {
   "cell_type": "markdown",
   "metadata": {
    "collapsed": true
   },
   "source": [
    "$$ Solving-Equations $$"
   ]
  },
  {
   "cell_type": "code",
   "execution_count": 59,
   "metadata": {
    "collapsed": false
   },
   "outputs": [
    {
     "data": {
      "text/plain": [
       "u'C:\\\\Users\\\\mps27\\\\Documents'"
      ]
     },
     "execution_count": 59,
     "metadata": {},
     "output_type": "execute_result"
    }
   ],
   "source": [
    "pwd\n"
   ]
  },
  {
   "cell_type": "code",
   "execution_count": 60,
   "metadata": {
    "collapsed": true
   },
   "outputs": [],
   "source": [
    "from bisection import *\n",
    "from ridder import *"
   ]
  },
  {
   "cell_type": "code",
   "execution_count": 61,
   "metadata": {
    "collapsed": false
   },
   "outputs": [],
   "source": [
    "# Import the required modules\n",
    "import numpy as np\n",
    "import pylab as pl\n",
    "import scipy as sci\n",
    "from scipy import optimize\n",
    "from newtonRaphson import *"
   ]
  },
  {
   "cell_type": "code",
   "execution_count": 62,
   "metadata": {
    "collapsed": false
   },
   "outputs": [],
   "source": [
    "# First set up the system of equations - note that it is a vector of equations!\n",
    "def f(x):\n",
    "    return np.array([x[0]**2+x[1]**2-3,x[0]*x[1]-1])\n",
    "# Initial guess for the roots (e.g. from plotting the two functions) - again a vector\n",
    "x0=np.array([0.5,1.5])"
   ]
  },
  {
   "cell_type": "code",
   "execution_count": 63,
   "metadata": {
    "collapsed": false
   },
   "outputs": [
    {
     "name": "stdout",
     "output_type": "stream",
     "text": [
      "[ 0.61803399  1.61803399]\n"
     ]
    }
   ],
   "source": [
    "roots_solve=sci.optimize.fsolve(f,x0)\n",
    "print(roots_solve)"
   ]
  },
  {
   "cell_type": "markdown",
   "metadata": {
    "collapsed": true
   },
   "source": [
    "$$ Intergrating $$"
   ]
  },
  {
   "cell_type": "code",
   "execution_count": 64,
   "metadata": {
    "collapsed": true
   },
   "outputs": [],
   "source": [
    "import scipy\n",
    "from scipy import integrate\n",
    "from pylab import *\n",
    "from scipy import interpolate, optimize\n",
    "from numpy import *"
   ]
  },
  {
   "cell_type": "code",
   "execution_count": 65,
   "metadata": {
    "collapsed": false
   },
   "outputs": [],
   "source": [
    "def f(t):\n",
    "    return -t**(2.0)+(3.0)*t+3.0"
   ]
  },
  {
   "cell_type": "code",
   "execution_count": 66,
   "metadata": {
    "collapsed": true
   },
   "outputs": [],
   "source": [
    "from trapezoid import *\n",
    "from romberg import *"
   ]
  },
  {
   "cell_type": "code",
   "execution_count": 67,
   "metadata": {
    "collapsed": false
   },
   "outputs": [
    {
     "data": {
      "text/plain": [
       "-19.833333333333332"
      ]
     },
     "execution_count": 67,
     "metadata": {},
     "output_type": "execute_result"
    }
   ],
   "source": [
    "scipy.integrate.romberg(f,-4.0,3.0)"
   ]
  },
  {
   "cell_type": "code",
   "execution_count": 68,
   "metadata": {
    "collapsed": false
   },
   "outputs": [
    {
     "data": {
      "text/plain": [
       "(-19.833333333333336, 5.492400699398068e-13)"
      ]
     },
     "execution_count": 68,
     "metadata": {},
     "output_type": "execute_result"
    }
   ],
   "source": [
    "scipy.integrate.quad(f,-4.0,3.0)"
   ]
  },
  {
   "cell_type": "code",
   "execution_count": 69,
   "metadata": {
    "collapsed": false
   },
   "outputs": [
    {
     "name": "stdout",
     "output_type": "stream",
     "text": [
      "('Trapezoid method result: ', -19.833176454127965)\n"
     ]
    }
   ],
   "source": [
    "#Trapezoid method example\n",
    "r = zeros(21) # we will be storing the results here\n",
    "r[1] = trapezoid(f,1.0,3.0,1.0,3) # first call is special, since no  \n",
    "                                            # result to be refined yet exists\n",
    "for k in range(2,21):\n",
    "    r[k] = trapezoid(f,-4.0,3.0,r[k-1],k) # refinements of the answer using ever more points \n",
    "    \n",
    "result=r[20]\n",
    "print('Trapezoid method result: ',result)"
   ]
  },
  {
   "cell_type": "code",
   "execution_count": 81,
   "metadata": {
    "collapsed": false
   },
   "outputs": [
    {
     "data": {
      "text/plain": [
       "(-6944.194444444447, 7.709797157483647e-11)"
      ]
     },
     "execution_count": 81,
     "metadata": {},
     "output_type": "execute_result"
    }
   ],
   "source": [
    "scipy.integrate.dblquad(f,-4.0,3.0,lambda x:0,lambda x:x**2) #wut how work wut"
   ]
  },
  {
   "cell_type": "markdown",
   "metadata": {},
   "source": [
    "$$ Solving-Differential-Equations $$"
   ]
  },
  {
   "cell_type": "code",
   "execution_count": 73,
   "metadata": {
    "collapsed": true
   },
   "outputs": [],
   "source": [
    "from printSoln import *\n",
    "from run_kut4 import *\n",
    "import pylab as pl"
   ]
  },
  {
   "cell_type": "code",
   "execution_count": 74,
   "metadata": {
    "collapsed": true
   },
   "outputs": [],
   "source": [
    "# First set up the right-hand side RHS) of the equation\n",
    "def f(x,y):\n",
    "    f=zeros(1)            # sets up RHS as a vector (here of just one element)\n",
    "    f[0]=y[0]*(1.0-y[0])  # RHS; note that y is also a vector\n",
    "    return f"
   ]
  },
  {
   "cell_type": "code",
   "execution_count": 76,
   "metadata": {
    "collapsed": false
   },
   "outputs": [
    {
     "name": "stdout",
     "output_type": "stream",
     "text": [
      "\n",
      "        x         y[ 0 ] \n",
      "   0.0000e+00    1.0000e-01\n",
      "   1.0000e+00    2.3197e-01\n",
      "   2.0000e+00    4.5085e-01\n",
      "   3.0000e+00    6.9057e-01\n",
      "   4.0000e+00    8.5849e-01\n",
      "   5.0000e+00    9.4283e-01\n"
     ]
    },
    {
     "data": {
      "image/png": "[encoded data removed]",
      "text/plain": [
       "<matplotlib.figure.Figure at 0x81d3358>"
      ]
     },
     "metadata": {},
     "output_type": "display_data"
    }
   ],
   "source": [
    "# For solving a first order differential equation\n",
    "# Example: using Runge-Kutta of 4th order\n",
    "x = 0.0 #Integration Start Limit\n",
    "xStop = 5.0 #Integration End Limit\n",
    "\n",
    "y = array([0.1]) # Initial value of\n",
    "\n",
    "h = 0.001 # Step size\n",
    "freq = 1000 # Printout frequency - print the result every 1000 steps\n",
    "\n",
    "X,Y = integrate(f,x,y,xStop,h) # call the RK4 solver\n",
    "printSoln(X,Y,freq)            # Print the solution (code on SD)\n",
    "\n",
    "pl.plot(X,Y[:,0])              # Plot the solution\n",
    "pl.xlabel('Time')\n",
    "pl.ylabel('Population')\n",
    "pl.show()"
   ]
  },
  {
   "cell_type": "code",
   "execution_count": 77,
   "metadata": {
    "collapsed": true
   },
   "outputs": [],
   "source": [
    "# For solving a first order differential equation\n",
    "# Same example equation solved with the internal solver\n",
    "\n",
    "# First set up the right-hand side RHS) of the equation\n",
    "# NOTE THE DIFFERENT ORDER OF THE FUNCTION ARGUMENTS COMPARED TO ABOVE\n",
    "def g(y,x):\n",
    "    g=zeros(1)            # sets up RHS as a vector \n",
    "    g[0]=y[0]*(1.0-y[0])  # RHS; note that y is also a vector\n",
    "    return g"
   ]
  },
  {
   "cell_type": "code",
   "execution_count": 78,
   "metadata": {
    "collapsed": false
   },
   "outputs": [
    {
     "data": {
      "image/png": "[encoded data removed]",
      "text/plain": [
       "<matplotlib.figure.Figure at 0x81d34e0>"
      ]
     },
     "metadata": {},
     "output_type": "display_data"
    }
   ],
   "source": [
    "x=np.linspace(0,5,100) # where do we want the solution\n",
    "\n",
    "y0=array([0.1])        # initial condition\n",
    "\n",
    "z=scipy.integrate.odeint(g,y0,x) # call the solver\n",
    "z=z.reshape(np.size(x))          # reformat the answer\n",
    "\n",
    "pl.plot(x,z)              # Plot the solution\n",
    "pl.xlabel('Time')\n",
    "pl.ylabel('Population')\n",
    "pl.show()"
   ]
  },
  {
   "cell_type": "code",
   "execution_count": 79,
   "metadata": {
    "collapsed": false
   },
   "outputs": [
    {
     "name": "stdout",
     "output_type": "stream",
     "text": [
      "\n",
      "        x         y[ 0 ]        y[ 1 ] \n",
      "   0.0000e+00    1.0000e-01    3.0000e-02\n",
      "   1.0000e+00    2.6454e-01    4.8052e-03\n",
      "   2.0000e+00    7.1571e-01    1.0230e-03\n",
      "   3.0000e+00    1.9430e+00    4.7308e-04\n",
      "   4.0000e+00    5.2735e+00    1.7999e-03\n",
      "   5.0000e+00    1.0558e+01    1.3727e+00\n",
      "   6.0000e+00    5.9415e-02    1.4783e+00\n",
      "   7.0000e+00    4.4089e-02    2.0868e-01\n",
      "   8.0000e+00    9.9717e-02    3.0180e-02\n",
      "   9.0000e+00    2.6375e-01    4.8316e-03\n",
      "   1.0000e+01    7.1355e-01    1.0272e-03\n"
     ]
    },
    {
     "data": {
      "image/png": "[encoded data removed]",
      "text/plain": [
       "<matplotlib.figure.Figure at 0xc7c7f98>"
      ]
     },
     "metadata": {},
     "output_type": "display_data"
    }
   ],
   "source": [
    "# For solving two interlinked differential equations\n",
    "# Define right-hand sides of equations (into a vector!). \n",
    "# 'y', containing all functions to be solved for, is also a vector \n",
    "def F(x,y,a=1.0,b=2.0,c=1.0,d=2.0):\n",
    "    F = zeros(2)\n",
    "    F[0] = y[0]*(a-b*y[1])\n",
    "    F[1] = y[1]*(c*y[0]-d)\n",
    "    return F\n",
    "\n",
    "x = 0.0 # Start of integration\n",
    "xStop = 10.0 # End of integration\n",
    "y = array([0.1, 0.03]) # Initial values of {y}\n",
    "h = 0.05 # Step size\n",
    "freq = 20 # Printout frequency\n",
    "X,Y = integrate(F,x,y,xStop,h)\n",
    "printSoln(X,Y,freq)\n",
    "pl.plot(X,Y[:,0],label='Rabbit population')\n",
    "pl.plot(X,Y[:,1],label='Fox population')\n",
    "pl.xlabel('Time')\n",
    "pl.legend()\n",
    "pl.show()"
   ]
  },
  {
   "cell_type": "code",
   "execution_count": 80,
   "metadata": {
    "collapsed": false
   },
   "outputs": [
    {
     "data": {
      "image/png": "[encoded data removed]",
      "text/plain": [
       "<matplotlib.figure.Figure at 0xc6d3b70>"
      ]
     },
     "metadata": {},
     "output_type": "display_data"
    }
   ],
   "source": [
    "# Define the right hand side\n",
    "def f(y,t):\n",
    "    return y**2-y**3\n",
    "\n",
    "# Parameter\n",
    "delta=0.001\n",
    "# Where do we want the solution?\n",
    "x=np.linspace(0,2./delta,100)\n",
    "# Call the solver\n",
    "z=scipy.integrate.odeint(f,delta,x)\n",
    "z=z.reshape(np.size(x))          # reformat the answer\n",
    "\n",
    "pl.plot(x,z)              # Plot the solution\n",
    "pl.xlabel('Time')\n",
    "pl.ylabel('Position')\n",
    "pl.show()"
   ]
  },
  {
   "cell_type": "code",
   "execution_count": null,
   "metadata": {
    "collapsed": true
   },
   "outputs": [],
   "source": []
  }
 ],
 "metadata": {
  "anaconda-cloud": {},
  "kernelspec": {
   "display_name": "Python [Root]",
   "language": "python",
   "name": "Python [Root]"
  },
  "language_info": {
   "codemirror_mode": {
    "name": "ipython",
    "version": 2
   },
   "file_extension": ".py",
   "mimetype": "text/x-python",
   "name": "python",
   "nbconvert_exporter": "python",
   "pygments_lexer": "ipython2",
   "version": "2.7.11"
  }
 },
 "nbformat": 4,
 "nbformat_minor": 1
}
