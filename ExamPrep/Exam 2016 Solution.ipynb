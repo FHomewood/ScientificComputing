{
 "cells": [
  {
   "cell_type": "markdown",
   "metadata": {},
   "source": [
    "# Question 1\n",
    "## (i)\n"
   ]
  },
  {
   "cell_type": "markdown",
   "metadata": {},
   "source": [
    "$$E=\\frac{m}{2} x'^2+ V(x)$$\n",
    "$$\\sqrt{\\frac{2}{m}(E-V(x))} = \\frac{dx}{dt}$$\n",
    "\n",
    "\n",
    "$$\\int^{a}_{0}\\frac{dx}{\\sqrt{\\frac{2}{m}(E-V(x))}} =\\int^{T/4}_{0} dt$$\n",
    "$$\\sqrt{\\frac{m}{2}}\\int^{a}_{0}\\frac{dx}{\\sqrt{(V(a)-V(x))}} =\\frac{T}{4}$$\n",
    "\n",
    "\n",
    "$\n",
    "\\\\\n",
    "\\\\\n",
    "\\\\\n",
    "\\\\\n",
    "\\\\\n",
    "\\\\\n",
    "\\\\\n",
    "\\\\\n",
    "\\\\\n",
    "$\n",
    "\n",
    "\n",
    "\n",
    "$$\\therefore \\ \\  T = \\sqrt{8m}\\int^{a}_{0}\\frac{dx}{\\sqrt{(V(a)-V(x))}} =\\frac{T}{4}$$\n",
    "\n",
    "\n",
    "## (ii)"
   ]
  },
  {
   "cell_type": "code",
   "execution_count": 53,
   "metadata": {},
   "outputs": [
    {
     "data": {
      "image/png": "[encoded data removed]",
      "text/plain": [
       "<matplotlib.figure.Figure at 0x1ea5ae93c88>"
      ]
     },
     "metadata": {},
     "output_type": "display_data"
    }
   ],
   "source": [
    "import numpy as np\n",
    "import matplotlib.pyplot as plt\n",
    "import scipy.integrate as sci\n",
    "\n",
    "#integrate this function\n",
    "def f(x):\n",
    "    return np.sqrt(8/(a**4-x**4))\n",
    "\n",
    "t =[]\n",
    "for a in np.linspace(0.01,2,100):\n",
    "    t.append(sci.quad(f,0,a)[0])\n",
    "\n",
    "plt.plot(np.linspace(0,2,100),t, 'k-')\n",
    "plt.ylim(0,50)\n",
    "plt.show()"
   ]
  },
  {
   "cell_type": "markdown",
   "metadata": {},
   "source": [
    "## (iii)\n",
    "$$as \\ (a \\rightarrow 0)$$\n",
    "$$\\int^{a}_{0}\\frac{dx}{a^4-x^4} \\rightarrow \\infty$$\n",
    "\n",
    "# Question 2\n",
    "## (i)\n",
    "## (ii)"
   ]
  },
  {
   "cell_type": "code",
   "execution_count": 52,
   "metadata": {},
   "outputs": [
    {
     "name": "stdout",
     "output_type": "stream",
     "text": [
      " 2.90e-03 \n"
     ]
    }
   ],
   "source": [
    "from scipy.optimize import fsolve\n",
    "\n",
    "def g(t):\n",
    "    return 5*np.exp(-t) + t -5\n",
    "x = fsolve(g,5)\n",
    "x = 6.63E-34*3.00E8/1.38E-23/x\n",
    "print(\" {:.2e} \".format(x[0]))"
   ]
  },
  {
   "cell_type": "markdown",
   "metadata": {},
   "source": [
    "## (iii)\n",
    "\n",
    "# Question 3"
   ]
  },
  {
   "cell_type": "code",
   "execution_count": 42,
   "metadata": {},
   "outputs": [
    {
     "name": "stdout",
     "output_type": "stream",
     "text": [
      "Theta at 0.5 seconds is                    8.428 radians\n",
      "The gradient of theta at 0.5 seconds is    6.781 radians\n"
     ]
    },
    {
     "data": {
      "image/png": "[encoded data removed]",
      "text/plain": [
       "<matplotlib.figure.Figure at 0x1ea5ae1db00>"
      ]
     },
     "metadata": {},
     "output_type": "display_data"
    }
   ],
   "source": [
    "a = 101\n",
    "b = 15\n",
    "u0 = 2*np.pi\n",
    "v0 = 0.\n",
    "\n",
    "def L(y, t, a, b):\n",
    "    u,v = y\n",
    "    U = v\n",
    "    V = (a*(b-u)-u*v**2)/(1+u**2)\n",
    "    return U,V\n",
    "\n",
    "#Computation\n",
    "x = np.linspace(0,10,100)\n",
    "_y = sci.odeint(L,[u0,v0],0.5, args = (a,b))\n",
    "y  = sci.odeint(L,[u0,v0],x  , args = (a,b))\n",
    "print (\"Theta at 0.5 seconds is                    {:.3f} radians\".format(y[5,0]))\n",
    "print (\"The gradient of theta at 0.5 seconds is    {:.3f} radians\".format(y[5,1]))\n",
    "plt.plot(x,y[:,0], \"k-\")\n",
    "plt.plot(x[5],y[5,0], \"ro\")\n",
    "plt.show()"
   ]
  },
  {
   "cell_type": "code",
   "execution_count": null,
   "metadata": {
    "collapsed": true
   },
   "outputs": [],
   "source": []
  }
 ],
 "metadata": {
  "kernelspec": {
   "display_name": "Python 3",
   "language": "python",
   "name": "python3"
  },
  "language_info": {
   "codemirror_mode": {
    "name": "ipython",
    "version": 3
   },
   "file_extension": ".py",
   "mimetype": "text/x-python",
   "name": "python",
   "nbconvert_exporter": "python",
   "pygments_lexer": "ipython3",
   "version": "3.6.3"
  }
 },
 "nbformat": 4,
 "nbformat_minor": 2
}
