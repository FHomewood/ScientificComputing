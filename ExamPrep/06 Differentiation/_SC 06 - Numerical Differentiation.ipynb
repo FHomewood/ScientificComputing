{
 "cells": [
  {
   "cell_type": "code",
   "execution_count": 6,
   "metadata": {
    "collapsed": false
   },
   "outputs": [],
   "source": [
    "#Import necessary codes\n",
    "from numpy import asarray, nan, empty, sin, cos, tan, pi, arctan, exp"
   ]
  },
  {
   "cell_type": "markdown",
   "metadata": {},
   "source": [
    "# Question 1"
   ]
  },
  {
   "cell_type": "code",
   "execution_count": 7,
   "metadata": {
    "collapsed": true
   },
   "outputs": [],
   "source": [
    "#Set up given values and equations needed for calulating x and y at different alphas and betas \n",
    "a = 500\n",
    "\n",
    "def x(alpha,beta):\n",
    "    return a*(tan(beta)/(tan(beta)-tan(alpha)))\n",
    "\n",
    "def y(alpha,beta):\n",
    "    return a*((tan(alpha)*tan(beta))/(tan(beta)-tan(alpha)))"
   ]
  },
  {
   "cell_type": "code",
   "execution_count": 8,
   "metadata": {
    "collapsed": false
   },
   "outputs": [
    {
     "name": "stdout",
     "output_type": "stream",
     "text": [
      "x at 9, 10 and 11 seconds. 1401.91839832 1450.49700629 1498.64035029\n",
      "y at 9, 10 and 11 seconds. 1987.34601606 2000.84071299 2013.51241079\n"
     ]
    }
   ],
   "source": [
    "#First convert degrees into radians.\n",
    "\n",
    "Alpha9=((54.8)*(pi/180))\n",
    "Alpha10=((54.06)*(pi/180))\n",
    "Alpha11=((53.34)*(pi/180))\n",
    "Beta9=((65.59)*(pi/180))\n",
    "Beta10=((64.59)*(pi/180))\n",
    "Beta11=((63.62)*(pi/180))\n",
    "\n",
    "#Find x and y at t=9 and t=11.\n",
    "x9=x(Alpha9,Beta9)\n",
    "x10=x(Alpha10,Beta10)\n",
    "x11=x(Alpha11,Beta11)\n",
    "print 'x at 9, 10 and 11 seconds.', x9, x10, x11\n",
    "\n",
    "y9=y(Alpha9,Beta9)\n",
    "y10=y(Alpha10,Beta10)\n",
    "y11=y(Alpha11,Beta11)\n",
    "print 'y at 9, 10 and 11 seconds.', y9, y10, y11"
   ]
  },
  {
   "cell_type": "code",
   "execution_count": 9,
   "metadata": {
    "collapsed": false
   },
   "outputs": [
    {
     "name": "stdout",
     "output_type": "stream",
     "text": [
      "48.5786079741 48.1433439972\n",
      "48.3609759856\n",
      "13.494696931 12.6716978011\n",
      "13.0831973661\n"
     ]
    }
   ],
   "source": [
    "#Find dx/dt and dy/dt between 9 and 10 and between 10 and 11 seconds.\n",
    "\n",
    "dt=1\n",
    "\n",
    "dx1=(x10-x9)\n",
    "dx2=(x11-x10)\n",
    "dx1dt=dx1/dt\n",
    "dx2dt=dx2/dt\n",
    "print dx1dt, dx2dt\n",
    "#average between the two for v at 10 seconds.\n",
    "xvel=(dx1dt+dx2dt)/2\n",
    "print xvel\n",
    "\n",
    "dy1=(y10-y9)\n",
    "dy2=(y11-y10)\n",
    "dy1dt=dy1/dt\n",
    "dy2dt=dy2/dt\n",
    "print dy1dt, dy2dt\n",
    "yvel=(dy1dt+dy2dt)/2\n",
    "print yvel"
   ]
  },
  {
   "cell_type": "code",
   "execution_count": 10,
   "metadata": {
    "collapsed": false
   },
   "outputs": [
    {
     "name": "stdout",
     "output_type": "stream",
     "text": [
      "Velocity of plane. 50.0994416297\n"
     ]
    }
   ],
   "source": [
    "#Using pythagoras to find the total velocity including x and y components.\n",
    "\n",
    "vel=((xvel**2)+(yvel**2))**0.5\n",
    "\n",
    "print 'Velocity of plane.', vel"
   ]
  },
  {
   "cell_type": "code",
   "execution_count": 12,
   "metadata": {
    "collapsed": false
   },
   "outputs": [
    {
     "name": "stdout",
     "output_type": "stream",
     "text": [
      "gamma given in degrees 15.1379879794\n"
     ]
    }
   ],
   "source": [
    "#Find gamma in degrees.\n",
    "gamma=(arctan(yvel/xvel))*(180/pi)\n",
    "print 'gamma given in degrees', gamma"
   ]
  },
  {
   "cell_type": "markdown",
   "metadata": {},
   "source": [
    "# Question 2"
   ]
  },
  {
   "cell_type": "code",
   "execution_count": 20,
   "metadata": {
    "collapsed": true
   },
   "outputs": [],
   "source": [
    "#define the functions for f(x) and df(x) (to check error in results)\n",
    "def f(x):\n",
    "    f=exp(-x)+x**3\n",
    "    return f\n",
    "\n",
    "def df(x):\n",
    "    df=-exp(-x)+3*x**2\n",
    "    return df"
   ]
  },
  {
   "cell_type": "code",
   "execution_count": 21,
   "metadata": {
    "collapsed": true
   },
   "outputs": [],
   "source": [
    "#define the variable h1, h2 and x\n",
    "h1=0.1\n",
    "h2=0.5\n",
    "x=1."
   ]
  },
  {
   "cell_type": "code",
   "execution_count": 22,
   "metadata": {
    "collapsed": false
   },
   "outputs": [],
   "source": [
    "#Using the approxiamations found earlier, calculate f'(x) for h = 0.1\n",
    "df_dx2a=(8.*f(x+h1)-8.*(x-h1)-f(x+2.*h1)+f(x-2.*h1))/(12.*h1)\n",
    "df_dx4a=(16*f(x+h1)-30*f(x)+16*f(x-h1)-f(x+2*h1)-f(x-2*h1))/(12*h1**2)"
   ]
  },
  {
   "cell_type": "code",
   "execution_count": 23,
   "metadata": {
    "collapsed": true
   },
   "outputs": [],
   "source": [
    "#Same again for h = 0.5\n",
    "df_dx2b=(8.*f(x+h2)-8.*(x-h2)-f(x+2.*h2)+f(x-2.*h2))/(12.*h2)\n",
    "df_dx4b=(16*f(x+h2)-30*f(x)+16*f(x-h2)-f(x+2*h2)-f(x-2*h2))/(12*h2**2)"
   ]
  },
  {
   "cell_type": "code",
   "execution_count": 24,
   "metadata": {
    "collapsed": false
   },
   "outputs": [],
   "source": [
    "#Find the errors of the richardson extrapolation method by comparing to the actual value using previously calculated df(x) for each.\n",
    "error2a=df(x)-df_dx2a\n",
    "error4a=df(x)-df_dx4a\n",
    "error2b=df(x)-df_dx2b\n",
    "error4b=df(x)-df_dx4b"
   ]
  },
  {
   "cell_type": "code",
   "execution_count": 25,
   "metadata": {
    "collapsed": false
   },
   "outputs": [
    {
     "name": "stdout",
     "output_type": "stream",
     "text": [
      "values= 4.20258618482 6.36787903205 exact= 2.63212055883\n",
      "errors= -1.570465626 -3.73575847322\n",
      "error ratio= 2.37875851046\n",
      "values= 2.94161766633 6.3676181998 exact= 2.63212055883\n",
      "errors= -0.309497107497 -3.73549764097\n",
      "error ratio= 12.069572059\n"
     ]
    }
   ],
   "source": [
    "#print all the values.\n",
    "print 'values=',df_dx2a,df_dx4a,'exact=',df(x)\n",
    "print 'errors=', error2a,error4a\n",
    "print 'error ratio=',error4a/error2a\n",
    "print 'values=',df_dx2b,df_dx4b,'exact=',df(x)\n",
    "print 'errors=', error2b,error4b\n",
    "print 'error ratio=',error4b/error2b"
   ]
  },
  {
   "cell_type": "markdown",
   "metadata": {},
   "source": [
    "Clearly, the second order finite-difference approximation is much more precise than the fourth-order one (in fact more precise than generally expected - should have been a factor of approximately 1/(h^2) = 100 for h=0.1)."
   ]
  }
 ],
 "metadata": {
  "anaconda-cloud": {},
  "kernelspec": {
   "display_name": "Python [conda root]",
   "language": "python",
   "name": "conda-root-py"
  },
  "language_info": {
   "codemirror_mode": {
    "name": "ipython",
    "version": 2
   },
   "file_extension": ".py",
   "mimetype": "text/x-python",
   "name": "python",
   "nbconvert_exporter": "python",
   "pygments_lexer": "ipython2",
   "version": "2.7.12"
  }
 },
 "nbformat": 4,
 "nbformat_minor": 1
}
