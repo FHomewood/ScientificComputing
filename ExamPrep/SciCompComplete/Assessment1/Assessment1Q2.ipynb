{
 "cells": [
  {
   "cell_type": "markdown",
   "metadata": {},
   "source": [
    "###### Question 2a\n",
    "# Constructing the Set of Equations For the Each Loop:\n",
    "\n",
    "### Kirchoff's Volage Law is applied to each loop seperately to form the four equations. \n",
    "### Kirchoff's Volage Law:\n",
    "#### The voltage law states that the sam of all potential differences around any closed loop in a circuit must be eqal to zero.\n",
    "$\\Sigma V=0$\n",
    "*Where $V$ is the potential difference across a component in the cicuit*\n",
    "#### Note:\n",
    "In this circumstance, as in the last question I have omitted the explicit steps in each equation where I mention Ohm's law that: \n",
    "\n",
    "$V = I R$\n",
    "*Where $V$ is once again the potential difference; $I$ is the current flowing through the components and $R$ is the components resisitence*\n",
    "\n",
    "### Loop 1 (Current $i_1$ is taken to be posative while $i_2$ and $i_3$ are negative.)\n",
    "$50i_1-50i_2+30i_1-30i_3=240 \\implies 80i_1-50i_2-30i_3+0i_4=240$\n",
    "### Loop 2 (Current $i_2$ is taken to be posative while $i_1$; $i_3$ and $i_4$ are negative.)\n",
    "$50i_2-50i_1+15i_2+25i_2-25i_4+10i_2-10i_3=0 \\implies -50i_1+100i_2-10i_3-25i_4=0$\n",
    "### Loop 3 (Current $i_3$ is taken to be posative while $i_1$; $i_2$ and $i_4$ are negative.)\n",
    "$30i_3-30i_1+10i_3-10i_2+20i_3-20i_4+5i_3=0 \\implies -30i_1-10i_2+65i_3-20i_4=0$\n",
    "### Loop 4 (Current $i_4$ is taken to be posative while $i_2$ and $i_3$ are negative.)\n",
    "$20i_4-20i_3+25i_4-25i_2+10i_4+30i_4+15i_4=240 \\implies 0i_1-25i_2-20i_3+100i_4=0$\n",
    "\n",
    "### Setting up the problem; the matrix \"A\" and vector \"b\" .\n",
    "The matrix \"A\" is constructed from the 4 equations for each loop. Each element in the matrix \"A\" corresponds to the coefficient of current$i_1$ in the first column, $i_2$ in the second etc.\n",
    "\n",
    "\n",
    "The Vector \"b\" is constructed  from the right hand side of each on the equations.\n",
    "\n",
    "$$\n",
    "\\begin{bmatrix}\n",
    "     80  & -50 & -30  &   0\\\\\n",
    "    -50  & 100 & -10  & -25\\\\\n",
    "    -30  & -10 &  65  & -20\\\\\n",
    "      0  & -25 & -20  & 100\\\\\n",
    "\\end{bmatrix}\n",
    "\\space\n",
    "\\begin{bmatrix}\n",
    "    i_1\\\\\n",
    "    i_2\\\\\n",
    "    i_3\\\\\n",
    "    i_4\\\\\n",
    "\\end{bmatrix}\n",
    "\\space =\\space\n",
    "\\begin{bmatrix}\n",
    "    240\\\\\n",
    "      0\\\\\n",
    "      0\\\\\n",
    "      0\\\\\n",
    "\\end{bmatrix}$$"
   ]
  },
  {
   "cell_type": "code",
   "execution_count": 1,
   "metadata": {
    "collapsed": false
   },
   "outputs": [
    {
     "name": "stdout",
     "output_type": "stream",
     "text": [
      "The lower triangular matrix; L=\n",
      " [[ 1.          0.          0.          0.        ]\n",
      " [-0.625       1.          0.          0.        ]\n",
      " [-0.375      -0.41818182  1.          0.        ]\n",
      " [ 0.         -0.36363636 -0.72984749  1.        ]] \n",
      "\n",
      "The upper triangular matrix; U=\n",
      " [[ 80.         -50.         -30.           0.        ]\n",
      " [  0.          68.75       -28.75       -25.        ]\n",
      " [  0.           0.          41.72727273 -30.45454545]\n",
      " [  0.           0.           0.          68.68191721]]\n",
      "\n",
      "The solution using linalg.solve (rounded to whole numbers): [ 8.36478985  5.32910389  5.42426646  2.41712926]\n",
      "\n",
      "and the solution using gaussPivot: [ 8.36478985  5.32910389  5.42426646  2.41712926]\n"
     ]
    }
   ],
   "source": [
    "import numpy as np\n",
    "from scipy import linalg\n",
    "import gaussPivot as GP\n",
    "\n",
    "#Question 2b\n",
    "\n",
    "A=np.array([[80,-50,-30,0],[-50,100,-10,-25],[-30,-10,65,-20],[0,-25,-20,100]]).astype(np.float)\n",
    "b=np.array([240,0,0,0]).astype(np.float)\n",
    "\n",
    "#Solving using liner algebra from scipy\n",
    "#This sets up the lower and upper triangular matrices used my linalg to solve the problem.\n",
    "P,L,U=linalg.lu(A)\n",
    "print ('The lower triangular matrix; L=\\n',L,'\\n\\nThe upper triangular matrix; U=\\n',U)\n",
    "Isol1=linalg.solve(A,b)\n",
    "\n",
    "#Question 2c\n",
    "#Now, solving using gaussian elimination with pivoting. Pivoting\n",
    "Isol2=GP.gaussPivot(A,b)\n",
    "print ('\\nThe solution using linalg.solve (rounded to whole numbers): %s\\n\\nand the solution using gaussPivot: %s'% (Isol1, Isol2))\n",
    "\n",
    "#NOTE: Interestingly if you use integers in your array gaussPivot returns integer values. to show they return the same value I have used floating points."
   ]
  }
 ],
 "metadata": {
  "kernelspec": {
   "display_name": "Python 3",
   "language": "python",
   "name": "python3"
  },
  "language_info": {
   "codemirror_mode": {
    "name": "ipython",
    "version": 3
   },
   "file_extension": ".py",
   "mimetype": "text/x-python",
   "name": "python",
   "nbconvert_exporter": "python",
   "pygments_lexer": "ipython3",
   "version": "3.6.0"
  }
 },
 "nbformat": 4,
 "nbformat_minor": 2
}
