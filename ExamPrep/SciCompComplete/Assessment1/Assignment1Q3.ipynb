{
 "cells": [
  {
   "cell_type": "code",
   "execution_count": 1,
   "metadata": {
    "collapsed": false
   },
   "outputs": [
    {
     "name": "stdout",
     "output_type": "stream",
     "text": [
      "Populating the interactive namespace from numpy and matplotlib\n"
     ]
    },
    {
     "data": {
      "image/png": "[encoded data removed]",
      "text/plain": [
       "<matplotlib.figure.Figure at 0x22061962b70>"
      ]
     },
     "metadata": {},
     "output_type": "display_data"
    },
    {
     "name": "stdout",
     "output_type": "stream",
     "text": [
      "Standard diviation for the linear fit is:  2.244 \n",
      "Standard diviation the the quadratic fit is:  0.813\n",
      "The Quadratic fit is a better as it has the lower stadard diviation.\n"
     ]
    }
   ],
   "source": [
    "%pylab inline\n",
    "\n",
    "#Question 3a\n",
    "\n",
    "import numpy as np\n",
    "import matplotlib.pyplot as plt\n",
    "from scipy import optimize\n",
    "\n",
    "#Have to fit a straight line and a quadratic to a set of given data points.\n",
    "\n",
    "\n",
    "# Defineing a set of functions for creating the data points to be plotted.\n",
    "#Linear function.\n",
    "def lin (x,m,c):\n",
    "    return m*x+c\n",
    "\n",
    "#Quadratic function.\n",
    "def quad (x,a,b,c):\n",
    "    return a*x**2+b*x+c\n",
    "\n",
    "\n",
    "#Given data set:\n",
    "x = [1.0, 2.5, 3.5, 4.0, 1.1, 1.8, 2.2, 3.7]\n",
    "y = [6.008, 15.722, 27.130, 33.772, 5.257, 9.549, 11.098, 28.828]\n",
    "\n",
    "\n",
    "#Using Optimize to find the parameters of line we will fit to the data.\n",
    "#For the linear function optimize should find two numbers.\n",
    "#1st being the gradient (m) and 2nd being the constant (c).\n",
    "lC,linCovarience = optimize.curve_fit(lin,x,y)\n",
    "\n",
    "#For the quadratic function optimize should find three numbers.\n",
    "#1st the coefficient of the x^2 terms (a); 2nd the coefficient of x terms (b) and 3rd the constant (c).\n",
    "qC,quadCovarience = optimize.curve_fit(quad,x,y)\n",
    "\n",
    "#NOTE:I need use two variables for optimize.curve_fit.\n",
    "#Otherwise the covarience is included into the one variable andd an error occurs.\n",
    "\n",
    "\n",
    "xrange = np.arange(0,5, 0.1)\n",
    "#Using this range I inclue the original dataset of x while meaning that my fitted lines will be clear and smooth.\n",
    "\n",
    "\n",
    "#Using the funtions defined above with the coefficients found using optimize.\n",
    "ylin = lin(xrange,lC[0],lC[1])\n",
    "yquad = quad(xrange,qC[0],qC[1],qC[2])\n",
    "\n",
    "#Plotting the graph.\n",
    "plt.plot(x, y, 'x',xrange,ylin,'-',xrange,yquad,'-')\n",
    "plt.show()\n",
    "\n",
    "\n",
    "#Which fit is better?\n",
    "#By calculating the standard diviation I can say the line that has the smallest standard diviation provides the best fit.\n",
    "\n",
    "#Calculate the standard diviation by using Least square method.\n",
    "Slin=0\n",
    "Squad=0\n",
    "for i in range(len(y)):\n",
    "    Slin  += ((y[i]-lin(x[i],lC[0],lC[1]))**2)\n",
    "    Squad += (y[i]-quad(x[i],qC[0],qC[1],qC[2]))**2\n",
    "              \n",
    "SigmaLin=np.sqrt(Slin/(len(x)-len(lC)))\n",
    "SigmaQuad=np.sqrt(Squad/(len(x)-len(qC)))\n",
    "\n",
    "print('Standard diviation for the linear fit is: ',SigmaLin.round(3),'\\nStandard diviation the the quadratic fit is: ',SigmaQuad.round(3))\n",
    "if SigmaLin<SigmaQuad:\n",
    "               print ('The linear fit is the better fit as it has a lower standard diviation.')\n",
    "if SigmaLin>SigmaQuad:\n",
    "               print('The Quadratic fit is a better as it has the lower stadard diviation.')\n",
    "else:\n",
    "               print('they are both equally good fits.')\n",
    "               QuadDev = np.sqrt(Squad / (len(x)-1))"
   ]
  },
  {
   "cell_type": "code",
   "execution_count": 2,
   "metadata": {
    "collapsed": false
   },
   "outputs": [
    {
     "data": {
      "image/png": "[encoded data removed]",
      "text/plain": [
       "<matplotlib.figure.Figure at 0x2205fa281d0>"
      ]
     },
     "metadata": {},
     "output_type": "display_data"
    },
    {
     "name": "stdout",
     "output_type": "stream",
     "text": [
      "Standard diviation for the eponential fit is:  0.001 \n",
      "\n",
      "The estimated Halflife of the substance is:  80.178379019 years.\n"
     ]
    }
   ],
   "source": [
    "#Question 3b\n",
    "\n",
    "import numpy as np\n",
    "import matplotlib.pyplot as plt\n",
    "from scipy import optimize\n",
    "\n",
    "#Have to estimate the radioactive half-life of a substance. (Told that the data is \"noisy\" implies that need to find a fitted line.)\n",
    "\n",
    "\n",
    "#Given data set\n",
    "#NOTE: X is in Half Year intervals. \n",
    "x=[0, 0.5, 1, 1.5, 2, 2.5, 3, 3.5, 4, 4.5, 5, 5.5]\n",
    "y=[1.000,0.994,0.990,0.985,0.979,0.977,0.972,0.969,0.967,0.960,0.956,0.952]\n",
    "\n",
    "\n",
    "# Defining the decay function.\n",
    "def Decay (x,A,b):\n",
    "    return A*np.exp(-b*x)\n",
    "\n",
    "\n",
    "#Again like question 3a I use a new range for x when plotting so any lines fitted will be smooth.\n",
    "xrange = np.arange(0,5, 0.1)\n",
    "\n",
    "\n",
    "#Once more using optimize to find the coefficients of my function.\n",
    "DecayAb, DecayCovarience=optimize.curve_fit(Decay,x,y)\n",
    "\n",
    "\n",
    "#Plotting the graph.\n",
    "yplot=Decay(xrange,DecayAb[0],DecayAb[1])\n",
    "plt.plot(x, y, 'x',xrange,yplot,'-')\n",
    "plt.show()\n",
    "### add labels etc to both these questions\n",
    "\n",
    "\n",
    "#As in question 3a I will calculate the standard diviation to gain an insight into the goodness of fit.\n",
    "#Using least square method.\n",
    "S=0\n",
    "for i in range(len(x)):\n",
    "    S+=(y[i]-Decay(x[i],DecayAb[0],DecayAb[1]))**2\n",
    "    \n",
    "SigmaDecay=np.sqrt(S/(len(x)-len(DecayAb)))\n",
    "\n",
    "print('Standard diviation for the eponential fit is: ',SigmaDecay.round(3),'\\n')\n",
    "\n",
    "#Now to calculate halflife (Please see markdown below)\n",
    "HL = np.log(2)/DecayAb[1]\n",
    "print('The estimated Halflife of the substance is: ',HL, 'years.')"
   ]
  },
  {
   "cell_type": "markdown",
   "metadata": {
    "collapsed": true
   },
   "source": [
    "# Notes & Rearrangement of Equations\n",
    "### Rearrangement of Exponential Equation:\n",
    "We are given the exponential equation of decay:\n",
    "\n",
    "$\\gamma (t)=ae^{-bt}$\n",
    "*Where $\\gamma$ is the intesity of the radioactivity; $a$ and $b$ are constants found using optimise; $e$ is the exponential and $t$ is time (in years).*\n",
    "\n",
    "$b$ is the decay constant of the substance and therefore I can say the halflife is:\n",
    "\n",
    "$T=\\frac{ln(2)}{b}$\n",
    "\n",
    "\n",
    "\n",
    "### About the fit\n",
    "The standard diviation of the fitted line is extreamy small and therefore I can say that the fit is good. As the standard diviation is related to the uncirtainty in the data it is curious that is is so small, as it is makes it clear in the question that the readings were taken with alot of background noise."
   ]
  }
 ],
 "metadata": {
  "kernelspec": {
   "display_name": "Python 3",
   "language": "python",
   "name": "python3"
  },
  "language_info": {
   "codemirror_mode": {
    "name": "ipython",
    "version": 3
   },
   "file_extension": ".py",
   "mimetype": "text/x-python",
   "name": "python",
   "nbconvert_exporter": "python",
   "pygments_lexer": "ipython3",
   "version": "3.6.0"
  }
 },
 "nbformat": 4,
 "nbformat_minor": 2
}
