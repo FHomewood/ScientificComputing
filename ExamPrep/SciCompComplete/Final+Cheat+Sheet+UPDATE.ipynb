{
 "cells": [
  {
   "cell_type": "code",
   "execution_count": 1,
   "metadata": {
    "collapsed": false
   },
   "outputs": [],
   "source": [
    "import numpy"
   ]
  },
  {
   "cell_type": "code",
   "execution_count": 2,
   "metadata": {
    "collapsed": false
   },
   "outputs": [
    {
     "name": "stdout",
     "output_type": "stream",
     "text": [
      "Populating the interactive namespace from numpy and matplotlib\n"
     ]
    }
   ],
   "source": [
    "%pylab inline"
   ]
  },
  {
   "cell_type": "code",
   "execution_count": 3,
   "metadata": {
    "collapsed": false
   },
   "outputs": [
    {
     "data": {
      "text/plain": [
       "'n:\\\\documents\\\\SciCompComplete'"
      ]
     },
     "execution_count": 3,
     "metadata": {},
     "output_type": "execute_result"
    }
   ],
   "source": [
    "pwd #import crap with this"
   ]
  },
  {
   "cell_type": "code",
   "execution_count": 4,
   "metadata": {
    "collapsed": false
   },
   "outputs": [],
   "source": [
    "import numpy\n",
    "import matplotlib.pyplot as pl\n",
    "import scipy\n",
    "from scipy import integrate\n",
    "from pylab import *\n",
    "import numpy as np\n",
    "from numpy import zeros, array, asarray, dot, linspace, size, sin, cos, tan, pi, exp, random, linalg \n",
    "import scipy as sci\n",
    "from scipy import optimize, integrate\n",
    "from scipy.interpolate import interp1d, barycentric_interpolate\n",
    "from scipy.optimize import curve_fit\n",
    "import pylab as pl\n",
    "from gaussElimin import *\n",
    "from gaussPivot import *\n",
    "\n",
    "from ridder import *\n",
    "from newtonRaphson import *\n",
    "from newtonRaphson2 import *\n",
    "from printSoln import *\n",
    "import run_kut4 as runkut\n",
    "\n",
    "import time\n",
    "from scipy import interpolate, optimize\n",
    "from numpy import *"
   ]
  },
  {
   "cell_type": "code",
   "execution_count": null,
   "metadata": {
    "collapsed": true
   },
   "outputs": [],
   "source": []
  },
  {
   "cell_type": "markdown",
   "metadata": {},
   "source": [
    "$$ Making-Matricies $$"
   ]
  },
  {
   "cell_type": "code",
   "execution_count": 5,
   "metadata": {
    "collapsed": false
   },
   "outputs": [
    {
     "name": "stdout",
     "output_type": "stream",
     "text": [
      "[[ 2.  1.]\n",
      " [ 3.  4.]]\n"
     ]
    }
   ],
   "source": [
    "from numpy import array,float\n",
    "a=array([[2.0,1.0],[3.0,4.0]])\n",
    "print(a)"
   ]
  },
  {
   "cell_type": "code",
   "execution_count": 6,
   "metadata": {
    "collapsed": false
   },
   "outputs": [
    {
     "name": "stdout",
     "output_type": "stream",
     "text": [
      "[[ 0.  0.]\n",
      " [ 0.  0.]]\n"
     ]
    }
   ],
   "source": [
    "b=(numpy.zeros((2,2)))\n",
    "print (b)"
   ]
  },
  {
   "cell_type": "code",
   "execution_count": 7,
   "metadata": {
    "collapsed": false
   },
   "outputs": [
    {
     "name": "stdout",
     "output_type": "stream",
     "text": [
      "[10 12 14 16 18]\n"
     ]
    }
   ],
   "source": [
    "c=(numpy.arange(10,20,2))\n",
    "print (c)"
   ]
  },
  {
   "cell_type": "code",
   "execution_count": 8,
   "metadata": {
    "collapsed": false
   },
   "outputs": [
    {
     "name": "stdout",
     "output_type": "stream",
     "text": [
      "[[ 0.  1.  2.]\n",
      " [ 3.  4.  5.]\n",
      " [ 6.  7.  8.]]\n"
     ]
    }
   ],
   "source": [
    "d = numpy.linspace(0,8,9).reshape(3,3)\n",
    "print(d)"
   ]
  },
  {
   "cell_type": "code",
   "execution_count": 9,
   "metadata": {
    "collapsed": false
   },
   "outputs": [
    {
     "name": "stdout",
     "output_type": "stream",
     "text": [
      "[[ 2.  3.  5.]\n",
      " [ 3.  6.  5.]\n",
      " [ 8. -3.  8.]]\n"
     ]
    }
   ],
   "source": [
    "d[0]=[2,3,5]    # Change a row\n",
    "d[1,1]=6        # Change an element\n",
    "d[2,0:2]=[8,-3] # Change part of a row\n",
    "print(d)"
   ]
  },
  {
   "cell_type": "markdown",
   "metadata": {},
   "source": [
    "$$ Creating-matricies-of-functions $$"
   ]
  },
  {
   "cell_type": "code",
   "execution_count": 10,
   "metadata": {
    "collapsed": true
   },
   "outputs": [],
   "source": [
    "def f(x):\n",
    "    return x**3     # sample function\n",
    "\n",
    "n = 5           # no of points in [0,1]\n",
    "dx = 1.0/(n-1)  # x spacing\n",
    "xlist = [i*dx for i in range(n)]\n",
    "ylist = [f(x) for x in xlist]"
   ]
  },
  {
   "cell_type": "code",
   "execution_count": 11,
   "metadata": {
    "collapsed": false
   },
   "outputs": [
    {
     "name": "stdout",
     "output_type": "stream",
     "text": [
      "[ 0.    0.25  0.5   0.75  1.  ] [ 0.        0.015625  0.125     0.421875  1.      ]\n"
     ]
    }
   ],
   "source": [
    "import numpy as np\n",
    "x2 = np.array(xlist)\n",
    "y2 = np.array(ylist)\n",
    "print(x2,y2)"
   ]
  },
  {
   "cell_type": "code",
   "execution_count": 12,
   "metadata": {
    "collapsed": false
   },
   "outputs": [
    {
     "name": "stdout",
     "output_type": "stream",
     "text": [
      "[ 0.    0.25  0.5   0.75  1.  ] [ 0.  0.  0.  0.  0.]\n",
      "[ 0.    0.25  0.5   0.75  1.  ] [ 0.        0.015625  0.        0.        0.      ]\n",
      "[ 0.    0.25  0.5   0.75  1.  ] [ 0.        0.015625  0.125     0.        0.      ]\n",
      "[ 0.    0.25  0.5   0.75  1.  ] [ 0.        0.015625  0.125     0.421875  0.      ]\n",
      "[ 0.    0.25  0.5   0.75  1.  ] [ 0.        0.015625  0.125     0.421875  1.      ]\n"
     ]
    }
   ],
   "source": [
    "n = 5                     # number of points\n",
    "x3 = np.linspace(0, 1, n) # n points in [0, 1]\n",
    "y3 = np.zeros(n) # n zeros (float data type)\n",
    "\n",
    "\n",
    "\n",
    "for i in range(n):\n",
    "    y3[i] = f(x3[i])\n",
    "    print(x3,y3)"
   ]
  },
  {
   "cell_type": "code",
   "execution_count": 13,
   "metadata": {
    "collapsed": false
   },
   "outputs": [
    {
     "name": "stdout",
     "output_type": "stream",
     "text": [
      "[[ 0.8 -0.2]\n",
      " [-0.6  0.4]]\n",
      "[[ 0.  0.]\n",
      " [ 0.  0.]]\n"
     ]
    }
   ],
   "source": [
    "from numpy.linalg import inv,solve\n",
    "print(inv(a)) # Matrix inverse\n",
    "print(solve(a,b)) # Solve the system of equations [A]{x} = {b}"
   ]
  },
  {
   "cell_type": "markdown",
   "metadata": {},
   "source": [
    "$$ Plotting $$"
   ]
  },
  {
   "cell_type": "code",
   "execution_count": 14,
   "metadata": {
    "collapsed": true
   },
   "outputs": [],
   "source": [
    "import numpy as np\n",
    "import matplotlib.pyplot as plt"
   ]
  },
  {
   "cell_type": "code",
   "execution_count": 15,
   "metadata": {
    "collapsed": false
   },
   "outputs": [],
   "source": [
    "def f(x):\n",
    "    return x**2\n",
    "dx = 1\n",
    "x0 = [i*dx for i in range (-5,6)]\n",
    "y = [f(x) for x in x0]"
   ]
  },
  {
   "cell_type": "code",
   "execution_count": 16,
   "metadata": {
    "collapsed": false
   },
   "outputs": [
    {
     "name": "stdout",
     "output_type": "stream",
     "text": [
      "[-5 -4 -3 -2 -1  0  1  2  3  4  5] [25 16  9  4  1  0  1  4  9 16 25]\n"
     ]
    }
   ],
   "source": [
    "x1 = np.array(x0)\n",
    "y1 = np.array(y)\n",
    "print (x1,y1)"
   ]
  },
  {
   "cell_type": "markdown",
   "metadata": {},
   "source": [
    "$$ Fitting-data-to-graphs $$"
   ]
  },
  {
   "cell_type": "code",
   "execution_count": 17,
   "metadata": {
    "collapsed": false
   },
   "outputs": [
    {
     "data": {
      "image/png": "[encoded data removed]",
      "text/plain": [
       "<matplotlib.figure.Figure at 0x190743edba8>"
      ]
     },
     "metadata": {},
     "output_type": "display_data"
    }
   ],
   "source": [
    "plt.plot(x1,y1,':rs') #:rs = dotted red squares\n",
    "plt.xlabel(\"X crap\")\n",
    "plt.ylabel(\"Y crap\")\n",
    "plt.axis([-6,6,-1,30])\n",
    "plt.legend('$$')\n",
    "plt.show()"
   ]
  },
  {
   "cell_type": "markdown",
   "metadata": {},
   "source": [
    "$$ Plotting:Ae^{-kx}*cos(2pi*nu*x) $$"
   ]
  },
  {
   "cell_type": "code",
   "execution_count": 18,
   "metadata": {
    "collapsed": false
   },
   "outputs": [],
   "source": [
    "#parameters\n",
    "A, nu, k = 10, 4, 2\n",
    "\n",
    "#function for creating the data points to be interpolated\n",
    "def f(x, A, nu, k):\n",
    "    return A * np.exp(-k*x) * np.cos(2*np.pi * nu * x)\n",
    "\n",
    "#create the data points to be interpolated\n",
    "xmax, nx = 0.5, 8 \n",
    "x = np.linspace(0, xmax, nx) #(starting point, end point, number of points)\n",
    "y = f(x, A, nu, k)  #X and Y are the data points"
   ]
  },
  {
   "cell_type": "code",
   "execution_count": 19,
   "metadata": {
    "collapsed": false
   },
   "outputs": [
    {
     "name": "stdout",
     "output_type": "stream",
     "text": [
      "[ 10.          11.76264339  12.71533871  12.99266266  12.7159795\n",
      "  11.99425605  10.92484697   9.59425101   8.07883857   6.44555114\n",
      "   4.75257308   3.04997619   1.38033767  -0.22066819  -1.72370395\n",
      "  -3.10522825  -4.34697972  -5.43548515  -6.36159141  -7.1200206\n",
      "  -7.70894806  -8.12960257  -8.3858884   -8.48402867  -8.43222952\n",
      "  -8.24036461  -7.91967949  -7.48251527  -6.94205126  -6.31206587\n",
      "  -5.60671548  -4.84033069  -4.0272295   -3.18154689  -2.31708036\n",
      "  -1.44715092  -0.584479     0.25892508   1.07185673   1.84399922\n",
      "   2.56599273   3.22949092   3.82720552   4.35293926   4.80160786\n",
      "   5.16925139   5.45303558   5.65124348   5.76325813   5.78953651\n",
      "   5.73157542   5.5918697    5.37386334   5.08189386   4.72113061\n",
      "   4.2975073    3.81764938   3.28879673   2.71872207   2.11564572\n",
      "   1.48814704   0.84507317   0.19544551  -0.45163564  -1.08708766\n",
      "  -1.701943    -2.28744694  -2.83515508  -3.33703025  -3.78553823\n",
      "  -4.17374179  -4.49539269  -4.74502097  -4.9180212   -5.01073508  -5.02053\n",
      "  -4.94587303  -4.78639978  -4.54297782  -4.21776395  -3.81425505\n",
      "  -3.33733184  -2.79329516  -2.18989427  -1.53634668  -0.84334895\n",
      "  -0.12307815   0.61081674   1.34323382   2.05764812   2.73615299\n",
      "   3.35951324   3.90723079   4.35762309   4.68791502   4.8743445\n",
      "   4.89228255   4.71636816   4.32065839   3.67879441]\n"
     ]
    }
   ],
   "source": [
    "#Polynomial Fit\n",
    "#generate the points where we want to evaluate the interpolating functions\n",
    "x0 = np.linspace(0, xmax, 100)\n",
    "\n",
    "#polynomial rpolinterpolation - this gives vector y where the polynomial is already evaluated\n",
    "y0 = (barycentric_interpolate(x, y, x0)) #X0 and Y0 are polynomial fitted data\n",
    "print(y0)"
   ]
  },
  {
   "cell_type": "code",
   "execution_count": 20,
   "metadata": {
    "collapsed": false
   },
   "outputs": [],
   "source": [
    "# splines: linear and cubic\n",
    "f_linear  = interp1d(x, y)\n",
    "f_cubic   = interp1d(x, y, kind='cubic')"
   ]
  },
  {
   "cell_type": "code",
   "execution_count": 21,
   "metadata": {
    "collapsed": false
   },
   "outputs": [
    {
     "data": {
      "image/png": "[encoded data removed]",
      "text/plain": [
       "<matplotlib.figure.Figure at 0x190749077b8>"
      ]
     },
     "metadata": {},
     "output_type": "display_data"
    }
   ],
   "source": [
    "#plot all results and the original data\n",
    "pl.plot(x, y, 'o', label='data points')\n",
    "\n",
    "pl.plot(x0, y0, label='polynomial')\n",
    "\n",
    "pl.plot(x0, f_linear(x0), label='linear')\n",
    "\n",
    "pl.plot(x0, f_cubic(x0), label='cubic')\n",
    "\n",
    "pl.legend()\n",
    "pl.show()"
   ]
  },
  {
   "cell_type": "markdown",
   "metadata": {
    "collapsed": true
   },
   "source": [
    "$$ Solving-Equations $$"
   ]
  },
  {
   "cell_type": "code",
   "execution_count": 22,
   "metadata": {
    "collapsed": true
   },
   "outputs": [],
   "source": [
    "from bisection import *\n",
    "from ridder import *"
   ]
  },
  {
   "cell_type": "code",
   "execution_count": 23,
   "metadata": {
    "collapsed": false
   },
   "outputs": [],
   "source": [
    "# Import the required modules\n",
    "import numpy as np\n",
    "import pylab as pl\n",
    "import scipy as sci\n",
    "from scipy import optimize\n",
    "from newtonRaphson import *"
   ]
  },
  {
   "cell_type": "code",
   "execution_count": 24,
   "metadata": {
    "collapsed": false
   },
   "outputs": [],
   "source": [
    "# First set up the system of equations - note that it is a vector of equations!\n",
    "def f(x):\n",
    "    return np.array([x[0]**2+x[1]**2-3,x[0]*x[1]-1])\n",
    "# Initial guess for the roots (e.g. from plotting the two functions) - again a vector\n",
    "x0=np.array([0.5,1.5])"
   ]
  },
  {
   "cell_type": "code",
   "execution_count": 25,
   "metadata": {
    "collapsed": false
   },
   "outputs": [
    {
     "name": "stdout",
     "output_type": "stream",
     "text": [
      "[ 0.61803399  1.61803399]\n"
     ]
    }
   ],
   "source": [
    "roots_solve=sci.optimize.fsolve(f,x0)\n",
    "print(roots_solve)"
   ]
  },
  {
   "cell_type": "markdown",
   "metadata": {
    "collapsed": true
   },
   "source": [
    "$$ Intergrating $$"
   ]
  },
  {
   "cell_type": "code",
   "execution_count": 26,
   "metadata": {
    "collapsed": true
   },
   "outputs": [],
   "source": [
    "import scipy\n",
    "from scipy import integrate\n",
    "from pylab import *\n",
    "from scipy import interpolate, optimize\n",
    "from numpy import *"
   ]
  },
  {
   "cell_type": "code",
   "execution_count": 27,
   "metadata": {
    "collapsed": false
   },
   "outputs": [],
   "source": [
    "def f(t):\n",
    "    return -t**(2.0)+(3.0)*t+3.0"
   ]
  },
  {
   "cell_type": "code",
   "execution_count": 28,
   "metadata": {
    "collapsed": false
   },
   "outputs": [],
   "source": [
    "from trapezoid import *\n",
    "from romberg import *"
   ]
  },
  {
   "cell_type": "code",
   "execution_count": 29,
   "metadata": {
    "collapsed": false
   },
   "outputs": [
    {
     "data": {
      "text/plain": [
       "-19.833333333333332"
      ]
     },
     "execution_count": 29,
     "metadata": {},
     "output_type": "execute_result"
    }
   ],
   "source": [
    "scipy.integrate.romberg(f,-4.0,3.0)"
   ]
  },
  {
   "cell_type": "code",
   "execution_count": 30,
   "metadata": {
    "collapsed": false
   },
   "outputs": [
    {
     "data": {
      "text/plain": [
       "(-19.833333333333336, 5.492400699398068e-13)"
      ]
     },
     "execution_count": 30,
     "metadata": {},
     "output_type": "execute_result"
    }
   ],
   "source": [
    "scipy.integrate.quad(f,-4.0,3.0)"
   ]
  },
  {
   "cell_type": "code",
   "execution_count": 31,
   "metadata": {
    "collapsed": false
   },
   "outputs": [
    {
     "name": "stdout",
     "output_type": "stream",
     "text": [
      "Trapezoid method result:  -19.8331764541\n"
     ]
    }
   ],
   "source": [
    "#Trapezoid method example\n",
    "r = zeros(21) # we will be storing the results here\n",
    "r[1] = trapezoid(f,1.0,3.0,1.0,3) # first call is special, since no  \n",
    "                                            # result to be refined yet exists\n",
    "for k in range(2,21):\n",
    "    r[k] = trapezoid(f,-4.0,3.0,r[k-1],k) # refinements of the answer using ever more points \n",
    "    \n",
    "result=r[20]\n",
    "print('Trapezoid method result: ',result)"
   ]
  },
  {
   "cell_type": "code",
   "execution_count": 32,
   "metadata": {
    "collapsed": true
   },
   "outputs": [],
   "source": [
    "from scipy.integrate import quad as sciquad"
   ]
  },
  {
   "cell_type": "code",
   "execution_count": 33,
   "metadata": {
    "collapsed": false
   },
   "outputs": [
    {
     "data": {
      "text/plain": [
       "(-19.833333333333336, 5.492400699398068e-13)"
      ]
     },
     "execution_count": 33,
     "metadata": {},
     "output_type": "execute_result"
    }
   ],
   "source": [
    "sciquad(f,-4.0,3.0) #wut how work wut"
   ]
  },
  {
   "cell_type": "markdown",
   "metadata": {},
   "source": [
    "$$ Solving-Differential-Equations $$"
   ]
  },
  {
   "cell_type": "code",
   "execution_count": 34,
   "metadata": {
    "collapsed": true
   },
   "outputs": [],
   "source": [
    "from printSoln import *\n",
    "from run_kut4 import *\n",
    "import pylab as pl"
   ]
  },
  {
   "cell_type": "code",
   "execution_count": 35,
   "metadata": {
    "collapsed": true
   },
   "outputs": [],
   "source": [
    "# First set up the right-hand side RHS) of the equation\n",
    "def f(x,y):\n",
    "    f=zeros(1)            # sets up RHS as a vector (here of just one element)\n",
    "    f[0]=y[0]*(1.0-y[0])  # RHS; note that y is also a vector\n",
    "    return f"
   ]
  },
  {
   "cell_type": "code",
   "execution_count": 36,
   "metadata": {
    "collapsed": false
   },
   "outputs": [
    {
     "name": "stdout",
     "output_type": "stream",
     "text": [
      "\n",
      "        x         y[ 0 ]  \n",
      "   0.0000e+00    1.0000e-01 \n",
      "   1.0000e+00    2.3197e-01 \n",
      "   2.0000e+00    4.5085e-01 \n",
      "   3.0000e+00    6.9057e-01 \n",
      "   4.0000e+00    8.5849e-01 \n",
      "   5.0000e+00    9.4283e-01 \n"
     ]
    },
    {
     "data": {
      "image/png": "[encoded data removed]",
      "text/plain": [
       "<matplotlib.figure.Figure at 0x19074892278>"
      ]
     },
     "metadata": {},
     "output_type": "display_data"
    }
   ],
   "source": [
    "# For solving a first order differential equation\n",
    "# Example: using Runge-Kutta of 4th order\n",
    "x = 0.0 #Integration Start Limit\n",
    "xStop = 5.0 #Integration End Limit\n",
    "\n",
    "y = array([0.1]) # Initial value of\n",
    "\n",
    "h = 0.001 # Step size\n",
    "freq = 1000 # Printout frequency - print the result every 1000 steps\n",
    "\n",
    "X,Y = integrate(f,x,y,xStop,h) # call the RK4 solver\n",
    "printSoln(X,Y,freq)            # Print the solution (code on SD)\n",
    "\n",
    "pl.plot(X,Y[:,0])              # Plot the solution\n",
    "pl.xlabel('Time')\n",
    "pl.ylabel('Population')\n",
    "pl.show()"
   ]
  },
  {
   "cell_type": "code",
   "execution_count": 37,
   "metadata": {
    "collapsed": true
   },
   "outputs": [],
   "source": [
    "# For solving a first order differential equation\n",
    "# Same example equation solved with the internal solver\n",
    "\n",
    "# First set up the right-hand side RHS) of the equation\n",
    "# NOTE THE DIFFERENT ORDER OF THE FUNCTION ARGUMENTS COMPARED TO ABOVE\n",
    "def g(y,x):\n",
    "    g=zeros(1)            # sets up RHS as a vector \n",
    "    g[0]=y[0]*(1.0-y[0])  # RHS; note that y is also a vector\n",
    "    return g"
   ]
  },
  {
   "cell_type": "code",
   "execution_count": 38,
   "metadata": {
    "collapsed": false
   },
   "outputs": [
    {
     "data": {
      "image/png": "[encoded data removed]",
      "text/plain": [
       "<matplotlib.figure.Figure at 0x19075871128>"
      ]
     },
     "metadata": {},
     "output_type": "display_data"
    }
   ],
   "source": [
    "x=np.linspace(0,5,100) # where do we want the solution\n",
    "\n",
    "y0=array([0.1])        # initial condition\n",
    "\n",
    "z=scipy.integrate.odeint(g,y0,x) # call the solver\n",
    "z=z.reshape(np.size(x))          # reformat the answer\n",
    "\n",
    "pl.plot(x,z)              # Plot the solution\n",
    "pl.xlabel('Time')\n",
    "pl.ylabel('Population')\n",
    "pl.show()"
   ]
  },
  {
   "cell_type": "code",
   "execution_count": 39,
   "metadata": {
    "collapsed": false
   },
   "outputs": [
    {
     "name": "stdout",
     "output_type": "stream",
     "text": [
      "\n",
      "        x         y[ 0 ]        y[ 1 ]  \n",
      "   0.0000e+00    1.0000e-01    3.0000e-02 \n",
      "   1.0000e+00    2.6454e-01    4.8052e-03 \n",
      "   2.0000e+00    7.1571e-01    1.0230e-03 \n",
      "   3.0000e+00    1.9430e+00    4.7308e-04 \n",
      "   4.0000e+00    5.2735e+00    1.7999e-03 \n",
      "   5.0000e+00    1.0558e+01    1.3727e+00 \n",
      "   6.0000e+00    5.9415e-02    1.4783e+00 \n",
      "   7.0000e+00    4.4089e-02    2.0868e-01 \n",
      "   8.0000e+00    9.9717e-02    3.0180e-02 \n",
      "   9.0000e+00    2.6375e-01    4.8316e-03 \n",
      "   1.0000e+01    7.1355e-01    1.0272e-03 \n"
     ]
    },
    {
     "data": {
      "image/png": "[encoded data removed]",
      "text/plain": [
       "<matplotlib.figure.Figure at 0x1907585f4a8>"
      ]
     },
     "metadata": {},
     "output_type": "display_data"
    }
   ],
   "source": [
    "# For solving two interlinked differential equations\n",
    "# Define right-hand sides of equations (into a vector!). \n",
    "# 'y', containing all functions to be solved for, is also a vector \n",
    "def F(x,y,a=1.0,b=2.0,c=1.0,d=2.0):\n",
    "    F = zeros(2)\n",
    "    F[0] = y[0]*(a-b*y[1])\n",
    "    F[1] = y[1]*(c*y[0]-d)\n",
    "    return F\n",
    "\n",
    "x = 0.0 # Start of integration\n",
    "xStop = 10.0 # End of integration\n",
    "y = array([0.1, 0.03]) # Initial values of {y}\n",
    "h = 0.05 # Step size\n",
    "freq = 20 # Printout frequency\n",
    "X,Y = integrate(F,x,y,xStop,h)\n",
    "printSoln(X,Y,freq)\n",
    "pl.plot(X,Y[:,0],label='Rabbit population')\n",
    "pl.plot(X,Y[:,1],label='Fox population')\n",
    "pl.xlabel('Time')\n",
    "pl.legend()\n",
    "pl.show()"
   ]
  },
  {
   "cell_type": "code",
   "execution_count": 40,
   "metadata": {
    "collapsed": false
   },
   "outputs": [
    {
     "data": {
      "image/png": "[encoded data removed]",
      "text/plain": [
       "<matplotlib.figure.Figure at 0x190758f4208>"
      ]
     },
     "metadata": {},
     "output_type": "display_data"
    }
   ],
   "source": [
    "# Define the right hand side\n",
    "def f(y,t):\n",
    "    return y**2-y**3\n",
    "\n",
    "# Parameter\n",
    "delta=0.001\n",
    "# Where do we want the solution?\n",
    "x=np.linspace(0,2./delta,100)\n",
    "# Call the solver\n",
    "z=scipy.integrate.odeint(f,delta,x)\n",
    "z=z.reshape(np.size(x))          # reformat the answer\n",
    "\n",
    "pl.plot(x,z)              # Plot the solution\n",
    "pl.xlabel('Time')\n",
    "pl.ylabel('Position')\n",
    "pl.show()"
   ]
  }
 ],
 "metadata": {
  "anaconda-cloud": {},
  "kernelspec": {
   "display_name": "Python 3",
   "language": "python",
   "name": "python3"
  },
  "language_info": {
   "codemirror_mode": {
    "name": "ipython",
    "version": 3
   },
   "file_extension": ".py",
   "mimetype": "text/x-python",
   "name": "python",
   "nbconvert_exporter": "python",
   "pygments_lexer": "ipython3",
   "version": "3.6.0"
  }
 },
 "nbformat": 4,
 "nbformat_minor": 1
}
