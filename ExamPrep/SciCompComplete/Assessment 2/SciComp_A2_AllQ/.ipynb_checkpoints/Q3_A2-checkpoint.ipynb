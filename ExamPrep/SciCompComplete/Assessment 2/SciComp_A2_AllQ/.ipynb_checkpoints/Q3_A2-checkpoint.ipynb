{
 "cells": [
  {
   "cell_type": "markdown",
   "metadata": {},
   "source": [
    "### 3a\n",
    "# Showing the general expression for the period of a simple pedulum:\n",
    "\n",
    "### Use energy cosiderations. Change in gravitational potential and kinetic energy. Make the assumtion that no energy is \"lost\" between potential to kinetic.\n",
    "\n",
    "Change in Potential Energey $ \\Delta U = mgh$\n",
    "\n",
    "Change in kinetic Energy $ \\Delta E_k = \\frac{1}{2} mv^2$\n",
    "\n",
    "where $m$ is the mass of the bob, $g$ is acceration due to gravity, $h$ is the change in hight and $v$ is the the tangential velocity of the bob.\n",
    "\n",
    "<a title=\"By Krishnavedala (Own work) [CC0], via Wikimedia Commons\" href=\"https://commons.wikimedia.org/wiki/File%3ASimple_pendulum_height.svg\"><img width=\"512\" alt=\"Simple pendulum height\" src=\"https://upload.wikimedia.org/wikipedia/commons/thumb/1/11/Simple_pendulum_height.svg/512px-Simple_pendulum_height.svg.png\"/></a>\n",
    "Diagram by Krishnavedala and is public domain.\n",
    "#### Step 1: Using Arc Length to substite $v$.\n",
    "\n",
    "As no energy is \"lost\".\n",
    "$ \\Delta U =  \\Delta E_k = mgh =  \\frac{1}{2} mv^2 \\implies v= \\sqrt{2gh} $\n",
    "\n",
    "Now, arc length formula is as follows:\n",
    "\n",
    "$s=r \\theta \\implies \\frac{ds}{dt} = v = r \\frac{d \\theta }{dt}$\n",
    "\n",
    "$r=l$\n",
    "\n",
    "So, $v = l \\frac{d \\theta }{dt}$\n",
    "\n",
    "$ \\therefore \\ l \\frac{d \\theta }{dt} =  \\sqrt{2gh} \\implies \\frac{d \\theta }{dt} =  \\frac{\\sqrt{2gh}}{l}$\n",
    "\n",
    "we now have a differential equation relating the change in angle with time.\n",
    "\n",
    "#### Step 2: Substituting $h$ for known quantities in $\\theta$.\n",
    "\n",
    "Can see from the diagram,\n",
    "\n",
    "$h = y_1-y_0$\n",
    "\n",
    "and \n",
    "\n",
    "$y_1 = lcos(\\theta)$\n",
    "\n",
    "\n",
    "$y_0 = lcos(\\theta_0)$\n",
    "\n",
    "$\\implies h=l(cos(\\theta)-cos(\\theta_0)$\n",
    "\n",
    "$ \\therefore \\ \\frac{d \\theta }{dt} =  \\frac{\\sqrt{2gl(cos(\\theta)-cos(\\theta_0)}}{l} = \\sqrt{\\frac{2g(cos(\\theta)-cos(\\theta_0)}{l}}$\n",
    "\n",
    "We now have a solveable differential equation for the time period. However, This is only for a quater of the pendulums journey. \n",
    "\n",
    "#### Step 3: Integrating for the period, T.\n",
    "\n",
    "Solve by seperation of variables.\n",
    "\n",
    "$\\frac{d \\theta }{dt} = \\sqrt{\\frac{2g(cos(\\theta)-cos(\\theta_0)}{l}} \\implies \\int \\sqrt{\\frac{l}{g}} \\frac{d \\theta }{\\sqrt{2(cos(\\theta)-cos(\\theta_0)}} = \\int {dt} \\implies \\int \\sqrt{\\frac{l}{g}} \\frac{d \\theta }{\\sqrt{2(cos(\\theta)-cos(\\theta_0)}} = \\frac{T}{4}$\n",
    "\n",
    "However, as stated about the expression only discribes one quater of the distance required to make a full period. The equation needs to be multiplied by four, for the actual time period.\n",
    "\n",
    "$T =   4\\int_{0}^{\\frac{\\pi}{2}} \\sqrt{\\frac{l}{g}} \\frac{d \\theta }{\\sqrt{2(cos(\\theta)-cos(\\theta_0)}} $\n",
    "\n",
    "Which is precisely:\n",
    "\n",
    "$T =   4\\sqrt{\\frac{l}{g}} h(\\theta_0)$\n",
    "\n",
    "given\n",
    "\n",
    "$h(\\theta_0) = \\int_{0}^{\\frac{\\pi}{2}} \\frac{d \\theta }{\\sqrt{2(cos(\\theta)-cos(\\theta_0)}} $\n"
   ]
  },
  {
   "cell_type": "code",
   "execution_count": 1,
   "metadata": {},
   "outputs": [
    {
     "data": {
      "image/png": "[encoded data removed]",
      "text/plain": [
       "<matplotlib.figure.Figure at 0x2566847bd68>"
      ]
     },
     "metadata": {},
     "output_type": "display_data"
    },
    {
     "name": "stdout",
     "output_type": "stream",
     "text": [
      "There are no calculated values in this interval with relative error less than 1%\n",
      "This does not mean that there are no values, just no calculated values.\n"
     ]
    }
   ],
   "source": [
    "#3b\n",
    "import numpy as np\n",
    "import scipy.integrate as scint\n",
    "import matplotlib.pyplot as plt\n",
    "import pylab\n",
    "\n",
    "#Set Theta0 to always be pi/2\n",
    "def hT(Theta):\n",
    "    return 1/(np.sqrt(2*(np.cos(Theta)-np.cos(np.pi/2))))\n",
    "\n",
    "h=[]\n",
    "h0=[] #When Theta0=0, h(Theta0)=pi/2\n",
    "\n",
    "for i in np.arange (0,(np.pi/2),(np.pi/2)/100):\n",
    "    h2,errh=scint.quad(hT,0.0,i)\n",
    "    h.append(h2)\n",
    "    h0.append(np.pi/2)\n",
    "    \n",
    "#Plot showing h(0)=pi/2 and h(Theta0) as Theta increases.\n",
    "Theta=np.arange (0,(np.pi/2),(np.pi/2)/100)\n",
    "plt.plot(Theta, h,'-',label='The Value of h(theta0)')\n",
    "plt.plot(Theta,h0,'--',label='h=pi/2')\n",
    "pylab.legend()\n",
    "plt.show()\n",
    "\n",
    "\n",
    "#Now want to find the point where the relative error is no greater than 1% (0.01).\n",
    "\n",
    "RelErr=[]\n",
    "thetaVals=[]\n",
    "for i in range(100):\n",
    "    rE=((h0[i]-h[i])/h0[i])\n",
    "    if abs(rE)<=0.01:\n",
    "        thetaVals.append(h0[i])\n",
    "    else:\n",
    "        RelErr.append(abs(rE))\n",
    "if len(RelErr)==len(h0):\n",
    "    print ('There are no calculated values in this interval with relative error less than 1%\\nThis does not mean that there are no values, just no calculated values.')\n",
    "\n",
    "##\n",
    "'''If I repeat the process over a greater number of values over the interval I may find values with relative error less than or equal to 1%.\n",
    "I could alternativly curve fit and then solve for solutions that fit this criteria.'''\n",
    "##\n",
    "\n",
    "#I will increase the number of values over the interval by 10 to 1000.\n",
    "\n",
    "h=[]\n",
    "h0=[] #When Theta0=0, h(Theta0)=pi/2\n",
    "\n",
    "for i in np.arange (0,(np.pi/2),(np.pi/2)/1000):\n",
    "    h2,errh=scint.quad(hT,0.0,i)\n",
    "    h.append(h2)\n",
    "    h0.append(np.pi/2)\n",
    "\n",
    "RelErr=[]\n",
    "thetaVals=[]\n",
    "for i in range(1000):\n",
    "    rE=((h0[i]-h[i])/h0[i])\n",
    "    if abs(rE)<=0.01:\n",
    "        thetaVals.append(h0[i])\n",
    "    else:\n",
    "        RelErr.append(abs(rE))\n",
    "if len(RelErr)==len(h0):\n",
    "    print ('There are no calculated values in this interval with relative error less than 1%\\nThis does not mean that there are no values, just no calculated values.')"
   ]
  },
  {
   "cell_type": "markdown",
   "metadata": {
    "collapsed": true
   },
   "source": [
    "Hello, I just wanted to put this note at the bottom to say I could not get my head around what was going on for 3b. I felt it was poorly worded at dificult to understand. Its currently 5:57am and I have no clue what is going on anymore and I can't get my head around why my additional method doesn't seem to work. Sorry, J. Parker."
   ]
  }
 ],
 "metadata": {
  "kernelspec": {
   "display_name": "Python 3",
   "language": "python",
   "name": "python3"
  },
  "language_info": {
   "codemirror_mode": {
    "name": "ipython",
    "version": 3
   },
   "file_extension": ".py",
   "mimetype": "text/x-python",
   "name": "python",
   "nbconvert_exporter": "python",
   "pygments_lexer": "ipython3",
   "version": "3.6.2"
  }
 },
 "nbformat": 4,
 "nbformat_minor": 2
}
