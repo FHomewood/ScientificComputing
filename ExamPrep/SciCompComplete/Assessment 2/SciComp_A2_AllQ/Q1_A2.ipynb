{
 "cells": [
  {
   "cell_type": "markdown",
   "metadata": {},
   "source": [
    "### 1a\n",
    "# Showing the equation for r:\n",
    "\n",
    "\n",
    "\n",
    "### Newton's law of universal gravitation applied to work out the Earth's pull on the satellite ($F_{Es}$) and the Moon's pull on the satellite ($F_{Ms}$).\n",
    "### Newton's law of universal gravitation:\n",
    "$F=\\frac{Gm_1m_2}{r^2}$\n",
    "Where $m_1$ is the mass of the first body (in my general convention, the more massive body), $m_2$ is the mass of the second body, $G$ is Newton's Gravitational Constant and $r$ is the distance between their centers of mass.\n",
    "\n",
    "\n",
    "<a href=\"https://imgur.com/Sri3LjI\"><img src=\"https://i.imgur.com/Sri3LjI.png\" title=\"source: imgur.com\" /></a>\n",
    "\n",
    "\n",
    "$F_{Es}=\\frac{GMm_s}{r^2}$\n",
    "\n",
    "\n",
    "$F_{Ms}=\\frac{Gmm_s}{(R-r)^2}$\n",
    "\n",
    "\n",
    "### Newtons second law is then applied and as we assume circular orbits it takes the form: \n",
    "$\\Sigma F=ma=\\frac{mv^2}{r}=m\\omega^2r$\n",
    "\n",
    "As the satellite is in circular orbit, it experiences centripetal force  which is caused by the forces of attraction from the Earth and the Moon.\n",
    "\n",
    "So Newtons second law becomes:\n",
    "\n",
    "$\\Sigma F=F_{Es}-F_{Ms} = \\frac {GMm_s}{r^2} - \\frac{Gmm_s}{(R-r)^2} = m_s\\omega^2r \\implies \\frac {GM}{r^2} - \\frac{Gm}{(R-r)^2} = \\omega^2r$"
   ]
  },
  {
   "cell_type": "code",
   "execution_count": 1,
   "metadata": {},
   "outputs": [
    {
     "name": "stdout",
     "output_type": "stream",
     "text": [
      "The L1 Legrange point is located at: 3.260e+08 meters from the Earth\n"
     ]
    }
   ],
   "source": [
    "#1b\n",
    "from newtonRaphson import * #The only module needed. Note to self, Takes for args. The function, the differential, at start point and end point\n",
    "\n",
    "G,M,m,R,omega=6.674e-11, 5.974e24, 7.348e22, 3.844e8, 2.662e-6\n",
    "\n",
    "def f(r):\n",
    "    return G*M/r**2 - G*m/(R-r)**2 - r*omega**2\n",
    "def df(r):\n",
    "    return -2*G*M/r**3 - (2*G*m)/(R-r)**3 - omega**2\n",
    "\n",
    "print ('The L1 Legrange point is located at: '\"{:.3e}\".format(newtonRaphson(f,df,R/2,R-1.74e6)),'meters from the Earth') #1.74e6 is the radius of the moon sourced from Principles of Physics (10th Ed), Appendix C"
   ]
  }
 ],
 "metadata": {
  "kernelspec": {
   "display_name": "Python 3",
   "language": "python",
   "name": "python3"
  },
  "language_info": {
   "codemirror_mode": {
    "name": "ipython",
    "version": 3
   },
   "file_extension": ".py",
   "mimetype": "text/x-python",
   "name": "python",
   "nbconvert_exporter": "python",
   "pygments_lexer": "ipython3",
   "version": "3.6.2"
  }
 },
 "nbformat": 4,
 "nbformat_minor": 2
}
