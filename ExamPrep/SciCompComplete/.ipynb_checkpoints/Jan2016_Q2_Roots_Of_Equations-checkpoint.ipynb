{
 "cells": [
  {
   "cell_type": "markdown",
   "metadata": {},
   "source": [
    "### 2. Wien’s displacement constant:"
   ]
  },
  {
   "cell_type": "markdown",
   "metadata": {},
   "source": [
    "$I(\\lambda) = \\frac{2 \\pi h c^2 \\lambda^{-5}}{e^{\\frac{h c}{\\lambda k_B T} -1}}$\n",
    "\n",
    "###### Let\n",
    "\n",
    "$A = \\frac{h c}{k_B T}$ and $B = 2 \\pi h c^2$\n",
    "\n",
    "$\\implies I( \\lambda) = \\frac{B\\lambda^{-5}}{e^{\\frac{A}{\\lambda} -1}}$\n",
    "\n",
    "###### Using The product rule:\n",
    "\n",
    "$f = B \\lambda^{-5}$ , $g = ({e^{\\frac{A}{\\lambda}}} -1)^{-1}$\n",
    "\n",
    "$f^{'} = -5 B \\lambda^{-6}$ , $g^{'} = ({e^{\\frac{A}{\\lambda}}} -1)^{-2} \\cdot A \\frac{e^{\\frac{A}{\\lambda}}}{ \\lambda ^ 2} $\n",
    "\n",
    "$\\frac{dI( \\lambda)}{d( \\lambda} = fg^{'} + gf^{'} = B \\lambda^{-5} \\cdot \n",
    "({e^{\\frac{A}{\\lambda}}} -1)^{-2} \\cdot A \\frac{e^{\\frac{A}{\\lambda}}}{ \\lambda ^ 2} + ({e^{\\frac{A}{\\lambda}}} -1)^{-1} \\cdot -5 B \\lambda^{-6} = 0$\n",
    "\n",
    "$\\implies \\frac{B A e^{\\frac{A}{\\lambda}}}{ \\lambda ^ 7 ({e^{\\frac{A}{\\lambda}}} -1)^2} - \\frac{5 B}{ \\lambda ^ 6 ({e^{\\frac{A}{\\lambda}}} -1)} = 0$\n",
    "\n",
    "$\\implies \\frac{A e^{\\frac{A}{\\lambda}} }{ \\lambda ({e^{\\frac{A}{\\lambda}}} -1) } - 5 = 0$\n",
    "\n",
    "$\\implies \\frac{A e^{\\frac{A}{\\lambda}} }{ \\lambda } - 5 e^{\\frac{A}{\\lambda}} +5 = 0$\n",
    "\n",
    "$\\implies \\frac{A}{ \\lambda } - 5 +5 e^{-\\frac{A}{\\lambda}} = 0$\n",
    "\n",
    "Now Substuting A back in:\n",
    "\n",
    "$\\implies \\frac{h c}{\\lambda k_B T } - 5 +5 e^{-\\frac{h c}{\\lambda k_B T }} = 0$ (1)\n",
    "\n",
    "###### Now making the substitution:\n",
    "\n",
    "$ x = \\frac{hc}{ \\lambda k_B T}$\n",
    "\n",
    "(1) $\\implies 5 e^{-x} + x -5 = 0$\n",
    "\n",
    "###### We can now  solve for x :"
   ]
  },
  {
   "cell_type": "code",
   "execution_count": 11,
   "metadata": {
    "collapsed": false
   },
   "outputs": [
    {
     "name": "stdout",
     "output_type": "stream",
     "text": [
      "x= 0, 4.965114\n",
      "Wiens displacment constant is: 0.071437\n"
     ]
    }
   ],
   "source": [
    "#ii\n",
    "#Can see imediatly that x=0 is a solution. to find the other will use scipy optimise.\n",
    "import numpy as np\n",
    "import scipy as sci\n",
    "from scipy import optimize\n",
    "\n",
    "def f(x):\n",
    "    return np.array([5*np.exp(-x[0])+x[0]-5])\n",
    "\n",
    "# Initial guess for the roots (e.g. from plotting the two functions) - again a vector\n",
    "x0=np.array([5.0])\n",
    "\n",
    "roots_solve=sci.optimize.fsolve(f,x0)\n",
    "print(\"x= 0,\",np.round(roots_solve[0],6))\n",
    "\n",
    "h,c,k=6.62607004e-34, 2.99792458e8, 1.38064852e-23 #m^2kg/s, m/s, m^2kg/sK\n",
    "b=h*c/k*roots_solve[0]\n",
    "print(\"Wiens displacment constant is:\", np.round(b,6))\n"
   ]
  },
  {
   "cell_type": "code",
   "execution_count": 14,
   "metadata": {
    "collapsed": false
   },
   "outputs": [
    {
     "name": "stdout",
     "output_type": "stream",
     "text": [
      "My estimated temperature of the sun is: 142304.7 Degrees Kelvin.\n"
     ]
    }
   ],
   "source": [
    "#iii\n",
    "wL=502e-9 #m\n",
    "print(\"My estimated temperature of the sun is:\", np.round(b/wL,1),\"Degrees Kelvin.\")\n",
    "#WRONG"
   ]
  }
 ],
 "metadata": {
  "kernelspec": {
   "display_name": "Python 3",
   "language": "python",
   "name": "python3"
  },
  "language_info": {
   "codemirror_mode": {
    "name": "ipython",
    "version": 3
   },
   "file_extension": ".py",
   "mimetype": "text/x-python",
   "name": "python",
   "nbconvert_exporter": "python",
   "pygments_lexer": "ipython3",
   "version": "3.6.0"
  }
 },
 "nbformat": 4,
 "nbformat_minor": 2
}
