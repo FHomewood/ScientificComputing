{
 "cells": [
  {
   "cell_type": "markdown",
   "metadata": {},
   "source": [
    "### 1. Period of an anharmonic oscillator:\n",
    "### i)\n",
    "#### Step 1:\n",
    "Set\n",
    "\n",
    "$E =  \\frac{1}{2}m (\\frac{dx}{dt})^2 + V(x) = V(a)$.\n",
    "\n",
    "#### Step 2:\n",
    "\n",
    "Rearrange $ V(a) =  \\frac{1}{2}m (\\frac{dx}{dt})^2 + V(x)$ for $\\frac{dx}{dt}$\n",
    "\n",
    "$\\implies \\frac{dx}{dt} = \\sqrt{\\frac{2(V(a)-V(x))}{m}}$\n",
    "\n",
    "#### Step 3:\n",
    "\n",
    "Seperate variables and integrate with respect to $t$ from $0$ to $\\frac{1}{4}T$ and with respect to $a$ from $0$ to $a$:\n",
    "\n",
    "$\\frac{dx}{dt} = \\sqrt{\\frac{2(V(a)-V(x))}{m}}$\n",
    "$\\implies \\int\\limits_0^a\\sqrt{\\frac{m}{2(V(a)-V(x))}} dx =\\int\\limits_0^{\\frac{1}{4}T}dt$\n",
    "$\\implies \\sqrt{\\frac{m}{2}}\\int\\limits_0^a\\sqrt{\\frac{1}{(V(a)-V(x))}} dx = \\frac{1}{4}T$\n",
    "$\\implies T = \\sqrt{8m}\\int\\limits_0^a\\frac{dx}{\\sqrt{(V(a)-V(x))}}$\n"
   ]
  },
  {
   "cell_type": "code",
   "execution_count": 1,
   "metadata": {
    "collapsed": false,
    "scrolled": true
   },
   "outputs": [
    {
     "data": {
      "image/png": "[encoded data removed]",
      "text/plain": [
       "<matplotlib.figure.Figure at 0x1a48f0ae400>"
      ]
     },
     "metadata": {},
     "output_type": "display_data"
    }
   ],
   "source": [
    "#ii)\n",
    "#Need to use a method of Numerical Integration\n",
    "import scipy.integrate as scint\n",
    "import numpy as np\n",
    "import matplotlib.pyplot as plt \n",
    "\n",
    "def f(x):\n",
    "    return np.sqrt(8/(a**4-x**4)) #Defining the function needing integration.\n",
    "\n",
    "T=[]\n",
    "T_err=[]\n",
    "for a in np.linspace(0.01,2.0): #Though it says between 0 and 2 cannot be done as and means we are dividing by 0 at the begining \n",
    "    T1,errT1=scint.quad(f,0,a) # Gives two outputs the answer and the error on that answer -> needs two places to put them.\n",
    "    T.append(T1) #adding each new valut to a list for both T and the errors. \n",
    "    T_err.append(errT1) \n",
    "\n",
    "plt.plot(np.linspace(0.01,2.0), np.asarray(T)) #need to be in arrays of equal length. linspace is already an array and T is converted into one.\n",
    "plt.ylim(0,50) #Setting axis limits\n",
    "plt.title('Period, T VS. Amplitudes, a')\n",
    "plt.ylabel('Period, T (Seconds)')\n",
    "plt.xlabel('Amplitude, a (Meters)')\n",
    "plt.show()"
   ]
  },
  {
   "cell_type": "markdown",
   "metadata": {},
   "source": [
    "### iii)\n",
    "\n",
    "When the amplitude becomes goes to zero the period becomes infinatly long. This makes sense as when the amplitude is zero the particle is not ocsillating, the particle is at a standstill.\n",
    "As the aplitude increases the particle **does** get faster; this is due to I dont f-ing know"
   ]
  },
  {
   "cell_type": "markdown",
   "metadata": {},
   "source": [
    "\n"
   ]
  }
 ],
 "metadata": {
  "kernelspec": {
   "display_name": "Python 3",
   "language": "python",
   "name": "python3"
  },
  "language_info": {
   "codemirror_mode": {
    "name": "ipython",
    "version": 3
   },
   "file_extension": ".py",
   "mimetype": "text/x-python",
   "name": "python",
   "nbconvert_exporter": "python",
   "pygments_lexer": "ipython3",
   "version": "3.6.0"
  }
 },
 "nbformat": 4,
 "nbformat_minor": 2
}
