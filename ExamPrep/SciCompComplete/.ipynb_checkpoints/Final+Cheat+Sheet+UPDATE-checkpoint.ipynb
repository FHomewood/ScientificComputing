{
 "cells": [
  {
   "cell_type": "code",
   "execution_count": 1,
   "metadata": {
    "collapsed": false
   },
   "outputs": [],
   "source": [
    "import numpy"
   ]
  },
  {
   "cell_type": "code",
   "execution_count": 2,
   "metadata": {
    "collapsed": false
   },
   "outputs": [
    {
     "name": "stdout",
     "output_type": "stream",
     "text": [
      "Populating the interactive namespace from numpy and matplotlib\n"
     ]
    }
   ],
   "source": [
    "%pylab inline"
   ]
  },
  {
   "cell_type": "code",
   "execution_count": 3,
   "metadata": {
    "collapsed": false
   },
   "outputs": [
    {
     "data": {
      "text/plain": [
       "'n:\\\\documents\\\\SciCompComplete'"
      ]
     },
     "execution_count": 3,
     "metadata": {},
     "output_type": "execute_result"
    }
   ],
   "source": [
    "pwd #import crap with this"
   ]
  },
  {
   "cell_type": "code",
   "execution_count": 4,
   "metadata": {
    "collapsed": false
   },
   "outputs": [
    {
     "ename": "ModuleNotFoundError",
     "evalue": "No module named 'gaussElimin'",
     "output_type": "error",
     "traceback": [
      "\u001b[0;31m---------------------------------------------------------------------------\u001b[0m",
      "\u001b[0;31mModuleNotFoundError\u001b[0m                       Traceback (most recent call last)",
      "\u001b[0;32m<ipython-input-4-822ec64a29ef>\u001b[0m in \u001b[0;36m<module>\u001b[0;34m()\u001b[0m\n\u001b[1;32m     11\u001b[0m \u001b[1;32mfrom\u001b[0m \u001b[0mscipy\u001b[0m\u001b[1;33m.\u001b[0m\u001b[0moptimize\u001b[0m \u001b[1;32mimport\u001b[0m \u001b[0mcurve_fit\u001b[0m\u001b[1;33m\u001b[0m\u001b[0m\n\u001b[1;32m     12\u001b[0m \u001b[1;32mimport\u001b[0m \u001b[0mpylab\u001b[0m \u001b[1;32mas\u001b[0m \u001b[0mpl\u001b[0m\u001b[1;33m\u001b[0m\u001b[0m\n\u001b[0;32m---> 13\u001b[0;31m \u001b[1;32mfrom\u001b[0m \u001b[0mgaussElimin\u001b[0m \u001b[1;32mimport\u001b[0m \u001b[1;33m*\u001b[0m\u001b[1;33m\u001b[0m\u001b[0m\n\u001b[0m\u001b[1;32m     14\u001b[0m \u001b[1;32mfrom\u001b[0m \u001b[0mgaussPivot\u001b[0m \u001b[1;32mimport\u001b[0m \u001b[1;33m*\u001b[0m\u001b[1;33m\u001b[0m\u001b[0m\n\u001b[1;32m     15\u001b[0m \u001b[1;33m\u001b[0m\u001b[0m\n",
      "\u001b[0;31mModuleNotFoundError\u001b[0m: No module named 'gaussElimin'"
     ]
    }
   ],
   "source": [
    "import numpy\n",
    "import matplotlib.pyplot as pl\n",
    "import scipy\n",
    "from scipy import integrate\n",
    "from pylab import *\n",
    "import numpy as np\n",
    "from numpy import zeros, array, asarray, dot, linspace, size, sin, cos, tan, pi, exp, random, linalg \n",
    "import scipy as sci\n",
    "from scipy import optimize, integrate\n",
    "from scipy.interpolate import interp1d, barycentric_interpolate\n",
    "from scipy.optimize import curve_fit\n",
    "import pylab as pl\n",
    "from gaussElimin import *\n",
    "from gaussPivot import *\n",
    "\n",
    "from ridder import *\n",
    "from newtonRaphson import *\n",
    "from newtonRaphson2 import *\n",
    "from printSoln import *\n",
    "import run_kut4 as runkut\n",
    "\n",
    "import time\n",
    "from scipy import interpolate, optimize\n",
    "from numpy import *"
   ]
  },
  {
   "cell_type": "code",
   "execution_count": null,
   "metadata": {
    "collapsed": true
   },
   "outputs": [],
   "source": []
  },
  {
   "cell_type": "markdown",
   "metadata": {},
   "source": [
    "$$ Making-Matricies $$"
   ]
  },
  {
   "cell_type": "code",
   "execution_count": null,
   "metadata": {
    "collapsed": false
   },
   "outputs": [],
   "source": [
    "from numpy import array,float\n",
    "a=array([[2.0,1.0],[3.0,4.0]])\n",
    "print(a)"
   ]
  },
  {
   "cell_type": "code",
   "execution_count": null,
   "metadata": {
    "collapsed": false
   },
   "outputs": [],
   "source": [
    "b=(numpy.zeros((2,2)))\n",
    "print (b)"
   ]
  },
  {
   "cell_type": "code",
   "execution_count": null,
   "metadata": {
    "collapsed": false
   },
   "outputs": [],
   "source": [
    "c=(numpy.arange(10,20,2))\n",
    "print (c)"
   ]
  },
  {
   "cell_type": "code",
   "execution_count": null,
   "metadata": {
    "collapsed": false
   },
   "outputs": [],
   "source": [
    "d = numpy.linspace(0,8,9).reshape(3,3)\n",
    "print(d)"
   ]
  },
  {
   "cell_type": "code",
   "execution_count": null,
   "metadata": {
    "collapsed": false
   },
   "outputs": [],
   "source": [
    "d[0]=[2,3,5]    # Change a row\n",
    "d[1,1]=6        # Change an element\n",
    "d[2,0:2]=[8,-3] # Change part of a row\n",
    "print(d)"
   ]
  },
  {
   "cell_type": "markdown",
   "metadata": {},
   "source": [
    "$$ Creating-matricies-of-functions $$"
   ]
  },
  {
   "cell_type": "code",
   "execution_count": null,
   "metadata": {
    "collapsed": true
   },
   "outputs": [],
   "source": [
    "def f(x):\n",
    "    return x**3     # sample function\n",
    "\n",
    "n = 5           # no of points in [0,1]\n",
    "dx = 1.0/(n-1)  # x spacing\n",
    "xlist = [i*dx for i in range(n)]\n",
    "ylist = [f(x) for x in xlist]"
   ]
  },
  {
   "cell_type": "code",
   "execution_count": null,
   "metadata": {
    "collapsed": false
   },
   "outputs": [],
   "source": [
    "import numpy as np\n",
    "x2 = np.array(xlist)\n",
    "y2 = np.array(ylist)\n",
    "print(x2,y2)"
   ]
  },
  {
   "cell_type": "code",
   "execution_count": null,
   "metadata": {
    "collapsed": false
   },
   "outputs": [],
   "source": [
    "n = 5                     # number of points\n",
    "x3 = np.linspace(0, 1, n) # n points in [0, 1]\n",
    "y3 = np.zeros(n) # n zeros (float data type)\n",
    "\n",
    "\n",
    "\n",
    "for i in range(n):\n",
    "    y3[i] = f(x3[i])\n",
    "    print(x3,y3)"
   ]
  },
  {
   "cell_type": "code",
   "execution_count": null,
   "metadata": {
    "collapsed": false
   },
   "outputs": [],
   "source": [
    "from numpy.linalg import inv,solve\n",
    "print(inv(a)) # Matrix inverse\n",
    "print(solve(a,b)) # Solve the system of equations [A]{x} = {b}"
   ]
  },
  {
   "cell_type": "markdown",
   "metadata": {},
   "source": [
    "$$ Plotting $$"
   ]
  },
  {
   "cell_type": "code",
   "execution_count": null,
   "metadata": {
    "collapsed": true
   },
   "outputs": [],
   "source": [
    "import numpy as np\n",
    "import matplotlib.pyplot as plt"
   ]
  },
  {
   "cell_type": "code",
   "execution_count": null,
   "metadata": {
    "collapsed": false
   },
   "outputs": [],
   "source": [
    "def f(x):\n",
    "    return x**2\n",
    "dx = 1\n",
    "x0 = [i*dx for i in range (-5,6)]\n",
    "y = [f(x) for x in x0]"
   ]
  },
  {
   "cell_type": "code",
   "execution_count": null,
   "metadata": {
    "collapsed": false
   },
   "outputs": [],
   "source": [
    "x1 = np.array(x0)\n",
    "y1 = np.array(y)\n",
    "print (x1,y1)"
   ]
  },
  {
   "cell_type": "markdown",
   "metadata": {},
   "source": [
    "$$ Fitting-data-to-graphs $$"
   ]
  },
  {
   "cell_type": "code",
   "execution_count": null,
   "metadata": {
    "collapsed": false
   },
   "outputs": [],
   "source": [
    "plt.plot(x1,y1,':rs') #:rs = dotted red squares\n",
    "plt.xlabel(\"X crap\")\n",
    "plt.ylabel(\"Y crap\")\n",
    "plt.axis([-6,6,-1,30])\n",
    "plt.legend('$$')\n",
    "plt.show()"
   ]
  },
  {
   "cell_type": "markdown",
   "metadata": {},
   "source": [
    "$$ Plotting:Ae^{-kx}*cos(2pi*nu*x) $$"
   ]
  },
  {
   "cell_type": "code",
   "execution_count": null,
   "metadata": {
    "collapsed": false
   },
   "outputs": [],
   "source": [
    "#parameters\n",
    "A, nu, k = 10, 4, 2\n",
    "\n",
    "#function for creating the data points to be interpolated\n",
    "def f(x, A, nu, k):\n",
    "    return A * np.exp(-k*x) * np.cos(2*np.pi * nu * x)\n",
    "\n",
    "#create the data points to be interpolated\n",
    "xmax, nx = 0.5, 8 \n",
    "x = np.linspace(0, xmax, nx) #(starting point, end point, number of points)\n",
    "y = f(x, A, nu, k)  #X and Y are the data points"
   ]
  },
  {
   "cell_type": "code",
   "execution_count": null,
   "metadata": {
    "collapsed": false
   },
   "outputs": [],
   "source": [
    "#Polynomial Fit\n",
    "#generate the points where we want to evaluate the interpolating functions\n",
    "x0 = np.linspace(0, xmax, 100)\n",
    "\n",
    "#polynomial rpolinterpolation - this gives vector y where the polynomial is already evaluated\n",
    "y0 = (barycentric_interpolate(x, y, x0)) #X0 and Y0 are polynomial fitted data\n",
    "print(y0)"
   ]
  },
  {
   "cell_type": "code",
   "execution_count": null,
   "metadata": {
    "collapsed": false
   },
   "outputs": [],
   "source": [
    "# splines: linear and cubic\n",
    "f_linear  = interp1d(x, y)\n",
    "f_cubic   = interp1d(x, y, kind='cubic')"
   ]
  },
  {
   "cell_type": "code",
   "execution_count": null,
   "metadata": {
    "collapsed": false
   },
   "outputs": [],
   "source": [
    "#plot all results and the original data\n",
    "pl.plot(x, y, 'o', label='data points')\n",
    "\n",
    "pl.plot(x0, y0, label='polynomial')\n",
    "\n",
    "pl.plot(x0, f_linear(x0), label='linear')\n",
    "\n",
    "pl.plot(x0, f_cubic(x0), label='cubic')\n",
    "\n",
    "pl.legend()\n",
    "pl.show()"
   ]
  },
  {
   "cell_type": "markdown",
   "metadata": {
    "collapsed": true
   },
   "source": [
    "$$ Solving-Equations $$"
   ]
  },
  {
   "cell_type": "code",
   "execution_count": null,
   "metadata": {
    "collapsed": false
   },
   "outputs": [],
   "source": [
    "pwd\n"
   ]
  },
  {
   "cell_type": "code",
   "execution_count": null,
   "metadata": {
    "collapsed": true
   },
   "outputs": [],
   "source": [
    "from bisection import *\n",
    "from ridder import *"
   ]
  },
  {
   "cell_type": "code",
   "execution_count": null,
   "metadata": {
    "collapsed": false
   },
   "outputs": [],
   "source": [
    "# Import the required modules\n",
    "import numpy as np\n",
    "import pylab as pl\n",
    "import scipy as sci\n",
    "from scipy import optimize\n",
    "from newtonRaphson import *"
   ]
  },
  {
   "cell_type": "code",
   "execution_count": null,
   "metadata": {
    "collapsed": false
   },
   "outputs": [],
   "source": [
    "# First set up the system of equations - note that it is a vector of equations!\n",
    "def f(x):\n",
    "    return np.array([x[0]**2+x[1]**2-3,x[0]*x[1]-1])\n",
    "# Initial guess for the roots (e.g. from plotting the two functions) - again a vector\n",
    "x0=np.array([0.5,1.5])"
   ]
  },
  {
   "cell_type": "code",
   "execution_count": null,
   "metadata": {
    "collapsed": false
   },
   "outputs": [],
   "source": [
    "roots_solve=sci.optimize.fsolve(f,x0)\n",
    "print(roots_solve)"
   ]
  },
  {
   "cell_type": "markdown",
   "metadata": {
    "collapsed": true
   },
   "source": [
    "$$ Intergrating $$"
   ]
  },
  {
   "cell_type": "code",
   "execution_count": null,
   "metadata": {
    "collapsed": true
   },
   "outputs": [],
   "source": [
    "import scipy\n",
    "from scipy import integrate\n",
    "from pylab import *\n",
    "from scipy import interpolate, optimize\n",
    "from numpy import *"
   ]
  },
  {
   "cell_type": "code",
   "execution_count": null,
   "metadata": {
    "collapsed": false
   },
   "outputs": [],
   "source": [
    "def f(t):\n",
    "    return -t**(2.0)+(3.0)*t+3.0"
   ]
  },
  {
   "cell_type": "code",
   "execution_count": null,
   "metadata": {
    "collapsed": false
   },
   "outputs": [],
   "source": [
    "from trapezoid import *\n",
    "from romberg import *"
   ]
  },
  {
   "cell_type": "code",
   "execution_count": null,
   "metadata": {
    "collapsed": false
   },
   "outputs": [],
   "source": [
    "scipy.integrate.romberg(f,-4.0,3.0)"
   ]
  },
  {
   "cell_type": "code",
   "execution_count": null,
   "metadata": {
    "collapsed": false
   },
   "outputs": [],
   "source": [
    "scipy.integrate.quad(f,-4.0,3.0)"
   ]
  },
  {
   "cell_type": "code",
   "execution_count": null,
   "metadata": {
    "collapsed": false
   },
   "outputs": [],
   "source": [
    "#Trapezoid method example\n",
    "r = zeros(21) # we will be storing the results here\n",
    "r[1] = trapezoid(f,1.0,3.0,1.0,3) # first call is special, since no  \n",
    "                                            # result to be refined yet exists\n",
    "for k in range(2,21):\n",
    "    r[k] = trapezoid(f,-4.0,3.0,r[k-1],k) # refinements of the answer using ever more points \n",
    "    \n",
    "result=r[20]\n",
    "print('Trapezoid method result: ',result)"
   ]
  },
  {
   "cell_type": "code",
   "execution_count": null,
   "metadata": {
    "collapsed": true
   },
   "outputs": [],
   "source": [
    "from scipy.integrate import quad as sciquad"
   ]
  },
  {
   "cell_type": "code",
   "execution_count": null,
   "metadata": {
    "collapsed": false
   },
   "outputs": [],
   "source": [
    "sciquad(f,-4.0,3.0) #wut how work wut"
   ]
  },
  {
   "cell_type": "markdown",
   "metadata": {},
   "source": [
    "$$ Solving-Differential-Equations $$"
   ]
  },
  {
   "cell_type": "code",
   "execution_count": null,
   "metadata": {
    "collapsed": true
   },
   "outputs": [],
   "source": [
    "from printSoln import *\n",
    "from run_kut4 import *\n",
    "import pylab as pl"
   ]
  },
  {
   "cell_type": "code",
   "execution_count": null,
   "metadata": {
    "collapsed": true
   },
   "outputs": [],
   "source": [
    "# First set up the right-hand side RHS) of the equation\n",
    "def f(x,y):\n",
    "    f=zeros(1)            # sets up RHS as a vector (here of just one element)\n",
    "    f[0]=y[0]*(1.0-y[0])  # RHS; note that y is also a vector\n",
    "    return f"
   ]
  },
  {
   "cell_type": "code",
   "execution_count": null,
   "metadata": {
    "collapsed": false
   },
   "outputs": [],
   "source": [
    "# For solving a first order differential equation\n",
    "# Example: using Runge-Kutta of 4th order\n",
    "x = 0.0 #Integration Start Limit\n",
    "xStop = 5.0 #Integration End Limit\n",
    "\n",
    "y = array([0.1]) # Initial value of\n",
    "\n",
    "h = 0.001 # Step size\n",
    "freq = 1000 # Printout frequency - print the result every 1000 steps\n",
    "\n",
    "X,Y = integrate(f,x,y,xStop,h) # call the RK4 solver\n",
    "printSoln(X,Y,freq)            # Print the solution (code on SD)\n",
    "\n",
    "pl.plot(X,Y[:,0])              # Plot the solution\n",
    "pl.xlabel('Time')\n",
    "pl.ylabel('Population')\n",
    "pl.show()"
   ]
  },
  {
   "cell_type": "code",
   "execution_count": null,
   "metadata": {
    "collapsed": true
   },
   "outputs": [],
   "source": [
    "# For solving a first order differential equation\n",
    "# Same example equation solved with the internal solver\n",
    "\n",
    "# First set up the right-hand side RHS) of the equation\n",
    "# NOTE THE DIFFERENT ORDER OF THE FUNCTION ARGUMENTS COMPARED TO ABOVE\n",
    "def g(y,x):\n",
    "    g=zeros(1)            # sets up RHS as a vector \n",
    "    g[0]=y[0]*(1.0-y[0])  # RHS; note that y is also a vector\n",
    "    return g"
   ]
  },
  {
   "cell_type": "code",
   "execution_count": null,
   "metadata": {
    "collapsed": false
   },
   "outputs": [],
   "source": [
    "x=np.linspace(0,5,100) # where do we want the solution\n",
    "\n",
    "y0=array([0.1])        # initial condition\n",
    "\n",
    "z=scipy.integrate.odeint(g,y0,x) # call the solver\n",
    "z=z.reshape(np.size(x))          # reformat the answer\n",
    "\n",
    "pl.plot(x,z)              # Plot the solution\n",
    "pl.xlabel('Time')\n",
    "pl.ylabel('Population')\n",
    "pl.show()"
   ]
  },
  {
   "cell_type": "code",
   "execution_count": null,
   "metadata": {
    "collapsed": false
   },
   "outputs": [],
   "source": [
    "# For solving two interlinked differential equations\n",
    "# Define right-hand sides of equations (into a vector!). \n",
    "# 'y', containing all functions to be solved for, is also a vector \n",
    "def F(x,y,a=1.0,b=2.0,c=1.0,d=2.0):\n",
    "    F = zeros(2)\n",
    "    F[0] = y[0]*(a-b*y[1])\n",
    "    F[1] = y[1]*(c*y[0]-d)\n",
    "    return F\n",
    "\n",
    "x = 0.0 # Start of integration\n",
    "xStop = 10.0 # End of integration\n",
    "y = array([0.1, 0.03]) # Initial values of {y}\n",
    "h = 0.05 # Step size\n",
    "freq = 20 # Printout frequency\n",
    "X,Y = integrate(F,x,y,xStop,h)\n",
    "printSoln(X,Y,freq)\n",
    "pl.plot(X,Y[:,0],label='Rabbit population')\n",
    "pl.plot(X,Y[:,1],label='Fox population')\n",
    "pl.xlabel('Time')\n",
    "pl.legend()\n",
    "pl.show()"
   ]
  },
  {
   "cell_type": "code",
   "execution_count": null,
   "metadata": {
    "collapsed": false
   },
   "outputs": [],
   "source": [
    "# Define the right hand side\n",
    "def f(y,t):\n",
    "    return y**2-y**3\n",
    "\n",
    "# Parameter\n",
    "delta=0.001\n",
    "# Where do we want the solution?\n",
    "x=np.linspace(0,2./delta,100)\n",
    "# Call the solver\n",
    "z=scipy.integrate.odeint(f,delta,x)\n",
    "z=z.reshape(np.size(x))          # reformat the answer\n",
    "\n",
    "pl.plot(x,z)              # Plot the solution\n",
    "pl.xlabel('Time')\n",
    "pl.ylabel('Position')\n",
    "pl.show()"
   ]
  },
  {
   "cell_type": "code",
   "execution_count": null,
   "metadata": {
    "collapsed": true
   },
   "outputs": [],
   "source": []
  },
  {
   "cell_type": "code",
   "execution_count": null,
   "metadata": {
    "collapsed": true
   },
   "outputs": [],
   "source": []
  },
  {
   "cell_type": "code",
   "execution_count": null,
   "metadata": {
    "collapsed": true
   },
   "outputs": [],
   "source": []
  },
  {
   "cell_type": "code",
   "execution_count": null,
   "metadata": {
    "collapsed": true
   },
   "outputs": [],
   "source": []
  },
  {
   "cell_type": "code",
   "execution_count": null,
   "metadata": {
    "collapsed": true
   },
   "outputs": [],
   "source": []
  },
  {
   "cell_type": "code",
   "execution_count": null,
   "metadata": {
    "collapsed": true
   },
   "outputs": [],
   "source": []
  }
 ],
 "metadata": {
  "anaconda-cloud": {},
  "kernelspec": {
   "display_name": "Python 3",
   "language": "python",
   "name": "python3"
  },
  "language_info": {
   "codemirror_mode": {
    "name": "ipython",
    "version": 3
   },
   "file_extension": ".py",
   "mimetype": "text/x-python",
   "name": "python",
   "nbconvert_exporter": "python",
   "pygments_lexer": "ipython3",
   "version": "3.6.0"
  }
 },
 "nbformat": 4,
 "nbformat_minor": 1
}
