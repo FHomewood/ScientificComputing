{
 "cells": [
  {
   "cell_type": "code",
   "execution_count": 1,
   "metadata": {
    "collapsed": false
   },
   "outputs": [
    {
     "name": "stdout",
     "output_type": "stream",
     "text": [
      "Populating the interactive namespace from numpy and matplotlib\n"
     ]
    }
   ],
   "source": [
    "%pylab inline"
   ]
  },
  {
   "cell_type": "code",
   "execution_count": 16,
   "metadata": {
    "collapsed": true
   },
   "outputs": [],
   "source": [
    "# Import the required modules\n",
    "import numpy as np\n",
    "import pylab as pl\n",
    "import scipy as sci\n",
    "from scipy import optimize\n",
    "from ridder import *\n",
    "from newtonRaphson import *\n",
    "from bisection import *"
   ]
  },
  {
   "cell_type": "markdown",
   "metadata": {},
   "source": [
    "## Solving algebraic equations\n",
    "\n",
    "**Problem**: Solve the equation $$x-cos(x)=0$$."
   ]
  },
  {
   "cell_type": "code",
   "execution_count": 24,
   "metadata": {
    "collapsed": false
   },
   "outputs": [
    {
     "data": {
      "text/plain": [
       "[<matplotlib.lines.Line2D at 0x2ac76b4b2410>]"
      ]
     },
     "execution_count": 24,
     "metadata": {},
     "output_type": "execute_result"
    },
    {
     "data": {
      "image/png": "[encoded data removed]",
      "text/plain": [
       "<matplotlib.figure.Figure at 0x2ac76b395b10>"
      ]
     },
     "metadata": {},
     "output_type": "display_data"
    }
   ],
   "source": [
    "# First plot the function to see how many roots it might have and roughly where they are\n",
    "x=np.linspace(-2,2,1000)\n",
    "y=x-np.cos(x)\n",
    "plot(x,y)"
   ]
  },
  {
   "cell_type": "code",
   "execution_count": 25,
   "metadata": {
    "collapsed": true
   },
   "outputs": [],
   "source": [
    "# Define the function in f(x)=0 and its derivative (latter needed for the Newton method) \n",
    "def f(z):\n",
    "    return z-np.cos(z)\n",
    "\n",
    "def df(z):\n",
    "    return 1.0-np.sin(z)"
   ]
  },
  {
   "cell_type": "code",
   "execution_count": 26,
   "metadata": {
    "collapsed": false
   },
   "outputs": [
    {
     "name": "stdout",
     "output_type": "stream",
     "text": [
      "will need  29  bisections\n",
      "0.739085133187\n"
     ]
    }
   ],
   "source": [
    "# Bisection method - needs the function, root bracketing interval and tolerance \n",
    "root_bisection=bisection(f,0.0,1.0,1.e-12)\n",
    "print(root_bisection)"
   ]
  },
  {
   "cell_type": "code",
   "execution_count": 27,
   "metadata": {
    "collapsed": false
   },
   "outputs": [
    {
     "name": "stdout",
     "output_type": "stream",
     "text": [
      "0.739085133215\n"
     ]
    }
   ],
   "source": [
    "# Ridder's method - needs the function and root bracketing interval\n",
    "root_ridder = ridder(f,0.,1.)\n",
    "print(root_ridder)"
   ]
  },
  {
   "cell_type": "code",
   "execution_count": 28,
   "metadata": {
    "collapsed": false
   },
   "outputs": [
    {
     "name": "stdout",
     "output_type": "stream",
     "text": [
      "0.739085133501\n"
     ]
    }
   ],
   "source": [
    "# Newton-Raphson method - needs the function, its derivative and root bracketing interval\n",
    "root_newton = newtonRaphson(f,df,0.,1.)\n",
    "print(root_newton)"
   ]
  },
  {
   "cell_type": "code",
   "execution_count": 29,
   "metadata": {
    "collapsed": false
   },
   "outputs": [
    {
     "name": "stdout",
     "output_type": "stream",
     "text": [
      "[ 0.73908513]\n"
     ]
    }
   ],
   "source": [
    "# Internal ('fsolve') routine - needs the function and a rough estimate of the root only\n",
    "# (plus some optional arguments - e.g. tolerance, see help for details)\n",
    "root_solve=sci.optimize.fsolve(f,0.5)\n",
    "print(root_solve)"
   ]
  },
  {
   "cell_type": "markdown",
   "metadata": {},
   "source": [
    "## Roots of polynomials\n",
    "\n",
    "**Problem**: Find the roots of the polynomial $$f(x) = x^4 − 6.4x^3 + 6.45x^2 + 20.538x − 31.752$$.\n"
   ]
  },
  {
   "cell_type": "code",
   "execution_count": 46,
   "metadata": {
    "collapsed": false
   },
   "outputs": [
    {
     "data": {
      "text/plain": [
       "array([-1.8       ,  4.        ,  2.09999997,  2.10000003])"
      ]
     },
     "execution_count": 46,
     "metadata": {},
     "output_type": "execute_result"
    }
   ],
   "source": [
    "coeff = [1.0,-6.4,6.45,20.538,-31.752]\n",
    "np.roots(coeff)\n"
   ]
  },
  {
   "cell_type": "markdown",
   "metadata": {},
   "source": [
    "## Solving systems of algebraic equations\n",
    "\n",
    "**Problem**: Determine the points of intersection between the circle $x^2 + y^2 = 3$ and the hyperbola $xy = 1$.\n"
   ]
  },
  {
   "cell_type": "code",
   "execution_count": 35,
   "metadata": {
    "collapsed": true
   },
   "outputs": [],
   "source": [
    "# Newton-Raphson method for systems of equations\n",
    "from newtonRaphson2 import *\n",
    "\n",
    "# First set up the system of equations - note that it is a vector of equations!\n",
    "def f(x):\n",
    "    return np.array([x[0]**2+x[1]**2-3,x[0]*x[1]-1])"
   ]
  },
  {
   "cell_type": "code",
   "execution_count": 36,
   "metadata": {
    "collapsed": true
   },
   "outputs": [],
   "source": [
    "# Initial guess for the roots (e.g. from plotting the two functions) - again a vector\n",
    "x0=array([0.5,1.5])"
   ]
  },
  {
   "cell_type": "code",
   "execution_count": 48,
   "metadata": {
    "collapsed": false
   },
   "outputs": [
    {
     "name": "stdout",
     "output_type": "stream",
     "text": [
      "[ 0.61803399  1.61803399]\n",
      "[ 0.61803399  1.61803399]\n"
     ]
    }
   ],
   "source": [
    "# Call solver - requires the vector of functions and the vector of initial conditions, \n",
    "# as well as an optional tolerance\n",
    "roots=newtonRaphson2(f,x0,tol=1.e-9)\n",
    "print(roots)\n",
    "roots_solve=sci.optimize.fsolve(f,x0)\n",
    "print(roots_solve)"
   ]
  },
  {
   "cell_type": "markdown",
   "metadata": {},
   "source": [
    "**Question**: How many solutions in total does the system above have? \n",
    "\n",
    "**Answer**: While above roots are certainly correct, there are also several other solutions (again, plotting will help, or considering the properties of the system):\n",
    "\n",
    "±(0.618034, 1.618034) and ± (1.618034, 0.618034)\n",
    "\n",
    "are all solutions, since changing x<=>y or x<=>-x and y<=>-y also yield valid solutions."
   ]
  },
  {
   "cell_type": "code",
   "execution_count": null,
   "metadata": {
    "collapsed": true
   },
   "outputs": [],
   "source": []
  }
 ],
 "metadata": {
  "kernelspec": {
   "display_name": "Python [Root]",
   "language": "python",
   "name": "Python [Root]"
  },
  "language_info": {
   "codemirror_mode": {
    "name": "ipython",
    "version": 2
   },
   "file_extension": ".py",
   "mimetype": "text/x-python",
   "name": "python",
   "nbconvert_exporter": "python",
   "pygments_lexer": "ipython2",
   "version": "2.7.11"
  }
 },
 "nbformat": 4,
 "nbformat_minor": 0
}
