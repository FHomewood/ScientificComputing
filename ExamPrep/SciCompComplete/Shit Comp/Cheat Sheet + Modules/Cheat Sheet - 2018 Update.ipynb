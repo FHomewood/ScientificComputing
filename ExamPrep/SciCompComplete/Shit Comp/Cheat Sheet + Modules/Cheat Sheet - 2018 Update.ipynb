{
 "cells": [
  {
   "cell_type": "code",
   "execution_count": 1,
   "metadata": {
    "collapsed": true
   },
   "outputs": [],
   "source": [
    "import numpy"
   ]
  },
  {
   "cell_type": "code",
   "execution_count": 2,
   "metadata": {},
   "outputs": [
    {
     "name": "stdout",
     "output_type": "stream",
     "text": [
      "Populating the interactive namespace from numpy and matplotlib\n"
     ]
    }
   ],
   "source": [
    "%pylab inline"
   ]
  },
  {
   "cell_type": "code",
   "execution_count": 3,
   "metadata": {},
   "outputs": [
    {
     "data": {
      "text/plain": [
       "'C:\\\\Users\\\\nathaniel\\\\Downloads\\\\Shit Comp\\\\Cheat Sheet'"
      ]
     },
     "execution_count": 3,
     "metadata": {},
     "output_type": "execute_result"
    }
   ],
   "source": [
    "pwd #import crap with this"
   ]
  },
  {
   "cell_type": "markdown",
   "metadata": {},
   "source": [
    "$$ Making-Matricies $$"
   ]
  },
  {
   "cell_type": "code",
   "execution_count": 4,
   "metadata": {},
   "outputs": [
    {
     "name": "stdout",
     "output_type": "stream",
     "text": [
      "[[ 2.  1.]\n",
      " [ 3.  4.]]\n"
     ]
    }
   ],
   "source": [
    "from numpy import array,float\n",
    "a=array([[2.0,1.0],[3.0,4.0]])\n",
    "print(a)"
   ]
  },
  {
   "cell_type": "code",
   "execution_count": 5,
   "metadata": {},
   "outputs": [
    {
     "name": "stdout",
     "output_type": "stream",
     "text": [
      "[[ 0.  0.]\n",
      " [ 0.  0.]]\n"
     ]
    }
   ],
   "source": [
    "b=(numpy.zeros((2,2)))\n",
    "print (b)"
   ]
  },
  {
   "cell_type": "code",
   "execution_count": 6,
   "metadata": {},
   "outputs": [
    {
     "name": "stdout",
     "output_type": "stream",
     "text": [
      "[10 12 14 16 18]\n"
     ]
    }
   ],
   "source": [
    "c=(numpy.arange(10,20,2))\n",
    "print (c)"
   ]
  },
  {
   "cell_type": "code",
   "execution_count": 7,
   "metadata": {},
   "outputs": [
    {
     "name": "stdout",
     "output_type": "stream",
     "text": [
      "[[ 0.  1.  2.]\n",
      " [ 3.  4.  5.]\n",
      " [ 6.  7.  8.]]\n"
     ]
    }
   ],
   "source": [
    "d = numpy.linspace(0,8,9).reshape(3,3)\n",
    "print(d)"
   ]
  },
  {
   "cell_type": "code",
   "execution_count": 8,
   "metadata": {},
   "outputs": [
    {
     "name": "stdout",
     "output_type": "stream",
     "text": [
      "[[ 2.  3.  5.]\n",
      " [ 3.  6.  5.]\n",
      " [ 8. -3.  8.]]\n"
     ]
    }
   ],
   "source": [
    "d[0]=[2,3,5]    # Change a row\n",
    "d[1,1]=6        # Change an element\n",
    "d[2,0:2]=[8,-3] # Change part of a row\n",
    "print(d)"
   ]
  },
  {
   "cell_type": "markdown",
   "metadata": {},
   "source": [
    "$$ Creating-matricies-of-functions $$"
   ]
  },
  {
   "cell_type": "code",
   "execution_count": 9,
   "metadata": {
    "collapsed": true
   },
   "outputs": [],
   "source": [
    "def f(x):\n",
    "  return x**3     # sample function\n",
    "\n",
    "n = 5           # no of points in [0,1]\n",
    "dx = 1.0/(n-1)  # x spacing\n",
    "xlist = [i*dx for i in range(n)]\n",
    "ylist = [f(x) for x in xlist]"
   ]
  },
  {
   "cell_type": "code",
   "execution_count": 10,
   "metadata": {},
   "outputs": [
    {
     "name": "stdout",
     "output_type": "stream",
     "text": [
      "[ 0.    0.25  0.5   0.75  1.  ] [ 0.        0.015625  0.125     0.421875  1.      ]\n"
     ]
    }
   ],
   "source": [
    "import numpy as np\n",
    "x2 = np.array(xlist)\n",
    "y2 = np.array(ylist)\n",
    "print(x2,y2)"
   ]
  },
  {
   "cell_type": "code",
   "execution_count": 11,
   "metadata": {},
   "outputs": [
    {
     "name": "stdout",
     "output_type": "stream",
     "text": [
      "[ 0.    0.25  0.5   0.75  1.  ] [ 0.        0.015625  0.125     0.421875  1.      ]\n"
     ]
    }
   ],
   "source": [
    "n = 5                     # number of points\n",
    "x3 = np.linspace(0, 1, n) # n points in [0, 1]\n",
    "y3 = np.zeros(n)          # n zeros (float data type)\n",
    "for i in range(n):\n",
    "     y3[i] = f(x3[i])\n",
    "print(x3,y3)"
   ]
  },
  {
   "cell_type": "code",
   "execution_count": 12,
   "metadata": {},
   "outputs": [
    {
     "name": "stdout",
     "output_type": "stream",
     "text": [
      "[[ -4.50359963e+15   9.00719925e+15  -4.50359963e+15]\n",
      " [  9.00719925e+15  -1.80143985e+16   9.00719925e+15]\n",
      " [ -4.50359963e+15   9.00719925e+15  -4.50359963e+15]]\n",
      "[[ -3.60287970e+16  -9.90791918e+16   9.00719925e+15]\n",
      " [  7.20575940e+16   1.98158384e+17  -1.80143985e+16]\n",
      " [ -3.60287970e+16  -9.90791918e+16   9.00719925e+15]]\n"
     ]
    }
   ],
   "source": [
    "from numpy.linalg import inv,solve\n",
    "\n",
    "A = array([[1,2,3],[4,5,6],[7,8,9]])\n",
    "b = array([[11,20,6], [6,2,6],[9,6,4]])\n",
    "print(inv(A)) # Matrix inverse\n",
    "print(solve(A,b)) # Solve the system of equations [A]{x} = {b}"
   ]
  },
  {
   "cell_type": "markdown",
   "metadata": {},
   "source": [
    "$$ Plotting $$"
   ]
  },
  {
   "cell_type": "code",
   "execution_count": 13,
   "metadata": {
    "collapsed": true
   },
   "outputs": [],
   "source": [
    "import numpy as np\n",
    "import matplotlib.pyplot as plt"
   ]
  },
  {
   "cell_type": "code",
   "execution_count": 14,
   "metadata": {
    "collapsed": true
   },
   "outputs": [],
   "source": [
    "def f(x):\n",
    "    return x**2\n",
    "dx = 1\n",
    "x0 = [i*dx for i in range (-5,6)]\n",
    "y = [f(x) for x in x0]"
   ]
  },
  {
   "cell_type": "code",
   "execution_count": 15,
   "metadata": {},
   "outputs": [
    {
     "name": "stdout",
     "output_type": "stream",
     "text": [
      "[-5 -4 -3 -2 -1  0  1  2  3  4  5] [25 16  9  4  1  0  1  4  9 16 25]\n"
     ]
    }
   ],
   "source": [
    "x1 = np.array(x0)\n",
    "y1 = np.array(y)\n",
    "print (x1,y1)"
   ]
  },
  {
   "cell_type": "markdown",
   "metadata": {},
   "source": [
    "$$ Fitting-data-to-graphs $$"
   ]
  },
  {
   "cell_type": "code",
   "execution_count": 16,
   "metadata": {},
   "outputs": [
    {
     "data": {
      "image/png": "[encoded data removed]",
      "text/plain": [
       "<matplotlib.figure.Figure at 0x2516228e438>"
      ]
     },
     "metadata": {},
     "output_type": "display_data"
    }
   ],
   "source": [
    "plt.plot(x1,y1,':rs') #:rs = dotted red squares\n",
    "plt.xlabel(\"X crap\")\n",
    "plt.ylabel(\"Y crap\")\n",
    "plt.axis([-6,6,-1,30])\n",
    "plt.legend('$$')\n",
    "plt.show()"
   ]
  },
  {
   "cell_type": "markdown",
   "metadata": {},
   "source": [
    "$$ Plotting:Ae^{-kx}*cos(2pi*nu*x) $$"
   ]
  },
  {
   "cell_type": "code",
   "execution_count": 17,
   "metadata": {
    "collapsed": true
   },
   "outputs": [],
   "source": [
    "#parameters\n",
    "A, nu, k = 10, 4, 2\n",
    "\n",
    "#function for creating the data points to be interpolated\n",
    "def f(x, A, nu, k):\n",
    "    return A * np.exp(-k*x) * np.cos(2*np.pi * nu * x)\n",
    "\n",
    "#create the data points to be interpolated\n",
    "xmax, nx = 0.5, 8 \n",
    "x = np.linspace(0, xmax, nx) #(starting point, end point, number of points)\n",
    "y = f(x, A, nu, k)  #X and Y are the data points"
   ]
  },
  {
   "cell_type": "code",
   "execution_count": 18,
   "metadata": {
    "collapsed": true
   },
   "outputs": [],
   "source": [
    "from scipy.interpolate import barycentric_interpolate, interp1d\n",
    "#Polynomial Fit\n",
    "#generate the points where we want to evaluate the interpolating functions\n",
    "x0 = np.linspace(0, xmax, 100)\n",
    "\n",
    "#polynomial interpolation - this gives vector y where the polynomial is already evaluated\n",
    "y0 = barycentric_interpolate(x, y, x0) #X0 and Y0 are polynomial fitted data"
   ]
  },
  {
   "cell_type": "code",
   "execution_count": 19,
   "metadata": {
    "collapsed": true
   },
   "outputs": [],
   "source": [
    "# splines: linear and cubic\n",
    "f_linear  = interp1d(x, y)\n",
    "f_cubic   = interp1d(x, y, kind='cubic')"
   ]
  },
  {
   "cell_type": "code",
   "execution_count": 20,
   "metadata": {},
   "outputs": [
    {
     "data": {
      "image/png": "[encoded data removed]",
      "text/plain": [
       "<matplotlib.figure.Figure at 0x25162cc3ef0>"
      ]
     },
     "metadata": {},
     "output_type": "display_data"
    }
   ],
   "source": [
    "#plot all results and the original data\n",
    "pylab.plot(x, y, 'o', label='data points')\n",
    "\n",
    "pylab.plot(x0, y0, label='polynomial')\n",
    "\n",
    "pylab.plot(x0, f_linear(x0), label='linear')\n",
    "\n",
    "pylab.plot(x0, f_cubic(x0), label='cubic')\n",
    "\n",
    "pylab.legend()\n",
    "pylab.show()"
   ]
  },
  {
   "cell_type": "markdown",
   "metadata": {
    "collapsed": true
   },
   "source": [
    "$$ Solving-Equations $$"
   ]
  },
  {
   "cell_type": "code",
   "execution_count": 21,
   "metadata": {},
   "outputs": [
    {
     "data": {
      "text/plain": [
       "'C:\\\\Users\\\\nathaniel\\\\Downloads\\\\Shit Comp\\\\Cheat Sheet'"
      ]
     },
     "execution_count": 21,
     "metadata": {},
     "output_type": "execute_result"
    }
   ],
   "source": [
    "pwd\n"
   ]
  },
  {
   "cell_type": "code",
   "execution_count": 22,
   "metadata": {},
   "outputs": [],
   "source": [
    "from bisection import *\n",
    "from ridder import *"
   ]
  },
  {
   "cell_type": "code",
   "execution_count": 23,
   "metadata": {
    "collapsed": true
   },
   "outputs": [],
   "source": [
    "# Import the required modules\n",
    "import numpy as np\n",
    "import pylab as pl\n",
    "import scipy as sci\n",
    "from scipy import optimize\n",
    "from newtonRaphson import *"
   ]
  },
  {
   "cell_type": "code",
   "execution_count": 24,
   "metadata": {
    "collapsed": true
   },
   "outputs": [],
   "source": [
    "# First set up the system of equations - note that it is a vector of equations!\n",
    "def f(x):\n",
    "    return np.array([x[0]**2+x[1]**2-3,x[0]*x[1]-1])\n",
    "# Initial guess for the roots (e.g. from plotting the two functions) - again a vector\n",
    "x0=np.array([0.5,1.5])"
   ]
  },
  {
   "cell_type": "code",
   "execution_count": 25,
   "metadata": {},
   "outputs": [
    {
     "name": "stdout",
     "output_type": "stream",
     "text": [
      "[ 0.61803399  1.61803399]\n"
     ]
    }
   ],
   "source": [
    "roots_solve=sci.optimize.fsolve(f,x0)\n",
    "print(roots_solve)"
   ]
  },
  {
   "cell_type": "markdown",
   "metadata": {
    "collapsed": true
   },
   "source": [
    "$$ Intergrating $$"
   ]
  },
  {
   "cell_type": "code",
   "execution_count": 26,
   "metadata": {
    "collapsed": true
   },
   "outputs": [],
   "source": [
    "import scipy\n",
    "from scipy import integrate\n",
    "from pylab import *\n",
    "from scipy import interpolate, optimize\n",
    "from numpy import *"
   ]
  },
  {
   "cell_type": "code",
   "execution_count": 27,
   "metadata": {
    "collapsed": true
   },
   "outputs": [],
   "source": [
    "def f(t):\n",
    "    return -t**(2.0)+(3.0)*t+3.0"
   ]
  },
  {
   "cell_type": "code",
   "execution_count": 28,
   "metadata": {},
   "outputs": [],
   "source": [
    "from trapezoid import *\n",
    "from romberg import *"
   ]
  },
  {
   "cell_type": "code",
   "execution_count": 29,
   "metadata": {},
   "outputs": [
    {
     "data": {
      "text/plain": [
       "-19.833333333333332"
      ]
     },
     "execution_count": 29,
     "metadata": {},
     "output_type": "execute_result"
    }
   ],
   "source": [
    "scipy.integrate.romberg(f,-4.0,3.0)"
   ]
  },
  {
   "cell_type": "code",
   "execution_count": 30,
   "metadata": {},
   "outputs": [
    {
     "data": {
      "text/plain": [
       "(-19.833333333333336, 5.492400699398068e-13)"
      ]
     },
     "execution_count": 30,
     "metadata": {},
     "output_type": "execute_result"
    }
   ],
   "source": [
    "scipy.integrate.quad(f,-4.0,3.0)"
   ]
  },
  {
   "cell_type": "code",
   "execution_count": 31,
   "metadata": {},
   "outputs": [
    {
     "name": "stdout",
     "output_type": "stream",
     "text": [
      "Trapezoid method result:  -19.8331764541\n"
     ]
    }
   ],
   "source": [
    "#Trapezoid method example\n",
    "r = zeros(21) # we will be storing the results here\n",
    "r[1] = trapezoid(f,1.0,3.0,1.0,3) # first call is special, since no  \n",
    "                                            # result to be refined yet exists\n",
    "for k in range(2,21):\n",
    "    r[k] = trapezoid(f,-4.0,3.0,r[k-1],k) # refinements of the answer using ever more points \n",
    "    \n",
    "result=r[20]\n",
    "print('Trapezoid method result: ',result)"
   ]
  },
  {
   "cell_type": "markdown",
   "metadata": {},
   "source": [
    "$$ Solving-Differential-Equations $$"
   ]
  },
  {
   "cell_type": "code",
   "execution_count": 32,
   "metadata": {},
   "outputs": [],
   "source": [
    "from printSoln import *\n",
    "from run_kut4 import *\n",
    "import pylab as pl"
   ]
  },
  {
   "cell_type": "code",
   "execution_count": 33,
   "metadata": {
    "collapsed": true
   },
   "outputs": [],
   "source": [
    "# First set up the right-hand side RHS) of the equation\n",
    "def f(x,y):\n",
    "    f=zeros(1)            # sets up RHS as a vector (here of just one element)\n",
    "    f[0]=y[0]*(1.0-y[0])  # RHS; note that y is also a vector\n",
    "    return f"
   ]
  },
  {
   "cell_type": "code",
   "execution_count": 34,
   "metadata": {},
   "outputs": [
    {
     "name": "stdout",
     "output_type": "stream",
     "text": [
      "\n",
      "        x         y[ 0 ]  \n",
      "   0.0000e+00    1.0000e-01 \n",
      "   1.0000e+00    2.3197e-01 \n",
      "   2.0000e+00    4.5085e-01 \n",
      "   3.0000e+00    6.9057e-01 \n",
      "   4.0000e+00    8.5849e-01 \n",
      "   5.0000e+00    9.4283e-01 \n"
     ]
    },
    {
     "data": {
      "image/png": "[encoded data removed]",
      "text/plain": [
       "<matplotlib.figure.Figure at 0x25162d610b8>"
      ]
     },
     "metadata": {},
     "output_type": "display_data"
    }
   ],
   "source": [
    "# For solving a first order differential equation\n",
    "# Example: using Runge-Kutta of 4th order\n",
    "x = 0.0 #Integration Start Limit\n",
    "xStop = 5.0 #Integration End Limit\n",
    "\n",
    "y = array([0.1]) # Initial value of\n",
    "\n",
    "h = 0.001 # Step size\n",
    "freq = 1000 # Printout frequency - print the result every 1000 steps\n",
    "\n",
    "X,Y = integrate(f,x,y,xStop,h) # call the RK4 solver\n",
    "printSoln(X,Y,freq)            # Print the solution (code on SD)\n",
    "\n",
    "pl.plot(X,Y[:,0])              # Plot the solution\n",
    "pl.xlabel('Time')\n",
    "pl.ylabel('Population')\n",
    "pl.show()"
   ]
  },
  {
   "cell_type": "code",
   "execution_count": 35,
   "metadata": {
    "collapsed": true
   },
   "outputs": [],
   "source": [
    "# For solving a first order differential equation\n",
    "# Same example equation solved with the internal solver\n",
    "\n",
    "# First set up the right-hand side RHS) of the equation\n",
    "# NOTE THE DIFFERENT ORDER OF THE FUNCTION ARGUMENTS COMPARED TO ABOVE\n",
    "def g(y,x):\n",
    "    g=zeros(1)            # sets up RHS as a vector \n",
    "    g[0]=y[0]*(1.0-y[0])  # RHS; note that y is also a vector\n",
    "    return g"
   ]
  },
  {
   "cell_type": "code",
   "execution_count": 36,
   "metadata": {},
   "outputs": [
    {
     "data": {
      "image/png": "[encoded data removed]",
      "text/plain": [
       "<matplotlib.figure.Figure at 0x25162d24080>"
      ]
     },
     "metadata": {},
     "output_type": "display_data"
    }
   ],
   "source": [
    "x=np.linspace(0,5,100) # where do we want the solution\n",
    "\n",
    "y0=array([0.1])        # initial condition\n",
    "\n",
    "z=scipy.integrate.odeint(g,y0,x) # call the solver\n",
    "z=z.reshape(np.size(x))          # reformat the answer\n",
    "\n",
    "pl.plot(x,z)              # Plot the solution\n",
    "pl.xlabel('Time')\n",
    "pl.ylabel('Population')\n",
    "pl.show()"
   ]
  },
  {
   "cell_type": "code",
   "execution_count": 37,
   "metadata": {},
   "outputs": [
    {
     "name": "stdout",
     "output_type": "stream",
     "text": [
      "\n",
      "        x         y[ 0 ]        y[ 1 ]  \n",
      "   0.0000e+00    1.0000e-01    3.0000e-02 \n",
      "   1.0000e+00    2.6454e-01    4.8052e-03 \n",
      "   2.0000e+00    7.1571e-01    1.0230e-03 \n",
      "   3.0000e+00    1.9430e+00    4.7308e-04 \n",
      "   4.0000e+00    5.2735e+00    1.7999e-03 \n",
      "   5.0000e+00    1.0558e+01    1.3727e+00 \n",
      "   6.0000e+00    5.9415e-02    1.4783e+00 \n",
      "   7.0000e+00    4.4089e-02    2.0868e-01 \n",
      "   8.0000e+00    9.9717e-02    3.0180e-02 \n",
      "   9.0000e+00    2.6375e-01    4.8316e-03 \n",
      "   1.0000e+01    7.1355e-01    1.0272e-03 \n"
     ]
    },
    {
     "data": {
      "image/png": "[encoded data removed]",
      "text/plain": [
       "<matplotlib.figure.Figure at 0x251623892e8>"
      ]
     },
     "metadata": {},
     "output_type": "display_data"
    }
   ],
   "source": [
    "# For solving two interlinked differential equations\n",
    "# Define right-hand sides of equations (into a vector!). \n",
    "# 'y', containing all functions to be solved for, is also a vector \n",
    "def F(x,y,a=1.0,b=2.0,c=1.0,d=2.0):\n",
    "    F = zeros(2)\n",
    "    F[0] = y[0]*(a-b*y[1])\n",
    "    F[1] = y[1]*(c*y[0]-d)\n",
    "    return F\n",
    "\n",
    "x = 0.0 # Start of integration\n",
    "xStop = 10.0 # End of integration\n",
    "y = array([0.1, 0.03]) # Initial values of {y}\n",
    "h = 0.05 # Step size\n",
    "freq = 20 # Printout frequency\n",
    "X,Y = integrate(F,x,y,xStop,h)\n",
    "printSoln(X,Y,freq)\n",
    "pl.plot(X,Y[:,0],label='Rabbit population')\n",
    "pl.plot(X,Y[:,1],label='Fox population')\n",
    "pl.xlabel('Time')\n",
    "pl.legend()\n",
    "pl.show()"
   ]
  },
  {
   "cell_type": "code",
   "execution_count": 38,
   "metadata": {},
   "outputs": [
    {
     "data": {
      "image/png": "[encoded data removed]",
      "text/plain": [
       "<matplotlib.figure.Figure at 0x251622b7d68>"
      ]
     },
     "metadata": {},
     "output_type": "display_data"
    }
   ],
   "source": [
    "# Define the right hand side\n",
    "def f(y,t):\n",
    "    return y**2-y**3\n",
    "\n",
    "# Parameter\n",
    "delta=0.001\n",
    "# Where do we want the solution?\n",
    "x=np.linspace(0,2./delta,100)\n",
    "# Call the solver\n",
    "z=scipy.integrate.odeint(f,delta,x)\n",
    "z=z.reshape(np.size(x))          # reformat the answer\n",
    "\n",
    "pl.plot(x,z)              # Plot the solution\n",
    "pl.xlabel('Time')\n",
    "pl.ylabel('Position')\n",
    "pl.show()"
   ]
  },
  {
   "cell_type": "markdown",
   "metadata": {
    "collapsed": true
   },
   "source": [
    "$$Fourier-Transforms$$"
   ]
  },
  {
   "cell_type": "code",
   "execution_count": 39,
   "metadata": {},
   "outputs": [
    {
     "data": {
      "image/png": "[encoded data removed]",
      "text/plain": [
       "<matplotlib.figure.Figure at 0x25162e32da0>"
      ]
     },
     "metadata": {},
     "output_type": "display_data"
    }
   ],
   "source": [
    "from copy import *\n",
    "\n",
    "\n",
    "def compressor(f, n):\n",
    "    for i in range(len(f)):\n",
    "        if i > n:\n",
    "            f[i] = 0\n",
    "    return f\n",
    "\n",
    "#A function that compresses the fourier transform by setting all but the first n terms to 0\n",
    "\n",
    "func_data = []\n",
    "data_range = np.arange(0, 1, 0.001)\n",
    "\n",
    "for i in data_range:\n",
    "    if int(2*i) % 2 == 0:\n",
    "        k = 1\n",
    "    elif int(2*i) % 2 != 0:\n",
    "        k = -1\n",
    "        \n",
    "    func_data.append(k)\n",
    "    \n",
    "'''This block generates the function. It doubles every single value and then divides by two to see if it is even or odd.\n",
    "Thanks to a quirk of how python differentiates between integers and floats, if we do the division with a strict integer,\n",
    "it will round the result down to the next nearest integer!'''\n",
    "    \n",
    "fourier = rfft(func_data)\n",
    "\n",
    "#Fourier transforming the function\n",
    "\n",
    "fourier_copy1 = copy(fourier)\n",
    "fourier_copy2 = copy(fourier)\n",
    "fourier_copy3 = copy(fourier)\n",
    "\n",
    "#Making some copies of the transform which we will compress\n",
    "\n",
    "fourier_copy1 = compressor(fourier_copy1, 5)\n",
    "fourier_copy2 = compressor(fourier_copy2, 10)\n",
    "fourier_copy3 = compressor(fourier_copy3, 50)\n",
    "\n",
    "#compressing the transform with n=5, 10, 50\n",
    "        \n",
    "func_inverse1 = irfft(fourier_copy1)\n",
    "func_inverse2 = irfft(fourier_copy2)\n",
    "func_inverse3 = irfft(fourier_copy3)\n",
    "\n",
    "#We then invert the fourier transform, or take it back to the normal function space\n",
    "\n",
    "\n",
    "pl.plot(data_range, func_data, label=\"function\")\n",
    "pl.plot(data_range, func_inverse1, label=\"fourier transform with 5 non-zeros inversion\")\n",
    "pl.plot(data_range, func_inverse2, label=\"fourier transform with 10 non-zeros inversion\")\n",
    "pl.plot(data_range, func_inverse3, label=\"fourier transform with 50 non-zeros inversion\")\n",
    "pl.legend()\n",
    "pl.show()\n",
    "#Here we just plot it"
   ]
  },
  {
   "cell_type": "code",
   "execution_count": null,
   "metadata": {
    "collapsed": true
   },
   "outputs": [],
   "source": []
  }
 ],
 "metadata": {
  "anaconda-cloud": {},
  "kernelspec": {
   "display_name": "Python 3",
   "language": "python",
   "name": "python3"
  },
  "language_info": {
   "codemirror_mode": {
    "name": "ipython",
    "version": 3
   },
   "file_extension": ".py",
   "mimetype": "text/x-python",
   "name": "python",
   "nbconvert_exporter": "python",
   "pygments_lexer": "ipython3",
   "version": "3.6.2"
  }
 },
 "nbformat": 4,
 "nbformat_minor": 1
}
