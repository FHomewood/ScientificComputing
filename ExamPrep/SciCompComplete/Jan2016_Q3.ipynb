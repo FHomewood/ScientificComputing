{
 "cells": [
  {
   "cell_type": "markdown",
   "metadata": {},
   "source": [
    "#### Robotic Arm\n",
    "\n",
    "### 1a)\n",
    "\n",
    "#### The given equation:\n",
    "\n",
    "$\\frac{d^2\\theta}{dt^2} = \\frac{a(b- \\theta) - \\theta\\dot\\theta^2}{l+\\theta^2}$\n",
    "\n",
    "#### Can be made dimensionless by setting:\n",
    "$\\omega ^2= \\frac{g}{l}$ ; $ \\beta = \\frac{\\Omega}{\\omega}$ ; $\\gamma = \\frac{C}{\\omega ^2}$ and changing the variable to $ x = \\omega t$. \n",
    "\n",
    "#### First, differentiate $ x = \\omega t$ twice:\n",
    "$ x = \\omega t$\n",
    "\n",
    "$\\frac{dx}{dt} = \\omega$     (1)\n",
    "\n",
    "$\\frac{d^2x}{dt^2} = 0$     (2)\n",
    "#### Then by the chain rule;\n",
    "\n",
    "$ \\frac{d\\theta}{dt} = \\frac{d\\theta}{dx} \\frac{dx}{dt} = \\frac{d\\theta}{dx} \\omega$    (3) \n",
    "\n",
    "#### Therefore using the product rule:\n",
    "\n",
    "$ \\frac{d^2\\theta}{dt^2} =  \\frac{dx}{dt}  \\frac{d^2\\theta}{dtdx}  +  \\frac{d \\theta}{dx}\\frac{d^2x}{dt^2} \\implies \\frac{dx}{dt} \\cdot \\frac{d}{dx}(\\frac{d\\theta}{dt})  +  \\frac{d \\theta}{dx}\\frac{d^2x}{dt^2}$     (4)\n",
    "\n",
    "#### Substituting (1) and (2) into (4):\n",
    "\n",
    "$ \\frac{d^2\\theta}{dt^2} = \\omega \\cdot \\frac{d}{dx}(\\omega \\frac{d\\theta}{dx}) +  \\frac{d \\theta}{dx}\\cdot 0 = \\omega^2 \\frac{d^2\\theta}{dx^2}$ \n",
    "\n",
    "#### Finally, reconstructing the equation with the new constants and variable change it becomes:\n",
    "\n",
    "$\\omega^2 \\frac{d^2\\theta}{dx^2} = -\\omega^2 \\sin \\theta + \\omega^2 \\gamma \\cos \\theta \\sin \\omega \\beta t =  -\\omega^2 \\sin \\theta + \\omega^2 \\gamma \\cos \\theta \\sin x\\beta \\implies \\frac{d^2\\theta}{dx^2} =-\\sin \\theta + \\gamma \\cos \\theta \\sin x\\beta $\n",
    "\n",
    "#### Now seperate this second order into two first order D.E.s by introducing new variables:\n",
    "\n",
    "$ z = \\frac{d\\theta}{dx} \\rightarrow \\frac{dz}{dx} = \\frac{d^2\\theta}{dx^2} = -\\sin z_1 + \\gamma \\sin x\\beta \\cos z_1 $\n",
    "\n",
    "#### So:\n",
    "$ z = \\frac{d\\theta}{dx}$\n",
    "\n",
    "$\\frac{dz}{dx}= -\\sin \\theta + \\gamma \\sin x\\beta \\cos \\theta $"
   ]
  },
  {
   "cell_type": "code",
   "execution_count": 1,
   "metadata": {
    "collapsed": false
   },
   "outputs": [
    {
     "name": "stdout",
     "output_type": "stream",
     "text": [
      "[  6.28318531   8.31164133  11.86039837  15.04857031  17.68116111]\n",
      "[ 0.          6.83439176  6.88872601  5.82164725  4.7212729 ]\n"
     ]
    }
   ],
   "source": [
    "#def d2Theta:\n",
    " #   return a(b-theta)-\n",
    "\n",
    "# Import the required modules\n",
    "import numpy as np\n",
    "import scipy\n",
    "from printSoln import *\n",
    "from run_kut4 import *\n",
    "import pylab as pl\n",
    "\n",
    "\n",
    "a=100.0\n",
    "b=15.0\n",
    "# First set up the right-hand side RHS) of the equation\n",
    "def Eqs(x,y): #Theta is y \n",
    "    f=np.zeros(2)            # sets up RHS as a vector\n",
    "    f[0]=y[1]\n",
    "    #f[1]=-np.sin(y[0])+Gamma*np.sin(x*beta)*np.cos(y[0])  # RHS; note that z is also a vector\n",
    "    f[1]=(a*(b-y[0])-y[0]*(y[1]**2))/(1+(y[0]**2)) \n",
    "    return f\n",
    "\n",
    "# Using Runge-Kutta of 4th order\n",
    "\n",
    "y = np.array([2*np.pi, 0.0]) # Initial values\n",
    "\n",
    "#start at t=0 -> x=0 (as omega*t when t=0 is 0)\n",
    "x = 0.0 # Start of integration (Always use floats)\n",
    "\n",
    "#Finish at t=40s -> xStop= omega*40\n",
    "xStop = 2 # End of integration\n",
    "\n",
    "h = 0.5 # Step size\n",
    "\n",
    "\n",
    "X,Y = integrate(Eqs,x,y,xStop,h) # call the RK4 solver\n",
    "\n",
    "ThetaSol1=Y[:,0]\n",
    "dThetaSol1=Y[:,1]\n",
    "\n",
    "print (ThetaSol1)\n",
    "print (dThetaSol1)\n"
   ]
  },
  {
   "cell_type": "code",
   "execution_count": 3,
   "metadata": {
    "collapsed": false
   },
   "outputs": [
    {
     "ename": "TypeError",
     "evalue": "'float' object is not subscriptable",
     "output_type": "error",
     "traceback": [
      "\u001b[0;31m---------------------------------------------------------------------------\u001b[0m",
      "\u001b[0;31mTypeError\u001b[0m                                 Traceback (most recent call last)",
      "\u001b[0;32m<ipython-input-3-f3a5eb4bc5c1>\u001b[0m in \u001b[0;36m<module>\u001b[0;34m()\u001b[0m\n\u001b[1;32m     19\u001b[0m \u001b[1;33m\u001b[0m\u001b[0m\n\u001b[1;32m     20\u001b[0m \u001b[1;31m#now to solve for Theta (y is the programming) Using SciPy integrate\u001b[0m\u001b[1;33m\u001b[0m\u001b[1;33m\u001b[0m\u001b[0m\n\u001b[0;32m---> 21\u001b[0;31m \u001b[0my_Sol\u001b[0m\u001b[1;33m=\u001b[0m\u001b[0mintegrate\u001b[0m\u001b[1;33m.\u001b[0m\u001b[0modeint\u001b[0m\u001b[1;33m(\u001b[0m\u001b[0mf\u001b[0m\u001b[1;33m,\u001b[0m\u001b[0mt\u001b[0m\u001b[1;33m,\u001b[0m\u001b[0my\u001b[0m\u001b[1;33m,\u001b[0m\u001b[0mrtol\u001b[0m\u001b[1;33m=\u001b[0m\u001b[1;36m1e-3\u001b[0m\u001b[1;33m,\u001b[0m \u001b[0matol\u001b[0m\u001b[1;33m=\u001b[0m\u001b[1;36m1e-3\u001b[0m\u001b[1;33m)\u001b[0m\u001b[1;33m\u001b[0m\u001b[0m\n\u001b[0m\u001b[1;32m     22\u001b[0m \u001b[1;33m\u001b[0m\u001b[0m\n\u001b[1;32m     23\u001b[0m \u001b[1;31m#this creates two vectors, size 1 by 100 for each y, y[0] (theta) and y[1] (dtheta)\u001b[0m\u001b[1;33m\u001b[0m\u001b[1;33m\u001b[0m\u001b[0m\n",
      "\u001b[0;32mC:\\Program Files\\Anaconda\\lib\\site-packages\\scipy\\integrate\\odepack.py\u001b[0m in \u001b[0;36modeint\u001b[0;34m(func, y0, t, args, Dfun, col_deriv, full_output, ml, mu, rtol, atol, tcrit, h0, hmax, hmin, ixpr, mxstep, mxhnil, mxordn, mxords, printmessg)\u001b[0m\n\u001b[1;32m    213\u001b[0m     output = _odepack.odeint(func, y0, t, args, Dfun, col_deriv, ml, mu,\n\u001b[1;32m    214\u001b[0m                              \u001b[0mfull_output\u001b[0m\u001b[1;33m,\u001b[0m \u001b[0mrtol\u001b[0m\u001b[1;33m,\u001b[0m \u001b[0matol\u001b[0m\u001b[1;33m,\u001b[0m \u001b[0mtcrit\u001b[0m\u001b[1;33m,\u001b[0m \u001b[0mh0\u001b[0m\u001b[1;33m,\u001b[0m \u001b[0mhmax\u001b[0m\u001b[1;33m,\u001b[0m \u001b[0mhmin\u001b[0m\u001b[1;33m,\u001b[0m\u001b[1;33m\u001b[0m\u001b[0m\n\u001b[0;32m--> 215\u001b[0;31m                              ixpr, mxstep, mxhnil, mxordn, mxords)\n\u001b[0m\u001b[1;32m    216\u001b[0m     \u001b[1;32mif\u001b[0m \u001b[0moutput\u001b[0m\u001b[1;33m[\u001b[0m\u001b[1;33m-\u001b[0m\u001b[1;36m1\u001b[0m\u001b[1;33m]\u001b[0m \u001b[1;33m<\u001b[0m \u001b[1;36m0\u001b[0m\u001b[1;33m:\u001b[0m\u001b[1;33m\u001b[0m\u001b[0m\n\u001b[1;32m    217\u001b[0m         \u001b[0mwarning_msg\u001b[0m \u001b[1;33m=\u001b[0m \u001b[0m_msgs\u001b[0m\u001b[1;33m[\u001b[0m\u001b[0moutput\u001b[0m\u001b[1;33m[\u001b[0m\u001b[1;33m-\u001b[0m\u001b[1;36m1\u001b[0m\u001b[1;33m]\u001b[0m\u001b[1;33m]\u001b[0m \u001b[1;33m+\u001b[0m \u001b[1;34m\" Run with full_output = 1 to get quantitative information.\"\u001b[0m\u001b[1;33m\u001b[0m\u001b[0m\n",
      "\u001b[0;32m<ipython-input-3-f3a5eb4bc5c1>\u001b[0m in \u001b[0;36mf\u001b[0;34m(t, y)\u001b[0m\n\u001b[1;32m      6\u001b[0m \u001b[1;32mdef\u001b[0m \u001b[0mf\u001b[0m\u001b[1;33m(\u001b[0m\u001b[0mt\u001b[0m\u001b[1;33m,\u001b[0m\u001b[0my\u001b[0m\u001b[1;33m)\u001b[0m\u001b[1;33m:\u001b[0m\u001b[1;33m\u001b[0m\u001b[0m\n\u001b[1;32m      7\u001b[0m     \u001b[0mf\u001b[0m\u001b[1;33m=\u001b[0m\u001b[0mnp\u001b[0m\u001b[1;33m.\u001b[0m\u001b[0mzeros\u001b[0m\u001b[1;33m(\u001b[0m\u001b[1;36m2\u001b[0m\u001b[1;33m)\u001b[0m\u001b[1;33m\u001b[0m\u001b[0m\n\u001b[0;32m----> 8\u001b[0;31m     \u001b[0mf\u001b[0m\u001b[1;33m=\u001b[0m\u001b[0my\u001b[0m\u001b[1;33m[\u001b[0m\u001b[1;36m1\u001b[0m\u001b[1;33m]\u001b[0m\u001b[1;33m\u001b[0m\u001b[0m\n\u001b[0m\u001b[1;32m      9\u001b[0m     \u001b[0mf\u001b[0m\u001b[1;33m[\u001b[0m\u001b[1;36m1\u001b[0m\u001b[1;33m]\u001b[0m\u001b[1;33m=\u001b[0m\u001b[1;33m(\u001b[0m\u001b[0ma\u001b[0m\u001b[1;33m*\u001b[0m\u001b[1;33m(\u001b[0m\u001b[0mb\u001b[0m\u001b[1;33m-\u001b[0m\u001b[0my\u001b[0m\u001b[1;33m[\u001b[0m\u001b[1;36m0\u001b[0m\u001b[1;33m]\u001b[0m\u001b[1;33m)\u001b[0m\u001b[1;33m-\u001b[0m\u001b[0my\u001b[0m\u001b[1;33m[\u001b[0m\u001b[1;36m0\u001b[0m\u001b[1;33m]\u001b[0m\u001b[1;33m*\u001b[0m\u001b[1;33m(\u001b[0m\u001b[0my\u001b[0m\u001b[1;33m[\u001b[0m\u001b[1;36m1\u001b[0m\u001b[1;33m]\u001b[0m\u001b[1;33m**\u001b[0m\u001b[1;36m2\u001b[0m\u001b[1;33m)\u001b[0m\u001b[1;33m)\u001b[0m\u001b[1;33m/\u001b[0m\u001b[1;33m(\u001b[0m\u001b[1;36m1\u001b[0m\u001b[1;33m-\u001b[0m\u001b[0my\u001b[0m\u001b[1;33m[\u001b[0m\u001b[1;36m0\u001b[0m\u001b[1;33m]\u001b[0m\u001b[1;33m)\u001b[0m\u001b[1;33m\u001b[0m\u001b[0m\n\u001b[1;32m     10\u001b[0m     \u001b[1;32mreturn\u001b[0m \u001b[0mf\u001b[0m\u001b[1;33m\u001b[0m\u001b[0m\n",
      "\u001b[0;31mTypeError\u001b[0m: 'float' object is not subscriptable"
     ]
    }
   ],
   "source": [
    "import scipy as sci\n",
    "from scipy import integrate\n",
    "import numpy as np\n",
    "\n",
    "a,b=100,15\n",
    "def f(t,y):\n",
    "    f=np.zeros(2)\n",
    "    f[0]=y[1]\n",
    "    f[1]=(a*(b-y[0])-y[0]*(y[1]**2))/(1-y[0])\n",
    "    return f\n",
    "\n",
    "y=[2*np.pi, 0] # This is theta and dtheta initial conditions\n",
    "\n",
    "#wnat to integrate over a period of time that includes at 0 where theta is defined and the time we want 0.5s\n",
    "#use linspace to creat a vector of all the times\n",
    "t=np.linspace(0,10,100) \n",
    "#This is saying create a vector with element starting at 0 to 10\n",
    "# then divide the space evenly into 100ths\n",
    "\n",
    "#now to solve for Theta (y is the programming) Using SciPy integrate\n",
    "y_Sol=integrate.odeint(f,t,y,rtol=1e-3, atol=1e-3)\n",
    "\n",
    "#this creates two vectors, size 1 by 100 for each y, y[0] (theta) and y[1] (dtheta)\n",
    "#I will set these vector to variables\n",
    "Theta=y_Sol[:,0]\n",
    "dTheta=y_Sol[:,1]\n",
    "\n",
    "print (Theta,\"\\n\")\n",
    "print (dTheta)\n"
   ]
  }
 ],
 "metadata": {
  "kernelspec": {
   "display_name": "Python 3",
   "language": "python",
   "name": "python3"
  },
  "language_info": {
   "codemirror_mode": {
    "name": "ipython",
    "version": 3
   },
   "file_extension": ".py",
   "mimetype": "text/x-python",
   "name": "python",
   "nbconvert_exporter": "python",
   "pygments_lexer": "ipython3",
   "version": "3.6.0"
  }
 },
 "nbformat": 4,
 "nbformat_minor": 2
}
