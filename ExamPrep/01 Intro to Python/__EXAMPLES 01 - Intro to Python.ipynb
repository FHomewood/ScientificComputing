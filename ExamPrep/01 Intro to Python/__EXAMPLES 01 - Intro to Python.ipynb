{
 "cells": [
  {
   "cell_type": "markdown",
   "metadata": {
    "collapsed": true,
    "nbpresent": {
     "id": "e9045bcd-5849-4eda-b6e4-16f93323bd55"
    }
   },
   "source": [
    "# Scientific Computing: Introduction to Python\n",
    "\n",
    "\n",
    "Dr. Ilian Iliev\n",
    "\n",
    "\n",
    "Let's start with some examples of simple printing. Note that in Python 3 the brackets are required (not the case in Python 2). Quotes can be single or double."
   ]
  },
  {
   "cell_type": "code",
   "execution_count": 1,
   "metadata": {
    "collapsed": false,
    "nbpresent": {
     "id": "a1c01548-ab0b-4f6c-8c9b-1329aaab09bc"
    },
    "scrolled": true
   },
   "outputs": [
    {
     "name": "stdout",
     "output_type": "stream",
     "text": [
      "hello\n"
     ]
    }
   ],
   "source": [
    "print('hello')"
   ]
  },
  {
   "cell_type": "code",
   "execution_count": 2,
   "metadata": {
    "collapsed": false,
    "nbpresent": {
     "id": "9508d56b-21fa-4377-ac17-cd071a2076a7"
    }
   },
   "outputs": [
    {
     "name": "stdout",
     "output_type": "stream",
     "text": [
      "hello\n"
     ]
    }
   ],
   "source": [
    "print(\"hello\")"
   ]
  },
  {
   "cell_type": "markdown",
   "metadata": {
    "collapsed": true,
    "nbpresent": {
     "id": "a240be7f-04a4-4af5-8829-25a49515ea34"
    }
   },
   "source": [
    "## Using Python as a (quite powerful) calculator"
   ]
  },
  {
   "cell_type": "raw",
   "metadata": {
    "nbpresent": {
     "id": "eab9909b-4df7-47c5-aadc-e7a63c2578c3"
    }
   },
   "source": [
    "You can print arithmetic expressions directly at the Python prompt and it will evaluate them and give you the result, just as a calculator will do. (Note: The pound sign (#) denotes the beginning of a comment – all characters between # and the end of the line are ignored \n",
    "by the Python interpreter.). For example:"
   ]
  },
  {
   "cell_type": "code",
   "execution_count": 3,
   "metadata": {
    "collapsed": false,
    "nbpresent": {
     "id": "ebcfbd04-078e-484b-a6ac-98d59703774b"
    }
   },
   "outputs": [
    {
     "data": {
      "text/plain": [
       "14"
      ]
     },
     "execution_count": 3,
     "metadata": {},
     "output_type": "execute_result"
    }
   ],
   "source": [
    "5+9"
   ]
  },
  {
   "cell_type": "code",
   "execution_count": 4,
   "metadata": {
    "collapsed": false,
    "nbpresent": {
     "id": "3b899087-bda5-4c0b-9682-d0e49ab43aa0"
    }
   },
   "outputs": [
    {
     "data": {
      "text/plain": [
       "717897987691852588770249L"
      ]
     },
     "execution_count": 4,
     "metadata": {},
     "output_type": "execute_result"
    }
   ],
   "source": [
    "3**50"
   ]
  },
  {
   "cell_type": "code",
   "execution_count": 5,
   "metadata": {
    "collapsed": false,
    "nbpresent": {
     "id": "24418c79-f932-4b16-b98a-eb8894fbed78"
    }
   },
   "outputs": [
    {
     "data": {
      "text/plain": [
       "80"
      ]
     },
     "execution_count": 5,
     "metadata": {},
     "output_type": "execute_result"
    }
   ],
   "source": [
    "2000/25  #division"
   ]
  },
  {
   "cell_type": "code",
   "execution_count": 6,
   "metadata": {
    "collapsed": false,
    "nbpresent": {
     "id": "4a538eaf-08ff-457a-8db2-6279037a2ae5"
    }
   },
   "outputs": [
    {
     "data": {
      "text/plain": [
       "80"
      ]
     },
     "execution_count": 6,
     "metadata": {},
     "output_type": "execute_result"
    }
   ],
   "source": [
    "2000//25 #integer division"
   ]
  },
  {
   "cell_type": "code",
   "execution_count": 7,
   "metadata": {
    "collapsed": false,
    "nbpresent": {
     "id": "93d518f4-4967-4f65-af7f-944b121b232e"
    }
   },
   "outputs": [
    {
     "data": {
      "text/plain": [
       "58641925"
      ]
     },
     "execution_count": 7,
     "metadata": {},
     "output_type": "execute_result"
    }
   ],
   "source": [
    "2345677*25"
   ]
  },
  {
   "cell_type": "code",
   "execution_count": 8,
   "metadata": {
    "collapsed": false,
    "nbpresent": {
     "id": "f30d7f32-da9e-44ae-b208-b4107a131ccd"
    }
   },
   "outputs": [
    {
     "data": {
      "text/plain": [
       "6.0"
      ]
     },
     "execution_count": 8,
     "metadata": {},
     "output_type": "execute_result"
    }
   ],
   "source": [
    "36**0.5  #square root (Note: sqrt() is not in core Python!)"
   ]
  },
  {
   "cell_type": "raw",
   "metadata": {
    "nbpresent": {
     "id": "5227a3fa-4ffa-478c-9709-3472ea9efb20"
    }
   },
   "source": [
    "Note that (unlike many other programming languages) Python can do arbitrary-length arithmetic (Note: When the number has more digits than normal arithmetic Python 2 appends 'L' at the end of the result, for 'Long'; Python 3 does not do that.).\n"
   ]
  },
  {
   "cell_type": "code",
   "execution_count": 9,
   "metadata": {
    "collapsed": false,
    "nbpresent": {
     "id": "4b54d121-012d-44f4-920f-0ebf74a780b8"
    }
   },
   "outputs": [
    {
     "data": {
      "text/plain": [
       "3"
      ]
     },
     "execution_count": 9,
     "metadata": {},
     "output_type": "execute_result"
    }
   ],
   "source": [
    "45%7   # modulus (remainder)"
   ]
  },
  {
   "cell_type": "markdown",
   "metadata": {
    "nbpresent": {
     "id": "7ff96d7f-17c3-4705-9516-de0380062417"
    }
   },
   "source": [
    "# Note: Beware of integer division in Python 2! "
   ]
  },
  {
   "cell_type": "raw",
   "metadata": {
    "nbpresent": {
     "id": "b7275705-11d8-492e-afb5-b6a34a0ddc1c"
    }
   },
   "source": [
    "Many people have been tripped by it. Try for example:"
   ]
  },
  {
   "cell_type": "code",
   "execution_count": 10,
   "metadata": {
    "collapsed": false,
    "nbpresent": {
     "id": "69506c62-e98d-4e25-a811-0be3be881ee6"
    }
   },
   "outputs": [
    {
     "name": "stdout",
     "output_type": "stream",
     "text": [
      "(1, 1.5, 1.5, 1.5, 1.5)\n"
     ]
    }
   ],
   "source": [
    "print(3/2, 3/2.0, 3.0/2.0, float(3)/2, 3/float(2))"
   ]
  },
  {
   "cell_type": "raw",
   "metadata": {
    "nbpresent": {
     "id": "dc84fbf8-da92-4d6a-880a-a7e68539cc82"
    }
   },
   "source": [
    "The best solution is to make sure you always divide real numbers (floats). That is not an issue for Python 3, however."
   ]
  },
  {
   "cell_type": "markdown",
   "metadata": {
    "nbpresent": {
     "id": "d9011bcd-231b-48f2-95bc-913c90a606f6"
    }
   },
   "source": [
    "# Exercise: Evaluate some more arithmetic expressions on your own. "
   ]
  },
  {
   "cell_type": "raw",
   "metadata": {
    "nbpresent": {
     "id": "9a8e06e5-b173-453d-879f-eb2b5c5f3b8b"
    }
   },
   "source": [
    "Core Python supports only a few mathematical functions, shown with some examples below"
   ]
  },
  {
   "cell_type": "code",
   "execution_count": 11,
   "metadata": {
    "collapsed": true,
    "nbpresent": {
     "id": "832a2b65-e515-49f7-b6b3-c72c1da9d730"
    }
   },
   "outputs": [],
   "source": [
    "a=-7"
   ]
  },
  {
   "cell_type": "code",
   "execution_count": 12,
   "metadata": {
    "collapsed": true,
    "nbpresent": {
     "id": "82514dce-cc4a-4ebf-a7b7-2f76332488bc"
    }
   },
   "outputs": [],
   "source": [
    "b={3,9,2,55}"
   ]
  },
  {
   "cell_type": "code",
   "execution_count": 13,
   "metadata": {
    "collapsed": true,
    "nbpresent": {
     "id": "b28832da-cb83-4380-a9b6-a23e73248eba"
    }
   },
   "outputs": [],
   "source": [
    "c=3.1415"
   ]
  },
  {
   "cell_type": "code",
   "execution_count": 14,
   "metadata": {
    "collapsed": false,
    "nbpresent": {
     "id": "4faa0d6a-4195-4647-b9d9-dda466b4f197"
    }
   },
   "outputs": [
    {
     "data": {
      "text/plain": [
       "7"
      ]
     },
     "execution_count": 14,
     "metadata": {},
     "output_type": "execute_result"
    }
   ],
   "source": [
    "abs(a)  #absolute value"
   ]
  },
  {
   "cell_type": "code",
   "execution_count": 15,
   "metadata": {
    "collapsed": false,
    "nbpresent": {
     "id": "ac97e829-d505-452b-a513-18a36eeed78b"
    }
   },
   "outputs": [
    {
     "data": {
      "text/plain": [
       "55"
      ]
     },
     "execution_count": 15,
     "metadata": {},
     "output_type": "execute_result"
    }
   ],
   "source": [
    "max(b)  # Largest element in a sequence "
   ]
  },
  {
   "cell_type": "code",
   "execution_count": 16,
   "metadata": {
    "collapsed": false,
    "nbpresent": {
     "id": "1fff9026-c566-4b0a-a22b-db696111daa2"
    }
   },
   "outputs": [
    {
     "data": {
      "text/plain": [
       "2"
      ]
     },
     "execution_count": 16,
     "metadata": {},
     "output_type": "execute_result"
    }
   ],
   "source": [
    "min(b)  # Smallest element in a sequence"
   ]
  },
  {
   "cell_type": "raw",
   "metadata": {
    "nbpresent": {
     "id": "61792270-93ec-44ee-806c-d88b235da580"
    }
   },
   "source": [
    "What about other mathematical functions like e.g. square root, logarithms, trigonometric functions, etc.? Those are not built into the core Python, but are available by loading the math module (we will also discuss other modules later). \n",
    "\n",
    "There are three ways of accessing the functions available in a module: "
   ]
  },
  {
   "cell_type": "code",
   "execution_count": 17,
   "metadata": {
    "collapsed": true,
    "nbpresent": {
     "id": "913f5c3b-09ca-46a5-88c6-618d82531125"
    }
   },
   "outputs": [],
   "source": [
    "import math  # make the 'math' module available. This is the \n",
    "             # RECOMMENDED method because it is economical on resources\n",
    "             # and a good programming practice. This is the method used\n",
    "             # by most programmers."
   ]
  },
  {
   "cell_type": "code",
   "execution_count": 18,
   "metadata": {
    "collapsed": false,
    "nbpresent": {
     "id": "9d9055a9-da03-4a79-a057-618b017ef9f1"
    }
   },
   "outputs": [
    {
     "name": "stdout",
     "output_type": "stream",
     "text": [
      "-0.735166686385\n"
     ]
    }
   ],
   "source": [
    "print(math.log(math.sin(0.5))) # Then this is how you use it - each \n",
    "                               # function gets 'math' prefix telling\n",
    "                               # Python where to get this function from."
   ]
  },
  {
   "cell_type": "raw",
   "metadata": {
    "nbpresent": {
     "id": "64471498-3e71-4e8b-b77d-a81fc42317ba"
    }
   },
   "source": [
    "You can also 'rename' modules when importing them, for brevity or other reasons:"
   ]
  },
  {
   "cell_type": "code",
   "execution_count": 19,
   "metadata": {
    "collapsed": true,
    "nbpresent": {
     "id": "50f18197-b178-41f6-94a7-8709d3e8d99d"
    }
   },
   "outputs": [],
   "source": [
    "import math as m  # From now on module math has also this other name 'm'"
   ]
  },
  {
   "cell_type": "code",
   "execution_count": 20,
   "metadata": {
    "collapsed": false,
    "nbpresent": {
     "id": "4e07a10a-8d2f-40a8-a16f-bae32bdc42b7"
    }
   },
   "outputs": [
    {
     "data": {
      "text/plain": [
       "10.067661995777765"
      ]
     },
     "execution_count": 20,
     "metadata": {},
     "output_type": "execute_result"
    }
   ],
   "source": [
    "m.cosh(3)"
   ]
  },
  {
   "cell_type": "raw",
   "metadata": {
    "nbpresent": {
     "id": "37144eff-5b82-43ae-a785-4e463becd4b4"
    }
   },
   "source": [
    "You can also import a module like this:"
   ]
  },
  {
   "cell_type": "code",
   "execution_count": 21,
   "metadata": {
    "collapsed": true,
    "nbpresent": {
     "id": "4c226e9e-0274-4b4c-8f8e-d352a3a821ec"
    }
   },
   "outputs": [],
   "source": [
    "from math import *   # import ALL math module functions"
   ]
  },
  {
   "cell_type": "raw",
   "metadata": {
    "nbpresent": {
     "id": "aae5b407-6b60-48f7-8a97-53617af51318"
    }
   },
   "source": [
    "For small modules this could be OK, but for big ones with many functions like 'math' this is wasteful, and also a bad idea for other reasons. \n",
    "\n",
    "Finally, you can also just import specific functions that you need, in which case you can use the functions without a module prefix:"
   ]
  },
  {
   "cell_type": "code",
   "execution_count": 22,
   "metadata": {
    "collapsed": true,
    "nbpresent": {
     "id": "bbffd098-aee0-47bc-8b96-a7ea23641258"
    }
   },
   "outputs": [],
   "source": [
    "from math import log, sin"
   ]
  },
  {
   "cell_type": "code",
   "execution_count": 23,
   "metadata": {
    "collapsed": false,
    "nbpresent": {
     "id": "d61891ec-7479-4efa-9b50-605676099715"
    }
   },
   "outputs": [
    {
     "name": "stdout",
     "output_type": "stream",
     "text": [
      "-0.735166686385\n"
     ]
    }
   ],
   "source": [
    "print(log(sin(0.5)))"
   ]
  },
  {
   "cell_type": "raw",
   "metadata": {
    "nbpresent": {
     "id": "8fa77088-a0ba-427c-a7e7-519e8c4c7fc7"
    }
   },
   "source": [
    "The contents of a module could be printed as follows (for example to check if a certain function is available). This type of inquiry is usually called 'introspection':"
   ]
  },
  {
   "cell_type": "code",
   "execution_count": 24,
   "metadata": {
    "collapsed": false,
    "nbpresent": {
     "id": "66a98023-a6e0-4b6b-933d-3f94cbcefce1"
    }
   },
   "outputs": [
    {
     "data": {
      "text/plain": [
       "['__doc__',\n",
       " '__file__',\n",
       " '__name__',\n",
       " '__package__',\n",
       " 'acos',\n",
       " 'acosh',\n",
       " 'asin',\n",
       " 'asinh',\n",
       " 'atan',\n",
       " 'atan2',\n",
       " 'atanh',\n",
       " 'ceil',\n",
       " 'copysign',\n",
       " 'cos',\n",
       " 'cosh',\n",
       " 'degrees',\n",
       " 'e',\n",
       " 'erf',\n",
       " 'erfc',\n",
       " 'exp',\n",
       " 'expm1',\n",
       " 'fabs',\n",
       " 'factorial',\n",
       " 'floor',\n",
       " 'fmod',\n",
       " 'frexp',\n",
       " 'fsum',\n",
       " 'gamma',\n",
       " 'hypot',\n",
       " 'isinf',\n",
       " 'isnan',\n",
       " 'ldexp',\n",
       " 'lgamma',\n",
       " 'log',\n",
       " 'log10',\n",
       " 'log1p',\n",
       " 'modf',\n",
       " 'pi',\n",
       " 'pow',\n",
       " 'radians',\n",
       " 'sin',\n",
       " 'sinh',\n",
       " 'sqrt',\n",
       " 'tan',\n",
       " 'tanh',\n",
       " 'trunc']"
      ]
     },
     "execution_count": 24,
     "metadata": {},
     "output_type": "execute_result"
    }
   ],
   "source": [
    "dir(math)"
   ]
  },
  {
   "cell_type": "raw",
   "metadata": {
    "nbpresent": {
     "id": "0212d3a5-f049-40ca-aa5b-1f65f53d7c80"
    }
   },
   "source": [
    "Many of the above functions should be familiar to you. If you are not sure what a given function do or how to call it, you can invoke the Python help system, as follows:"
   ]
  },
  {
   "cell_type": "code",
   "execution_count": 25,
   "metadata": {
    "collapsed": false,
    "nbpresent": {
     "id": "20e156b4-903b-4dee-b502-5231d4eb6703"
    }
   },
   "outputs": [
    {
     "name": "stdout",
     "output_type": "stream",
     "text": [
      "Help on built-in function modf in module math:\n",
      "\n",
      "modf(...)\n",
      "    modf(x)\n",
      "    \n",
      "    Return the fractional and integer parts of x.  Both results carry the sign\n",
      "    of x and are floats.\n",
      "\n"
     ]
    }
   ],
   "source": [
    "help(modf)"
   ]
  },
  {
   "cell_type": "markdown",
   "metadata": {},
   "source": [
    "Exercises:\n",
    "\n",
    "1) The Universe is 13.6 billion years old, how many seconds old is it?\n",
    "\n",
    "2) Compute 2 to the 266th power. This is (roughly) the number of atoms \n",
    "in the Universe.\n",
    "\n",
    "3) Import the math module and calculate: \n",
    "\n",
    "\\begin{equation}\n",
    "\\cos(\\pi/4)\n",
    "\\\\ \n",
    "\\pi-4 atan(1)\n",
    "\\end{equation}\n",
    "\n",
    "Do results conform with your expectations?"
   ]
  },
  {
   "cell_type": "markdown",
   "metadata": {
    "nbpresent": {
     "id": "238cd996-c6e4-47a8-b0cc-6d51773e72ec"
    }
   },
   "source": [
    "# Variables and important data types"
   ]
  },
  {
   "cell_type": "raw",
   "metadata": {
    "nbpresent": {
     "id": "9dd38008-6ecf-4562-99e8-cddafd0c62bb"
    }
   },
   "source": [
    "In Python, all numbers (and everything else, including functions) are \n",
    "OBJECTS (i.e. Python, like C++ is an object-oriented language). A variable can be used to store a certain value or object. There are several basic types of variables that we will need: integers, floats (real numbers), complex numbers, strings and combinations of these (lists, tuples and arrays). \n",
    "\n",
    "Variables are typed dynamically, i.e. their type (which can be checked with 'type(var)') is set whenever the variable is assigned a value and can be changed by assigning another value: "
   ]
  },
  {
   "cell_type": "code",
   "execution_count": 26,
   "metadata": {
    "collapsed": true,
    "nbpresent": {
     "id": "3cb99d63-8324-43ff-ba17-26b1c82fea4e"
    }
   },
   "outputs": [],
   "source": [
    "a=1  #integer"
   ]
  },
  {
   "cell_type": "code",
   "execution_count": 27,
   "metadata": {
    "collapsed": false,
    "nbpresent": {
     "id": "bbab9ed8-5d48-4c08-a332-101e1f4ba4be"
    }
   },
   "outputs": [
    {
     "data": {
      "text/plain": [
       "int"
      ]
     },
     "execution_count": 27,
     "metadata": {},
     "output_type": "execute_result"
    }
   ],
   "source": [
    "type(a)"
   ]
  },
  {
   "cell_type": "code",
   "execution_count": 28,
   "metadata": {
    "collapsed": true,
    "nbpresent": {
     "id": "8fd1e7dc-45c7-4a74-a8da-72b43d437ecf"
    }
   },
   "outputs": [],
   "source": [
    "b=1.0 #float=real"
   ]
  },
  {
   "cell_type": "code",
   "execution_count": 29,
   "metadata": {
    "collapsed": false,
    "nbpresent": {
     "id": "fff44868-65ec-4d2f-b6c8-8381013cda05"
    }
   },
   "outputs": [
    {
     "data": {
      "text/plain": [
       "float"
      ]
     },
     "execution_count": 29,
     "metadata": {},
     "output_type": "execute_result"
    }
   ],
   "source": [
    "type(b)"
   ]
  },
  {
   "cell_type": "code",
   "execution_count": 30,
   "metadata": {
    "collapsed": true,
    "nbpresent": {
     "id": "90a269b5-34f4-4c4a-95b4-c9878b5ecaf5"
    }
   },
   "outputs": [],
   "source": [
    "c='1.0' #string"
   ]
  },
  {
   "cell_type": "code",
   "execution_count": 31,
   "metadata": {
    "collapsed": false,
    "nbpresent": {
     "id": "4d70d367-f39d-4b45-b0be-693d332e6cd1"
    }
   },
   "outputs": [
    {
     "data": {
      "text/plain": [
       "str"
      ]
     },
     "execution_count": 31,
     "metadata": {},
     "output_type": "execute_result"
    }
   ],
   "source": [
    "type(c)"
   ]
  },
  {
   "cell_type": "code",
   "execution_count": 32,
   "metadata": {
    "collapsed": true,
    "nbpresent": {
     "id": "1d8d4ef9-99a2-4c2b-813e-556859e4d428"
    }
   },
   "outputs": [],
   "source": [
    "d=2+3.0j #complex number"
   ]
  },
  {
   "cell_type": "code",
   "execution_count": 33,
   "metadata": {
    "collapsed": false,
    "nbpresent": {
     "id": "f7c2c514-bdbc-4e29-9533-7bf4be73f049"
    }
   },
   "outputs": [
    {
     "data": {
      "text/plain": [
       "complex"
      ]
     },
     "execution_count": 33,
     "metadata": {},
     "output_type": "execute_result"
    }
   ],
   "source": [
    "type(d)"
   ]
  },
  {
   "cell_type": "raw",
   "metadata": {
    "nbpresent": {
     "id": "51a7140c-f4a0-468d-b2e1-d766affb1516"
    }
   },
   "source": [
    "A string is a sequence of characters enclosed in single or double quotes. Long strings continuing on several lines are defined using triple quotes. \n",
    "\n",
    "Strings are concatenated with the plus (+) operator, whereas slicing (:) is used to extract a portion of the string:"
   ]
  },
  {
   "cell_type": "code",
   "execution_count": 34,
   "metadata": {
    "collapsed": true,
    "nbpresent": {
     "id": "01895069-ad06-49dc-980b-1a6c58da8b4e"
    }
   },
   "outputs": [],
   "source": [
    "string1 = 'Press return to exit'"
   ]
  },
  {
   "cell_type": "code",
   "execution_count": 35,
   "metadata": {
    "collapsed": true,
    "nbpresent": {
     "id": "dea056db-c5e7-4e3e-9094-8f62bbf7b280"
    }
   },
   "outputs": [],
   "source": [
    "string2 = 'the program'"
   ]
  },
  {
   "cell_type": "code",
   "execution_count": 36,
   "metadata": {
    "collapsed": false,
    "nbpresent": {
     "id": "8f575c2c-5561-49de-bd6c-16f3b83232cf"
    }
   },
   "outputs": [
    {
     "name": "stdout",
     "output_type": "stream",
     "text": [
      "Press return to exit the program\n"
     ]
    }
   ],
   "source": [
    "print(string1 + ' ' + string2) # Concatenation"
   ]
  },
  {
   "cell_type": "code",
   "execution_count": 37,
   "metadata": {
    "collapsed": false,
    "nbpresent": {
     "id": "f3f78780-3471-4e92-8516-5644d4b931c0"
    }
   },
   "outputs": [
    {
     "name": "stdout",
     "output_type": "stream",
     "text": [
      "Press return\n"
     ]
    }
   ],
   "source": [
    "print(string1[0:12])  # Slicing"
   ]
  },
  {
   "cell_type": "raw",
   "metadata": {
    "nbpresent": {
     "id": "8717096b-8454-4039-8886-08923281be8f"
    }
   },
   "source": [
    "Strings are immutable objects (i.e. its individual characters cannot be modified with an assignment statement; the whole string CAN be assigned a different value) with a fixed length. \n",
    "\n",
    "An attempt to violate immutability will result in TypeError, as shown here:"
   ]
  },
  {
   "cell_type": "code",
   "execution_count": 38,
   "metadata": {
    "collapsed": true,
    "nbpresent": {
     "id": "3d82b8eb-1117-4e52-966c-6c7eef58c9a6"
    }
   },
   "outputs": [],
   "source": [
    "s='Press return to exit'"
   ]
  },
  {
   "cell_type": "code",
   "execution_count": 39,
   "metadata": {
    "collapsed": false,
    "nbpresent": {
     "id": "2456e1c3-b7b7-40ce-a2c3-977c4d31c607"
    }
   },
   "outputs": [
    {
     "data": {
      "text/plain": [
       "'P'"
      ]
     },
     "execution_count": 39,
     "metadata": {},
     "output_type": "execute_result"
    }
   ],
   "source": [
    "s[0]  # Individual characters can be accessed"
   ]
  },
  {
   "cell_type": "code",
   "execution_count": 40,
   "metadata": {
    "collapsed": false,
    "nbpresent": {
     "id": "3af7087c-c5fa-4023-bb15-05f5984d85fd"
    }
   },
   "outputs": [
    {
     "ename": "TypeError",
     "evalue": "'str' object does not support item assignment",
     "output_type": "error",
     "traceback": [
      "\u001b[1;31m---------------------------------------------------------------------------\u001b[0m",
      "\u001b[1;31mTypeError\u001b[0m                                 Traceback (most recent call last)",
      "\u001b[1;32m<ipython-input-40-b6808bb6b6b2>\u001b[0m in \u001b[0;36m<module>\u001b[1;34m()\u001b[0m\n\u001b[1;32m----> 1\u001b[1;33m \u001b[0ms\u001b[0m\u001b[1;33m[\u001b[0m\u001b[1;36m0\u001b[0m\u001b[1;33m]\u001b[0m\u001b[1;33m=\u001b[0m\u001b[1;34m'T'\u001b[0m \u001b[1;31m# ... but they cannot be modified\u001b[0m\u001b[1;33m\u001b[0m\u001b[0m\n\u001b[0m",
      "\u001b[1;31mTypeError\u001b[0m: 'str' object does not support item assignment"
     ]
    }
   ],
   "source": [
    "s[0]='T' # ... but they cannot be modified"
   ]
  },
  {
   "cell_type": "code",
   "execution_count": 41,
   "metadata": {
    "collapsed": true,
    "nbpresent": {
     "id": "f171f0cf-bfad-4932-8512-2076f14a8708"
    }
   },
   "outputs": [],
   "source": [
    "b=2; c=4 # b and c are of an integer type"
   ]
  },
  {
   "cell_type": "code",
   "execution_count": 42,
   "metadata": {
    "collapsed": true,
    "nbpresent": {
     "id": "cfd877ca-b29b-4914-8148-70cfcca478d3"
    }
   },
   "outputs": [],
   "source": [
    "b=b*1.0; c=float(c) # two ways to convert them back into floats "
   ]
  },
  {
   "cell_type": "code",
   "execution_count": 43,
   "metadata": {
    "collapsed": false,
    "nbpresent": {
     "id": "9c092199-074a-41a8-8d5e-05064685371b"
    }
   },
   "outputs": [
    {
     "name": "stdout",
     "output_type": "stream",
     "text": [
      "(2.0, 4.0)\n"
     ]
    }
   ],
   "source": [
    "print(b,c) # Both b and c are floats now, the original values were destroyed"
   ]
  },
  {
   "cell_type": "code",
   "execution_count": 44,
   "metadata": {
    "collapsed": false,
    "nbpresent": {
     "id": "b268ecf4-0f95-4a04-a64a-cccf17498a77"
    }
   },
   "outputs": [
    {
     "name": "stdout",
     "output_type": "stream",
     "text": [
      "2\n"
     ]
    }
   ],
   "source": [
    "d=int(b); print(d) # 'int' converts a number into an integer"
   ]
  },
  {
   "cell_type": "raw",
   "metadata": {
    "nbpresent": {
     "id": "52dfc353-579f-405c-991d-842612b4b90e"
    }
   },
   "source": [
    "The function 'round' with a single argument rounds up a number to the nearest integer (up or down). You can also round a number with certain number of significant digits after the decimal point.\n",
    "\n",
    "Strings also can be converted into numbers if they are made of numbers: "
   ]
  },
  {
   "cell_type": "code",
   "execution_count": 45,
   "metadata": {
    "collapsed": false,
    "nbpresent": {
     "id": "d22e2fdb-1aa8-4660-a9c3-f2e563cc4b78"
    }
   },
   "outputs": [
    {
     "name": "stdout",
     "output_type": "stream",
     "text": [
      "6.0\n",
      "5.787\n"
     ]
    }
   ],
   "source": [
    "a=5.78666; print(round(a)); print(round(a,3))"
   ]
  },
  {
   "cell_type": "code",
   "execution_count": 46,
   "metadata": {
    "collapsed": false,
    "nbpresent": {
     "id": "b7d96529-3f9b-4245-87be-f41b71572a28"
    }
   },
   "outputs": [
    {
     "data": {
      "text/plain": [
       "int"
      ]
     },
     "execution_count": 46,
     "metadata": {},
     "output_type": "execute_result"
    }
   ],
   "source": [
    "s='357'; type(int(s))"
   ]
  },
  {
   "cell_type": "code",
   "execution_count": 47,
   "metadata": {
    "collapsed": false,
    "nbpresent": {
     "id": "9d3ab9ca-00f8-419d-b7d7-f9cf2335d90e"
    }
   },
   "outputs": [
    {
     "name": "stdout",
     "output_type": "stream",
     "text": [
      "357\n"
     ]
    }
   ],
   "source": [
    "print(int(s))"
   ]
  },
  {
   "cell_type": "markdown",
   "metadata": {
    "nbpresent": {
     "id": "3ea1e2ae-245e-4927-809c-de0931395f9b"
    }
   },
   "source": [
    "# Exercises: \n",
    "\n",
    "1) Create a string variable 'myname' that is initialised to \n",
    "your full name - first, middle and last.\n",
    "\n",
    "2) Using a slice operator, print your first name only.\n",
    "\n",
    "3) Using a slice operator, print your last name only.\n",
    "\n",
    "4) Using the slice and concatenation operators, print \n",
    "your name in the form 'Last name, First name'.\n",
    "\n",
    "5) Create a new string where your middle name is replaced by\n",
    "your middle initial.\n",
    "\n",
    "6) Use Python to check how long the 'myname' string is and \n",
    "if it contains the letter 'a'.\n",
    "\n",
    "7) What happens if you multiply a string and a number?"
   ]
  },
  {
   "cell_type": "markdown",
   "metadata": {
    "nbpresent": {
     "id": "fe6f21fd-dbab-4c0a-bfde-c58780b72c1b"
    }
   },
   "source": [
    "# Tuples and lists"
   ]
  },
  {
   "cell_type": "raw",
   "metadata": {
    "nbpresent": {
     "id": "5e62a77d-85ea-48e7-9c58-0aea1019b416"
    }
   },
   "source": [
    "A tuple is a sequence of arbitrary objects separated by commas and enclosed in parentheses. If the tuple contains a single object, a final comma is required; for example, 'x = (2,)'. Tuples support the same operations as strings and are also immutable. Here is an example where the tuple 'rec' contains another tuple '(6,23,68)':"
   ]
  },
  {
   "cell_type": "code",
   "execution_count": 48,
   "metadata": {
    "collapsed": true,
    "nbpresent": {
     "id": "b01c01ca-33f9-4700-ade9-e9d65643bc19"
    }
   },
   "outputs": [],
   "source": [
    "rec = ('Smith','John',(24,7,1988))   # This is a tuple"
   ]
  },
  {
   "cell_type": "code",
   "execution_count": 49,
   "metadata": {
    "collapsed": true,
    "nbpresent": {
     "id": "60d99b88-b179-42d8-9e70-4c01041ee97a"
    }
   },
   "outputs": [],
   "source": [
    "lastName,firstName,birthdate = rec # Unpacking the tuple into its parts"
   ]
  },
  {
   "cell_type": "code",
   "execution_count": 50,
   "metadata": {
    "collapsed": false,
    "nbpresent": {
     "id": "a840e42f-2716-4f5d-9384-a0f48d3c42a3"
    }
   },
   "outputs": [
    {
     "name": "stdout",
     "output_type": "stream",
     "text": [
      "John\n"
     ]
    }
   ],
   "source": [
    "print(firstName)"
   ]
  },
  {
   "cell_type": "code",
   "execution_count": 51,
   "metadata": {
    "collapsed": false,
    "nbpresent": {
     "id": "1aaf6053-0544-4661-a3ab-6c1c879b990d"
    }
   },
   "outputs": [
    {
     "name": "stdout",
     "output_type": "stream",
     "text": [
      "1988\n"
     ]
    }
   ],
   "source": [
    "birthYear=birthdate[2]; print(birthYear)"
   ]
  },
  {
   "cell_type": "code",
   "execution_count": 52,
   "metadata": {
    "collapsed": true,
    "nbpresent": {
     "id": "9e7df420-f4b9-43da-81ed-0fc38e476056"
    }
   },
   "outputs": [],
   "source": [
    "name = rec[1] + ' ' + rec[0] # combine the two name strings"
   ]
  },
  {
   "cell_type": "code",
   "execution_count": 53,
   "metadata": {
    "collapsed": false,
    "nbpresent": {
     "id": "c962c385-18cc-4028-b6a4-18e88c6f1170"
    }
   },
   "outputs": [
    {
     "name": "stdout",
     "output_type": "stream",
     "text": [
      "John Smith\n"
     ]
    }
   ],
   "source": [
    "print(name)"
   ]
  },
  {
   "cell_type": "code",
   "execution_count": 54,
   "metadata": {
    "collapsed": false,
    "nbpresent": {
     "id": "15b831c8-7d23-456d-a459-772a79845867"
    }
   },
   "outputs": [
    {
     "name": "stdout",
     "output_type": "stream",
     "text": [
      "('Smith', 'John')\n"
     ]
    }
   ],
   "source": [
    "print(rec[0:2]) # Slice the first 2 elements of the tuple 'rec'"
   ]
  },
  {
   "cell_type": "markdown",
   "metadata": {
    "nbpresent": {
     "id": "5e8e814e-6ce3-40c5-b507-80ce42520ec0"
    }
   },
   "source": [
    "### Important note: In Python sequences have zero offset, so that a[0] represents the first element of a, a[1] the second one, and so forth. Similarly, indices in Python always start from 0, so e.g. 2 is the third element, etc. "
   ]
  },
  {
   "cell_type": "raw",
   "metadata": {
    "nbpresent": {
     "id": "b7f7cfe4-1e72-4dec-bdd0-0e201c65eda4"
    }
   },
   "source": [
    "Lists are ordered sets of objects similar to tuples, but they are mutable, i.e. their elements and length can be changed. A list is identified by enclosing its elements in square brackets, [,]. The objects in a list could be of any type, e.g. real or integer numbers, strings, even other lists.\n",
    "\n",
    "Below is a sampling of operations that can be performed on lists: "
   ]
  },
  {
   "cell_type": "code",
   "execution_count": 55,
   "metadata": {
    "collapsed": true,
    "nbpresent": {
     "id": "2ee4991f-42d2-41cb-9b0d-7d2574e5d241"
    }
   },
   "outputs": [],
   "source": [
    "a = [1.0,'two',3]  # Define a list"
   ]
  },
  {
   "cell_type": "code",
   "execution_count": 56,
   "metadata": {
    "collapsed": false,
    "nbpresent": {
     "id": "e460fb20-04e5-45b8-ba4f-5ca825ff00a8"
    }
   },
   "outputs": [
    {
     "data": {
      "text/plain": [
       "1.0"
      ]
     },
     "execution_count": 56,
     "metadata": {},
     "output_type": "execute_result"
    }
   ],
   "source": [
    "a[0]  # First element of the list"
   ]
  },
  {
   "cell_type": "code",
   "execution_count": 57,
   "metadata": {
    "collapsed": false,
    "nbpresent": {
     "id": "c54915c8-2c12-475a-94db-8fb97b7b8d1d"
    }
   },
   "outputs": [
    {
     "data": {
      "text/plain": [
       "'two'"
      ]
     },
     "execution_count": 57,
     "metadata": {},
     "output_type": "execute_result"
    }
   ],
   "source": [
    "a[1]  # Second element of the list"
   ]
  },
  {
   "cell_type": "code",
   "execution_count": 58,
   "metadata": {
    "collapsed": false,
    "nbpresent": {
     "id": "e0e85ded-1eb9-4c2e-b1ae-bb00f91c1ee2"
    }
   },
   "outputs": [
    {
     "ename": "IndexError",
     "evalue": "list index out of range",
     "output_type": "error",
     "traceback": [
      "\u001b[1;31m---------------------------------------------------------------------------\u001b[0m",
      "\u001b[1;31mIndexError\u001b[0m                                Traceback (most recent call last)",
      "\u001b[1;32m<ipython-input-58-b94d45fb274e>\u001b[0m in \u001b[0;36m<module>\u001b[1;34m()\u001b[0m\n\u001b[1;32m----> 1\u001b[1;33m \u001b[0ma\u001b[0m\u001b[1;33m[\u001b[0m\u001b[1;36m3\u001b[0m\u001b[1;33m]\u001b[0m  \u001b[1;31m# There is no such element, so this gives an error.\u001b[0m\u001b[1;33m\u001b[0m\u001b[0m\n\u001b[0m",
      "\u001b[1;31mIndexError\u001b[0m: list index out of range"
     ]
    }
   ],
   "source": [
    "a[3]  # There is no such element, so this gives an error."
   ]
  },
  {
   "cell_type": "code",
   "execution_count": 59,
   "metadata": {
    "collapsed": true,
    "nbpresent": {
     "id": "22e46133-f68e-4b37-bdc7-0f87f8d7af93"
    }
   },
   "outputs": [],
   "source": [
    "a.append(33.0)  # Append another element (33.0) to the list"
   ]
  },
  {
   "cell_type": "code",
   "execution_count": 60,
   "metadata": {
    "collapsed": false,
    "nbpresent": {
     "id": "c0b9c5d1-6553-4ee9-9a39-cd447a209b26"
    }
   },
   "outputs": [
    {
     "name": "stdout",
     "output_type": "stream",
     "text": [
      "[1.0, 'two', 3, 33.0]\n"
     ]
    }
   ],
   "source": [
    "print(a)"
   ]
  },
  {
   "cell_type": "code",
   "execution_count": 61,
   "metadata": {
    "collapsed": true,
    "nbpresent": {
     "id": "53bf42be-e11a-41d4-aeff-1061cb485ac3"
    }
   },
   "outputs": [],
   "source": [
    "a.insert(0,22)  # Insert another element (22) at position 0"
   ]
  },
  {
   "cell_type": "code",
   "execution_count": 62,
   "metadata": {
    "collapsed": false,
    "nbpresent": {
     "id": "8906c9e9-ec84-4ef7-971e-237613f6c693"
    }
   },
   "outputs": [
    {
     "name": "stdout",
     "output_type": "stream",
     "text": [
      "[22, 1.0, 'two', 3, 33.0]\n"
     ]
    }
   ],
   "source": [
    "print(a)"
   ]
  },
  {
   "cell_type": "raw",
   "metadata": {
    "nbpresent": {
     "id": "a51653fb-f230-451c-a757-33e24159c9ea"
    }
   },
   "source": [
    "Question: What does a[-1] give? What about a[-3]?"
   ]
  },
  {
   "cell_type": "raw",
   "metadata": {
    "nbpresent": {
     "id": "c8bd947a-a7a9-4254-8cf4-46a58c4f400b"
    }
   },
   "source": [
    "If a is a mutable object, such as a list, the assignment statement b=a \n",
    "does not result in a new object b, but simply creates a new reference to a (i.e. now the same object has 2 names - a and b). Thus any changes made to b will be reflected in a (but not vice-versa). To create an independent copy of a list a, use the statement 'c = a[:]', as shown below:"
   ]
  },
  {
   "cell_type": "code",
   "execution_count": 63,
   "metadata": {
    "collapsed": true,
    "nbpresent": {
     "id": "0b83c7b8-5282-4e4e-885e-879d310de316"
    }
   },
   "outputs": [],
   "source": [
    "b=a  # 'b' becomes an alias of a"
   ]
  },
  {
   "cell_type": "code",
   "execution_count": 64,
   "metadata": {
    "collapsed": true,
    "nbpresent": {
     "id": "cddd3c23-980c-4fed-8fa3-88efeccccb6f"
    }
   },
   "outputs": [],
   "source": [
    "b[0]=5  # change an element of b"
   ]
  },
  {
   "cell_type": "code",
   "execution_count": 65,
   "metadata": {
    "collapsed": false,
    "nbpresent": {
     "id": "c6b769c5-40fe-4fdf-8f09-c475d4dec80a"
    }
   },
   "outputs": [
    {
     "name": "stdout",
     "output_type": "stream",
     "text": [
      "[5, 1.0, 'two', 3, 33.0]\n"
     ]
    }
   ],
   "source": [
    "print(a) # a has changed "
   ]
  },
  {
   "cell_type": "code",
   "execution_count": 66,
   "metadata": {
    "collapsed": true,
    "nbpresent": {
     "id": "71e45bbb-4184-4734-bda5-dee6ac349c4b"
    }
   },
   "outputs": [],
   "source": [
    "c=a[:]  # 'c' is an independent copy of a"
   ]
  },
  {
   "cell_type": "code",
   "execution_count": 67,
   "metadata": {
    "collapsed": true,
    "nbpresent": {
     "id": "710225ba-809a-4728-ab0f-6d399eee63ec"
    }
   },
   "outputs": [],
   "source": [
    "c[0]=4  # change an element of c"
   ]
  },
  {
   "cell_type": "code",
   "execution_count": 68,
   "metadata": {
    "collapsed": false,
    "nbpresent": {
     "id": "96f37bae-f901-45ca-8377-970c510b929a"
    }
   },
   "outputs": [
    {
     "name": "stdout",
     "output_type": "stream",
     "text": [
      "[5, 1.0, 'two', 3, 33.0]\n"
     ]
    }
   ],
   "source": [
    "print(a) # a remains the same"
   ]
  },
  {
   "cell_type": "raw",
   "metadata": {
    "nbpresent": {
     "id": "5fecee7d-fb39-4512-85bf-627bba0c1058"
    }
   },
   "source": [
    "There are various oprations that can be performed on sequences like lists. Some examples: "
   ]
  },
  {
   "cell_type": "code",
   "execution_count": 69,
   "metadata": {
    "collapsed": false,
    "nbpresent": {
     "id": "227135d9-0080-493b-b2cc-5ed534ad5a5e"
    }
   },
   "outputs": [
    {
     "name": "stdout",
     "output_type": "stream",
     "text": [
      "[1.0, 'two']\n"
     ]
    }
   ],
   "source": [
    "print(a[1:3]) # slices a part of a (here the second and third elements)"
   ]
  },
  {
   "cell_type": "code",
   "execution_count": 70,
   "metadata": {
    "collapsed": false,
    "nbpresent": {
     "id": "cd1ee2e8-a579-4f63-be3d-eefa794b25bd"
    }
   },
   "outputs": [
    {
     "data": {
      "text/plain": [
       "5"
      ]
     },
     "execution_count": 70,
     "metadata": {},
     "output_type": "execute_result"
    }
   ],
   "source": [
    "len(a)        # how many elements does 'a' have?"
   ]
  },
  {
   "cell_type": "code",
   "execution_count": 71,
   "metadata": {
    "collapsed": false,
    "nbpresent": {
     "id": "4c887a05-8680-4036-9d98-2d43adeab07f"
    }
   },
   "outputs": [
    {
     "data": {
      "text/plain": [
       "True"
      ]
     },
     "execution_count": 71,
     "metadata": {},
     "output_type": "execute_result"
    }
   ],
   "source": [
    "'two' in a   # checks if a certain element can be found in the list"
   ]
  },
  {
   "cell_type": "code",
   "execution_count": 72,
   "metadata": {
    "collapsed": true,
    "nbpresent": {
     "id": "ded206fa-4aa8-4ac7-80e6-b6f814ee9ca3"
    }
   },
   "outputs": [],
   "source": [
    "a[2]=7       # lets make the list wholly of numbers (strings cannot be compared to numbers!)"
   ]
  },
  {
   "cell_type": "code",
   "execution_count": 73,
   "metadata": {
    "collapsed": false,
    "nbpresent": {
     "id": "4397ed9f-d19d-4b75-8a31-f83a80e9e2c1"
    }
   },
   "outputs": [
    {
     "data": {
      "text/plain": [
       "33.0"
      ]
     },
     "execution_count": 73,
     "metadata": {},
     "output_type": "execute_result"
    }
   ],
   "source": [
    "max(a)       # what is the largest element of the sequence?"
   ]
  },
  {
   "cell_type": "code",
   "execution_count": 74,
   "metadata": {
    "collapsed": false,
    "nbpresent": {
     "id": "3fa52687-4fa5-45aa-bde3-18f7e1975225"
    }
   },
   "outputs": [
    {
     "data": {
      "text/plain": [
       "1.0"
      ]
     },
     "execution_count": 74,
     "metadata": {},
     "output_type": "execute_result"
    }
   ],
   "source": [
    "min(a)       # what is the smallest element in the sequence?"
   ]
  },
  {
   "cell_type": "code",
   "execution_count": 75,
   "metadata": {
    "collapsed": true,
    "nbpresent": {
     "id": "4888b7f2-dbb5-4c04-8a99-9bea23c35b45"
    }
   },
   "outputs": [],
   "source": [
    "d=a+c        # concatenates the two sequences"
   ]
  },
  {
   "cell_type": "code",
   "execution_count": 76,
   "metadata": {
    "collapsed": false,
    "nbpresent": {
     "id": "55ad0db8-0124-431e-acc4-ff58aa045993"
    }
   },
   "outputs": [
    {
     "name": "stdout",
     "output_type": "stream",
     "text": [
      "[5, 1.0, 7, 3, 33.0, 4, 1.0, 'two', 3, 33.0]\n"
     ]
    }
   ],
   "source": [
    "print(d)"
   ]
  },
  {
   "cell_type": "markdown",
   "metadata": {
    "nbpresent": {
     "id": "fba82167-fab9-4fca-aa0f-73e5395d808f"
    }
   },
   "source": [
    "# Comparison operators"
   ]
  },
  {
   "cell_type": "raw",
   "metadata": {
    "collapsed": true,
    "nbpresent": {
     "id": "e7a57076-9642-46d0-9b7b-77239f326379"
    }
   },
   "source": [
    "The comparison operators are: \n",
    "< (less than), \n",
    "> (greater than), \n",
    "<= (less than or equal to), \n",
    ">= (greater than or equal to), \n",
    "== (equal to) \n",
    "!= (not equal to). \n",
    "\n",
    "They are quite useful for programming, as we shall see. The result is a logical expression ('True' or 'False'). These can be used to construct more complicated logical statements using also 'or' and 'and'. \n",
    "\n",
    "Numbers of different type (integer, floating point, etc.) are converted to a common type before the comparison is made. Otherwise, objects of different type are considered to be unequal (e.g. 2 does not equal 2.0). Here are a few examples:"
   ]
  },
  {
   "cell_type": "code",
   "execution_count": 77,
   "metadata": {
    "collapsed": true,
    "nbpresent": {
     "id": "01ae3367-d6ff-435a-b735-177f2fbe2dfe"
    }
   },
   "outputs": [],
   "source": [
    "a=5.7"
   ]
  },
  {
   "cell_type": "code",
   "execution_count": 78,
   "metadata": {
    "collapsed": true,
    "nbpresent": {
     "id": "396fb56c-6b0c-4df9-a458-12326368e4a0"
    }
   },
   "outputs": [],
   "source": [
    "b=4.3"
   ]
  },
  {
   "cell_type": "code",
   "execution_count": 79,
   "metadata": {
    "collapsed": false,
    "nbpresent": {
     "id": "4e740492-5699-4be2-bcaa-0d9e3559c1e0"
    }
   },
   "outputs": [
    {
     "name": "stdout",
     "output_type": "stream",
     "text": [
      "True\n"
     ]
    }
   ],
   "source": [
    "print(a>b)"
   ]
  },
  {
   "cell_type": "code",
   "execution_count": 80,
   "metadata": {
    "collapsed": false,
    "nbpresent": {
     "id": "a65c5a0a-c884-4362-acb5-7eca6fa0c9a0"
    }
   },
   "outputs": [
    {
     "name": "stdout",
     "output_type": "stream",
     "text": [
      "False\n"
     ]
    }
   ],
   "source": [
    "print(a==b)"
   ]
  },
  {
   "cell_type": "code",
   "execution_count": 81,
   "metadata": {
    "collapsed": true,
    "nbpresent": {
     "id": "184dd4a9-1b65-4e53-84aa-4f9a91626d68"
    }
   },
   "outputs": [],
   "source": [
    "c=3"
   ]
  },
  {
   "cell_type": "code",
   "execution_count": 82,
   "metadata": {
    "collapsed": false,
    "nbpresent": {
     "id": "2e7d4dc8-439c-4b24-95e9-bb6af6e18869"
    }
   },
   "outputs": [
    {
     "data": {
      "text/plain": [
       "True"
      ]
     },
     "execution_count": 82,
     "metadata": {},
     "output_type": "execute_result"
    }
   ],
   "source": [
    "a>b and c<b"
   ]
  },
  {
   "cell_type": "markdown",
   "metadata": {
    "collapsed": true,
    "nbpresent": {
     "id": "8e288277-ba04-4a81-a0a8-3a2961cf496b"
    }
   },
   "source": [
    "# Exercises:\n",
    "\n",
    "1) What is the result of the Boolean expression 'not 8>5'?\n",
    "\n",
    "2) What is the result of the Boolean expression 'not(True and False)'? Is this what you expected?\n",
    "\n",
    "3) Write a compound Boolean expression that returns True if the value    of the variable 'count' is between 1 and 10 inclusive. "
   ]
  },
  {
   "cell_type": "markdown",
   "metadata": {
    "nbpresent": {
     "id": "e58488e5-f4b7-4839-82e2-5758c93bf5e8"
    }
   },
   "source": [
    "# Conditionals"
   ]
  },
  {
   "cell_type": "raw",
   "metadata": {
    "nbpresent": {
     "id": "9fb859d5-90ee-4ded-b911-5a7cb965ee38"
    }
   },
   "source": [
    "Conditionals are quite useful in construction of algorithms and are \n",
    "an important program control structure. The 'if' construct\n",
    "\n",
    "if condition:\n",
    "    block\n",
    "    \n",
    "executes a block of statements (which MUST be indented since that \n",
    "is how Python knows what is inside the 'if' and what is not!) if the \n",
    "condition returns true. If the condition returns false, the block \n",
    "is skipped. The if conditional can be followed by any number of \n",
    "'elif' (short for “else if”) constructs\n",
    "\n",
    "if condition:\n",
    "    block1\n",
    "elif condition:\n",
    "    block2\n",
    "\n",
    "which work in the same manner. The 'else' clause\n",
    "\n",
    "else:\n",
    "   block\n",
    "\n",
    "can be used to define the block of statements that are to be executed if none of the if-elif clauses is true. The function below illustrates the use of the conditionals:"
   ]
  },
  {
   "cell_type": "code",
   "execution_count": 83,
   "metadata": {
    "collapsed": false,
    "nbpresent": {
     "id": "618b3675-1189-4dab-abc2-e23b5a7cfe36"
    }
   },
   "outputs": [
    {
     "name": "stdout",
     "output_type": "stream",
     "text": [
      "a is positive\n"
     ]
    }
   ],
   "source": [
    "def sign_of_a(a):\n",
    "    if a < 0.0:\n",
    "        sign = 'negative'\n",
    "    elif a > 0.0:\n",
    "        sign = 'positive'\n",
    "    else:\n",
    "        sign = 'zero'\n",
    "    return sign\n",
    "\n",
    "a = 1.5\n",
    "print('a is ' + sign_of_a(a))"
   ]
  },
  {
   "cell_type": "raw",
   "metadata": {
    "nbpresent": {
     "id": "ad5d731f-986e-41b9-939d-c8558cc3b43b"
    }
   },
   "source": [
    "Here 'def' defines a function, to be discussed below (similar to Matlab \n",
    "functions)."
   ]
  },
  {
   "cell_type": "markdown",
   "metadata": {
    "nbpresent": {
     "id": "952640b4-a9ee-4311-9399-08f2a1c3b12a"
    }
   },
   "source": [
    "# Exercises: \n",
    "\n",
    "1) If you have several nested 'if/else'  constructs, how does Python \n",
    "know to which 'if' an 'else' belongs? Try to check your answer \n",
    "using an example.\n",
    "\n",
    "2) Write a construct that sets the value of a variable called \n",
    "'grade' to the value 4 if a variable named 'score' is greater \n",
    "than 70, 3 if 'score' is between 60 and 69, 2 if 'score' is \n",
    "between 50 and 59, 1 if 'score' is between 40 and 49, and 0 otherwise. \n",
    "This statement (roughly) converts British-style grades to American-style ones."
   ]
  },
  {
   "cell_type": "markdown",
   "metadata": {
    "nbpresent": {
     "id": "46942c9d-f729-469b-92a2-95f2ebe46b62"
    }
   },
   "source": [
    "# Loops "
   ]
  },
  {
   "cell_type": "raw",
   "metadata": {
    "nbpresent": {
     "id": "26e0faee-82f9-4bfc-b534-7a7aa763c8f2"
    }
   },
   "source": [
    "One of the most typical tasks we use a computer for is to do a certain task multiple times (e.g. for different input values). Such repetitive tasks (at which computers are really good, since unlike people they do not get bored) are performed by loops. There are two basic types of loops - a 'while' loop and a 'for' loop. "
   ]
  },
  {
   "cell_type": "markdown",
   "metadata": {
    "nbpresent": {
     "id": "a47c5336-3a3e-4324-b229-bbcac68e6cda"
    }
   },
   "source": [
    "## 'While' loops"
   ]
  },
  {
   "cell_type": "raw",
   "metadata": {
    "nbpresent": {
     "id": "0ec8000d-cb2d-44df-8fc4-c827d96085f6"
    }
   },
   "source": [
    "The 'while' construct:\n",
    "\n",
    "while condition:\n",
    "    block\n",
    "\n",
    "executes a block of (again, indented) statements if the condition is true. After execution of the block, the condition is evaluated again. If it is still true, the block is executed again. This process is continued until the condition becomes false. The 'else' clause\n",
    "\n",
    "else: \n",
    "    block\n",
    "\n",
    "can be used to define the block of statements that are to be executed if the condition is false. \n",
    "\n",
    "Here is an example that creates the list [1, 1/2, 1/3, . . .]:"
   ]
  },
  {
   "cell_type": "code",
   "execution_count": 84,
   "metadata": {
    "collapsed": true,
    "nbpresent": {
     "id": "5cc5229d-0bd9-4a20-af20-a381f47d1737"
    }
   },
   "outputs": [],
   "source": [
    "nMax=5"
   ]
  },
  {
   "cell_type": "code",
   "execution_count": 85,
   "metadata": {
    "collapsed": true,
    "nbpresent": {
     "id": "8b49fd74-a19c-435c-9229-7e0dfed54f97"
    }
   },
   "outputs": [],
   "source": [
    "n=1"
   ]
  },
  {
   "cell_type": "code",
   "execution_count": 86,
   "metadata": {
    "collapsed": true,
    "nbpresent": {
     "id": "84365c27-019d-4de5-b674-b4b5173b535c"
    }
   },
   "outputs": [],
   "source": [
    "a=[]  # Create empty list"
   ]
  },
  {
   "cell_type": "code",
   "execution_count": 87,
   "metadata": {
    "collapsed": false,
    "nbpresent": {
     "id": "54ebeca1-da7c-479b-b195-346259024c5b"
    }
   },
   "outputs": [
    {
     "name": "stdout",
     "output_type": "stream",
     "text": [
      "[1.0]\n",
      "[1.0, 0.5]\n",
      "[1.0, 0.5, 0.3333333333333333]\n",
      "[1.0, 0.5, 0.3333333333333333, 0.25]\n"
     ]
    }
   ],
   "source": [
    "while n < nMax:\n",
    "    a.append(1.0/n) # Append element to list\n",
    "    n = n + 1\n",
    "    print(a)"
   ]
  },
  {
   "cell_type": "raw",
   "metadata": {
    "nbpresent": {
     "id": "03e3350b-b677-4e8a-8a7f-749809caf8a0"
    }
   },
   "source": [
    "Note the indentations above - they indicate what does or does not belong to the loop (since there is no explicit loop end) and are thus absolutely necessary. The IPython shell will do the indentations for you automatically (you indicate the end the loop by pressing 'Return' twice), but an external editor might not do it for you, in which case you have to do it yourself. "
   ]
  },
  {
   "cell_type": "markdown",
   "metadata": {
    "nbpresent": {
     "id": "14a4ba0a-62da-4788-a4a9-ec54aa3a023b"
    }
   },
   "source": [
    "## The range() command"
   ]
  },
  {
   "cell_type": "markdown",
   "metadata": {
    "collapsed": true,
    "nbpresent": {
     "id": "e1059858-c846-43ab-b00c-852f1da2434e"
    }
   },
   "source": [
    "A special type of list is frequently required (often together with \n",
    "for-loops, see below) and therefore a command exists to generate that \n",
    "list: the 'range(stop)' command generates a list of integers starting \n",
    "from 0 and going up to but NOT INCLUDING n. You can also specify \n",
    "both the start and stop points, as well as (optionally) the step\n",
    "\n",
    "range(start,stop[,step])\n",
    "\n",
    "(see help for further details). Here are a few examples:"
   ]
  },
  {
   "cell_type": "code",
   "execution_count": 1,
   "metadata": {
    "collapsed": false,
    "nbpresent": {
     "id": "db220e26-9cfb-468e-8d3f-cbd78611bca0"
    }
   },
   "outputs": [
    {
     "name": "stdout",
     "output_type": "stream",
     "text": [
      "0\n",
      "1\n",
      "2\n",
      "3\n",
      "4\n"
     ]
    }
   ],
   "source": [
    "for a in range(5):\n",
    "    print(a)          # print a"
   ]
  },
  {
   "cell_type": "code",
   "execution_count": 2,
   "metadata": {
    "collapsed": false,
    "nbpresent": {
     "id": "0c45a29f-3efb-41f5-8f3d-cb6e718baac9"
    }
   },
   "outputs": [
    {
     "name": "stdout",
     "output_type": "stream",
     "text": [
      "3\n",
      "5\n",
      "7\n",
      "9\n"
     ]
    }
   ],
   "source": [
    "for a in range(3,10,2): \n",
    "    print(a) "
   ]
  },
  {
   "cell_type": "markdown",
   "metadata": {
    "nbpresent": {
     "id": "70bf66df-44af-4101-a93f-229a40d9e1cf"
    }
   },
   "source": [
    "# For loops"
   ]
  },
  {
   "cell_type": "raw",
   "metadata": {
    "nbpresent": {
     "id": "5a65ea8c-b01d-42d6-b627-0132f7d33bad"
    }
   },
   "source": [
    "The 'for' loops are explicit in terms of how many times the loop statements will be executed, rather than conditional as the 'while' loops we discussed above:\n",
    "\n",
    "for target in sequence:\n",
    "    block of instructions\n",
    "    \n",
    "and repeat the operations in 'block' for all values in 'sequence'. Unlike many other programming languages (e.g. C, Fortran), the loops in Python need not be over an integer index (as were the 'range' examples above), but can be performed directly over the sequence elements, which need not even be numbers. Here is an example where we iterate over a list of strings and within it over the letters in each string:    "
   ]
  },
  {
   "cell_type": "code",
   "execution_count": 4,
   "metadata": {
    "collapsed": true,
    "nbpresent": {
     "id": "5e9794a2-dace-4984-a404-6e8bc56214f8"
    }
   },
   "outputs": [],
   "source": [
    "fruits = ['apple','banana','orange']"
   ]
  },
  {
   "cell_type": "code",
   "execution_count": 9,
   "metadata": {
    "collapsed": false,
    "nbpresent": {
     "id": "ac38b5ad-6fee-4fef-a36d-1f8deda98efb"
    }
   },
   "outputs": [
    {
     "name": "stdout",
     "output_type": "stream",
     "text": [
      "a\n",
      "p\n",
      "p\n",
      "l\n",
      "e\n",
      "b\n",
      "a\n",
      "n\n",
      "a\n",
      "n\n",
      "a\n",
      "o\n",
      "r\n",
      "a\n",
      "n\n",
      "g\n",
      "e\n"
     ]
    }
   ],
   "source": [
    "for fruit in fruits:\n",
    "    for letter in fruit:\n",
    "         print(letter)"
   ]
  },
  {
   "cell_type": "raw",
   "metadata": {
    "nbpresent": {
     "id": "5f7841a4-cc07-49ed-be0b-f9e2a98d65fa"
    }
   },
   "source": [
    "Python provides further statements for controlling the flow of a program: break, continue and else. \n",
    "\n",
    "The 'break' command issued inside a loop immediately ends the loop and moves execution to the statements immediately following that loop. "
   ]
  },
  {
   "cell_type": "code",
   "execution_count": 10,
   "metadata": {
    "collapsed": true,
    "nbpresent": {
     "id": "9ee44125-f515-43d6-98f2-4d6186e16cb1"
    }
   },
   "outputs": [],
   "source": [
    "x=0"
   ]
  },
  {
   "cell_type": "code",
   "execution_count": 14,
   "metadata": {
    "collapsed": false,
    "nbpresent": {
     "id": "635ba9f0-9694-4d96-b757-095565021944"
    }
   },
   "outputs": [
    {
     "name": "stdout",
     "output_type": "stream",
     "text": [
      "(75, 'is divisible by both 15 and 25')\n"
     ]
    }
   ],
   "source": [
    "while True: # this will go on forever unless stopped\n",
    "    x += 1  # add 1 to x and put the result back in x\n",
    "    if not (x % 15 or x % 25):\n",
    "        break\n",
    "print(x,  'is divisible by both 15 and 25')"
   ]
  },
  {
   "cell_type": "raw",
   "metadata": {
    "nbpresent": {
     "id": "6aabae2f-1be2-4e9c-9ad8-d965f9f766a9"
    }
   },
   "source": [
    "The 'continue' statement allows us to skip a portion of the statements in an iterative loop. If the interpreter encounters the continue statement, it immediately returns to the beginning of the loop to start the next iteration without executing the statements below 'continue'. \n",
    "\n",
    "The following example compiles a list of all numbers between 1 and 99 that are divisible by 7:"
   ]
  },
  {
   "cell_type": "code",
   "execution_count": 16,
   "metadata": {
    "collapsed": false,
    "nbpresent": {
     "id": "3746ab18-8596-48fc-9f9b-14854568fdbc"
    }
   },
   "outputs": [
    {
     "name": "stdout",
     "output_type": "stream",
     "text": [
      "[7, 14, 21, 28, 35, 42, 49, 56, 63, 70, 77, 84, 91, 98]\n"
     ]
    }
   ],
   "source": [
    "x = []  # Create an empty list\n",
    "for i in range(1,100):\n",
    "   if i%7!= 0: continue # If not divisible by 7, skip rest of loop\n",
    "   x.append(i) # Append i to the list\n",
    "print(x)"
   ]
  },
  {
   "cell_type": "raw",
   "metadata": {
    "nbpresent": {
     "id": "57a6f4ec-056a-4f8d-a17c-e0001e455146"
    }
   },
   "source": [
    "Finally, a 'for' or 'while' loop may be followed by an 'else' block of statements, which is executed only if the loop finished 'normally', i.e. without using 'break'."
   ]
  },
  {
   "cell_type": "markdown",
   "metadata": {
    "nbpresent": {
     "id": "346a5ac9-7092-4b5f-ba52-4581235fccc3"
    }
   },
   "source": [
    "# Exercises:"
   ]
  },
  {
   "cell_type": "markdown",
   "metadata": {},
   "source": [
    "1) Write a for loop which calculates the first 10 terms of the Madhava series:\n",
    "\n",
    "\\begin{equation}\n",
    "\\sqrt{12}\\left(1-\\frac1{3\\times3}+\\frac1{5\\times3^2}-\\frac1{7\\times3^3}+...\\right)\n",
    "\\end{equation}\n",
    "\n",
    "(this is one way to calculate $\\pi$ using series).\n",
    "\n",
    "2) Use a 'while' loop to calculate\n",
    "\n",
    "\\begin{equation}\n",
    "x_{k+1}=\\frac12\\left(x_k+\\frac2{x_k}\\right)\n",
    "\\end{equation}  \n",
    "\n",
    "with x(0)=1, until $abs(x(k+1)-\\sqrt(2)) < 0.0001$. (As we will discuss later in the term, this is a way to calculate square roots using just addition and division). \n",
    "     \n",
    "3) The double factorial function, n!!, is the product of the positive odd integers up to and including n (which must itself be odd):\n",
    "\n",
    "\\begin{equation}\n",
    " n!!=\\prod\\limits_{i=1}^{(n+1)/2}(2i-1)=1\\cdot3\\cdot5\\dots(n-2)\\cdot n\n",
    "\\end{equation}\n",
    "\n",
    "Write a routine to calculate n!! in Python. \n",
    "\n",
    "4) A very elegant way to calculate the greatest common denominator of two numbers is the ver elegant Euclid agorithm:\n",
    "\n",
    "In [7]: a,b=1071,462\n",
    "\n",
    "In [8]: while b:\n",
    "\n",
    "            a,b=b,a%b\n",
    "        \n",
    "\n",
    "In [9]: print a\n",
    "\n",
    "21\n",
    "\n",
    "Explain how it works."
   ]
  },
  {
   "cell_type": "markdown",
   "metadata": {
    "nbpresent": {
     "id": "2f0e1cc5-7774-4205-8c66-7a310bc9852a"
    }
   },
   "source": [
    "# Reading input and writing output"
   ]
  },
  {
   "cell_type": "raw",
   "metadata": {
    "nbpresent": {
     "id": "1aa19019-5fd8-43ec-aadd-902b53e2600e"
    }
   },
   "source": [
    "The intrinsic Python 2.x function for accepting user input is\n",
    "\n",
    "raw_input(prompt)\n",
    "\n",
    "Note: In Python 3.x this function is renamed 'input()'. In the Python 3.x version of our textbook (Kyusalaas) this is incorrect and 'raw_input' is still being used.\n",
    "\n",
    "The 'raw_input' function displays the prompt and then reads a line of input that is converted into a string. To convert the string back into a numerical value (if it is a number), you can use the function\n",
    "\n",
    "eval(string)"
   ]
  },
  {
   "cell_type": "code",
   "execution_count": 18,
   "metadata": {
    "collapsed": false,
    "nbpresent": {
     "id": "f6a1ad13-aeb0-42ad-8546-c00f6f30ce33"
    }
   },
   "outputs": [
    {
     "name": "stdout",
     "output_type": "stream",
     "text": [
      "Input a: 34\n"
     ]
    }
   ],
   "source": [
    "a = raw_input(\"Input a: \") # Ask for input"
   ]
  },
  {
   "cell_type": "code",
   "execution_count": 19,
   "metadata": {
    "collapsed": false,
    "nbpresent": {
     "id": "4fb35d80-6c88-4a33-b1f0-fdd9e0fcfe61"
    }
   },
   "outputs": [
    {
     "name": "stdout",
     "output_type": "stream",
     "text": [
      "('34', <type 'str'>)\n"
     ]
    }
   ],
   "source": [
    "print(a,type(a))  # Print a and its type"
   ]
  },
  {
   "cell_type": "code",
   "execution_count": 20,
   "metadata": {
    "collapsed": true,
    "nbpresent": {
     "id": "e54d8e5b-1eaf-49d7-8472-4b5e060a6949"
    }
   },
   "outputs": [],
   "source": [
    "b=eval(a)  # b is a number"
   ]
  },
  {
   "cell_type": "code",
   "execution_count": 21,
   "metadata": {
    "collapsed": false,
    "nbpresent": {
     "id": "5dfc6f5e-d541-4540-b685-7cb87d25eaff"
    }
   },
   "outputs": [
    {
     "name": "stdout",
     "output_type": "stream",
     "text": [
      "(34, <type 'int'>)\n"
     ]
    }
   ],
   "source": [
    "print(b,type(b))  # 'b' is a number (integer)"
   ]
  },
  {
   "cell_type": "raw",
   "metadata": {
    "nbpresent": {
     "id": "908f06df-c1e3-460a-87c4-7260f23faf5c"
    }
   },
   "source": [
    "As we saw earlier, output can be displayed with the print statement:\n",
    "\n",
    "print(object1, object2, . . .)\n",
    "\n",
    "which converts object1, object2, and so on to strings and prints them on the same line, separated by spaces. The newline character '\\n'  can be used to force a new line. For example,"
   ]
  },
  {
   "cell_type": "code",
   "execution_count": 22,
   "metadata": {
    "collapsed": true,
    "nbpresent": {
     "id": "4aaf8a70-2bcb-44c6-9bff-5a5a7d50689d"
    }
   },
   "outputs": [],
   "source": [
    "a=1234.56789"
   ]
  },
  {
   "cell_type": "code",
   "execution_count": 23,
   "metadata": {
    "collapsed": true,
    "nbpresent": {
     "id": "8df236cc-a8f0-49a9-8b8f-88bb22830b06"
    }
   },
   "outputs": [],
   "source": [
    "b=[2,4,6,8]"
   ]
  },
  {
   "cell_type": "code",
   "execution_count": 24,
   "metadata": {
    "collapsed": false,
    "nbpresent": {
     "id": "1dba5474-bbcb-4bcf-b3d4-9779032a5c71"
    }
   },
   "outputs": [
    {
     "name": "stdout",
     "output_type": "stream",
     "text": [
      "(1234.56789, [2, 4, 6, 8])\n"
     ]
    }
   ],
   "source": [
    "print(a,b)"
   ]
  },
  {
   "cell_type": "code",
   "execution_count": 34,
   "metadata": {
    "collapsed": false,
    "nbpresent": {
     "id": "4fe88f34-a989-4dea-817d-d3536245981b"
    }
   },
   "outputs": [
    {
     "name": "stdout",
     "output_type": "stream",
     "text": [
      "a= 1234.56789 \n",
      "b= [2, 4, 6, 8]\n"
     ]
    }
   ],
   "source": [
    "print 'a=',a,'\\nb=',b"
   ]
  },
  {
   "cell_type": "raw",
   "metadata": {
    "nbpresent": {
     "id": "a2f4e76e-6aff-4ba1-9356-61420f76ddfd"
    }
   },
   "source": [
    "The modulo operator '%' can be used to format a tuple. The form of the conversion statement is\n",
    "\n",
    "'%format1 %format2 ... ' % tuple\n",
    "\n",
    "where format1, format2 ... are the format specifications for each object in the tuple. Typically used format specifications are:\n",
    "\n",
    "wd      Integer\n",
    "w.df    Floating point notation\n",
    "w.de    Exponential notation\n",
    "\n",
    "where 'w' is the width of the field and d is the number of digits after the decimal point. The output is right-justified in the specified field and padded with blank spaces (there are provisions for changing the justification and padding). A few examples:"
   ]
  },
  {
   "cell_type": "code",
   "execution_count": 35,
   "metadata": {
    "collapsed": true,
    "nbpresent": {
     "id": "2c669574-0c66-41b8-8e03-811a8077a83b"
    }
   },
   "outputs": [],
   "source": [
    "n=9876"
   ]
  },
  {
   "cell_type": "code",
   "execution_count": 36,
   "metadata": {
    "collapsed": false,
    "nbpresent": {
     "id": "1d782422-9d0b-4c89-8d3c-76b9854e5315"
    }
   },
   "outputs": [
    {
     "name": "stdout",
     "output_type": "stream",
     "text": [
      "1234.57\n"
     ]
    }
   ],
   "source": [
    "print('%7.2f'%a)"
   ]
  },
  {
   "cell_type": "code",
   "execution_count": 37,
   "metadata": {
    "collapsed": false,
    "nbpresent": {
     "id": "8058f7d1-9a11-4815-92aa-9a9696d79a38"
    }
   },
   "outputs": [
    {
     "name": "stdout",
     "output_type": "stream",
     "text": [
      "n=  9876\n"
     ]
    }
   ],
   "source": [
    "print('n=%6d'%n)  # Pad with spaces"
   ]
  },
  {
   "cell_type": "code",
   "execution_count": 38,
   "metadata": {
    "collapsed": false,
    "nbpresent": {
     "id": "d7c4d5b5-7875-4f5a-9a12-4f3c0b43d15f"
    }
   },
   "outputs": [
    {
     "name": "stdout",
     "output_type": "stream",
     "text": [
      "n=009876\n"
     ]
    }
   ],
   "source": [
    "print('n=%06d'%n) # Pad with zeroes"
   ]
  },
  {
   "cell_type": "code",
   "execution_count": 39,
   "metadata": {
    "collapsed": false,
    "nbpresent": {
     "id": "febcd8d0-eb5d-4386-b5ba-88f062dbd9b1"
    }
   },
   "outputs": [
    {
     "name": "stdout",
     "output_type": "stream",
     "text": [
      "  1.2346e+03   9876\n"
     ]
    }
   ],
   "source": [
    "print('%12.4e %6d' %(a,n))"
   ]
  },
  {
   "cell_type": "markdown",
   "metadata": {
    "nbpresent": {
     "id": "f0359418-798c-4c55-9727-287b10062c80"
    }
   },
   "source": [
    "# Exercise:"
   ]
  },
  {
   "cell_type": "raw",
   "metadata": {
    "nbpresent": {
     "id": "5653533c-6419-4d8f-84ff-a0da12216354"
    }
   },
   "source": [
    "Calculate and print on the screen a temperature conversion table from Fahrenheit to Celsius scales. The table should include temperatures from -300 to 210 degrees Fahrenheit (in steps of 5 \n",
    "degrees) and their Celsius equivalents, presented in 2 columns \n",
    "with appropriate headings. Each column should be 10 characters wide, and each temperature should have 3 digits to the right of the decimal point. The conversion formula is:\n",
    "\n",
    "C=(F-32)(5/9)"
   ]
  },
  {
   "cell_type": "markdown",
   "metadata": {
    "nbpresent": {
     "id": "9f62128f-49a9-4d64-8340-dfd2d46e293a"
    }
   },
   "source": [
    "# Reading from and writing to a file"
   ]
  },
  {
   "cell_type": "raw",
   "metadata": {
    "nbpresent": {
     "id": "f7b91f88-19f7-4d5c-ba25-4e66d5a057b9"
    }
   },
   "source": [
    "Up to this point, all data we have used has been either hard-coded into the program or has been obtained from or written to the screen. However, often we need to read from an external file, or write it to such a file. This is done through Python 'file' objects.\n",
    "\n",
    "A file object is created by opening a file with a given filename and mode. The filename could be given as an absolute path (from the root directory/folder up) or relative one (i.e. from the current working directory). 'Mode' is a string with one of the values given below, which indicates what the file will be used for (reading, writing, or both) and what type of data is being read/written (text, binary).\n",
    "\n",
    "mode        meaning\n",
    "r           text, read-only (the default)\n",
    "w           text, write (an existing file with the same name will be overwritten)\n",
    "a           text, append to an existing file\n",
    "r+          text, reading and writing\n",
    "rb          binary, read-only\n",
    "wb          binary, write (an existing file with the same name will be overwritten)\n",
    "ab          binary, append to an existing file\n",
    "rb+         binary, reading and writing\n",
    "\n",
    "For example:"
   ]
  },
  {
   "cell_type": "code",
   "execution_count": 40,
   "metadata": {
    "collapsed": true,
    "nbpresent": {
     "id": "e9ac4872-63b3-447e-bed1-5cc47e975c29"
    }
   },
   "outputs": [],
   "source": [
    "f=open('my_file.txt','w')   # open a text file for writing"
   ]
  },
  {
   "cell_type": "raw",
   "metadata": {
    "nbpresent": {
     "id": "23f33fd3-8ece-46dd-91ab-1f867931dda5"
    }
   },
   "source": [
    "file objects are closed with the 'close' method:"
   ]
  },
  {
   "cell_type": "code",
   "execution_count": 41,
   "metadata": {
    "collapsed": true,
    "nbpresent": {
     "id": "57f46ba4-fdff-4a98-aca4-555121a5239f"
    }
   },
   "outputs": [],
   "source": [
    "f.close()"
   ]
  },
  {
   "cell_type": "raw",
   "metadata": {
    "nbpresent": {
     "id": "a1c1aba9-b21b-4b48-97bd-6609d1f5e83e"
    }
   },
   "source": [
    "Note: Python automatically closes any open files when a program terminates."
   ]
  },
  {
   "cell_type": "raw",
   "metadata": {
    "collapsed": true,
    "nbpresent": {
     "id": "f7a5ee14-2d68-4fe7-b500-c9ed28a84408"
    }
   },
   "source": [
    "The 'write' method of a file object writes a string to the file (in Python3 it also returns the number of characters being written): "
   ]
  },
  {
   "cell_type": "code",
   "execution_count": 7,
   "metadata": {
    "collapsed": true,
    "nbpresent": {
     "id": "e4a8f7a5-6ff0-4a9f-b2ef-30bddc1c287b"
    }
   },
   "outputs": [],
   "source": [
    "f=open('my_file.txt','w')   # open a text file for writing"
   ]
  },
  {
   "cell_type": "code",
   "execution_count": 8,
   "metadata": {
    "collapsed": false,
    "nbpresent": {
     "id": "dd50f647-d536-4b54-bf6b-ca7b4d9040f0"
    }
   },
   "outputs": [],
   "source": [
    "f.write('Hello')"
   ]
  },
  {
   "cell_type": "code",
   "execution_count": 9,
   "metadata": {
    "collapsed": true,
    "nbpresent": {
     "id": "6d2ab897-17ee-4a1f-a373-11850a90bd64"
    }
   },
   "outputs": [],
   "source": [
    "f.close()"
   ]
  },
  {
   "cell_type": "raw",
   "metadata": {
    "nbpresent": {
     "id": "f0c8f598-00e5-4e8f-89f2-b304fa889afe"
    }
   },
   "source": [
    "To read n bytes from a file we use the 'read' method, f.read(n). If n is omitted , the entire file is read in (it is your problem if the file is too large, as stated in the official documentation).\n",
    "\n",
    "'readline()' reads a single line from a file, up to nd including the newline ('\\n') character. Each subsequent call to 'readline' reads another line from the file. Both 'read' and 'readline' return an empty string when they reach the end of the file. To read all of the lines into a list of strings in one go, use 'f.readlines()'. \n",
    "\n",
    "A better method in practice is to use Numpy to read and write data to files (to be discussed later)."
   ]
  },
  {
   "cell_type": "markdown",
   "metadata": {
    "collapsed": true,
    "nbpresent": {
     "id": "21a8edef-051e-45db-9847-60c210d31d7c"
    }
   },
   "source": [
    "# Functions"
   ]
  },
  {
   "cell_type": "raw",
   "metadata": {
    "nbpresent": {
     "id": "2fa6c1cd-c23a-4947-a089-44e35a22bf42"
    }
   },
   "source": [
    "We have already encountered many internal Python functions. One can also define new, custom functions which behave the same way as the internal ones. The structure of a Python function is\n",
    "\n",
    "def  func_name(param1,param2,...):\n",
    "    statements\n",
    "    return return_values\n",
    "    \n",
    "(again, note the indentations!), where 'param1, param2, ...' are the parameters. A parameter can be any Python object, including another function. Parameters may be given default values, in which case the parameter in the function call is optional. If the return statement or return values are omitted, the function returns the null object (i.e. nothing).\n",
    "\n",
    "The following example computes numerically the first two derivatives of arctan(x) using finite differences (we will discuss this method later in the course, for now focus on the Python constructs only):"
   ]
  },
  {
   "cell_type": "code",
   "execution_count": 7,
   "metadata": {
    "collapsed": false,
    "nbpresent": {
     "id": "c7763882-92ce-4b8d-8453-1e080a865625"
    }
   },
   "outputs": [
    {
     "name": "stdout",
     "output_type": "stream",
     "text": [
      "First derivative = 0.799999999573\n",
      "Second derivative = -0.639999991892\n"
     ]
    }
   ],
   "source": [
    "from math import atan\n",
    "def finite_diff(f,x,h=0.0001): # h has a default value\n",
    "   df =(f(x+h) - f(x-h))/(2.0*h)\n",
    "   ddf =(f(x+h) - 2.0*f(x) + f(x-h))/h**2\n",
    "   return df,ddf\n",
    "\n",
    "x = 0.5\n",
    "df,ddf = finite_diff(atan,x) # Uses default value of h\n",
    "print 'First derivative =',df\n",
    "print 'Second derivative =',ddf"
   ]
  },
  {
   "cell_type": "markdown",
   "metadata": {},
   "source": [
    "Note that the function atan (arctan) was passed to the function finite_diff as a parameter.\n",
    "\n",
    "The number of input parameters in a function definition may be left arbitrary. For example, in the function definition\n",
    "\n",
    "def func(x1,x2,*x3)\n",
    "\n",
    "'x1' and 'x2' are the usual parameters, also called positional parameters, whereas 'x3' is a tuple of arbitrary length containing the excess parameters (indicated by the star in front of x3). Calling this function with e.g.\n",
    "\n",
    "func(a,b,c,d,e)\n",
    "\n",
    "results in the following correspondence between the parameters:\n",
    "\n",
    "\\begin{equation}\n",
    "a \\leftrightarrow x1, b \\leftrightarrow x2, (c,d,e) \\leftrightarrow x3\n",
    "\\end{equation}\n",
    "\n",
    "The positional parameters must always be listed before the excess parameters!"
   ]
  },
  {
   "cell_type": "raw",
   "metadata": {
    "nbpresent": {
     "id": "913823ef-d883-4477-98d3-62ddda72bb10"
    }
   },
   "source": [
    "If a mutable object, such as a list, is passed to a function where it is then modified, the changes will also appear in the calling program. Here is an example:"
   ]
  },
  {
   "cell_type": "code",
   "execution_count": 4,
   "metadata": {
    "collapsed": false,
    "nbpresent": {
     "id": "01b4cbad-7d40-4e6f-94d1-3086694ccf67"
    }
   },
   "outputs": [
    {
     "name": "stdout",
     "output_type": "stream",
     "text": [
      "[1, 4, 9, 16]\n"
     ]
    }
   ],
   "source": [
    "def squares(a):\n",
    "    for i in range(len(a)):\n",
    "       a[i] = a[i]**2\n",
    "\n",
    "a = [1, 2, 3, 4]\n",
    "squares(a)\n",
    "print(a)  # the list a is now modified"
   ]
  },
  {
   "cell_type": "markdown",
   "metadata": {
    "nbpresent": {
     "id": "4767fccf-6533-4c37-804a-305ea62352cc"
    }
   },
   "source": [
    "# * syntax"
   ]
  },
  {
   "cell_type": "raw",
   "metadata": {
    "nbpresent": {
     "id": "f0fa57c2-6176-448e-a261-43b0b39195a4"
    }
   },
   "source": [
    "Sometimes we want to call a function with arguments taken from a list \n",
    "or other sequence. The * syntax, used in a function call unpacks such a sequence into positional arguments to the function. \n",
    "\n",
    "Here is an example, using the function 'math.hypot(a,b)'  (this is a function, in the 'math' package, which for given 'a' and 'b' returns sqrt{a^2+b^2}. If the two arguments are in a list or tuple, the following call will fail:"
   ]
  },
  {
   "cell_type": "code",
   "execution_count": 6,
   "metadata": {
    "collapsed": false,
    "nbpresent": {
     "id": "5a18e424-e402-4f03-94e5-572f8daad7e3"
    }
   },
   "outputs": [
    {
     "ename": "TypeError",
     "evalue": "hypot expected 2 arguments, got 1",
     "output_type": "error",
     "traceback": [
      "\u001b[1;31m---------------------------------------------------------------------------\u001b[0m",
      "\u001b[1;31mTypeError\u001b[0m                                 Traceback (most recent call last)",
      "\u001b[1;32m<ipython-input-6-d500ff83ecaa>\u001b[0m in \u001b[0;36m<module>\u001b[1;34m()\u001b[0m\n\u001b[0;32m      3\u001b[0m \u001b[0mt\u001b[0m\u001b[1;33m=\u001b[0m\u001b[1;33m[\u001b[0m\u001b[1;36m3\u001b[0m\u001b[1;33m,\u001b[0m\u001b[1;36m4\u001b[0m\u001b[1;33m]\u001b[0m\u001b[1;33m\u001b[0m\u001b[0m\n\u001b[0;32m      4\u001b[0m \u001b[1;33m\u001b[0m\u001b[0m\n\u001b[1;32m----> 5\u001b[1;33m \u001b[0mmath\u001b[0m\u001b[1;33m.\u001b[0m\u001b[0mhypot\u001b[0m\u001b[1;33m(\u001b[0m\u001b[0mt\u001b[0m\u001b[1;33m)\u001b[0m\u001b[1;33m\u001b[0m\u001b[0m\n\u001b[0m",
      "\u001b[1;31mTypeError\u001b[0m: hypot expected 2 arguments, got 1"
     ]
    }
   ],
   "source": [
    "import math\n",
    "\n",
    "t=[3,4]\n",
    "\n",
    "math.hypot(t)"
   ]
  },
  {
   "cell_type": "raw",
   "metadata": {
    "nbpresent": {
     "id": "cf413918-8443-4706-9c17-8b3cc505faff"
    }
   },
   "source": [
    "This is because we tried to call the function with a single (list) argument 't', while it requires two arguments. One can just index the list explicitly:"
   ]
  },
  {
   "cell_type": "code",
   "execution_count": 7,
   "metadata": {
    "collapsed": false,
    "nbpresent": {
     "id": "0e9baf1d-7472-42f5-aec3-a464b0500e77"
    }
   },
   "outputs": [
    {
     "data": {
      "text/plain": [
       "5.0"
      ]
     },
     "execution_count": 7,
     "metadata": {},
     "output_type": "execute_result"
    }
   ],
   "source": [
    "math.hypot(t[0],t[1])"
   ]
  },
  {
   "cell_type": "raw",
   "metadata": {
    "nbpresent": {
     "id": "183f0bfd-6477-4f92-b0c8-258a46e23a36"
    }
   },
   "source": [
    "which works fine, but a more elegant method is to unpack the object:"
   ]
  },
  {
   "cell_type": "code",
   "execution_count": 8,
   "metadata": {
    "collapsed": false,
    "nbpresent": {
     "id": "8b19ed25-f55c-41d7-8bf1-5f29daf7ccf8"
    }
   },
   "outputs": [
    {
     "data": {
      "text/plain": [
       "5.0"
      ]
     },
     "execution_count": 8,
     "metadata": {},
     "output_type": "execute_result"
    }
   ],
   "source": [
    "math.hypot(*t)"
   ]
  },
  {
   "cell_type": "markdown",
   "metadata": {
    "nbpresent": {
     "id": "98d827ed-99fe-4374-b570-f75d6799f436"
    }
   },
   "source": [
    "# Lambda  Statement"
   ]
  },
  {
   "cell_type": "raw",
   "metadata": {
    "nbpresent": {
     "id": "93b21cd8-506e-4ef7-8bd5-e82540d660b1"
    }
   },
   "source": [
    "If a function has the form of an expression, it can be defined with the \n",
    "'lambda' statement:\n",
    "\n",
    "func name = lambda param1, param2,...: expression\n",
    "\n",
    "This is called an anonymous function (function literal) and useful for \n",
    "defining small helper function that will be used only once. Here is an example:"
   ]
  },
  {
   "cell_type": "code",
   "execution_count": 9,
   "metadata": {
    "collapsed": false,
    "nbpresent": {
     "id": "4f37a44c-3efa-430f-b100-94b94a41735e"
    }
   },
   "outputs": [
    {
     "name": "stdout",
     "output_type": "stream",
     "text": [
      "25\n"
     ]
    }
   ],
   "source": [
    "c = lambda x,y : x**2 + y**2\n",
    "print c(3,4)"
   ]
  },
  {
   "cell_type": "markdown",
   "metadata": {
    "nbpresent": {
     "id": "2535a71b-1fc6-49b9-aa5d-32dc8977ad13"
    }
   },
   "source": [
    "# Exercises:"
   ]
  },
  {
   "cell_type": "raw",
   "metadata": {
    "nbpresent": {
     "id": "5de7facd-8e90-4c09-b3dd-20718354f629"
    }
   },
   "source": [
    "1) A year is a leap year if it is divisible by 4, unless it is a century that is not divisible by 400. Write a function that takes a year as a parameter and returns 'True' if the year is a leap one and 'False' otherwise.\n",
    "\n",
    "2) Write a function that takes two parameters - a pay rate and the number of hours worked -- and returns the total pay. Any hours over 40 paid at 1.5 times higher rate. "
   ]
  }
 ],
 "metadata": {
  "kernelspec": {
   "display_name": "Python [Root]",
   "language": "python",
   "name": "Python [Root]"
  },
  "language_info": {
   "codemirror_mode": {
    "name": "ipython",
    "version": 2
   },
   "file_extension": ".py",
   "mimetype": "text/x-python",
   "name": "python",
   "nbconvert_exporter": "python",
   "pygments_lexer": "ipython2",
   "version": "2.7.11"
  },
  "nbpresent": {
   "slides": {
    "0057a692-b86f-4fba-a84b-bda0fb054b52": {
     "id": "0057a692-b86f-4fba-a84b-bda0fb054b52",
     "prev": null,
     "regions": {
      "859fb503-71a0-4cf0-b526-6da2f99bce30": {
       "attrs": {
        "height": 0.8,
        "width": 0.8,
        "x": 0.1,
        "y": 0.1
       },
       "content": {
        "cell": "e9045bcd-5849-4eda-b6e4-16f93323bd55",
        "part": "whole"
       },
       "id": "859fb503-71a0-4cf0-b526-6da2f99bce30"
      }
     }
    },
    "01b7dda7-e0fa-45c4-812a-9a5b37997e96": {
     "id": "01b7dda7-e0fa-45c4-812a-9a5b37997e96",
     "prev": "4b02428f-b0c2-4d20-bdfa-6d4403ecd2da",
     "regions": {
      "3c8ca411-7ed0-4e82-9b05-1a453ce4a542": {
       "attrs": {
        "height": 0.8,
        "width": 0.8,
        "x": 0.1,
        "y": 0.1
       },
       "content": {
        "cell": "fff44868-65ec-4d2f-b6c8-8381013cda05",
        "part": "whole"
       },
       "id": "3c8ca411-7ed0-4e82-9b05-1a453ce4a542"
      }
     }
    },
    "026b4659-9780-4ff1-841e-ffccdee5fa06": {
     "id": "026b4659-9780-4ff1-841e-ffccdee5fa06",
     "prev": "ac4bbc13-853b-4318-8a0a-7c567e886b5c",
     "regions": {
      "91f079ec-d170-4d96-9b22-b0eeeed481b0": {
       "attrs": {
        "height": 0.8,
        "width": 0.8,
        "x": 0.1,
        "y": 0.1
       },
       "content": {
        "cell": "6d2ab897-17ee-4a1f-a373-11850a90bd64",
        "part": "whole"
       },
       "id": "91f079ec-d170-4d96-9b22-b0eeeed481b0"
      }
     }
    },
    "02aa4d16-39d1-44bd-90b5-4eb0c2428485": {
     "id": "02aa4d16-39d1-44bd-90b5-4eb0c2428485",
     "prev": "23215084-dfa1-472f-b0a0-d8682bdbd50d",
     "regions": {
      "c0ae136e-1979-41e9-ac0b-bb94ea034b75": {
       "attrs": {
        "height": 0.8,
        "width": 0.8,
        "x": 0.1,
        "y": 0.1
       },
       "content": {
        "cell": "01ae3367-d6ff-435a-b735-177f2fbe2dfe",
        "part": "whole"
       },
       "id": "c0ae136e-1979-41e9-ac0b-bb94ea034b75"
      }
     }
    },
    "044095c1-5310-4d96-b047-481084533473": {
     "id": "044095c1-5310-4d96-b047-481084533473",
     "prev": "613ce144-3759-4261-9f5e-be76c016c21a",
     "regions": {
      "643fcd6c-b785-4c88-850e-f692a0247b0f": {
       "attrs": {
        "height": 0.8,
        "width": 0.8,
        "x": 0.1,
        "y": 0.1
       },
       "content": {
        "cell": "4fb35d80-6c88-4a33-b1f0-fdd9e0fcfe61",
        "part": "whole"
       },
       "id": "643fcd6c-b785-4c88-850e-f692a0247b0f"
      }
     }
    },
    "04afe386-7f67-4d58-9a55-afd03c25c963": {
     "id": "04afe386-7f67-4d58-9a55-afd03c25c963",
     "prev": "ade7267f-b919-4d64-82ff-c8a90fdb5add",
     "regions": {
      "eb32d9ea-9152-41c5-bd0a-bb1b34eb0536": {
       "attrs": {
        "height": 0.8,
        "width": 0.8,
        "x": 0.1,
        "y": 0.1
       },
       "content": {
        "cell": "50f18197-b178-41f6-94a7-8709d3e8d99d",
        "part": "whole"
       },
       "id": "eb32d9ea-9152-41c5-bd0a-bb1b34eb0536"
      }
     }
    },
    "05cd7538-27f3-4603-a891-f97a222b7243": {
     "id": "05cd7538-27f3-4603-a891-f97a222b7243",
     "prev": "878a591f-f615-4b95-8c16-ad56beda3c79",
     "regions": {
      "2c6bb78c-d1e3-4d49-a133-89b1ecf455d6": {
       "attrs": {
        "height": 0.8,
        "width": 0.8,
        "x": 0.1,
        "y": 0.1
       },
       "content": {
        "cell": "8df236cc-a8f0-49a9-8b8f-88bb22830b06",
        "part": "whole"
       },
       "id": "2c6bb78c-d1e3-4d49-a133-89b1ecf455d6"
      }
     }
    },
    "0710d019-593b-4e2b-abbc-c856a5bcaea3": {
     "id": "0710d019-593b-4e2b-abbc-c856a5bcaea3",
     "prev": "8548bddc-4008-4e4c-85b1-cacbe6ba4675",
     "regions": {
      "38772286-ccad-4aa5-a289-1e246be186d3": {
       "attrs": {
        "height": 0.8,
        "width": 0.8,
        "x": 0.1,
        "y": 0.1
       },
       "content": {
        "cell": "f0359418-798c-4c55-9727-287b10062c80",
        "part": "whole"
       },
       "id": "38772286-ccad-4aa5-a289-1e246be186d3"
      }
     }
    },
    "07dc656f-f297-4628-95ad-1a10484cdd7d": {
     "id": "07dc656f-f297-4628-95ad-1a10484cdd7d",
     "prev": "12715e5e-5964-47e0-903d-83795be543d5",
     "regions": {
      "1cf5ed4a-6de5-40a7-b9b9-b834774a74e7": {
       "attrs": {
        "height": 0.8,
        "width": 0.8,
        "x": 0.1,
        "y": 0.1
       },
       "content": {
        "cell": "e9ac4872-63b3-447e-bed1-5cc47e975c29",
        "part": "whole"
       },
       "id": "1cf5ed4a-6de5-40a7-b9b9-b834774a74e7"
      }
     }
    },
    "0819a7bb-57d8-47ce-9be3-c155183f5dcd": {
     "id": "0819a7bb-57d8-47ce-9be3-c155183f5dcd",
     "prev": "4d1916f1-9714-45f7-8e41-4d5038ae69bf",
     "regions": {
      "87ab4bcc-0259-41a0-a834-a816bafeec4e": {
       "attrs": {
        "height": 0.8,
        "width": 0.8,
        "x": 0.1,
        "y": 0.1
       },
       "content": {
        "cell": "55ad0db8-0124-431e-acc4-ff58aa045993",
        "part": "whole"
       },
       "id": "87ab4bcc-0259-41a0-a834-a816bafeec4e"
      }
     }
    },
    "089dccd0-b396-492a-a3e1-9bbd6059a62a": {
     "id": "089dccd0-b396-492a-a3e1-9bbd6059a62a",
     "prev": "9de0be57-9e78-41d4-b86a-a510f2ed07a9",
     "regions": {
      "cf0e50fa-ad7b-4f09-80cb-3e9d30750ed0": {
       "attrs": {
        "height": 0.8,
        "width": 0.8,
        "x": 0.1,
        "y": 0.1
       },
       "content": {
        "cell": "c54915c8-2c12-475a-94db-8fb97b7b8d1d",
        "part": "whole"
       },
       "id": "cf0e50fa-ad7b-4f09-80cb-3e9d30750ed0"
      }
     }
    },
    "08c77c89-b3f7-4a71-bd93-344e7a6301f7": {
     "id": "08c77c89-b3f7-4a71-bd93-344e7a6301f7",
     "prev": "4dd53660-f7f2-403a-b9d5-6a3b41178764",
     "regions": {
      "1dc6f65f-ab61-417a-ad07-fde2c4e3cb00": {
       "attrs": {
        "height": 0.8,
        "width": 0.8,
        "x": 0.1,
        "y": 0.1
       },
       "content": {
        "cell": "9f62128f-49a9-4d64-8340-dfd2d46e293a",
        "part": "whole"
       },
       "id": "1dc6f65f-ab61-417a-ad07-fde2c4e3cb00"
      }
     }
    },
    "08ef249c-ebbc-44ea-8a66-b34c26008b9c": {
     "id": "08ef249c-ebbc-44ea-8a66-b34c26008b9c",
     "prev": "afb5c534-bf0e-407e-a413-2db6914ab272",
     "regions": {
      "e885ccb7-1857-4f9d-8678-1f20d934aded": {
       "attrs": {
        "height": 0.8,
        "width": 0.8,
        "x": 0.1,
        "y": 0.1
       },
       "content": {
        "cell": "ebcfbd04-078e-484b-a6ac-98d59703774b",
        "part": "whole"
       },
       "id": "e885ccb7-1857-4f9d-8678-1f20d934aded"
      }
     }
    },
    "09a7f52f-90f0-4fa0-9956-3a72b742062f": {
     "id": "09a7f52f-90f0-4fa0-9956-3a72b742062f",
     "prev": "a58cd348-80fa-4361-8590-7460eff9b015",
     "regions": {
      "5dea1be3-6356-45eb-99ba-dca92500164a": {
       "attrs": {
        "height": 0.8,
        "width": 0.8,
        "x": 0.1,
        "y": 0.1
       },
       "content": {
        "cell": "6aabae2f-1be2-4e9c-9ad8-d965f9f766a9",
        "part": "whole"
       },
       "id": "5dea1be3-6356-45eb-99ba-dca92500164a"
      }
     }
    },
    "0c7d446a-a494-4c6e-b89e-e23929b57ba2": {
     "id": "0c7d446a-a494-4c6e-b89e-e23929b57ba2",
     "prev": "83495837-7e2b-40d0-bad1-527032e5c22d",
     "regions": {
      "2d411e21-049c-403f-b2f4-b9e94b294d04": {
       "attrs": {
        "height": 0.8,
        "width": 0.8,
        "x": 0.1,
        "y": 0.1
       },
       "content": {
        "cell": "60d99b88-b179-42d8-9e70-4c01041ee97a",
        "part": "whole"
       },
       "id": "2d411e21-049c-403f-b2f4-b9e94b294d04"
      }
     }
    },
    "0e9df029-50eb-415b-b425-f1e7706b0fb7": {
     "id": "0e9df029-50eb-415b-b425-f1e7706b0fb7",
     "prev": "05cd7538-27f3-4603-a891-f97a222b7243",
     "regions": {
      "12140a6b-8e89-4134-8a28-47e9f4836bf8": {
       "attrs": {
        "height": 0.8,
        "width": 0.8,
        "x": 0.1,
        "y": 0.1
       },
       "content": {
        "cell": "1dba5474-bbcb-4bcf-b3d4-9779032a5c71",
        "part": "whole"
       },
       "id": "12140a6b-8e89-4134-8a28-47e9f4836bf8"
      }
     }
    },
    "0f1ea347-57d6-4ef7-9f6b-d3e5adc10666": {
     "id": "0f1ea347-57d6-4ef7-9f6b-d3e5adc10666",
     "prev": "6431a750-1fa8-467a-9b10-c1680c06a958",
     "regions": {
      "29335fa8-c943-4d16-af2d-dcc00c162a77": {
       "attrs": {
        "height": 0.8,
        "width": 0.8,
        "x": 0.1,
        "y": 0.1
       },
       "content": {
        "cell": "227135d9-0080-493b-b2cc-5ed534ad5a5e",
        "part": "whole"
       },
       "id": "29335fa8-c943-4d16-af2d-dcc00c162a77"
      }
     }
    },
    "10efcd92-0c26-4987-89be-3a673ce5c877": {
     "id": "10efcd92-0c26-4987-89be-3a673ce5c877",
     "prev": "1e57be3a-7d5a-49a3-ab71-3e1124b6eeaf",
     "regions": {
      "b91cf32d-ba32-479a-9d19-5aabd599cf50": {
       "attrs": {
        "height": 0.8,
        "width": 0.8,
        "x": 0.1,
        "y": 0.1
       },
       "content": {
        "cell": "ded206fa-4aa8-4ac7-80e6-b6f814ee9ca3",
        "part": "whole"
       },
       "id": "b91cf32d-ba32-479a-9d19-5aabd599cf50"
      }
     }
    },
    "125c525e-9e41-4f35-9c41-6a262d2e0b1a": {
     "id": "125c525e-9e41-4f35-9c41-6a262d2e0b1a",
     "prev": "c89c409b-5784-4042-bc66-8494e9a45545",
     "regions": {
      "a07ff583-b4cc-40fc-a4f1-e52dc1900ceb": {
       "attrs": {
        "height": 0.8,
        "width": 0.8,
        "x": 0.1,
        "y": 0.1
       },
       "content": {
        "cell": "54ebeca1-da7c-479b-b195-346259024c5b",
        "part": "whole"
       },
       "id": "a07ff583-b4cc-40fc-a4f1-e52dc1900ceb"
      }
     }
    },
    "12715e5e-5964-47e0-903d-83795be543d5": {
     "id": "12715e5e-5964-47e0-903d-83795be543d5",
     "prev": "08c77c89-b3f7-4a71-bd93-344e7a6301f7",
     "regions": {
      "49c9b746-031c-4155-bf82-963e8e5381fe": {
       "attrs": {
        "height": 0.8,
        "width": 0.8,
        "x": 0.1,
        "y": 0.1
       },
       "content": {
        "cell": "f7b91f88-19f7-4d5c-ba25-4e66d5a057b9",
        "part": "whole"
       },
       "id": "49c9b746-031c-4155-bf82-963e8e5381fe"
      }
     }
    },
    "164f3ea5-bbf5-4e62-9dfd-30d27b9fc2e7": {
     "id": "164f3ea5-bbf5-4e62-9dfd-30d27b9fc2e7",
     "prev": "b19f8b71-2298-464a-a566-b664a74d912f",
     "regions": {
      "2fd7fa03-38a5-42f6-9b9a-8cc8dee85b9f": {
       "attrs": {
        "height": 0.8,
        "width": 0.8,
        "x": 0.1,
        "y": 0.1
       },
       "content": {
        "cell": "0ec8000d-cb2d-44df-8fc4-c827d96085f6",
        "part": "whole"
       },
       "id": "2fd7fa03-38a5-42f6-9b9a-8cc8dee85b9f"
      }
     }
    },
    "1851b239-794e-40c5-bcf5-6b891075504e": {
     "id": "1851b239-794e-40c5-bcf5-6b891075504e",
     "prev": "164f3ea5-bbf5-4e62-9dfd-30d27b9fc2e7",
     "regions": {
      "4df346aa-f824-4609-9ffd-7b43b96147a8": {
       "attrs": {
        "height": 0.8,
        "width": 0.8,
        "x": 0.1,
        "y": 0.1
       },
       "content": {
        "cell": "5cc5229d-0bd9-4a20-af20-a381f47d1737",
        "part": "whole"
       },
       "id": "4df346aa-f824-4609-9ffd-7b43b96147a8"
      }
     }
    },
    "1cc69675-6123-4041-b399-1560414eb20e": {
     "id": "1cc69675-6123-4041-b399-1560414eb20e",
     "prev": "aa0dbdd5-962e-45da-a7fa-4d9646a04e08",
     "regions": {
      "2e30738e-2928-4a9e-909c-ab8f7ca0f6a5": {
       "attrs": {
        "height": 0.8,
        "width": 0.8,
        "x": 0.1,
        "y": 0.1
       },
       "content": {
        "cell": "d9011bcd-231b-48f2-95bc-913c90a606f6",
        "part": "whole"
       },
       "id": "2e30738e-2928-4a9e-909c-ab8f7ca0f6a5"
      }
     }
    },
    "1d1e3243-be82-430f-8ff3-1883a44d0da3": {
     "id": "1d1e3243-be82-430f-8ff3-1883a44d0da3",
     "prev": "2657c4b2-254a-426b-8652-1672ff48a511",
     "regions": {
      "bec2e060-0d03-4606-9ecf-e296680b0a93": {
       "attrs": {
        "height": 0.8,
        "width": 0.8,
        "x": 0.1,
        "y": 0.1
       },
       "content": {
        "cell": "01b4cbad-7d40-4e6f-94d1-3086694ccf67",
        "part": "whole"
       },
       "id": "bec2e060-0d03-4606-9ecf-e296680b0a93"
      }
     }
    },
    "1e57be3a-7d5a-49a3-ab71-3e1124b6eeaf": {
     "id": "1e57be3a-7d5a-49a3-ab71-3e1124b6eeaf",
     "prev": "90ac28f7-e31c-487a-8d84-3ca923d5f884",
     "regions": {
      "dc3cd1a6-a721-4ff0-9389-912c3fd71f4a": {
       "attrs": {
        "height": 0.8,
        "width": 0.8,
        "x": 0.1,
        "y": 0.1
       },
       "content": {
        "cell": "4c887a05-8680-4036-9d98-2d43adeab07f",
        "part": "whole"
       },
       "id": "dc3cd1a6-a721-4ff0-9389-912c3fd71f4a"
      }
     }
    },
    "1fbc4eac-8e0c-46a9-a302-f59b8647553f": {
     "id": "1fbc4eac-8e0c-46a9-a302-f59b8647553f",
     "prev": "50c91820-cd94-45da-a7a2-1b503048a128",
     "regions": {
      "947c5c77-df3d-41e2-9804-72c1b5ca512d": {
       "attrs": {
        "height": 0.8,
        "width": 0.8,
        "x": 0.1,
        "y": 0.1
       },
       "content": {
        "cell": "0b83c7b8-5282-4e4e-885e-879d310de316",
        "part": "whole"
       },
       "id": "947c5c77-df3d-41e2-9804-72c1b5ca512d"
      }
     }
    },
    "23215084-dfa1-472f-b0a0-d8682bdbd50d": {
     "id": "23215084-dfa1-472f-b0a0-d8682bdbd50d",
     "prev": "78c7f87a-3935-4f9a-880c-dad74aef9006",
     "regions": {
      "424be11a-504f-40e9-86ea-0eaedec97aee": {
       "attrs": {
        "height": 0.8,
        "width": 0.8,
        "x": 0.1,
        "y": 0.1
       },
       "content": {
        "cell": "e7a57076-9642-46d0-9b7b-77239f326379",
        "part": "whole"
       },
       "id": "424be11a-504f-40e9-86ea-0eaedec97aee"
      }
     }
    },
    "24adff6d-2c2a-421c-b42b-fe0761e4bd60": {
     "id": "24adff6d-2c2a-421c-b42b-fe0761e4bd60",
     "prev": "71e52bc4-9bd7-48e4-abea-fb913d487986",
     "regions": {
      "bc11f6b3-207a-44b0-a1d3-26290d52a644": {
       "attrs": {
        "height": 0.8,
        "width": 0.8,
        "x": 0.1,
        "y": 0.1
       },
       "content": {
        "cell": "2ee4991f-42d2-41cb-9b0d-7d2574e5d241",
        "part": "whole"
       },
       "id": "bc11f6b3-207a-44b0-a1d3-26290d52a644"
      }
     }
    },
    "2657c4b2-254a-426b-8652-1672ff48a511": {
     "id": "2657c4b2-254a-426b-8652-1672ff48a511",
     "prev": "8d9bb6ea-b808-412f-87c8-166fb6146987",
     "regions": {
      "dbe45784-5ddf-401e-b8f0-537afd848702": {
       "attrs": {
        "height": 0.8,
        "width": 0.8,
        "x": 0.1,
        "y": 0.1
       },
       "content": {
        "cell": "913823ef-d883-4477-98d3-62ddda72bb10",
        "part": "whole"
       },
       "id": "dbe45784-5ddf-401e-b8f0-537afd848702"
      }
     }
    },
    "285e4a64-b24b-48a1-b358-89549ea3835b": {
     "id": "285e4a64-b24b-48a1-b358-89549ea3835b",
     "prev": "2a5ea240-aefb-4d7c-986b-971d728e2f83",
     "regions": {
      "68056bc8-b606-4c1e-a57d-9267de4e3dbb": {
       "attrs": {
        "height": 0.8,
        "width": 0.8,
        "x": 0.1,
        "y": 0.1
       },
       "content": {
        "cell": "bbab9ed8-5d48-4c08-a332-101e1f4ba4be",
        "part": "whole"
       },
       "id": "68056bc8-b606-4c1e-a57d-9267de4e3dbb"
      }
     }
    },
    "29c829ca-ac02-4bad-a843-250d7e0a29fb": {
     "id": "29c829ca-ac02-4bad-a843-250d7e0a29fb",
     "prev": "f00c782d-1bb8-4445-804a-1402d617b653",
     "regions": {
      "4771a037-3959-46eb-a317-23128de94680": {
       "attrs": {
        "height": 0.8,
        "width": 0.8,
        "x": 0.1,
        "y": 0.1
       },
       "content": {
        "cell": "913f5c3b-09ca-46a5-88c6-618d82531125",
        "part": "whole"
       },
       "id": "4771a037-3959-46eb-a317-23128de94680"
      }
     }
    },
    "2a5ea240-aefb-4d7c-986b-971d728e2f83": {
     "id": "2a5ea240-aefb-4d7c-986b-971d728e2f83",
     "prev": "c4f29d7e-c689-4920-b6fe-22f335eeb7fd",
     "regions": {
      "f2c17a8f-1f31-4fe1-940a-d801b7236ecf": {
       "attrs": {
        "height": 0.8,
        "width": 0.8,
        "x": 0.1,
        "y": 0.1
       },
       "content": {
        "cell": "3cb99d63-8324-43ff-ba17-26b1c82fea4e",
        "part": "whole"
       },
       "id": "f2c17a8f-1f31-4fe1-940a-d801b7236ecf"
      }
     }
    },
    "2e800e61-c562-441a-8a38-451938255e0a": {
     "id": "2e800e61-c562-441a-8a38-451938255e0a",
     "prev": "8a10de3d-7052-4898-b6ec-1ffda88e9bb8",
     "regions": {
      "3b834d28-c32a-454e-a115-8c316c92ff1e": {
       "attrs": {
        "height": 0.8,
        "width": 0.8,
        "x": 0.1,
        "y": 0.1
       },
       "content": {
        "cell": "f0fa57c2-6176-448e-a261-43b0b39195a4",
        "part": "whole"
       },
       "id": "3b834d28-c32a-454e-a115-8c316c92ff1e"
      }
     }
    },
    "2f8603a0-918a-405a-afcf-f8ea8847c8cc": {
     "id": "2f8603a0-918a-405a-afcf-f8ea8847c8cc",
     "prev": "a7576420-7832-47c3-a987-9c9cfb00b0ae",
     "regions": {
      "a2d7ea89-e892-4c98-86d6-bc0ad56ad667": {
       "attrs": {
        "height": 0.8,
        "width": 0.8,
        "x": 0.1,
        "y": 0.1
       },
       "content": {
        "cell": "5de7facd-8e90-4c09-b3dd-20718354f629",
        "part": "whole"
       },
       "id": "a2d7ea89-e892-4c98-86d6-bc0ad56ad667"
      }
     }
    },
    "30efb9e5-3ac6-4a8d-8975-2c2d62bdb127": {
     "id": "30efb9e5-3ac6-4a8d-8975-2c2d62bdb127",
     "prev": "7117025b-6a39-47f8-90d3-8fa92b17fbdb",
     "regions": {
      "878aa3b3-bcff-4fd8-98cb-f280c3cc248b": {
       "attrs": {
        "height": 0.8,
        "width": 0.8,
        "x": 0.1,
        "y": 0.1
       },
       "content": {
        "cell": "f4f60940-5fc6-4d15-a12e-c5a01c38310e",
        "part": "whole"
       },
       "id": "878aa3b3-bcff-4fd8-98cb-f280c3cc248b"
      }
     }
    },
    "31ebe06d-1cd9-4271-8e31-b458cec59544": {
     "id": "31ebe06d-1cd9-4271-8e31-b458cec59544",
     "prev": "62d5258e-cd46-4c92-9a43-a2bd41ec4473",
     "regions": {
      "2dbf5e78-6b56-42bf-badf-f6c4fb93e5de": {
       "attrs": {
        "height": 0.8,
        "width": 0.8,
        "x": 0.1,
        "y": 0.1
       },
       "content": {
        "cell": "70bf66df-44af-4101-a93f-229a40d9e1cf",
        "part": "whole"
       },
       "id": "2dbf5e78-6b56-42bf-badf-f6c4fb93e5de"
      }
     }
    },
    "3485dc82-d2d9-417f-9d41-3e742d7fddea": {
     "id": "3485dc82-d2d9-417f-9d41-3e742d7fddea",
     "prev": "ddb4180b-5858-4558-9f93-5667201be5dc",
     "regions": {
      "3eabed2e-b9ab-4564-af43-f0ae7e692fd6": {
       "attrs": {
        "height": 0.8,
        "width": 0.8,
        "x": 0.1,
        "y": 0.1
       },
       "content": {
        "cell": "0212d3a5-f049-40ca-aa5b-1f65f53d7c80",
        "part": "whole"
       },
       "id": "3eabed2e-b9ab-4564-af43-f0ae7e692fd6"
      }
     }
    },
    "34af33b7-8842-4125-ac4b-51782928a3d4": {
     "id": "34af33b7-8842-4125-ac4b-51782928a3d4",
     "prev": "ce8cf159-73c4-4bfe-a039-eac9bd7cc7a0",
     "regions": {
      "21e60d2d-5a7a-4d05-8086-38c977aa2afe": {
       "attrs": {
        "height": 0.8,
        "width": 0.8,
        "x": 0.1,
        "y": 0.1
       },
       "content": {
        "cell": "5e9794a2-dace-4984-a404-6e8bc56214f8",
        "part": "whole"
       },
       "id": "21e60d2d-5a7a-4d05-8086-38c977aa2afe"
      }
     }
    },
    "3527aab5-467a-4497-b109-63d54e4393b0": {
     "id": "3527aab5-467a-4497-b109-63d54e4393b0",
     "prev": "ea1b1b4f-db91-4331-9c19-62ad5634fdcc",
     "regions": {
      "48e58f51-f089-489f-b446-246d412b8ae1": {
       "attrs": {
        "height": 0.8,
        "width": 0.8,
        "x": 0.1,
        "y": 0.1
       },
       "content": {
        "cell": "4e740492-5699-4be2-bcaa-0d9e3559c1e0",
        "part": "whole"
       },
       "id": "48e58f51-f089-489f-b446-246d412b8ae1"
      }
     }
    },
    "3c30fdef-1ecb-4a8d-bb90-e8e591905bb5": {
     "id": "3c30fdef-1ecb-4a8d-bb90-e8e591905bb5",
     "prev": "72dc984b-b197-4b14-a6e3-4e49b814bebf",
     "regions": {
      "93139a57-7955-4e6b-a7a1-6dcebb720c9a": {
       "attrs": {
        "height": 0.8,
        "width": 0.8,
        "x": 0.1,
        "y": 0.1
       },
       "content": {
        "cell": "618b3675-1189-4dab-abc2-e23b5a7cfe36",
        "part": "whole"
       },
       "id": "93139a57-7955-4e6b-a7a1-6dcebb720c9a"
      }
     }
    },
    "3db71955-03ac-4b1f-a94b-73efb9938605": {
     "id": "3db71955-03ac-4b1f-a94b-73efb9938605",
     "prev": "9d932cca-8972-4621-ab95-a62caa5ccb67",
     "regions": {
      "771e9b4e-52a5-4c46-a849-1d432ff28870": {
       "attrs": {
        "height": 0.8,
        "width": 0.8,
        "x": 0.1,
        "y": 0.1
       },
       "content": {
        "cell": "183f0bfd-6477-4f92-b0c8-258a46e23a36",
        "part": "whole"
       },
       "id": "771e9b4e-52a5-4c46-a849-1d432ff28870"
      }
     }
    },
    "3eac46a0-21a2-496e-9cd2-87769429e937": {
     "id": "3eac46a0-21a2-496e-9cd2-87769429e937",
     "prev": "4cae7d80-d7c4-47e1-bdd1-8c8a11e6e255",
     "regions": {
      "bb05f907-4948-40d7-91bc-d18385b8c81a": {
       "attrs": {
        "height": 0.8,
        "width": 0.8,
        "x": 0.1,
        "y": 0.1
       },
       "content": {
        "cell": "57a6f4ec-056a-4f8d-a17c-e0001e455146",
        "part": "whole"
       },
       "id": "bb05f907-4948-40d7-91bc-d18385b8c81a"
      }
     }
    },
    "3f9534cf-e461-4822-a482-1d38c2aa49ad": {
     "id": "3f9534cf-e461-4822-a482-1d38c2aa49ad",
     "prev": "f74dccfb-d616-4c41-b7ba-562a07ecedca",
     "regions": {
      "5dc0ffd4-31af-4560-bdb6-4becebbd76f7": {
       "attrs": {
        "height": 0.8,
        "width": 0.8,
        "x": 0.1,
        "y": 0.1
       },
       "content": {
        "cell": "93d518f4-4967-4f65-af7f-944b121b232e",
        "part": "whole"
       },
       "id": "5dc0ffd4-31af-4560-bdb6-4becebbd76f7"
      }
     }
    },
    "414e7a5b-4203-4470-9499-3dfd1f3da238": {
     "id": "414e7a5b-4203-4470-9499-3dfd1f3da238",
     "prev": "49dd0844-9df2-4936-89fd-0339dd3ba162",
     "regions": {
      "c8ee4ab2-e4b6-4f53-92fb-7baf23b21908": {
       "attrs": {
        "height": 0.8,
        "width": 0.8,
        "x": 0.1,
        "y": 0.1
       },
       "content": {
        "cell": "c7763882-92ce-4b8d-8453-1e080a865625",
        "part": "whole"
       },
       "id": "c8ee4ab2-e4b6-4f53-92fb-7baf23b21908"
      }
     }
    },
    "48a83c68-713a-4706-bffd-8707f332064e": {
     "id": "48a83c68-713a-4706-bffd-8707f332064e",
     "prev": "3527aab5-467a-4497-b109-63d54e4393b0",
     "regions": {
      "9f067a8a-f3a4-42ff-940e-412ede3fe112": {
       "attrs": {
        "height": 0.8,
        "width": 0.8,
        "x": 0.1,
        "y": 0.1
       },
       "content": {
        "cell": "a65c5a0a-c884-4362-acb5-7eca6fa0c9a0",
        "part": "whole"
       },
       "id": "9f067a8a-f3a4-42ff-940e-412ede3fe112"
      }
     }
    },
    "49dd0844-9df2-4936-89fd-0339dd3ba162": {
     "id": "49dd0844-9df2-4936-89fd-0339dd3ba162",
     "prev": "f0b81581-7fd9-42e7-a5d7-718c5154b1f8",
     "regions": {
      "bb7d2418-3c62-4b0b-9502-85dd5ecc1765": {
       "attrs": {
        "height": 0.8,
        "width": 0.8,
        "x": 0.1,
        "y": 0.1
       },
       "content": {
        "cell": "2fa6c1cd-c23a-4947-a089-44e35a22bf42",
        "part": "whole"
       },
       "id": "bb7d2418-3c62-4b0b-9502-85dd5ecc1765"
      }
     }
    },
    "4b02428f-b0c2-4d20-bdfa-6d4403ecd2da": {
     "id": "4b02428f-b0c2-4d20-bdfa-6d4403ecd2da",
     "prev": "285e4a64-b24b-48a1-b358-89549ea3835b",
     "regions": {
      "c4ff7eb4-60ab-40df-aee2-fbf02abbc325": {
       "attrs": {
        "height": 0.8,
        "width": 0.8,
        "x": 0.1,
        "y": 0.1
       },
       "content": {
        "cell": "8fd1e7dc-45c7-4a74-a8da-72b43d437ecf",
        "part": "whole"
       },
       "id": "c4ff7eb4-60ab-40df-aee2-fbf02abbc325"
      }
     }
    },
    "4cae7d80-d7c4-47e1-bdd1-8c8a11e6e255": {
     "id": "4cae7d80-d7c4-47e1-bdd1-8c8a11e6e255",
     "prev": "09a7f52f-90f0-4fa0-9956-3a72b742062f",
     "regions": {
      "058c20b0-33c5-4097-b461-033a5a1e21bf": {
       "attrs": {
        "height": 0.8,
        "width": 0.8,
        "x": 0.1,
        "y": 0.1
       },
       "content": {
        "cell": "3746ab18-8596-48fc-9f9b-14854568fdbc",
        "part": "whole"
       },
       "id": "058c20b0-33c5-4097-b461-033a5a1e21bf"
      }
     }
    },
    "4d1916f1-9714-45f7-8e41-4d5038ae69bf": {
     "id": "4d1916f1-9714-45f7-8e41-4d5038ae69bf",
     "prev": "56761cfb-5eca-4a5f-8cd9-4c9a6cb78da9",
     "regions": {
      "433701db-5da9-4bd9-9db5-0a993c4a08f6": {
       "attrs": {
        "height": 0.8,
        "width": 0.8,
        "x": 0.1,
        "y": 0.1
       },
       "content": {
        "cell": "4888b7f2-dbb5-4c04-8a99-9bea23c35b45",
        "part": "whole"
       },
       "id": "433701db-5da9-4bd9-9db5-0a993c4a08f6"
      }
     }
    },
    "4dd53660-f7f2-403a-b9d5-6a3b41178764": {
     "id": "4dd53660-f7f2-403a-b9d5-6a3b41178764",
     "prev": "0710d019-593b-4e2b-abbc-c856a5bcaea3",
     "regions": {
      "e0e50326-bee0-4173-86b3-566606212519": {
       "attrs": {
        "height": 0.8,
        "width": 0.8,
        "x": 0.1,
        "y": 0.1
       },
       "content": {
        "cell": "5653533c-6419-4d8f-84ff-a0da12216354",
        "part": "whole"
       },
       "id": "e0e50326-bee0-4173-86b3-566606212519"
      }
     }
    },
    "4fa850cc-2ea7-44d2-8819-5286d1ac29cd": {
     "id": "4fa850cc-2ea7-44d2-8819-5286d1ac29cd",
     "prev": "683b4065-b777-459a-806b-d5c9d8e80431",
     "regions": {
      "aca494cc-3880-428d-b694-d6749a9f7c1d": {
       "attrs": {
        "height": 0.8,
        "width": 0.8,
        "x": 0.1,
        "y": 0.1
       },
       "content": {
        "cell": "2c669574-0c66-41b8-8e03-811a8077a83b",
        "part": "whole"
       },
       "id": "aca494cc-3880-428d-b694-d6749a9f7c1d"
      }
     }
    },
    "50c91820-cd94-45da-a7a2-1b503048a128": {
     "id": "50c91820-cd94-45da-a7a2-1b503048a128",
     "prev": "d6c40276-3612-4aca-a46d-9e6537d8419f",
     "regions": {
      "e18d905c-d207-4a6e-88b9-7c0f9fbdb730": {
       "attrs": {
        "height": 0.8,
        "width": 0.8,
        "x": 0.1,
        "y": 0.1
       },
       "content": {
        "cell": "c8bd947a-a7a9-4254-8cf4-46a58c4f400b",
        "part": "whole"
       },
       "id": "e18d905c-d207-4a6e-88b9-7c0f9fbdb730"
      }
     }
    },
    "50f43892-6fa4-4ef7-bbf2-089f834e6987": {
     "id": "50f43892-6fa4-4ef7-bbf2-089f834e6987",
     "prev": "1fbc4eac-8e0c-46a9-a302-f59b8647553f",
     "regions": {
      "89eb4545-46a5-48b8-a7c4-5d4724c5c68c": {
       "attrs": {
        "height": 0.8,
        "width": 0.8,
        "x": 0.1,
        "y": 0.1
       },
       "content": {
        "cell": "cddd3c23-980c-4fed-8fa3-88efeccccb6f",
        "part": "whole"
       },
       "id": "89eb4545-46a5-48b8-a7c4-5d4724c5c68c"
      }
     }
    },
    "521c3466-8f7d-4e47-9428-b8a1e807a8ca": {
     "id": "521c3466-8f7d-4e47-9428-b8a1e807a8ca",
     "prev": "1851b239-794e-40c5-bcf5-6b891075504e",
     "regions": {
      "3fecacc3-1d95-49fb-892b-a2661a7559b1": {
       "attrs": {
        "height": 0.8,
        "width": 0.8,
        "x": 0.1,
        "y": 0.1
       },
       "content": {
        "cell": "8b49fd74-a19c-435c-9229-7e0dfed54f97",
        "part": "whole"
       },
       "id": "3fecacc3-1d95-49fb-892b-a2661a7559b1"
      }
     }
    },
    "52557ed9-ba7d-4e86-b204-e316a5f6959e": {
     "id": "52557ed9-ba7d-4e86-b204-e316a5f6959e",
     "prev": "0057a692-b86f-4fba-a84b-bda0fb054b52",
     "regions": {
      "82588306-97a1-444d-8c65-ccd136f7c5ff": {
       "attrs": {
        "height": 0.8,
        "width": 0.8,
        "x": 0.1,
        "y": 0.1
       },
       "content": {
        "cell": "a1c01548-ab0b-4f6c-8c9b-1329aaab09bc",
        "part": "whole"
       },
       "id": "82588306-97a1-444d-8c65-ccd136f7c5ff"
      }
     }
    },
    "5298d7a8-7611-4974-888d-e8ae703319bd": {
     "id": "5298d7a8-7611-4974-888d-e8ae703319bd",
     "prev": "71405c2a-73d8-4a1c-8182-c55a8dd46544",
     "regions": {
      "27ab48c8-d588-421a-94ae-64085fc17f83": {
       "attrs": {
        "height": 0.8,
        "width": 0.8,
        "x": 0.1,
        "y": 0.1
       },
       "content": {
        "cell": "51a7140c-f4a0-468d-b2e1-d766affb1516",
        "part": "whole"
       },
       "id": "27ab48c8-d588-421a-94ae-64085fc17f83"
      }
     }
    },
    "52ab81f0-da30-451e-8805-080d5eec5082": {
     "id": "52ab81f0-da30-451e-8805-080d5eec5082",
     "prev": "97453802-6466-4bea-917d-5d8e08ee331a",
     "regions": {
      "fcd5ed52-caae-4196-b26c-1d45521fef07": {
       "attrs": {
        "height": 0.8,
        "width": 0.8,
        "x": 0.1,
        "y": 0.1
       },
       "content": {
        "cell": "d7c4d5b5-7875-4f5a-9a12-4f3c0b43d15f",
        "part": "whole"
       },
       "id": "fcd5ed52-caae-4196-b26c-1d45521fef07"
      }
     }
    },
    "5522414d-11c3-48ca-83f4-ad3cdd02857b": {
     "id": "5522414d-11c3-48ca-83f4-ad3cdd02857b",
     "prev": "125c525e-9e41-4f35-9c41-6a262d2e0b1a",
     "regions": {
      "498bfc86-e169-472e-a8c6-4ca80e7efe72": {
       "attrs": {
        "height": 0.8,
        "width": 0.8,
        "x": 0.1,
        "y": 0.1
       },
       "content": {
        "cell": "03e3350b-b677-4e8a-8a7f-749809caf8a0",
        "part": "whole"
       },
       "id": "498bfc86-e169-472e-a8c6-4ca80e7efe72"
      }
     }
    },
    "566fde98-de9a-409e-8834-9bbd56fce44a": {
     "id": "566fde98-de9a-409e-8834-9bbd56fce44a",
     "prev": "044095c1-5310-4d96-b047-481084533473",
     "regions": {
      "bd9d0144-574e-47ec-8cf4-5b5c1101891c": {
       "attrs": {
        "height": 0.8,
        "width": 0.8,
        "x": 0.1,
        "y": 0.1
       },
       "content": {
        "cell": "e54d8e5b-1eaf-49d7-8472-4b5e060a6949",
        "part": "whole"
       },
       "id": "bd9d0144-574e-47ec-8cf4-5b5c1101891c"
      }
     }
    },
    "56761cfb-5eca-4a5f-8cd9-4c9a6cb78da9": {
     "id": "56761cfb-5eca-4a5f-8cd9-4c9a6cb78da9",
     "prev": "b2868939-eaf7-4982-bcd1-ce9924cc8b50",
     "regions": {
      "2706e644-1234-4651-b845-5630c51c649e": {
       "attrs": {
        "height": 0.8,
        "width": 0.8,
        "x": 0.1,
        "y": 0.1
       },
       "content": {
        "cell": "3fa52687-4fa5-45aa-bde3-18f7e1975225",
        "part": "whole"
       },
       "id": "2706e644-1234-4651-b845-5630c51c649e"
      }
     }
    },
    "57779d74-bd85-458c-872a-81edb71865e1": {
     "id": "57779d74-bd85-458c-872a-81edb71865e1",
     "prev": "5be54965-f533-4a1b-9ee2-8afb91f986b8",
     "regions": {
      "f87ea6b0-9191-4767-bb19-9e5ac70f493f": {
       "attrs": {
        "height": 0.8,
        "width": 0.8,
        "x": 0.1,
        "y": 0.1
       },
       "content": {
        "cell": "71e45bbb-4184-4734-bda5-dee6ac349c4b",
        "part": "whole"
       },
       "id": "f87ea6b0-9191-4767-bb19-9e5ac70f493f"
      }
     }
    },
    "58913b8a-4a0f-44c0-b6f1-f129cc907504": {
     "id": "58913b8a-4a0f-44c0-b6f1-f129cc907504",
     "prev": "bca2e4ec-6300-460c-8515-04a95c99d29f",
     "regions": {
      "f2718b53-40e7-4cb3-ac27-517cb6667807": {
       "attrs": {
        "height": 0.8,
        "width": 0.8,
        "x": 0.1,
        "y": 0.1
       },
       "content": {
        "cell": "e4a8f7a5-6ff0-4a9f-b2ef-30bddc1c287b",
        "part": "whole"
       },
       "id": "f2718b53-40e7-4cb3-ac27-517cb6667807"
      }
     }
    },
    "5be54965-f533-4a1b-9ee2-8afb91f986b8": {
     "id": "5be54965-f533-4a1b-9ee2-8afb91f986b8",
     "prev": "50f43892-6fa4-4ef7-bbf2-089f834e6987",
     "regions": {
      "83ccea55-4fb8-402a-8204-1a28e43b3c29": {
       "attrs": {
        "height": 0.8,
        "width": 0.8,
        "x": 0.1,
        "y": 0.1
       },
       "content": {
        "cell": "c6b769c5-40fe-4fdf-8f09-c475d4dec80a",
        "part": "whole"
       },
       "id": "83ccea55-4fb8-402a-8204-1a28e43b3c29"
      }
     }
    },
    "5ccce51e-c30b-4c6d-ace4-3da4de1507c2": {
     "id": "5ccce51e-c30b-4c6d-ace4-3da4de1507c2",
     "prev": "76914185-a333-461f-ae75-2d7477ac6dd4",
     "regions": {
      "a44c4b8b-807b-46d1-8b05-c25a11f4f57a": {
       "attrs": {
        "height": 0.8,
        "width": 0.8,
        "x": 0.1,
        "y": 0.1
       },
       "content": {
        "cell": "1d8d4ef9-99a2-4c2b-813e-556859e4d428",
        "part": "whole"
       },
       "id": "a44c4b8b-807b-46d1-8b05-c25a11f4f57a"
      }
     }
    },
    "5f121830-f51f-42c5-b93c-4c10be9b9d40": {
     "id": "5f121830-f51f-42c5-b93c-4c10be9b9d40",
     "prev": "f1c89f5c-bb8b-4ca1-8499-2b7a1ad474ff",
     "regions": {
      "29d1fad2-6543-400d-96ed-6135f55fd0a3": {
       "attrs": {
        "height": 0.8,
        "width": 0.8,
        "x": 0.1,
        "y": 0.1
       },
       "content": {
        "cell": "db220e26-9cfb-468e-8d3f-cbd78611bca0",
        "part": "whole"
       },
       "id": "29d1fad2-6543-400d-96ed-6135f55fd0a3"
      }
     }
    },
    "5f49a8ca-5cf4-4176-ab1a-ac9c9923988a": {
     "id": "5f49a8ca-5cf4-4176-ab1a-ac9c9923988a",
     "prev": "a264403b-7a73-46d0-a761-98e3ff87bce1",
     "regions": {
      "c7c1632a-54d6-4398-898e-1aae668fccb3": {
       "attrs": {
        "height": 0.8,
        "width": 0.8,
        "x": 0.1,
        "y": 0.1
       },
       "content": {
        "cell": "22e46133-f68e-4b37-bdc7-0f87f8d7af93",
        "part": "whole"
       },
       "id": "c7c1632a-54d6-4398-898e-1aae668fccb3"
      }
     }
    },
    "613ce144-3759-4261-9f5e-be76c016c21a": {
     "id": "613ce144-3759-4261-9f5e-be76c016c21a",
     "prev": "8853ef71-d5b7-4fc7-8f58-35a5674c3419",
     "regions": {
      "19a70e60-6d37-45bb-9290-4ba8bcffa693": {
       "attrs": {
        "height": 0.8,
        "width": 0.8,
        "x": 0.1,
        "y": 0.1
       },
       "content": {
        "cell": "f6a1ad13-aeb0-42ad-8546-c00f6f30ce33",
        "part": "whole"
       },
       "id": "19a70e60-6d37-45bb-9290-4ba8bcffa693"
      }
     }
    },
    "62d5258e-cd46-4c92-9a43-a2bd41ec4473": {
     "id": "62d5258e-cd46-4c92-9a43-a2bd41ec4473",
     "prev": "5f121830-f51f-42c5-b93c-4c10be9b9d40",
     "regions": {
      "76cdc22f-52af-4785-9e26-638decdd98a3": {
       "attrs": {
        "height": 0.8,
        "width": 0.8,
        "x": 0.1,
        "y": 0.1
       },
       "content": {
        "cell": "0c45a29f-3efb-41f5-8f3d-cb6e718baac9",
        "part": "whole"
       },
       "id": "76cdc22f-52af-4785-9e26-638decdd98a3"
      }
     }
    },
    "6431a750-1fa8-467a-9b10-c1680c06a958": {
     "id": "6431a750-1fa8-467a-9b10-c1680c06a958",
     "prev": "751ef404-c247-4a12-b843-126598ec3df8",
     "regions": {
      "4ce63bb4-dd78-4297-a41b-65e587049018": {
       "attrs": {
        "height": 0.8,
        "width": 0.8,
        "x": 0.1,
        "y": 0.1
       },
       "content": {
        "cell": "5fecee7d-fb39-4512-85bf-627bba0c1058",
        "part": "whole"
       },
       "id": "4ce63bb4-dd78-4297-a41b-65e587049018"
      }
     }
    },
    "64cf0969-4ba7-4675-b6a1-798dd18749c0": {
     "id": "64cf0969-4ba7-4675-b6a1-798dd18749c0",
     "prev": "52557ed9-ba7d-4e86-b204-e316a5f6959e",
     "regions": {
      "78ea2786-2366-4f07-82df-1aa05acd1664": {
       "attrs": {
        "height": 0.8,
        "width": 0.8,
        "x": 0.1,
        "y": 0.1
       },
       "content": {
        "cell": "9508d56b-21fa-4377-ac17-cd071a2076a7",
        "part": "whole"
       },
       "id": "78ea2786-2366-4f07-82df-1aa05acd1664"
      }
     }
    },
    "66b50d93-ce4f-4c7c-8faf-ae4d335c76e7": {
     "id": "66b50d93-ce4f-4c7c-8faf-ae4d335c76e7",
     "prev": "9a502f72-10cb-4b5d-88ee-b7db8aaed7b6",
     "regions": {
      "4868f04a-14ff-4a7b-9428-0e07e2213b14": {
       "attrs": {
        "height": 0.8,
        "width": 0.8,
        "x": 0.1,
        "y": 0.1
       },
       "content": {
        "cell": "f3f78780-3471-4e92-8516-5644d4b931c0",
        "part": "whole"
       },
       "id": "4868f04a-14ff-4a7b-9428-0e07e2213b14"
      }
     }
    },
    "679b2d2e-4a92-4483-9e3c-f7647ba1bba1": {
     "id": "679b2d2e-4a92-4483-9e3c-f7647ba1bba1",
     "prev": "5522414d-11c3-48ca-83f4-ad3cdd02857b",
     "regions": {
      "defb71c3-2211-44e8-b778-bb9bec38464d": {
       "attrs": {
        "height": 0.8,
        "width": 0.8,
        "x": 0.1,
        "y": 0.1
       },
       "content": {
        "cell": "14a4ba0a-62da-4788-a4a9-ec54aa3a023b",
        "part": "whole"
       },
       "id": "defb71c3-2211-44e8-b778-bb9bec38464d"
      }
     }
    },
    "6801a5d1-6f55-4d87-b246-6083e71cd0e4": {
     "id": "6801a5d1-6f55-4d87-b246-6083e71cd0e4",
     "prev": "6a19f6cf-3c88-4fc5-b81c-42d3799e9516",
     "regions": {
      "a19aa17b-f806-48aa-a831-20704bb3a48e": {
       "attrs": {
        "height": 0.8,
        "width": 0.8,
        "x": 0.1,
        "y": 0.1
       },
       "content": {
        "cell": "c962c385-18cc-4028-b6a4-18e88c6f1170",
        "part": "whole"
       },
       "id": "a19aa17b-f806-48aa-a831-20704bb3a48e"
      }
     }
    },
    "683b4065-b777-459a-806b-d5c9d8e80431": {
     "id": "683b4065-b777-459a-806b-d5c9d8e80431",
     "prev": "d2706b38-4e01-437a-a2f3-fc63671f7b1c",
     "regions": {
      "62dd3e31-d3c2-4610-bfe5-af165c1c6cbf": {
       "attrs": {
        "height": 0.8,
        "width": 0.8,
        "x": 0.1,
        "y": 0.1
       },
       "content": {
        "cell": "a2f4e76e-6aff-4ba1-9356-61420f76ddfd",
        "part": "whole"
       },
       "id": "62dd3e31-d3c2-4610-bfe5-af165c1c6cbf"
      }
     }
    },
    "695edfcb-eb50-4e31-848b-84a24d28c3e4": {
     "id": "695edfcb-eb50-4e31-848b-84a24d28c3e4",
     "prev": "792d3bea-1528-4775-9b70-e3a55ee3aab2",
     "regions": {
      "244e068c-b5ce-40e2-878d-ddd8ac6bafd4": {
       "attrs": {
        "height": 0.8,
        "width": 0.8,
        "x": 0.1,
        "y": 0.1
       },
       "content": {
        "cell": "4f37a44c-3efa-430f-b100-94b94a41735e",
        "part": "whole"
       },
       "id": "244e068c-b5ce-40e2-878d-ddd8ac6bafd4"
      }
     }
    },
    "6a19f6cf-3c88-4fc5-b81c-42d3799e9516": {
     "id": "6a19f6cf-3c88-4fc5-b81c-42d3799e9516",
     "prev": "89020a22-0e63-42d8-a503-53cae18b0989",
     "regions": {
      "a6863424-8e9c-4c33-bf57-40d6e747495d": {
       "attrs": {
        "height": 0.8,
        "width": 0.8,
        "x": 0.1,
        "y": 0.1
       },
       "content": {
        "cell": "9e7df420-f4b9-43da-81ed-0fc38e476056",
        "part": "whole"
       },
       "id": "a6863424-8e9c-4c33-bf57-40d6e747495d"
      }
     }
    },
    "6acfa224-2bcb-4497-b746-7fee2776dba3": {
     "id": "6acfa224-2bcb-4497-b746-7fee2776dba3",
     "prev": "0c7d446a-a494-4c6e-b89e-e23929b57ba2",
     "regions": {
      "a15b1705-6643-4809-9152-ae1595a4bd46": {
       "attrs": {
        "height": 0.8,
        "width": 0.8,
        "x": 0.1,
        "y": 0.1
       },
       "content": {
        "cell": "a840e42f-2716-4f5d-9384-a0f48d3c42a3",
        "part": "whole"
       },
       "id": "a15b1705-6643-4809-9152-ae1595a4bd46"
      }
     }
    },
    "6e6a9f46-68cf-4389-9922-ded59951c9fa": {
     "id": "6e6a9f46-68cf-4389-9922-ded59951c9fa",
     "prev": "f3600587-e790-4374-aa94-65c9d5928082",
     "regions": {
      "729597bf-0602-417c-90e1-cfc3d289e53f": {
       "attrs": {
        "height": 0.8,
        "width": 0.8,
        "x": 0.1,
        "y": 0.1
       },
       "content": {
        "cell": "aae5b407-6b60-48f7-8a97-53617af51318",
        "part": "whole"
       },
       "id": "729597bf-0602-417c-90e1-cfc3d289e53f"
      }
     }
    },
    "7063a754-8b3d-4340-a0df-6b820c7b3ef2": {
     "id": "7063a754-8b3d-4340-a0df-6b820c7b3ef2",
     "prev": "34af33b7-8842-4125-ac4b-51782928a3d4",
     "regions": {
      "7a59a2d0-8451-40c1-8b88-199c849e07c7": {
       "attrs": {
        "height": 0.8,
        "width": 0.8,
        "x": 0.1,
        "y": 0.1
       },
       "content": {
        "cell": "ac38b5ad-6fee-4fef-a36d-1f8deda98efb",
        "part": "whole"
       },
       "id": "7a59a2d0-8451-40c1-8b88-199c849e07c7"
      }
     }
    },
    "7117025b-6a39-47f8-90d3-8fa92b17fbdb": {
     "id": "7117025b-6a39-47f8-90d3-8fa92b17fbdb",
     "prev": "3485dc82-d2d9-417f-9d41-3e742d7fddea",
     "regions": {
      "9426755b-a847-4b9b-9113-e6004de57e9d": {
       "attrs": {
        "height": 0.8,
        "width": 0.8,
        "x": 0.1,
        "y": 0.1
       },
       "content": {
        "cell": "20e156b4-903b-4dee-b502-5231d4eb6703",
        "part": "whole"
       },
       "id": "9426755b-a847-4b9b-9113-e6004de57e9d"
      }
     }
    },
    "71405c2a-73d8-4a1c-8182-c55a8dd46544": {
     "id": "71405c2a-73d8-4a1c-8182-c55a8dd46544",
     "prev": "5ccce51e-c30b-4c6d-ace4-3da4de1507c2",
     "regions": {
      "3858e9c2-8f3d-4516-af59-8261043065e8": {
       "attrs": {
        "height": 0.8,
        "width": 0.8,
        "x": 0.1,
        "y": 0.1
       },
       "content": {
        "cell": "f7c2c514-bdbc-4e29-9533-7bf4be73f049",
        "part": "whole"
       },
       "id": "3858e9c2-8f3d-4516-af59-8261043065e8"
      }
     }
    },
    "71e52bc4-9bd7-48e4-abea-fb913d487986": {
     "id": "71e52bc4-9bd7-48e4-abea-fb913d487986",
     "prev": "e67605eb-ddb1-4b97-82f0-9b1c73217aa1",
     "regions": {
      "35f24eec-0fc1-4097-a039-d3347fbcbf24": {
       "attrs": {
        "height": 0.8,
        "width": 0.8,
        "x": 0.1,
        "y": 0.1
       },
       "content": {
        "cell": "b7f7cfe4-1e72-4dec-bdd0-0e201c65eda4",
        "part": "whole"
       },
       "id": "35f24eec-0fc1-4097-a039-d3347fbcbf24"
      }
     }
    },
    "72dc984b-b197-4b14-a6e3-4e49b814bebf": {
     "id": "72dc984b-b197-4b14-a6e3-4e49b814bebf",
     "prev": "905c78a9-8619-4d03-a9df-43fc9175459a",
     "regions": {
      "ea43fae7-678e-41ce-9224-d14c6f6147e6": {
       "attrs": {
        "height": 0.8,
        "width": 0.8,
        "x": 0.1,
        "y": 0.1
       },
       "content": {
        "cell": "9fb859d5-90ee-4ded-b911-5a7cb965ee38",
        "part": "whole"
       },
       "id": "ea43fae7-678e-41ce-9224-d14c6f6147e6"
      }
     }
    },
    "7314728c-f517-4c04-b527-65db443e663a": {
     "id": "7314728c-f517-4c04-b527-65db443e663a",
     "prev": "fe321853-c92b-4b5b-a1db-db2a87bfa3bd",
     "regions": {
      "2c4ae23c-2496-4574-b9cc-63c1ac09a136": {
       "attrs": {
        "height": 0.8,
        "width": 0.8,
        "x": 0.1,
        "y": 0.1
       },
       "content": {
        "cell": "46942c9d-f729-469b-92a2-95f2ebe46b62",
        "part": "whole"
       },
       "id": "2c4ae23c-2496-4574-b9cc-63c1ac09a136"
      }
     }
    },
    "73803336-7c4f-4542-b5b7-78d7651095d1": {
     "id": "73803336-7c4f-4542-b5b7-78d7651095d1",
     "prev": "bcec43ae-7f13-4f9a-98e8-ad6d6aafaf61",
     "regions": {
      "eba6f528-429e-4c91-a5d3-aefdf7dc13c6": {
       "attrs": {
        "height": 0.8,
        "width": 0.8,
        "x": 0.1,
        "y": 0.1
       },
       "content": {
        "cell": "3ea1e2ae-245e-4927-809c-de0931395f9b",
        "part": "whole"
       },
       "id": "eba6f528-429e-4c91-a5d3-aefdf7dc13c6"
      }
     }
    },
    "751ef404-c247-4a12-b843-126598ec3df8": {
     "id": "751ef404-c247-4a12-b843-126598ec3df8",
     "prev": "7716a94f-3152-4a22-ad2f-a55bd9241653",
     "regions": {
      "047b0334-e9a3-42e8-b589-a6dad89a729e": {
       "attrs": {
        "height": 0.8,
        "width": 0.8,
        "x": 0.1,
        "y": 0.1
       },
       "content": {
        "cell": "96f37bae-f901-45ca-8377-970c510b929a",
        "part": "whole"
       },
       "id": "047b0334-e9a3-42e8-b589-a6dad89a729e"
      }
     }
    },
    "767d742b-e977-4b8c-9213-74014e502940": {
     "id": "767d742b-e977-4b8c-9213-74014e502940",
     "prev": "b03ae567-c328-4653-8fe7-cdb1d13b2d97",
     "regions": {
      "b290f7b2-902c-421c-9a0c-21b9e7e4e721": {
       "attrs": {
        "height": 0.8,
        "width": 0.8,
        "x": 0.1,
        "y": 0.1
       },
       "content": {
        "cell": "d61891ec-7479-4efa-9b50-605676099715",
        "part": "whole"
       },
       "id": "b290f7b2-902c-421c-9a0c-21b9e7e4e721"
      }
     }
    },
    "76914185-a333-461f-ae75-2d7477ac6dd4": {
     "id": "76914185-a333-461f-ae75-2d7477ac6dd4",
     "prev": "922dc86c-e701-4d99-9634-5437aa9d6036",
     "regions": {
      "16282915-2527-48b7-9475-a1b34517782c": {
       "attrs": {
        "height": 0.8,
        "width": 0.8,
        "x": 0.1,
        "y": 0.1
       },
       "content": {
        "cell": "4d70d367-f39d-4b45-b0be-693d332e6cd1",
        "part": "whole"
       },
       "id": "16282915-2527-48b7-9475-a1b34517782c"
      }
     }
    },
    "76aaa532-5ba8-46c2-ad83-ea780f80061c": {
     "id": "76aaa532-5ba8-46c2-ad83-ea780f80061c",
     "prev": "9fa04711-a884-4657-83ab-3d34b8cecd3b",
     "regions": {
      "ee4ca972-c007-4902-88d2-aec36fc74fae": {
       "attrs": {
        "height": 0.8,
        "width": 0.8,
        "x": 0.1,
        "y": 0.1
       },
       "content": {
        "cell": "2e7d4dc8-439c-4b24-95e9-bb6af6e18869",
        "part": "whole"
       },
       "id": "ee4ca972-c007-4902-88d2-aec36fc74fae"
      }
     }
    },
    "7716a94f-3152-4a22-ad2f-a55bd9241653": {
     "id": "7716a94f-3152-4a22-ad2f-a55bd9241653",
     "prev": "57779d74-bd85-458c-872a-81edb71865e1",
     "regions": {
      "1220067f-4b47-408b-b6ad-9f8d20aa2e7d": {
       "attrs": {
        "height": 0.8,
        "width": 0.8,
        "x": 0.1,
        "y": 0.1
       },
       "content": {
        "cell": "710225ba-809a-4728-ab0f-6d399eee63ec",
        "part": "whole"
       },
       "id": "1220067f-4b47-408b-b6ad-9f8d20aa2e7d"
      }
     }
    },
    "78c7f87a-3935-4f9a-880c-dad74aef9006": {
     "id": "78c7f87a-3935-4f9a-880c-dad74aef9006",
     "prev": "0819a7bb-57d8-47ce-9be3-c155183f5dcd",
     "regions": {
      "f1603d7d-6a4c-4468-9676-e8cb7b08a251": {
       "attrs": {
        "height": 0.8,
        "width": 0.8,
        "x": 0.1,
        "y": 0.1
       },
       "content": {
        "cell": "fba82167-fab9-4fca-aa0f-73e5395d808f",
        "part": "whole"
       },
       "id": "f1603d7d-6a4c-4468-9676-e8cb7b08a251"
      }
     }
    },
    "792d3bea-1528-4775-9b70-e3a55ee3aab2": {
     "id": "792d3bea-1528-4775-9b70-e3a55ee3aab2",
     "prev": "ec75732f-a5c0-46dc-a42e-cbab91afba1a",
     "regions": {
      "2458faca-bbd4-4f30-becf-eb1062de5ce2": {
       "attrs": {
        "height": 0.8,
        "width": 0.8,
        "x": 0.1,
        "y": 0.1
       },
       "content": {
        "cell": "93b21cd8-506e-4ef7-8bd5-e82540d660b1",
        "part": "whole"
       },
       "id": "2458faca-bbd4-4f30-becf-eb1062de5ce2"
      }
     }
    },
    "797c9305-2de9-435f-b3ef-1471d8c28460": {
     "id": "797c9305-2de9-435f-b3ef-1471d8c28460",
     "prev": "8432ad90-889b-4f2f-bc8d-d87aabef957e",
     "regions": {
      "bc6e5726-af3a-4d08-b262-9419a8964f8a": {
       "attrs": {
        "height": 0.8,
        "width": 0.8,
        "x": 0.1,
        "y": 0.1
       },
       "content": {
        "cell": "5e62a77d-85ea-48e7-9c58-0aea1019b416",
        "part": "whole"
       },
       "id": "bc6e5726-af3a-4d08-b262-9419a8964f8a"
      }
     }
    },
    "7a1bd221-e28e-4f6d-957d-e2aba87f6f50": {
     "id": "7a1bd221-e28e-4f6d-957d-e2aba87f6f50",
     "prev": "d697282a-7224-49ac-9168-484dec46f6ec",
     "regions": {
      "0817e42f-fea8-43d1-959a-79da0eac04ce": {
       "attrs": {
        "height": 0.8,
        "width": 0.8,
        "x": 0.1,
        "y": 0.1
       },
       "content": {
        "cell": "d22e2fdb-1aa8-4660-a9c3-f2e563cc4b78",
        "part": "whole"
       },
       "id": "0817e42f-fea8-43d1-959a-79da0eac04ce"
      }
     }
    },
    "7b654d1a-3c3e-4108-ab86-a4a1159b14e7": {
     "id": "7b654d1a-3c3e-4108-ab86-a4a1159b14e7",
     "prev": "d4a8943d-4b2a-46b2-855f-fe82319de6c4",
     "regions": {
      "2d89c702-4d44-43ba-8693-65399a682678": {
       "attrs": {
        "height": 0.8,
        "width": 0.8,
        "x": 0.1,
        "y": 0.1
       },
       "content": {
        "cell": "b268ecf4-0f95-4a04-a64a-cccf17498a77",
        "part": "whole"
       },
       "id": "2d89c702-4d44-43ba-8693-65399a682678"
      }
     }
    },
    "7ef9d1c5-c634-4fef-aa77-754c35b129e2": {
     "id": "7ef9d1c5-c634-4fef-aa77-754c35b129e2",
     "prev": "026b4659-9780-4ff1-841e-ffccdee5fa06",
     "regions": {
      "404dfbe1-69af-4d60-9dcc-5b620d33ba9c": {
       "attrs": {
        "height": 0.8,
        "width": 0.8,
        "x": 0.1,
        "y": 0.1
       },
       "content": {
        "cell": "f0c8f598-00e5-4e8f-89f2-b304fa889afe",
        "part": "whole"
       },
       "id": "404dfbe1-69af-4d60-9dcc-5b620d33ba9c"
      }
     }
    },
    "83495837-7e2b-40d0-bad1-527032e5c22d": {
     "id": "83495837-7e2b-40d0-bad1-527032e5c22d",
     "prev": "797c9305-2de9-435f-b3ef-1471d8c28460",
     "regions": {
      "e0d91da1-b3c2-412b-b972-600340b7d8e5": {
       "attrs": {
        "height": 0.8,
        "width": 0.8,
        "x": 0.1,
        "y": 0.1
       },
       "content": {
        "cell": "b01c01ca-33f9-4700-ade9-e9d65643bc19",
        "part": "whole"
       },
       "id": "e0d91da1-b3c2-412b-b972-600340b7d8e5"
      }
     }
    },
    "8432ad90-889b-4f2f-bc8d-d87aabef957e": {
     "id": "8432ad90-889b-4f2f-bc8d-d87aabef957e",
     "prev": "73803336-7c4f-4542-b5b7-78d7651095d1",
     "regions": {
      "dae205b3-ba31-4f4f-b5fa-f4e4cb5e2bea": {
       "attrs": {
        "height": 0.8,
        "width": 0.8,
        "x": 0.1,
        "y": 0.1
       },
       "content": {
        "cell": "fe6f21fd-dbab-4c0a-bfde-c58780b72c1b",
        "part": "whole"
       },
       "id": "dae205b3-ba31-4f4f-b5fa-f4e4cb5e2bea"
      }
     }
    },
    "8548bddc-4008-4e4c-85b1-cacbe6ba4675": {
     "id": "8548bddc-4008-4e4c-85b1-cacbe6ba4675",
     "prev": "52ab81f0-da30-451e-8805-080d5eec5082",
     "regions": {
      "f5652bb1-bbcf-4eff-b3aa-37b2627e535b": {
       "attrs": {
        "height": 0.8,
        "width": 0.8,
        "x": 0.1,
        "y": 0.1
       },
       "content": {
        "cell": "febcd8d0-eb5d-4386-b5ba-88f062dbd9b1",
        "part": "whole"
       },
       "id": "f5652bb1-bbcf-4eff-b3aa-37b2627e535b"
      }
     }
    },
    "86e9b752-4c1d-4350-977b-53e2172cd46b": {
     "id": "86e9b752-4c1d-4350-977b-53e2172cd46b",
     "prev": "98805963-e45e-4f68-b5b7-3b4986b9a929",
     "regions": {
      "b24559a7-dac7-4581-b9de-435d3139c8a1": {
       "attrs": {
        "height": 0.8,
        "width": 0.8,
        "x": 0.1,
        "y": 0.1
       },
       "content": {
        "cell": "82514dce-cc4a-4ebf-a7b7-2f76332488bc",
        "part": "whole"
       },
       "id": "b24559a7-dac7-4581-b9de-435d3139c8a1"
      }
     }
    },
    "8717d402-e3a9-4bf2-b5bf-b90ab364eaca": {
     "id": "8717d402-e3a9-4bf2-b5bf-b90ab364eaca",
     "prev": "07dc656f-f297-4628-95ad-1a10484cdd7d",
     "regions": {
      "8467fbef-5196-4a0d-b55b-29336773d200": {
       "attrs": {
        "height": 0.8,
        "width": 0.8,
        "x": 0.1,
        "y": 0.1
       },
       "content": {
        "cell": "23f33fd3-8ece-46dd-91ab-1f867931dda5",
        "part": "whole"
       },
       "id": "8467fbef-5196-4a0d-b55b-29336773d200"
      }
     }
    },
    "878a591f-f615-4b95-8c16-ad56beda3c79": {
     "id": "878a591f-f615-4b95-8c16-ad56beda3c79",
     "prev": "bf5eefc0-8fc7-430e-8f7a-f573b0e2f6f8",
     "regions": {
      "68cd1e2a-f6b9-4138-915f-8a7191899c3a": {
       "attrs": {
        "height": 0.8,
        "width": 0.8,
        "x": 0.1,
        "y": 0.1
       },
       "content": {
        "cell": "4aaf8a70-2bcb-44c6-9bff-5a5a7d50689d",
        "part": "whole"
       },
       "id": "68cd1e2a-f6b9-4138-915f-8a7191899c3a"
      }
     }
    },
    "8853ef71-d5b7-4fc7-8f58-35a5674c3419": {
     "id": "8853ef71-d5b7-4fc7-8f58-35a5674c3419",
     "prev": "8a4363ec-d4a5-4967-9b71-d801aa252651",
     "regions": {
      "03054c90-8cc3-453c-beaf-3a2febb11163": {
       "attrs": {
        "height": 0.8,
        "width": 0.8,
        "x": 0.1,
        "y": 0.1
       },
       "content": {
        "cell": "1aa19019-5fd8-43ec-aadd-902b53e2600e",
        "part": "whole"
       },
       "id": "03054c90-8cc3-453c-beaf-3a2febb11163"
      }
     }
    },
    "89020a22-0e63-42d8-a503-53cae18b0989": {
     "id": "89020a22-0e63-42d8-a503-53cae18b0989",
     "prev": "6acfa224-2bcb-4497-b746-7fee2776dba3",
     "regions": {
      "99db98cc-3043-4a1b-871a-89c967a5bc1d": {
       "attrs": {
        "height": 0.8,
        "width": 0.8,
        "x": 0.1,
        "y": 0.1
       },
       "content": {
        "cell": "1aaf6053-0544-4661-a3ab-6c1c879b990d",
        "part": "whole"
       },
       "id": "99db98cc-3043-4a1b-871a-89c967a5bc1d"
      }
     }
    },
    "8a10de3d-7052-4898-b6ec-1ffda88e9bb8": {
     "id": "8a10de3d-7052-4898-b6ec-1ffda88e9bb8",
     "prev": "1d1e3243-be82-430f-8ff3-1883a44d0da3",
     "regions": {
      "0ad221ba-8052-4194-af64-67cb72aee91f": {
       "attrs": {
        "height": 0.8,
        "width": 0.8,
        "x": 0.1,
        "y": 0.1
       },
       "content": {
        "cell": "4767fccf-6533-4c37-804a-305ea62352cc",
        "part": "whole"
       },
       "id": "0ad221ba-8052-4194-af64-67cb72aee91f"
      }
     }
    },
    "8a4363ec-d4a5-4967-9b71-d801aa252651": {
     "id": "8a4363ec-d4a5-4967-9b71-d801aa252651",
     "prev": "b2986df9-3345-43df-b84c-99b31a29d22f",
     "regions": {
      "33d71a03-d2dc-43e1-9523-aa0e2a7fabd5": {
       "attrs": {
        "height": 0.8,
        "width": 0.8,
        "x": 0.1,
        "y": 0.1
       },
       "content": {
        "cell": "2f0e1cc5-7774-4205-8c66-7a310bc9852a",
        "part": "whole"
       },
       "id": "33d71a03-d2dc-43e1-9523-aa0e2a7fabd5"
      }
     }
    },
    "8b3302b2-49db-4d43-8496-acf57c054e61": {
     "id": "8b3302b2-49db-4d43-8496-acf57c054e61",
     "prev": "b7502cac-baff-419c-bcf6-ac3c35071f39",
     "regions": {
      "d646a540-757b-4c5a-b126-1d860838aa67": {
       "attrs": {
        "height": 0.8,
        "width": 0.8,
        "x": 0.1,
        "y": 0.1
       },
       "content": {
        "cell": "4faa0d6a-4195-4647-b9d9-dda466b4f197",
        "part": "whole"
       },
       "id": "d646a540-757b-4c5a-b126-1d860838aa67"
      }
     }
    },
    "8bd378e3-c816-4189-98f7-b79675e87550": {
     "id": "8bd378e3-c816-4189-98f7-b79675e87550",
     "prev": "3c30fdef-1ecb-4a8d-bb90-e8e591905bb5",
     "regions": {
      "ccdbb01d-68b2-4bab-9d75-43cf2983feaf": {
       "attrs": {
        "height": 0.8,
        "width": 0.8,
        "x": 0.1,
        "y": 0.1
       },
       "content": {
        "cell": "ad5d731f-986e-41b9-939d-c8558cc3b43b",
        "part": "whole"
       },
       "id": "ccdbb01d-68b2-4bab-9d75-43cf2983feaf"
      }
     }
    },
    "8d9bb6ea-b808-412f-87c8-166fb6146987": {
     "id": "8d9bb6ea-b808-412f-87c8-166fb6146987",
     "prev": "414e7a5b-4203-4470-9499-3dfd1f3da238",
     "regions": {
      "f131da82-18be-4f7c-9e67-02df9535f6c3": {
       "attrs": {
        "height": 0.8,
        "width": 0.8,
        "x": 0.1,
        "y": 0.1
       },
       "content": {
        "cell": "95270c7e-d691-49c3-8996-6f0c01fc5b2f",
        "part": "whole"
       },
       "id": "f131da82-18be-4f7c-9e67-02df9535f6c3"
      }
     }
    },
    "8feeeab2-cecd-4d21-bbfc-b8033423d4d4": {
     "id": "8feeeab2-cecd-4d21-bbfc-b8033423d4d4",
     "prev": "af725708-eca0-4ee0-b49c-ef279c82efd0",
     "regions": {
      "181b46fd-6fb4-4354-9ef4-16788016772c": {
       "attrs": {
        "height": 0.8,
        "width": 0.8,
        "x": 0.1,
        "y": 0.1
       },
       "content": {
        "cell": "69506c62-e98d-4e25-a811-0be3be881ee6",
        "part": "whole"
       },
       "id": "181b46fd-6fb4-4354-9ef4-16788016772c"
      }
     }
    },
    "905c78a9-8619-4d03-a9df-43fc9175459a": {
     "id": "905c78a9-8619-4d03-a9df-43fc9175459a",
     "prev": "9877055b-ab7a-4608-bf33-2d0ce9ced986",
     "regions": {
      "59e28eb6-8d94-40f0-9fb4-e834fd6a3b23": {
       "attrs": {
        "height": 0.8,
        "width": 0.8,
        "x": 0.1,
        "y": 0.1
       },
       "content": {
        "cell": "e58488e5-f4b7-4839-82e2-5758c93bf5e8",
        "part": "whole"
       },
       "id": "59e28eb6-8d94-40f0-9fb4-e834fd6a3b23"
      }
     }
    },
    "90ac28f7-e31c-487a-8d84-3ca923d5f884": {
     "id": "90ac28f7-e31c-487a-8d84-3ca923d5f884",
     "prev": "0f1ea347-57d6-4ef7-9f6b-d3e5adc10666",
     "regions": {
      "ab62dd83-8f33-4910-9ba2-bd3cde2b6f6a": {
       "attrs": {
        "height": 0.8,
        "width": 0.8,
        "x": 0.1,
        "y": 0.1
       },
       "content": {
        "cell": "cd1ee2e8-a579-4f63-be3d-eefa794b25bd",
        "part": "whole"
       },
       "id": "ab62dd83-8f33-4910-9ba2-bd3cde2b6f6a"
      }
     }
    },
    "914f9d51-7595-40d7-9d9b-02000bca7803": {
     "id": "914f9d51-7595-40d7-9d9b-02000bca7803",
     "prev": "30efb9e5-3ac6-4a8d-8975-2c2d62bdb127",
     "regions": {
      "0a721ba4-c28d-445d-86b1-24658cfa0546": {
       "attrs": {
        "height": 0.8,
        "width": 0.8,
        "x": 0.1,
        "y": 0.1
       },
       "content": {
        "cell": "238cd996-c6e4-47a8-b0cc-6d51773e72ec",
        "part": "whole"
       },
       "id": "0a721ba4-c28d-445d-86b1-24658cfa0546"
      }
     }
    },
    "922dc86c-e701-4d99-9634-5437aa9d6036": {
     "id": "922dc86c-e701-4d99-9634-5437aa9d6036",
     "prev": "01b7dda7-e0fa-45c4-812a-9a5b37997e96",
     "regions": {
      "efe5fbbd-06bc-44a8-af9d-db4a05293924": {
       "attrs": {
        "height": 0.8,
        "width": 0.8,
        "x": 0.1,
        "y": 0.1
       },
       "content": {
        "cell": "90a269b5-34f4-4c4a-95b4-c9878b5ecaf5",
        "part": "whole"
       },
       "id": "efe5fbbd-06bc-44a8-af9d-db4a05293924"
      }
     }
    },
    "97453802-6466-4bea-917d-5d8e08ee331a": {
     "id": "97453802-6466-4bea-917d-5d8e08ee331a",
     "prev": "e940644d-360f-4370-995d-6aed1ce4a933",
     "regions": {
      "0c0b4648-1c14-4f90-b4ef-ccdf6410594c": {
       "attrs": {
        "height": 0.8,
        "width": 0.8,
        "x": 0.1,
        "y": 0.1
       },
       "content": {
        "cell": "8058f7d1-9a11-4815-92aa-9a9696d79a38",
        "part": "whole"
       },
       "id": "0c0b4648-1c14-4f90-b4ef-ccdf6410594c"
      }
     }
    },
    "9877055b-ab7a-4608-bf33-2d0ce9ced986": {
     "id": "9877055b-ab7a-4608-bf33-2d0ce9ced986",
     "prev": "76aaa532-5ba8-46c2-ad83-ea780f80061c",
     "regions": {
      "49bb14aa-c9ff-40f8-a5ae-5f486c37a6d3": {
       "attrs": {
        "height": 0.8,
        "width": 0.8,
        "x": 0.1,
        "y": 0.1
       },
       "content": {
        "cell": "8e288277-ba04-4a81-a0a8-3a2961cf496b",
        "part": "whole"
       },
       "id": "49bb14aa-c9ff-40f8-a5ae-5f486c37a6d3"
      }
     }
    },
    "98805963-e45e-4f68-b5b7-3b4986b9a929": {
     "id": "98805963-e45e-4f68-b5b7-3b4986b9a929",
     "prev": "a799f44c-ab10-424d-98ee-e8a3f3b1253c",
     "regions": {
      "1cc59c52-37e0-4602-95ec-18f7ad981fbc": {
       "attrs": {
        "height": 0.8,
        "width": 0.8,
        "x": 0.1,
        "y": 0.1
       },
       "content": {
        "cell": "832a2b65-e515-49f7-b6b3-c72c1da9d730",
        "part": "whole"
       },
       "id": "1cc59c52-37e0-4602-95ec-18f7ad981fbc"
      }
     }
    },
    "9a502f72-10cb-4b5d-88ee-b7db8aaed7b6": {
     "id": "9a502f72-10cb-4b5d-88ee-b7db8aaed7b6",
     "prev": "c5ec3ef9-870e-410b-a5f8-d117c8e7c12a",
     "regions": {
      "6f94eb19-6719-416b-9820-de6d5f233e9b": {
       "attrs": {
        "height": 0.8,
        "width": 0.8,
        "x": 0.1,
        "y": 0.1
       },
       "content": {
        "cell": "8f575c2c-5561-49de-bd6c-16f3b83232cf",
        "part": "whole"
       },
       "id": "6f94eb19-6719-416b-9820-de6d5f233e9b"
      }
     }
    },
    "9d3d399f-5e8f-46a6-ba38-c1a7169357fd": {
     "id": "9d3d399f-5e8f-46a6-ba38-c1a7169357fd",
     "prev": "c0ab5b32-1449-435f-8731-419daf348501",
     "regions": {
      "7aa28958-16cb-471b-bd99-a1e446419c5f": {
       "attrs": {
        "height": 0.8,
        "width": 0.8,
        "x": 0.1,
        "y": 0.1
       },
       "content": {
        "cell": "a1c1aba9-b21b-4b48-97bd-6609d1f5e83e",
        "part": "whole"
       },
       "id": "7aa28958-16cb-471b-bd99-a1e446419c5f"
      }
     }
    },
    "9d932cca-8972-4621-ab95-a62caa5ccb67": {
     "id": "9d932cca-8972-4621-ab95-a62caa5ccb67",
     "prev": "fcdb3556-4f82-48fd-8b17-a40efc9d8f90",
     "regions": {
      "2ac98e56-a3b8-408b-ac16-4e3816b2b310": {
       "attrs": {
        "height": 0.8,
        "width": 0.8,
        "x": 0.1,
        "y": 0.1
       },
       "content": {
        "cell": "0e9baf1d-7472-42f5-aec3-a464b0500e77",
        "part": "whole"
       },
       "id": "2ac98e56-a3b8-408b-ac16-4e3816b2b310"
      }
     }
    },
    "9dcad234-0c62-4e6b-9325-d716068cef9c": {
     "id": "9dcad234-0c62-4e6b-9325-d716068cef9c",
     "prev": "5298d7a8-7611-4974-888d-e8ae703319bd",
     "regions": {
      "a400d56a-a0e8-4f02-afb0-86130bf4fc54": {
       "attrs": {
        "height": 0.8,
        "width": 0.8,
        "x": 0.1,
        "y": 0.1
       },
       "content": {
        "cell": "01895069-ad06-49dc-980b-1a6c58da8b4e",
        "part": "whole"
       },
       "id": "a400d56a-a0e8-4f02-afb0-86130bf4fc54"
      }
     }
    },
    "9de0be57-9e78-41d4-b86a-a510f2ed07a9": {
     "id": "9de0be57-9e78-41d4-b86a-a510f2ed07a9",
     "prev": "24adff6d-2c2a-421c-b42b-fe0761e4bd60",
     "regions": {
      "83d7bf64-e731-4266-b2fc-41a5d68c768e": {
       "attrs": {
        "height": 0.8,
        "width": 0.8,
        "x": 0.1,
        "y": 0.1
       },
       "content": {
        "cell": "e460fb20-04e5-45b8-ba4f-5ca825ff00a8",
        "part": "whole"
       },
       "id": "83d7bf64-e731-4266-b2fc-41a5d68c768e"
      }
     }
    },
    "9f043fbf-1d58-4869-8a6d-ba2103862337": {
     "id": "9f043fbf-1d58-4869-8a6d-ba2103862337",
     "prev": "566fde98-de9a-409e-8834-9bbd56fce44a",
     "regions": {
      "2c64647a-3efd-4b67-b69e-df12348287c1": {
       "attrs": {
        "height": 0.8,
        "width": 0.8,
        "x": 0.1,
        "y": 0.1
       },
       "content": {
        "cell": "5dfc6f5e-d541-4540-b685-7cb87d25eaff",
        "part": "whole"
       },
       "id": "2c64647a-3efd-4b67-b69e-df12348287c1"
      }
     }
    },
    "9fa04711-a884-4657-83ab-3d34b8cecd3b": {
     "id": "9fa04711-a884-4657-83ab-3d34b8cecd3b",
     "prev": "48a83c68-713a-4706-bffd-8707f332064e",
     "regions": {
      "0b8a82f4-a7cb-4f72-89f3-1b7e92e6e21c": {
       "attrs": {
        "height": 0.8,
        "width": 0.8,
        "x": 0.1,
        "y": 0.1
       },
       "content": {
        "cell": "184dd4a9-1b65-4e53-84aa-4f9a91626d68",
        "part": "whole"
       },
       "id": "0b8a82f4-a7cb-4f72-89f3-1b7e92e6e21c"
      }
     }
    },
    "a04cbe2f-963f-40cc-b4fa-dcb916177849": {
     "id": "a04cbe2f-963f-40cc-b4fa-dcb916177849",
     "prev": "e2291c5b-343b-40ec-8d26-2498adfb4886",
     "regions": {
      "68c9cb75-f227-4603-82b6-6d5f8ba16481": {
       "attrs": {
        "height": 0.8,
        "width": 0.8,
        "x": 0.1,
        "y": 0.1
       },
       "content": {
        "cell": "7ff96d7f-17c3-4705-9516-de0380062417",
        "part": "whole"
       },
       "id": "68c9cb75-f227-4603-82b6-6d5f8ba16481"
      }
     }
    },
    "a264403b-7a73-46d0-a761-98e3ff87bce1": {
     "id": "a264403b-7a73-46d0-a761-98e3ff87bce1",
     "prev": "089dccd0-b396-492a-a3e1-9bbd6059a62a",
     "regions": {
      "eae105f5-652b-4a4a-a3e8-da6f5e4255d7": {
       "attrs": {
        "height": 0.8,
        "width": 0.8,
        "x": 0.1,
        "y": 0.1
       },
       "content": {
        "cell": "e0e85ded-1eb9-4c2e-b1ae-bb00f91c1ee2",
        "part": "whole"
       },
       "id": "eae105f5-652b-4a4a-a3e8-da6f5e4255d7"
      }
     }
    },
    "a30715de-d371-46ed-9502-26f7786464d3": {
     "id": "a30715de-d371-46ed-9502-26f7786464d3",
     "prev": "7314728c-f517-4c04-b527-65db443e663a",
     "regions": {
      "6af1b6e9-a7bd-42f2-bdd9-ac1e744d07a3": {
       "attrs": {
        "height": 0.8,
        "width": 0.8,
        "x": 0.1,
        "y": 0.1
       },
       "content": {
        "cell": "26e0faee-82f9-4bfc-b534-7a7aa763c8f2",
        "part": "whole"
       },
       "id": "6af1b6e9-a7bd-42f2-bdd9-ac1e744d07a3"
      }
     }
    },
    "a58cd348-80fa-4361-8590-7460eff9b015": {
     "id": "a58cd348-80fa-4361-8590-7460eff9b015",
     "prev": "e09a858b-be1c-463d-9e38-1909d11cdb05",
     "regions": {
      "632ef258-8ab7-4ded-b6b9-6d0630435620": {
       "attrs": {
        "height": 0.8,
        "width": 0.8,
        "x": 0.1,
        "y": 0.1
       },
       "content": {
        "cell": "635ba9f0-9694-4d96-b757-095565021944",
        "part": "whole"
       },
       "id": "632ef258-8ab7-4ded-b6b9-6d0630435620"
      }
     }
    },
    "a6203fc9-7e42-4132-82df-6cc292f3cfbc": {
     "id": "a6203fc9-7e42-4132-82df-6cc292f3cfbc",
     "prev": "08ef249c-ebbc-44ea-8a66-b34c26008b9c",
     "regions": {
      "a28243e4-f103-45ae-9e31-4e7dd7696bea": {
       "attrs": {
        "height": 0.8,
        "width": 0.8,
        "x": 0.1,
        "y": 0.1
       },
       "content": {
        "cell": "3b899087-bda5-4c0b-9682-d0e49ab43aa0",
        "part": "whole"
       },
       "id": "a28243e4-f103-45ae-9e31-4e7dd7696bea"
      }
     }
    },
    "a7576420-7832-47c3-a987-9c9cfb00b0ae": {
     "id": "a7576420-7832-47c3-a987-9c9cfb00b0ae",
     "prev": "695edfcb-eb50-4e31-848b-84a24d28c3e4",
     "regions": {
      "7c14f0b9-a7e4-47cf-b054-0ed0cb9d7db7": {
       "attrs": {
        "height": 0.8,
        "width": 0.8,
        "x": 0.1,
        "y": 0.1
       },
       "content": {
        "cell": "2535a71b-1fc6-49b9-aa5d-32dc8977ad13",
        "part": "whole"
       },
       "id": "7c14f0b9-a7e4-47cf-b054-0ed0cb9d7db7"
      }
     }
    },
    "a799f44c-ab10-424d-98ee-e8a3f3b1253c": {
     "id": "a799f44c-ab10-424d-98ee-e8a3f3b1253c",
     "prev": "1cc69675-6123-4041-b399-1560414eb20e",
     "regions": {
      "1ec51a30-053e-4689-824a-8afddf679245": {
       "attrs": {
        "height": 0.8,
        "width": 0.8,
        "x": 0.1,
        "y": 0.1
       },
       "content": {
        "cell": "9a8e06e5-b173-453d-879f-eb2b5c5f3b8b",
        "part": "whole"
       },
       "id": "1ec51a30-053e-4689-824a-8afddf679245"
      }
     }
    },
    "aa0dbdd5-962e-45da-a7fa-4d9646a04e08": {
     "id": "aa0dbdd5-962e-45da-a7fa-4d9646a04e08",
     "prev": "8feeeab2-cecd-4d21-bbfc-b8033423d4d4",
     "regions": {
      "38fa2aa6-1066-4192-b3a5-430d5f7476fc": {
       "attrs": {
        "height": 0.8,
        "width": 0.8,
        "x": 0.1,
        "y": 0.1
       },
       "content": {
        "cell": "dc84fbf8-da92-4d6a-880a-a7e68539cc82",
        "part": "whole"
       },
       "id": "38fa2aa6-1066-4192-b3a5-430d5f7476fc"
      }
     }
    },
    "ac4bbc13-853b-4318-8a0a-7c567e886b5c": {
     "id": "ac4bbc13-853b-4318-8a0a-7c567e886b5c",
     "prev": "58913b8a-4a0f-44c0-b6f1-f129cc907504",
     "regions": {
      "b7fd6de8-0a67-4ac1-97d8-81ad0712d416": {
       "attrs": {
        "height": 0.8,
        "width": 0.8,
        "x": 0.1,
        "y": 0.1
       },
       "content": {
        "cell": "dd50f647-d536-4b54-bf6b-ca7b4d9040f0",
        "part": "whole"
       },
       "id": "b7fd6de8-0a67-4ac1-97d8-81ad0712d416"
      }
     }
    },
    "ac9e998e-26b5-40a2-b4b7-4f450e1b81e7": {
     "id": "ac9e998e-26b5-40a2-b4b7-4f450e1b81e7",
     "prev": "3eac46a0-21a2-496e-9cd2-87769429e937",
     "regions": {
      "92ede752-8757-4bd5-a891-1110080835f9": {
       "attrs": {
        "height": 0.8,
        "width": 0.8,
        "x": 0.1,
        "y": 0.1
       },
       "content": {
        "cell": "346a5ac9-7092-4b5f-ba52-4581235fccc3",
        "part": "whole"
       },
       "id": "92ede752-8757-4bd5-a891-1110080835f9"
      }
     }
    },
    "ad89ea1e-1cab-454f-b514-2890a0e72b6c": {
     "id": "ad89ea1e-1cab-454f-b514-2890a0e72b6c",
     "prev": "5f49a8ca-5cf4-4176-ab1a-ac9c9923988a",
     "regions": {
      "c92fa314-4fb4-4a7f-b043-dfc0c9c1c029": {
       "attrs": {
        "height": 0.8,
        "width": 0.8,
        "x": 0.1,
        "y": 0.1
       },
       "content": {
        "cell": "c0b9c5d1-6553-4ee9-9a39-cd447a209b26",
        "part": "whole"
       },
       "id": "c92fa314-4fb4-4a7f-b043-dfc0c9c1c029"
      }
     }
    },
    "ade7267f-b919-4d64-82ff-c8a90fdb5add": {
     "id": "ade7267f-b919-4d64-82ff-c8a90fdb5add",
     "prev": "e7281782-8f08-4aa3-9020-d1aa3af7b095",
     "regions": {
      "fdcde669-c059-4e5c-abb7-2ace028a7a34": {
       "attrs": {
        "height": 0.8,
        "width": 0.8,
        "x": 0.1,
        "y": 0.1
       },
       "content": {
        "cell": "64471498-3e71-4e8b-b77d-a81fc42317ba",
        "part": "whole"
       },
       "id": "fdcde669-c059-4e5c-abb7-2ace028a7a34"
      }
     }
    },
    "af291784-7a7e-43ca-9552-084a8b79d8ae": {
     "id": "af291784-7a7e-43ca-9552-084a8b79d8ae",
     "prev": "2e800e61-c562-441a-8a38-451938255e0a",
     "regions": {
      "c1cb8155-06dd-4946-a25e-bf3591fdaeaa": {
       "attrs": {
        "height": 0.8,
        "width": 0.8,
        "x": 0.1,
        "y": 0.1
       },
       "content": {
        "cell": "5a18e424-e402-4f03-94e5-572f8daad7e3",
        "part": "whole"
       },
       "id": "c1cb8155-06dd-4946-a25e-bf3591fdaeaa"
      }
     }
    },
    "af725708-eca0-4ee0-b49c-ef279c82efd0": {
     "id": "af725708-eca0-4ee0-b49c-ef279c82efd0",
     "prev": "a04cbe2f-963f-40cc-b4fa-dcb916177849",
     "regions": {
      "8be45e11-8358-4f5f-9ec6-96bd6e14f312": {
       "attrs": {
        "height": 0.8,
        "width": 0.8,
        "x": 0.1,
        "y": 0.1
       },
       "content": {
        "cell": "b7275705-11d8-492e-afb5-b6a34a0ddc1c",
        "part": "whole"
       },
       "id": "8be45e11-8358-4f5f-9ec6-96bd6e14f312"
      }
     }
    },
    "afb5c534-bf0e-407e-a413-2db6914ab272": {
     "id": "afb5c534-bf0e-407e-a413-2db6914ab272",
     "prev": "c7eb00ef-fd88-4e3b-947c-f1425e13a151",
     "regions": {
      "b082840c-08c9-4258-bdb5-1ece40bbbd9a": {
       "attrs": {
        "height": 0.8,
        "width": 0.8,
        "x": 0.1,
        "y": 0.1
       },
       "content": {
        "cell": "eab9909b-4df7-47c5-aadc-e7a63c2578c3",
        "part": "whole"
       },
       "id": "b082840c-08c9-4258-bdb5-1ece40bbbd9a"
      }
     }
    },
    "afc5fd87-94e6-4f38-8dad-9bf34fab5d2e": {
     "id": "afc5fd87-94e6-4f38-8dad-9bf34fab5d2e",
     "prev": "a6203fc9-7e42-4132-82df-6cc292f3cfbc",
     "regions": {
      "6fa27a02-a9db-4898-a0c3-7c1f96b8da50": {
       "attrs": {
        "height": 0.8,
        "width": 0.8,
        "x": 0.1,
        "y": 0.1
       },
       "content": {
        "cell": "24418c79-f932-4b16-b98a-eb8894fbed78",
        "part": "whole"
       },
       "id": "6fa27a02-a9db-4898-a0c3-7c1f96b8da50"
      }
     }
    },
    "b03ae567-c328-4653-8fe7-cdb1d13b2d97": {
     "id": "b03ae567-c328-4653-8fe7-cdb1d13b2d97",
     "prev": "6e6a9f46-68cf-4389-9922-ded59951c9fa",
     "regions": {
      "83bfdafe-2d11-4a4e-9050-be459ca29c50": {
       "attrs": {
        "height": 0.8,
        "width": 0.8,
        "x": 0.1,
        "y": 0.1
       },
       "content": {
        "cell": "bbffd098-aee0-47bc-8b96-a7ea23641258",
        "part": "whole"
       },
       "id": "83bfdafe-2d11-4a4e-9050-be459ca29c50"
      }
     }
    },
    "b19f8b71-2298-464a-a566-b664a74d912f": {
     "id": "b19f8b71-2298-464a-a566-b664a74d912f",
     "prev": "a30715de-d371-46ed-9502-26f7786464d3",
     "regions": {
      "fddd6bab-4079-4372-aa0d-e6c8a2229c0c": {
       "attrs": {
        "height": 0.8,
        "width": 0.8,
        "x": 0.1,
        "y": 0.1
       },
       "content": {
        "cell": "a47c5336-3a3e-4324-b229-bbcac68e6cda",
        "part": "whole"
       },
       "id": "fddd6bab-4079-4372-aa0d-e6c8a2229c0c"
      }
     }
    },
    "b2868939-eaf7-4982-bcd1-ce9924cc8b50": {
     "id": "b2868939-eaf7-4982-bcd1-ce9924cc8b50",
     "prev": "10efcd92-0c26-4987-89be-3a673ce5c877",
     "regions": {
      "a47abede-07cb-45ca-bee3-eb2f0bb82d70": {
       "attrs": {
        "height": 0.8,
        "width": 0.8,
        "x": 0.1,
        "y": 0.1
       },
       "content": {
        "cell": "4397ed9f-d19d-4b75-8a31-f83a80e9e2c1",
        "part": "whole"
       },
       "id": "a47abede-07cb-45ca-bee3-eb2f0bb82d70"
      }
     }
    },
    "b2986df9-3345-43df-b84c-99b31a29d22f": {
     "id": "b2986df9-3345-43df-b84c-99b31a29d22f",
     "prev": "ac9e998e-26b5-40a2-b4b7-4f450e1b81e7",
     "regions": {
      "d7d92f62-6793-45fd-8e1a-249ed50463c8": {
       "attrs": {
        "height": 0.8,
        "width": 0.8,
        "x": 0.1,
        "y": 0.1
       },
       "content": {
        "cell": "4c3b1a90-f28f-4f90-b4fa-e6179dd31c70",
        "part": "whole"
       },
       "id": "d7d92f62-6793-45fd-8e1a-249ed50463c8"
      }
     }
    },
    "b401728e-f2e6-4294-be08-0d0d4acbfba8": {
     "id": "b401728e-f2e6-4294-be08-0d0d4acbfba8",
     "prev": "8b3302b2-49db-4d43-8496-acf57c054e61",
     "regions": {
      "9baeedf6-43ea-4510-83f2-31a53301bfbc": {
       "attrs": {
        "height": 0.8,
        "width": 0.8,
        "x": 0.1,
        "y": 0.1
       },
       "content": {
        "cell": "ac97e829-d505-452b-a513-18a36eeed78b",
        "part": "whole"
       },
       "id": "9baeedf6-43ea-4510-83f2-31a53301bfbc"
      }
     }
    },
    "b7502cac-baff-419c-bcf6-ac3c35071f39": {
     "id": "b7502cac-baff-419c-bcf6-ac3c35071f39",
     "prev": "86e9b752-4c1d-4350-977b-53e2172cd46b",
     "regions": {
      "59316c82-20e7-493a-9639-135f2c72a801": {
       "attrs": {
        "height": 0.8,
        "width": 0.8,
        "x": 0.1,
        "y": 0.1
       },
       "content": {
        "cell": "b28832da-cb83-4380-a9b6-a23e73248eba",
        "part": "whole"
       },
       "id": "59316c82-20e7-493a-9639-135f2c72a801"
      }
     }
    },
    "bca2e4ec-6300-460c-8515-04a95c99d29f": {
     "id": "bca2e4ec-6300-460c-8515-04a95c99d29f",
     "prev": "9d3d399f-5e8f-46a6-ba38-c1a7169357fd",
     "regions": {
      "575d88c2-019f-4916-ae40-e332254605ec": {
       "attrs": {
        "height": 0.8,
        "width": 0.8,
        "x": 0.1,
        "y": 0.1
       },
       "content": {
        "cell": "f7a5ee14-2d68-4fe7-b500-c9ed28a84408",
        "part": "whole"
       },
       "id": "575d88c2-019f-4916-ae40-e332254605ec"
      }
     }
    },
    "bcec43ae-7f13-4f9a-98e8-ad6d6aafaf61": {
     "id": "bcec43ae-7f13-4f9a-98e8-ad6d6aafaf61",
     "prev": "f762515e-46cb-47ce-aee2-90448c32efc5",
     "regions": {
      "7847e39b-a919-48ef-b45b-903da448cd33": {
       "attrs": {
        "height": 0.8,
        "width": 0.8,
        "x": 0.1,
        "y": 0.1
       },
       "content": {
        "cell": "9d3ab9ca-00f8-419d-b7d7-f9cf2335d90e",
        "part": "whole"
       },
       "id": "7847e39b-a919-48ef-b45b-903da448cd33"
      }
     }
    },
    "bf5eefc0-8fc7-430e-8f7a-f573b0e2f6f8": {
     "id": "bf5eefc0-8fc7-430e-8f7a-f573b0e2f6f8",
     "prev": "9f043fbf-1d58-4869-8a6d-ba2103862337",
     "regions": {
      "46471c98-3c1b-444e-82b0-8ae36d570bc2": {
       "attrs": {
        "height": 0.8,
        "width": 0.8,
        "x": 0.1,
        "y": 0.1
       },
       "content": {
        "cell": "908f06df-c1e3-460a-87c4-7260f23faf5c",
        "part": "whole"
       },
       "id": "46471c98-3c1b-444e-82b0-8ae36d570bc2"
      }
     }
    },
    "c0ab5b32-1449-435f-8731-419daf348501": {
     "id": "c0ab5b32-1449-435f-8731-419daf348501",
     "prev": "8717d402-e3a9-4bf2-b5bf-b90ab364eaca",
     "regions": {
      "e851808f-7a27-4457-b7dd-8b32964ee94b": {
       "attrs": {
        "height": 0.8,
        "width": 0.8,
        "x": 0.1,
        "y": 0.1
       },
       "content": {
        "cell": "57f46ba4-fdff-4a98-aca4-555121a5239f",
        "part": "whole"
       },
       "id": "e851808f-7a27-4457-b7dd-8b32964ee94b"
      }
     }
    },
    "c3161d92-c943-4e10-9e11-7ae0e0ab5411": {
     "id": "c3161d92-c943-4e10-9e11-7ae0e0ab5411",
     "prev": "c84b193d-80dc-4a64-a541-061b80078bf0",
     "regions": {
      "c701276b-a5cd-4334-85fa-d6c99f527b29": {
       "attrs": {
        "height": 0.8,
        "width": 0.8,
        "x": 0.1,
        "y": 0.1
       },
       "content": {
        "cell": "2456e1c3-b7b7-40ce-a2c3-977c4d31c607",
        "part": "whole"
       },
       "id": "c701276b-a5cd-4334-85fa-d6c99f527b29"
      }
     }
    },
    "c43d7caa-3d90-4077-8a67-a8a67e7cdf52": {
     "id": "c43d7caa-3d90-4077-8a67-a8a67e7cdf52",
     "prev": "dc234fb1-97e8-4ac7-81e4-02b2aecea743",
     "regions": {
      "bdb35f38-886c-4166-b669-0a81a83a2065": {
       "attrs": {
        "height": 0.8,
        "width": 0.8,
        "x": 0.1,
        "y": 0.1
       },
       "content": {
        "cell": "5227a3fa-4ffa-478c-9709-3472ea9efb20",
        "part": "whole"
       },
       "id": "bdb35f38-886c-4166-b669-0a81a83a2065"
      }
     }
    },
    "c4f29d7e-c689-4920-b6fe-22f335eeb7fd": {
     "id": "c4f29d7e-c689-4920-b6fe-22f335eeb7fd",
     "prev": "914f9d51-7595-40d7-9d9b-02000bca7803",
     "regions": {
      "e1556ada-1fe8-45c3-9bec-3ed4e494438a": {
       "attrs": {
        "height": 0.8,
        "width": 0.8,
        "x": 0.1,
        "y": 0.1
       },
       "content": {
        "cell": "9dd38008-6ecf-4562-99e8-cddafd0c62bb",
        "part": "whole"
       },
       "id": "e1556ada-1fe8-45c3-9bec-3ed4e494438a"
      }
     }
    },
    "c5ec3ef9-870e-410b-a5f8-d117c8e7c12a": {
     "id": "c5ec3ef9-870e-410b-a5f8-d117c8e7c12a",
     "prev": "9dcad234-0c62-4e6b-9325-d716068cef9c",
     "regions": {
      "4034ffab-5875-4e66-b815-6a0f2b2a4b6a": {
       "attrs": {
        "height": 0.8,
        "width": 0.8,
        "x": 0.1,
        "y": 0.1
       },
       "content": {
        "cell": "dea056db-c5e7-4e3e-9094-8f62bbf7b280",
        "part": "whole"
       },
       "id": "4034ffab-5875-4e66-b815-6a0f2b2a4b6a"
      }
     }
    },
    "c7eb00ef-fd88-4e3b-947c-f1425e13a151": {
     "id": "c7eb00ef-fd88-4e3b-947c-f1425e13a151",
     "prev": "64cf0969-4ba7-4675-b6a1-798dd18749c0",
     "regions": {
      "d2c6ef46-f0b0-4d97-b028-fe23e0e14a29": {
       "attrs": {
        "height": 0.8,
        "width": 0.8,
        "x": 0.1,
        "y": 0.1
       },
       "content": {
        "cell": "a240be7f-04a4-4af5-8829-25a49515ea34",
        "part": "whole"
       },
       "id": "d2c6ef46-f0b0-4d97-b028-fe23e0e14a29"
      }
     }
    },
    "c84b193d-80dc-4a64-a541-061b80078bf0": {
     "id": "c84b193d-80dc-4a64-a541-061b80078bf0",
     "prev": "d35f4d1c-ad34-4ded-b2f3-73ac59fce734",
     "regions": {
      "13ae354a-3842-4783-8220-f1cde66063f3": {
       "attrs": {
        "height": 0.8,
        "width": 0.8,
        "x": 0.1,
        "y": 0.1
       },
       "content": {
        "cell": "3d82b8eb-1117-4e52-966c-6c7eef58c9a6",
        "part": "whole"
       },
       "id": "13ae354a-3842-4783-8220-f1cde66063f3"
      }
     }
    },
    "c89c409b-5784-4042-bc66-8494e9a45545": {
     "id": "c89c409b-5784-4042-bc66-8494e9a45545",
     "prev": "521c3466-8f7d-4e47-9428-b8a1e807a8ca",
     "regions": {
      "ba02e43d-c0ca-4bf5-90e0-4404e37c1a99": {
       "attrs": {
        "height": 0.8,
        "width": 0.8,
        "x": 0.1,
        "y": 0.1
       },
       "content": {
        "cell": "84365c27-019d-4de5-b674-b4b5173b535c",
        "part": "whole"
       },
       "id": "ba02e43d-c0ca-4bf5-90e0-4404e37c1a99"
      }
     }
    },
    "cb79c26a-20dc-41b3-8692-21fcc4af08e0": {
     "id": "cb79c26a-20dc-41b3-8692-21fcc4af08e0",
     "prev": "3db71955-03ac-4b1f-a94b-73efb9938605",
     "regions": {
      "176670e8-d414-4bc8-a3fa-395056e43d34": {
       "attrs": {
        "height": 0.8,
        "width": 0.8,
        "x": 0.1,
        "y": 0.1
       },
       "content": {
        "cell": "8b19ed25-f55c-41d7-8bf1-5f29daf7ccf8",
        "part": "whole"
       },
       "id": "176670e8-d414-4bc8-a3fa-395056e43d34"
      }
     }
    },
    "ccaf0414-9e1e-4788-b996-1a4a67770a9d": {
     "id": "ccaf0414-9e1e-4788-b996-1a4a67770a9d",
     "prev": "767d742b-e977-4b8c-9213-74014e502940",
     "regions": {
      "ad30a0d2-c964-41c8-81d7-1e02c2a79b0b": {
       "attrs": {
        "height": 0.8,
        "width": 0.8,
        "x": 0.1,
        "y": 0.1
       },
       "content": {
        "cell": "8fa77088-a0ba-427c-a7e7-519e8c4c7fc7",
        "part": "whole"
       },
       "id": "ad30a0d2-c964-41c8-81d7-1e02c2a79b0b"
      }
     }
    },
    "ce8cf159-73c4-4bfe-a039-eac9bd7cc7a0": {
     "id": "ce8cf159-73c4-4bfe-a039-eac9bd7cc7a0",
     "prev": "31ebe06d-1cd9-4271-8e31-b458cec59544",
     "regions": {
      "845dd085-124c-44e4-af92-5d2bd30f6c1f": {
       "attrs": {
        "height": 0.8,
        "width": 0.8,
        "x": 0.1,
        "y": 0.1
       },
       "content": {
        "cell": "5a65ea8c-b01d-42d6-b627-0132f7d33bad",
        "part": "whole"
       },
       "id": "845dd085-124c-44e4-af92-5d2bd30f6c1f"
      }
     }
    },
    "d2706b38-4e01-437a-a2f3-fc63671f7b1c": {
     "id": "d2706b38-4e01-437a-a2f3-fc63671f7b1c",
     "prev": "0e9df029-50eb-415b-b425-f1e7706b0fb7",
     "regions": {
      "e7499c88-47b2-403b-bbed-b21f6d30688f": {
       "attrs": {
        "height": 0.8,
        "width": 0.8,
        "x": 0.1,
        "y": 0.1
       },
       "content": {
        "cell": "4fe88f34-a989-4dea-817d-d3536245981b",
        "part": "whole"
       },
       "id": "e7499c88-47b2-403b-bbed-b21f6d30688f"
      }
     }
    },
    "d35f4d1c-ad34-4ded-b2f3-73ac59fce734": {
     "id": "d35f4d1c-ad34-4ded-b2f3-73ac59fce734",
     "prev": "66b50d93-ce4f-4c7c-8faf-ae4d335c76e7",
     "regions": {
      "35ca491e-7a58-4edb-a147-0879c69d5e30": {
       "attrs": {
        "height": 0.8,
        "width": 0.8,
        "x": 0.1,
        "y": 0.1
       },
       "content": {
        "cell": "8717096b-8454-4039-8886-08923281be8f",
        "part": "whole"
       },
       "id": "35ca491e-7a58-4edb-a147-0879c69d5e30"
      }
     }
    },
    "d3a82cd4-4547-42a8-a7c9-3ec2d3afae76": {
     "id": "d3a82cd4-4547-42a8-a7c9-3ec2d3afae76",
     "prev": "c3161d92-c943-4e10-9e11-7ae0e0ab5411",
     "regions": {
      "4edcf4ba-5909-4ff1-8c04-f80b8b322390": {
       "attrs": {
        "height": 0.8,
        "width": 0.8,
        "x": 0.1,
        "y": 0.1
       },
       "content": {
        "cell": "3af7087c-c5fa-4023-bb15-05f5984d85fd",
        "part": "whole"
       },
       "id": "4edcf4ba-5909-4ff1-8c04-f80b8b322390"
      }
     }
    },
    "d4a8943d-4b2a-46b2-855f-fe82319de6c4": {
     "id": "d4a8943d-4b2a-46b2-855f-fe82319de6c4",
     "prev": "d566a89a-2f5e-488b-87b1-d864571642f0",
     "regions": {
      "106c053b-bcf3-4cc4-8d9a-1ca825a228c0": {
       "attrs": {
        "height": 0.8,
        "width": 0.8,
        "x": 0.1,
        "y": 0.1
       },
       "content": {
        "cell": "9c092199-074a-41a8-8d5e-05064685371b",
        "part": "whole"
       },
       "id": "106c053b-bcf3-4cc4-8d9a-1ca825a228c0"
      }
     }
    },
    "d566a89a-2f5e-488b-87b1-d864571642f0": {
     "id": "d566a89a-2f5e-488b-87b1-d864571642f0",
     "prev": "dafcbf57-4199-4cc4-8e1a-77c34eff25b7",
     "regions": {
      "941f6e5b-f5e9-40f1-bd56-1138998794ce": {
       "attrs": {
        "height": 0.8,
        "width": 0.8,
        "x": 0.1,
        "y": 0.1
       },
       "content": {
        "cell": "cfd877ca-b29b-4914-8148-70cfcca478d3",
        "part": "whole"
       },
       "id": "941f6e5b-f5e9-40f1-bd56-1138998794ce"
      }
     }
    },
    "d697282a-7224-49ac-9168-484dec46f6ec": {
     "id": "d697282a-7224-49ac-9168-484dec46f6ec",
     "prev": "7b654d1a-3c3e-4108-ab86-a4a1159b14e7",
     "regions": {
      "e59a4118-2ced-4639-82ca-092839f5a206": {
       "attrs": {
        "height": 0.8,
        "width": 0.8,
        "x": 0.1,
        "y": 0.1
       },
       "content": {
        "cell": "52dfc353-579f-405c-991d-842612b4b90e",
        "part": "whole"
       },
       "id": "e59a4118-2ced-4639-82ca-092839f5a206"
      }
     }
    },
    "d6c40276-3612-4aca-a46d-9e6537d8419f": {
     "id": "d6c40276-3612-4aca-a46d-9e6537d8419f",
     "prev": "e6313226-2171-42d6-b9c6-7d1bf123230e",
     "regions": {
      "5ff0fea5-5509-43d6-8756-59854c1f14a8": {
       "attrs": {
        "height": 0.8,
        "width": 0.8,
        "x": 0.1,
        "y": 0.1
       },
       "content": {
        "cell": "a51653fb-f230-451c-a757-33e24159c9ea",
        "part": "whole"
       },
       "id": "5ff0fea5-5509-43d6-8756-59854c1f14a8"
      }
     }
    },
    "dafcbf57-4199-4cc4-8e1a-77c34eff25b7": {
     "id": "dafcbf57-4199-4cc4-8e1a-77c34eff25b7",
     "prev": "d3a82cd4-4547-42a8-a7c9-3ec2d3afae76",
     "regions": {
      "e4d02411-b28d-492e-80fb-9ede7d03f7c9": {
       "attrs": {
        "height": 0.8,
        "width": 0.8,
        "x": 0.1,
        "y": 0.1
       },
       "content": {
        "cell": "f171f0cf-bfad-4932-8512-2076f14a8708",
        "part": "whole"
       },
       "id": "e4d02411-b28d-492e-80fb-9ede7d03f7c9"
      }
     }
    },
    "dc234fb1-97e8-4ac7-81e4-02b2aecea743": {
     "id": "dc234fb1-97e8-4ac7-81e4-02b2aecea743",
     "prev": "3f9534cf-e461-4822-a482-1d38c2aa49ad",
     "regions": {
      "3dafdc0d-0c8a-4b28-9f53-827be304e226": {
       "attrs": {
        "height": 0.8,
        "width": 0.8,
        "x": 0.1,
        "y": 0.1
       },
       "content": {
        "cell": "f30d7f32-da9e-44ae-b208-b4107a131ccd",
        "part": "whole"
       },
       "id": "3dafdc0d-0c8a-4b28-9f53-827be304e226"
      }
     }
    },
    "ddb4180b-5858-4558-9f93-5667201be5dc": {
     "id": "ddb4180b-5858-4558-9f93-5667201be5dc",
     "prev": "ccaf0414-9e1e-4788-b996-1a4a67770a9d",
     "regions": {
      "daa3be17-cccd-4ec0-8470-c0fb570b24f6": {
       "attrs": {
        "height": 0.8,
        "width": 0.8,
        "x": 0.1,
        "y": 0.1
       },
       "content": {
        "cell": "66a98023-a6e0-4b6b-933d-3f94cbcefce1",
        "part": "whole"
       },
       "id": "daa3be17-cccd-4ec0-8470-c0fb570b24f6"
      }
     }
    },
    "df6afc12-b390-4633-ab02-ad09c80b2a83": {
     "id": "df6afc12-b390-4633-ab02-ad09c80b2a83",
     "prev": "7063a754-8b3d-4340-a0df-6b820c7b3ef2",
     "regions": {
      "3e6734ba-fc57-4c37-a293-3157a73eb3e9": {
       "attrs": {
        "height": 0.8,
        "width": 0.8,
        "x": 0.1,
        "y": 0.1
       },
       "content": {
        "cell": "5f7841a4-cc07-49ed-be0b-f9e2a98d65fa",
        "part": "whole"
       },
       "id": "3e6734ba-fc57-4c37-a293-3157a73eb3e9"
      }
     }
    },
    "e09a858b-be1c-463d-9e38-1909d11cdb05": {
     "id": "e09a858b-be1c-463d-9e38-1909d11cdb05",
     "prev": "df6afc12-b390-4633-ab02-ad09c80b2a83",
     "regions": {
      "5f61a754-fa37-402a-a92c-4037e45f13da": {
       "attrs": {
        "height": 0.8,
        "width": 0.8,
        "x": 0.1,
        "y": 0.1
       },
       "content": {
        "cell": "9ee44125-f515-43d6-98f2-4d6186e16cb1",
        "part": "whole"
       },
       "id": "5f61a754-fa37-402a-a92c-4037e45f13da"
      }
     }
    },
    "e2291c5b-343b-40ec-8d26-2498adfb4886": {
     "id": "e2291c5b-343b-40ec-8d26-2498adfb4886",
     "prev": "c43d7caa-3d90-4077-8a67-a8a67e7cdf52",
     "regions": {
      "897f4d9b-7b0c-4b42-8bcf-49b748f8b909": {
       "attrs": {
        "height": 0.8,
        "width": 0.8,
        "x": 0.1,
        "y": 0.1
       },
       "content": {
        "cell": "4b54d121-012d-44f4-920f-0ebf74a780b8",
        "part": "whole"
       },
       "id": "897f4d9b-7b0c-4b42-8bcf-49b748f8b909"
      }
     }
    },
    "e6313226-2171-42d6-b9c6-7d1bf123230e": {
     "id": "e6313226-2171-42d6-b9c6-7d1bf123230e",
     "prev": "fbd0304c-0cfc-4647-9b0b-9b214a9db370",
     "regions": {
      "03fe7492-6320-4886-abd6-80e7ab7e1557": {
       "attrs": {
        "height": 0.8,
        "width": 0.8,
        "x": 0.1,
        "y": 0.1
       },
       "content": {
        "cell": "8906c9e9-ec84-4ef7-971e-237613f6c693",
        "part": "whole"
       },
       "id": "03fe7492-6320-4886-abd6-80e7ab7e1557"
      }
     }
    },
    "e67605eb-ddb1-4b97-82f0-9b1c73217aa1": {
     "id": "e67605eb-ddb1-4b97-82f0-9b1c73217aa1",
     "prev": "ed6850a3-f87d-4c7e-8896-bea645175c80",
     "regions": {
      "92024cd5-6833-4c09-82ed-14c1e2307ca7": {
       "attrs": {
        "height": 0.8,
        "width": 0.8,
        "x": 0.1,
        "y": 0.1
       },
       "content": {
        "cell": "5e8e814e-6ce3-40c5-b507-80ce42520ec0",
        "part": "whole"
       },
       "id": "92024cd5-6833-4c09-82ed-14c1e2307ca7"
      }
     }
    },
    "e7281782-8f08-4aa3-9020-d1aa3af7b095": {
     "id": "e7281782-8f08-4aa3-9020-d1aa3af7b095",
     "prev": "29c829ca-ac02-4bad-a843-250d7e0a29fb",
     "regions": {
      "c0262055-4908-4e39-9b47-5e85f86a7d8d": {
       "attrs": {
        "height": 0.8,
        "width": 0.8,
        "x": 0.1,
        "y": 0.1
       },
       "content": {
        "cell": "9d9055a9-da03-4a79-a057-618b017ef9f1",
        "part": "whole"
       },
       "id": "c0262055-4908-4e39-9b47-5e85f86a7d8d"
      }
     }
    },
    "e940644d-360f-4370-995d-6aed1ce4a933": {
     "id": "e940644d-360f-4370-995d-6aed1ce4a933",
     "prev": "4fa850cc-2ea7-44d2-8819-5286d1ac29cd",
     "regions": {
      "541dbadb-7d20-4bc0-83b4-177d40677323": {
       "attrs": {
        "height": 0.8,
        "width": 0.8,
        "x": 0.1,
        "y": 0.1
       },
       "content": {
        "cell": "1d782422-9d0b-4c89-8d3c-76b9854e5315",
        "part": "whole"
       },
       "id": "541dbadb-7d20-4bc0-83b4-177d40677323"
      }
     }
    },
    "ea1b1b4f-db91-4331-9c19-62ad5634fdcc": {
     "id": "ea1b1b4f-db91-4331-9c19-62ad5634fdcc",
     "prev": "02aa4d16-39d1-44bd-90b5-4eb0c2428485",
     "regions": {
      "c40310ef-444d-4fdc-bd28-103002b47b2f": {
       "attrs": {
        "height": 0.8,
        "width": 0.8,
        "x": 0.1,
        "y": 0.1
       },
       "content": {
        "cell": "396fb56c-6b0c-4df9-a458-12326368e4a0",
        "part": "whole"
       },
       "id": "c40310ef-444d-4fdc-bd28-103002b47b2f"
      }
     }
    },
    "ec271503-ed44-4921-a4e5-e4920fa430a3": {
     "id": "ec271503-ed44-4921-a4e5-e4920fa430a3",
     "prev": "b401728e-f2e6-4294-be08-0d0d4acbfba8",
     "regions": {
      "f888b490-037e-4b6b-8e38-0955041b4b1b": {
       "attrs": {
        "height": 0.8,
        "width": 0.8,
        "x": 0.1,
        "y": 0.1
       },
       "content": {
        "cell": "1fff9026-c566-4b0a-a22b-db696111daa2",
        "part": "whole"
       },
       "id": "f888b490-037e-4b6b-8e38-0955041b4b1b"
      }
     }
    },
    "ec75732f-a5c0-46dc-a42e-cbab91afba1a": {
     "id": "ec75732f-a5c0-46dc-a42e-cbab91afba1a",
     "prev": "cb79c26a-20dc-41b3-8692-21fcc4af08e0",
     "regions": {
      "0e329335-3832-4027-8d14-1d8c8dbc8e8f": {
       "attrs": {
        "height": 0.8,
        "width": 0.8,
        "x": 0.1,
        "y": 0.1
       },
       "content": {
        "cell": "98d827ed-99fe-4374-b570-f75d6799f436",
        "part": "whole"
       },
       "id": "0e329335-3832-4027-8d14-1d8c8dbc8e8f"
      }
     }
    },
    "ed6850a3-f87d-4c7e-8896-bea645175c80": {
     "id": "ed6850a3-f87d-4c7e-8896-bea645175c80",
     "prev": "6801a5d1-6f55-4d87-b246-6083e71cd0e4",
     "regions": {
      "a6c869af-88c4-4335-9b1a-5e752ed664e6": {
       "attrs": {
        "height": 0.8,
        "width": 0.8,
        "x": 0.1,
        "y": 0.1
       },
       "content": {
        "cell": "15b831c8-7d23-456d-a459-772a79845867",
        "part": "whole"
       },
       "id": "a6c869af-88c4-4335-9b1a-5e752ed664e6"
      }
     }
    },
    "ee5b8949-9c3e-4156-914c-88c82b179436": {
     "id": "ee5b8949-9c3e-4156-914c-88c82b179436",
     "prev": "f0082aa7-4ec1-4280-b80b-e88d1e64b98b",
     "regions": {
      "2aba1935-ba6e-4cd3-be35-a634bfa35487": {
       "attrs": {
        "height": 0.8,
        "width": 0.8,
        "x": 0.1,
        "y": 0.1
       },
       "content": {
        "cell": "37144eff-5b82-43ae-a785-4e463becd4b4",
        "part": "whole"
       },
       "id": "2aba1935-ba6e-4cd3-be35-a634bfa35487"
      }
     }
    },
    "f0082aa7-4ec1-4280-b80b-e88d1e64b98b": {
     "id": "f0082aa7-4ec1-4280-b80b-e88d1e64b98b",
     "prev": "04afe386-7f67-4d58-9a55-afd03c25c963",
     "regions": {
      "0982107e-48d5-4d25-a67f-40569d7d7717": {
       "attrs": {
        "height": 0.8,
        "width": 0.8,
        "x": 0.1,
        "y": 0.1
       },
       "content": {
        "cell": "4e07a10a-8d2f-40a8-a16f-bae32bdc42b7",
        "part": "whole"
       },
       "id": "0982107e-48d5-4d25-a67f-40569d7d7717"
      }
     }
    },
    "f00c782d-1bb8-4445-804a-1402d617b653": {
     "id": "f00c782d-1bb8-4445-804a-1402d617b653",
     "prev": "ec271503-ed44-4921-a4e5-e4920fa430a3",
     "regions": {
      "a8f79e7c-8607-4f61-9ed1-9b2399f8799b": {
       "attrs": {
        "height": 0.8,
        "width": 0.8,
        "x": 0.1,
        "y": 0.1
       },
       "content": {
        "cell": "61792270-93ec-44ee-806c-d88b235da580",
        "part": "whole"
       },
       "id": "a8f79e7c-8607-4f61-9ed1-9b2399f8799b"
      }
     }
    },
    "f0b81581-7fd9-42e7-a5d7-718c5154b1f8": {
     "id": "f0b81581-7fd9-42e7-a5d7-718c5154b1f8",
     "prev": "7ef9d1c5-c634-4fef-aa77-754c35b129e2",
     "regions": {
      "1823378c-0805-4a32-b88c-29ba7c831d34": {
       "attrs": {
        "height": 0.8,
        "width": 0.8,
        "x": 0.1,
        "y": 0.1
       },
       "content": {
        "cell": "21a8edef-051e-45db-9847-60c210d31d7c",
        "part": "whole"
       },
       "id": "1823378c-0805-4a32-b88c-29ba7c831d34"
      }
     }
    },
    "f1c89f5c-bb8b-4ca1-8499-2b7a1ad474ff": {
     "id": "f1c89f5c-bb8b-4ca1-8499-2b7a1ad474ff",
     "prev": "679b2d2e-4a92-4483-9e3c-f7647ba1bba1",
     "regions": {
      "5962e819-1525-4a08-9bb0-16187d29ef3f": {
       "attrs": {
        "height": 0.8,
        "width": 0.8,
        "x": 0.1,
        "y": 0.1
       },
       "content": {
        "cell": "e1059858-c846-43ab-b00c-852f1da2434e",
        "part": "whole"
       },
       "id": "5962e819-1525-4a08-9bb0-16187d29ef3f"
      }
     }
    },
    "f3600587-e790-4374-aa94-65c9d5928082": {
     "id": "f3600587-e790-4374-aa94-65c9d5928082",
     "prev": "ee5b8949-9c3e-4156-914c-88c82b179436",
     "regions": {
      "487b71d6-5996-4711-9096-ee9ba04f0bbb": {
       "attrs": {
        "height": 0.8,
        "width": 0.8,
        "x": 0.1,
        "y": 0.1
       },
       "content": {
        "cell": "4c226e9e-0274-4b4c-8f8e-d352a3a821ec",
        "part": "whole"
       },
       "id": "487b71d6-5996-4711-9096-ee9ba04f0bbb"
      }
     }
    },
    "f74dccfb-d616-4c41-b7ba-562a07ecedca": {
     "id": "f74dccfb-d616-4c41-b7ba-562a07ecedca",
     "prev": "afc5fd87-94e6-4f38-8dad-9bf34fab5d2e",
     "regions": {
      "281e1687-cfd2-4ad2-9e6e-293af16ca25d": {
       "attrs": {
        "height": 0.8,
        "width": 0.8,
        "x": 0.1,
        "y": 0.1
       },
       "content": {
        "cell": "4a538eaf-08ff-457a-8db2-6279037a2ae5",
        "part": "whole"
       },
       "id": "281e1687-cfd2-4ad2-9e6e-293af16ca25d"
      }
     }
    },
    "f762515e-46cb-47ce-aee2-90448c32efc5": {
     "id": "f762515e-46cb-47ce-aee2-90448c32efc5",
     "prev": "7a1bd221-e28e-4f6d-957d-e2aba87f6f50",
     "regions": {
      "1286a416-804d-4cb6-a66d-32da94828f59": {
       "attrs": {
        "height": 0.8,
        "width": 0.8,
        "x": 0.1,
        "y": 0.1
       },
       "content": {
        "cell": "b7d96529-3f9b-4245-87be-f41b71572a28",
        "part": "whole"
       },
       "id": "1286a416-804d-4cb6-a66d-32da94828f59"
      }
     }
    },
    "fbd0304c-0cfc-4647-9b0b-9b214a9db370": {
     "id": "fbd0304c-0cfc-4647-9b0b-9b214a9db370",
     "prev": "ad89ea1e-1cab-454f-b514-2890a0e72b6c",
     "regions": {
      "68ae24d5-3533-4342-a242-782ddd67db4b": {
       "attrs": {
        "height": 0.8,
        "width": 0.8,
        "x": 0.1,
        "y": 0.1
       },
       "content": {
        "cell": "53bf42be-e11a-41d4-aeff-1061cb485ac3",
        "part": "whole"
       },
       "id": "68ae24d5-3533-4342-a242-782ddd67db4b"
      }
     }
    },
    "fcdb3556-4f82-48fd-8b17-a40efc9d8f90": {
     "id": "fcdb3556-4f82-48fd-8b17-a40efc9d8f90",
     "prev": "af291784-7a7e-43ca-9552-084a8b79d8ae",
     "regions": {
      "38e4a815-cc56-42f6-a8fc-1608067fa65e": {
       "attrs": {
        "height": 0.8,
        "width": 0.8,
        "x": 0.1,
        "y": 0.1
       },
       "content": {
        "cell": "cf413918-8443-4706-9c17-8b3cc505faff",
        "part": "whole"
       },
       "id": "38e4a815-cc56-42f6-a8fc-1608067fa65e"
      }
     }
    },
    "fe321853-c92b-4b5b-a1db-db2a87bfa3bd": {
     "id": "fe321853-c92b-4b5b-a1db-db2a87bfa3bd",
     "prev": "8bd378e3-c816-4189-98f7-b79675e87550",
     "regions": {
      "8a8caa86-b268-4289-84bc-850e6caa92bc": {
       "attrs": {
        "height": 0.8,
        "width": 0.8,
        "x": 0.1,
        "y": 0.1
       },
       "content": {
        "cell": "952640b4-a9ee-4311-9399-08f2a1c3b12a",
        "part": "whole"
       },
       "id": "8a8caa86-b268-4289-84bc-850e6caa92bc"
      }
     }
    }
   },
   "themes": {
    "default": "8aa46a1e-3cb1-4f1d-a0d3-4e4ebffde8d6",
    "theme": {
     "8aa46a1e-3cb1-4f1d-a0d3-4e4ebffde8d6": {
      "id": "8aa46a1e-3cb1-4f1d-a0d3-4e4ebffde8d6",
      "palette": {
       "19cc588f-0593-49c9-9f4b-e4d7cc113b1c": {
        "id": "19cc588f-0593-49c9-9f4b-e4d7cc113b1c",
        "rgb": [
         252,
         252,
         252
        ]
       },
       "31af15d2-7e15-44c5-ab5e-e04b16a89eff": {
        "id": "31af15d2-7e15-44c5-ab5e-e04b16a89eff",
        "rgb": [
         68,
         68,
         68
        ]
       },
       "50f92c45-a630-455b-aec3-788680ec7410": {
        "id": "50f92c45-a630-455b-aec3-788680ec7410",
        "rgb": [
         155,
         177,
         192
        ]
       },
       "c5cc3653-2ee1-402a-aba2-7caae1da4f6c": {
        "id": "c5cc3653-2ee1-402a-aba2-7caae1da4f6c",
        "rgb": [
         43,
         126,
         184
        ]
       },
       "efa7f048-9acb-414c-8b04-a26811511a21": {
        "id": "efa7f048-9acb-414c-8b04-a26811511a21",
        "rgb": [
         25.118061674008803,
         73.60176211453744,
         107.4819383259912
        ]
       }
      },
      "rules": {
       "blockquote": {
        "color": "50f92c45-a630-455b-aec3-788680ec7410"
       },
       "code": {
        "font-family": "Anonymous Pro"
       },
       "h1": {
        "color": "c5cc3653-2ee1-402a-aba2-7caae1da4f6c",
        "font-family": "Lato",
        "font-size": 8
       },
       "h2": {
        "color": "c5cc3653-2ee1-402a-aba2-7caae1da4f6c",
        "font-family": "Lato",
        "font-size": 6
       },
       "h3": {
        "color": "50f92c45-a630-455b-aec3-788680ec7410",
        "font-family": "Lato",
        "font-size": 5.5
       },
       "h4": {
        "color": "c5cc3653-2ee1-402a-aba2-7caae1da4f6c",
        "font-family": "Lato",
        "font-size": 5
       },
       "h5": {
        "font-family": "Lato"
       },
       "h6": {
        "font-family": "Lato"
       },
       "h7": {
        "font-family": "Lato"
       },
       "pre": {
        "font-family": "Anonymous Pro",
        "font-size": 4
       }
      },
      "text-base": {
       "font-family": "Merriweather",
       "font-size": 4
      }
     },
     "da94990b-02f0-4bc9-9deb-c240e6b55b3b": {
      "backgrounds": {
       "dc7afa04-bf90-40b1-82a5-726e3cff5267": {
        "background-color": "31af15d2-7e15-44c5-ab5e-e04b16a89eff",
        "id": "dc7afa04-bf90-40b1-82a5-726e3cff5267"
       }
      },
      "id": "da94990b-02f0-4bc9-9deb-c240e6b55b3b",
      "palette": {
       "19cc588f-0593-49c9-9f4b-e4d7cc113b1c": {
        "id": "19cc588f-0593-49c9-9f4b-e4d7cc113b1c",
        "rgb": [
         252,
         252,
         252
        ]
       },
       "31af15d2-7e15-44c5-ab5e-e04b16a89eff": {
        "id": "31af15d2-7e15-44c5-ab5e-e04b16a89eff",
        "rgb": [
         68,
         68,
         68
        ]
       },
       "50f92c45-a630-455b-aec3-788680ec7410": {
        "id": "50f92c45-a630-455b-aec3-788680ec7410",
        "rgb": [
         197,
         226,
         245
        ]
       },
       "c5cc3653-2ee1-402a-aba2-7caae1da4f6c": {
        "id": "c5cc3653-2ee1-402a-aba2-7caae1da4f6c",
        "rgb": [
         43,
         126,
         184
        ]
       },
       "efa7f048-9acb-414c-8b04-a26811511a21": {
        "id": "efa7f048-9acb-414c-8b04-a26811511a21",
        "rgb": [
         25.118061674008803,
         73.60176211453744,
         107.4819383259912
        ]
       }
      },
      "rules": {
       "a": {
        "color": "19cc588f-0593-49c9-9f4b-e4d7cc113b1c"
       },
       "blockquote": {
        "color": "50f92c45-a630-455b-aec3-788680ec7410",
        "font-size": 3
       },
       "code": {
        "font-family": "Anonymous Pro"
       },
       "h1": {
        "color": "19cc588f-0593-49c9-9f4b-e4d7cc113b1c",
        "font-family": "Merriweather",
        "font-size": 8
       },
       "h2": {
        "color": "19cc588f-0593-49c9-9f4b-e4d7cc113b1c",
        "font-family": "Merriweather",
        "font-size": 6
       },
       "h3": {
        "color": "50f92c45-a630-455b-aec3-788680ec7410",
        "font-family": "Lato",
        "font-size": 5.5
       },
       "h4": {
        "color": "c5cc3653-2ee1-402a-aba2-7caae1da4f6c",
        "font-family": "Lato",
        "font-size": 5
       },
       "h5": {
        "font-family": "Lato"
       },
       "h6": {
        "font-family": "Lato"
       },
       "h7": {
        "font-family": "Lato"
       },
       "li": {
        "color": "50f92c45-a630-455b-aec3-788680ec7410",
        "font-size": 3.25
       },
       "pre": {
        "font-family": "Anonymous Pro",
        "font-size": 4
       }
      },
      "text-base": {
       "color": "19cc588f-0593-49c9-9f4b-e4d7cc113b1c",
       "font-family": "Lato",
       "font-size": 4
      }
     }
    }
   }
  }
 },
 "nbformat": 4,
 "nbformat_minor": 0
}
