{
 "cells": [
  {
   "cell_type": "markdown",
   "metadata": {},
   "source": [
    "# Scientific Computing: Numpy, Scipy and Graphics"
   ]
  },
  {
   "cell_type": "markdown",
   "metadata": {},
   "source": [
    "## Python shells, scripts and editors\n"
   ]
  },
  {
   "cell_type": "raw",
   "metadata": {},
   "source": [
    "These are instructions how to run Python as scripts, an alternative to working in a Notebook:\n",
    "\n",
    "\n",
    "Up to now we have used Python only in interactive mode, i.e. by directly typing commands at the Notebook/IPython prompt, which then get executed right away. While this is simple, and often convenient, it is also somewhat limiting. An alternative approach is to run Python as scripts/programs or notebooks like this one. A script is basically a list of Python commands saved in a file, which can then be executed together. Doing this makes it easy to save them for future re-use, re-run them with different input, etc. You can also use scripts written by others. Over the duration of our course there will be many such scripts provided to you, and you will also be writing some of your own.\n",
    "\n",
    "Creating a script is easy - you should open a text editor and enter the commands in it, taking proper care of any required indentations, etc. Any text editor program is fine for this (but only ones that handle pure text, NOT Word, Notepad, etc.). If you have never used one before I recommend 'gedit' as it has a simple, intuitive graphical interface. Examples of more advanced and powerful editors are 'emacs' and 'vi',  but those have a somewhat steeper initial learning curve. Nevertheless, feel free to try them out. Some of the nice Python programming environments like Geany and Spyder come with their own integrated editor and shell, and same is true for the Jupyter notebooks.\n",
    "\n",
    "You can start the editor from the Xterm window by typing:\n",
    "\n",
    "gedit &\n",
    "\n",
    "(or emacs, or vi; the '&' sign above is to put the program in background, so you can still use the window - for IPython, or anything else you wish). \n",
    "\n",
    "Alternatively, you can start gedit (or other installed software) from within the ipython shell itself by the same command as above, but preceded by '!' (no quotes), i.e. \n",
    "\n",
    "!gedit &  \n",
    "\n",
    "The preceding exclamation tells ipython that this is a normal shell command, not a Python statement. You can also start gedit from the Jupyter notebook, by doing \n",
    "\n",
    "!gedit\n",
    "  \n",
    "'gedit' is Python-aware, thus has features like color coding of Python keywords and automatic indentation, which makes your work easier. Before a program can be run, it must be saved as a Python file with the '.py' extension, for example, 'myprog.py'. The program can then be executed by typing \n",
    "\n",
    "python myprog.py\n",
    "\n",
    "Note: On Windows double-clicking on the program icon will usually also work. But beware: the program window closes immediately after execution, before you get a chance to read the output. To prevent this from happening, conclude the program with the line\n",
    "\n",
    "raw_input(’press return’)\n",
    "\n",
    "Double-clicking the program icon also works in Unix and Linux if the first line of the program specifies the path to the Python interpreter (or a shell script that provides a link to Python). The path name must be preceded by the symbols '#!' (no quotes!). On my computer and the teaching machines the path is '/usr/bin/python',  so that all my programs should start with the line \n",
    "\n",
    "#!/usr/bin/python\n",
    "\n",
    "On multiuser systems the path is sometimes '/usr/local/bin/python'.\n",
    "\n",
    "From within IPython a script can be ran using the magic command 'run': \n",
    "\n",
    "%run prog.py\n",
    "\n",
    "Note that the script file should be in your current IPython working \n",
    "folder/directory. If you are not sure which folder you are currently in, enter 'pwd' at the IPython prompt, which tells you the current directory. If you are not at the correct place, you can change it using the \n",
    "\n",
    "cd directory_name  \n",
    "\n",
    "command.\n",
    "\n",
    "Once a module (script/function) is saved in a file, you can do 'import'  just like for any other Python module. This is a way to use external codes and functions, as well as creating your own. When a module is loaded into a program for the first time with the 'import' statement, it is compiled into bytecode and written in a file with the extension '.pyc'. The next time the program is run, for efficiency the interpreter loads the bytecode rather than the original Python file. If in the meantime changes have been made to the module, the module is automatically recompiled. \n",
    "\n",
    "It is a good idea to document your modules by adding a docstring at the \n",
    "beginning of each module. The docstring, which is enclosed in triple quotes, should explain what the module does. Here is an example that documents the module 'error':"
   ]
  },
  {
   "cell_type": "code",
   "execution_count": 1,
   "metadata": {
    "collapsed": true
   },
   "outputs": [],
   "source": [
    "## module error\n",
    "''' err(string).\n",
    "\n",
    "    Prints 'string' and terminates program.\n",
    "\n",
    "'''\n",
    "import sys\n",
    "def err(string):\n",
    "    print(string)\n",
    "    raw_input('Press return to exit')\n",
    "    sys.exit()\n"
   ]
  },
  {
   "cell_type": "raw",
   "metadata": {},
   "source": [
    "The docstring of a module can be printed with the statement:"
   ]
  },
  {
   "cell_type": "code",
   "execution_count": 2,
   "metadata": {
    "collapsed": false
   },
   "outputs": [
    {
     "name": "stdout",
     "output_type": "stream",
     "text": [
      "This module is always available.  It provides access to the\n",
      "mathematical functions defined by the C standard.\n"
     ]
    }
   ],
   "source": [
    "import math\n",
    "print(math.__doc__)"
   ]
  },
  {
   "cell_type": "markdown",
   "metadata": {
    "collapsed": true
   },
   "source": [
    "# NumPy (Numerical Python) module"
   ]
  },
  {
   "cell_type": "raw",
   "metadata": {
    "collapsed": true
   },
   "source": [
    "The NumPy module is not a part of the standard Python release. It must be obtained separately and installed on your computer. It is already installed and available on the university machines. You can use it by loading it as a module. This module introduces array objects (vectors, matrices) that are similar to lists, but can be manipulated by numerous functions contained in the module. The size of an array is immutable (i.e. once array is defined you cannot change its size), and no empty elements are allowed.\n",
    "\n",
    "The complete set of functions in NumPy is quite long, you can check what is available using:"
   ]
  },
  {
   "cell_type": "code",
   "execution_count": 3,
   "metadata": {
    "collapsed": false
   },
   "outputs": [
    {
     "data": {
      "text/plain": [
       "['ALLOW_THREADS',\n",
       " 'BUFSIZE',\n",
       " 'CLIP',\n",
       " 'ComplexWarning',\n",
       " 'DataSource',\n",
       " 'ERR_CALL',\n",
       " 'ERR_DEFAULT',\n",
       " 'ERR_IGNORE',\n",
       " 'ERR_LOG',\n",
       " 'ERR_PRINT',\n",
       " 'ERR_RAISE',\n",
       " 'ERR_WARN',\n",
       " 'FLOATING_POINT_SUPPORT',\n",
       " 'FPE_DIVIDEBYZERO',\n",
       " 'FPE_INVALID',\n",
       " 'FPE_OVERFLOW',\n",
       " 'FPE_UNDERFLOW',\n",
       " 'False_',\n",
       " 'Inf',\n",
       " 'Infinity',\n",
       " 'MAXDIMS',\n",
       " 'MAY_SHARE_BOUNDS',\n",
       " 'MAY_SHARE_EXACT',\n",
       " 'MachAr',\n",
       " 'ModuleDeprecationWarning',\n",
       " 'NAN',\n",
       " 'NINF',\n",
       " 'NZERO',\n",
       " 'NaN',\n",
       " 'PINF',\n",
       " 'PZERO',\n",
       " 'PackageLoader',\n",
       " 'RAISE',\n",
       " 'RankWarning',\n",
       " 'SHIFT_DIVIDEBYZERO',\n",
       " 'SHIFT_INVALID',\n",
       " 'SHIFT_OVERFLOW',\n",
       " 'SHIFT_UNDERFLOW',\n",
       " 'ScalarType',\n",
       " 'Tester',\n",
       " 'TooHardError',\n",
       " 'True_',\n",
       " 'UFUNC_BUFSIZE_DEFAULT',\n",
       " 'UFUNC_PYVALS_NAME',\n",
       " 'VisibleDeprecationWarning',\n",
       " 'WRAP',\n",
       " '_NoValue',\n",
       " '__NUMPY_SETUP__',\n",
       " '__all__',\n",
       " '__builtins__',\n",
       " '__config__',\n",
       " '__doc__',\n",
       " '__file__',\n",
       " '__git_revision__',\n",
       " '__mkl_version__',\n",
       " '__name__',\n",
       " '__package__',\n",
       " '__path__',\n",
       " '__version__',\n",
       " '_import_tools',\n",
       " '_mat',\n",
       " 'abs',\n",
       " 'absolute',\n",
       " 'absolute_import',\n",
       " 'add',\n",
       " 'add_docstring',\n",
       " 'add_newdoc',\n",
       " 'add_newdoc_ufunc',\n",
       " 'add_newdocs',\n",
       " 'alen',\n",
       " 'all',\n",
       " 'allclose',\n",
       " 'alltrue',\n",
       " 'alterdot',\n",
       " 'amax',\n",
       " 'amin',\n",
       " 'angle',\n",
       " 'any',\n",
       " 'append',\n",
       " 'apply_along_axis',\n",
       " 'apply_over_axes',\n",
       " 'arange',\n",
       " 'arccos',\n",
       " 'arccosh',\n",
       " 'arcsin',\n",
       " 'arcsinh',\n",
       " 'arctan',\n",
       " 'arctan2',\n",
       " 'arctanh',\n",
       " 'argmax',\n",
       " 'argmin',\n",
       " 'argpartition',\n",
       " 'argsort',\n",
       " 'argwhere',\n",
       " 'around',\n",
       " 'array',\n",
       " 'array2string',\n",
       " 'array_equal',\n",
       " 'array_equiv',\n",
       " 'array_repr',\n",
       " 'array_split',\n",
       " 'array_str',\n",
       " 'asanyarray',\n",
       " 'asarray',\n",
       " 'asarray_chkfinite',\n",
       " 'ascontiguousarray',\n",
       " 'asfarray',\n",
       " 'asfortranarray',\n",
       " 'asmatrix',\n",
       " 'asscalar',\n",
       " 'atleast_1d',\n",
       " 'atleast_2d',\n",
       " 'atleast_3d',\n",
       " 'average',\n",
       " 'bartlett',\n",
       " 'base_repr',\n",
       " 'bench',\n",
       " 'binary_repr',\n",
       " 'bincount',\n",
       " 'bitwise_and',\n",
       " 'bitwise_not',\n",
       " 'bitwise_or',\n",
       " 'bitwise_xor',\n",
       " 'blackman',\n",
       " 'bmat',\n",
       " 'bool',\n",
       " 'bool8',\n",
       " 'bool_',\n",
       " 'broadcast',\n",
       " 'broadcast_arrays',\n",
       " 'broadcast_to',\n",
       " 'busday_count',\n",
       " 'busday_offset',\n",
       " 'busdaycalendar',\n",
       " 'byte',\n",
       " 'byte_bounds',\n",
       " 'bytes_',\n",
       " 'c_',\n",
       " 'can_cast',\n",
       " 'cast',\n",
       " 'cbrt',\n",
       " 'cdouble',\n",
       " 'ceil',\n",
       " 'cfloat',\n",
       " 'char',\n",
       " 'character',\n",
       " 'chararray',\n",
       " 'choose',\n",
       " 'clip',\n",
       " 'clongdouble',\n",
       " 'clongfloat',\n",
       " 'column_stack',\n",
       " 'common_type',\n",
       " 'compare_chararrays',\n",
       " 'compat',\n",
       " 'complex',\n",
       " 'complex128',\n",
       " 'complex256',\n",
       " 'complex64',\n",
       " 'complex_',\n",
       " 'complexfloating',\n",
       " 'compress',\n",
       " 'concatenate',\n",
       " 'conj',\n",
       " 'conjugate',\n",
       " 'convolve',\n",
       " 'copy',\n",
       " 'copysign',\n",
       " 'copyto',\n",
       " 'core',\n",
       " 'corrcoef',\n",
       " 'correlate',\n",
       " 'cos',\n",
       " 'cosh',\n",
       " 'count_nonzero',\n",
       " 'cov',\n",
       " 'cross',\n",
       " 'csingle',\n",
       " 'ctypeslib',\n",
       " 'cumprod',\n",
       " 'cumproduct',\n",
       " 'cumsum',\n",
       " 'datetime64',\n",
       " 'datetime_as_string',\n",
       " 'datetime_data',\n",
       " 'deg2rad',\n",
       " 'degrees',\n",
       " 'delete',\n",
       " 'deprecate',\n",
       " 'deprecate_with_doc',\n",
       " 'diag',\n",
       " 'diag_indices',\n",
       " 'diag_indices_from',\n",
       " 'diagflat',\n",
       " 'diagonal',\n",
       " 'diff',\n",
       " 'digitize',\n",
       " 'disp',\n",
       " 'divide',\n",
       " 'division',\n",
       " 'dot',\n",
       " 'double',\n",
       " 'dsplit',\n",
       " 'dstack',\n",
       " 'dtype',\n",
       " 'e',\n",
       " 'ediff1d',\n",
       " 'einsum',\n",
       " 'emath',\n",
       " 'empty',\n",
       " 'empty_like',\n",
       " 'equal',\n",
       " 'errstate',\n",
       " 'euler_gamma',\n",
       " 'exp',\n",
       " 'exp2',\n",
       " 'expand_dims',\n",
       " 'expm1',\n",
       " 'extract',\n",
       " 'eye',\n",
       " 'fabs',\n",
       " 'fastCopyAndTranspose',\n",
       " 'fft',\n",
       " 'fill_diagonal',\n",
       " 'find_common_type',\n",
       " 'finfo',\n",
       " 'fix',\n",
       " 'flatiter',\n",
       " 'flatnonzero',\n",
       " 'flexible',\n",
       " 'fliplr',\n",
       " 'flipud',\n",
       " 'float',\n",
       " 'float128',\n",
       " 'float16',\n",
       " 'float32',\n",
       " 'float64',\n",
       " 'float_',\n",
       " 'floating',\n",
       " 'floor',\n",
       " 'floor_divide',\n",
       " 'fmax',\n",
       " 'fmin',\n",
       " 'fmod',\n",
       " 'format_parser',\n",
       " 'frexp',\n",
       " 'frombuffer',\n",
       " 'fromfile',\n",
       " 'fromfunction',\n",
       " 'fromiter',\n",
       " 'frompyfunc',\n",
       " 'fromregex',\n",
       " 'fromstring',\n",
       " 'full',\n",
       " 'full_like',\n",
       " 'fv',\n",
       " 'generic',\n",
       " 'genfromtxt',\n",
       " 'get_array_wrap',\n",
       " 'get_include',\n",
       " 'get_printoptions',\n",
       " 'getbuffer',\n",
       " 'getbufsize',\n",
       " 'geterr',\n",
       " 'geterrcall',\n",
       " 'geterrobj',\n",
       " 'gradient',\n",
       " 'greater',\n",
       " 'greater_equal',\n",
       " 'half',\n",
       " 'hamming',\n",
       " 'hanning',\n",
       " 'histogram',\n",
       " 'histogram2d',\n",
       " 'histogramdd',\n",
       " 'hsplit',\n",
       " 'hstack',\n",
       " 'hypot',\n",
       " 'i0',\n",
       " 'identity',\n",
       " 'iinfo',\n",
       " 'imag',\n",
       " 'in1d',\n",
       " 'index_exp',\n",
       " 'indices',\n",
       " 'inexact',\n",
       " 'inf',\n",
       " 'info',\n",
       " 'infty',\n",
       " 'inner',\n",
       " 'insert',\n",
       " 'int',\n",
       " 'int0',\n",
       " 'int16',\n",
       " 'int32',\n",
       " 'int64',\n",
       " 'int8',\n",
       " 'int_',\n",
       " 'int_asbuffer',\n",
       " 'intc',\n",
       " 'integer',\n",
       " 'interp',\n",
       " 'intersect1d',\n",
       " 'intp',\n",
       " 'invert',\n",
       " 'ipmt',\n",
       " 'irr',\n",
       " 'is_busday',\n",
       " 'isclose',\n",
       " 'iscomplex',\n",
       " 'iscomplexobj',\n",
       " 'isfinite',\n",
       " 'isfortran',\n",
       " 'isinf',\n",
       " 'isnan',\n",
       " 'isneginf',\n",
       " 'isposinf',\n",
       " 'isreal',\n",
       " 'isrealobj',\n",
       " 'isscalar',\n",
       " 'issctype',\n",
       " 'issubclass_',\n",
       " 'issubdtype',\n",
       " 'issubsctype',\n",
       " 'iterable',\n",
       " 'ix_',\n",
       " 'kaiser',\n",
       " 'kron',\n",
       " 'ldexp',\n",
       " 'left_shift',\n",
       " 'less',\n",
       " 'less_equal',\n",
       " 'lexsort',\n",
       " 'lib',\n",
       " 'linalg',\n",
       " 'linspace',\n",
       " 'little_endian',\n",
       " 'load',\n",
       " 'loads',\n",
       " 'loadtxt',\n",
       " 'log',\n",
       " 'log10',\n",
       " 'log1p',\n",
       " 'log2',\n",
       " 'logaddexp',\n",
       " 'logaddexp2',\n",
       " 'logical_and',\n",
       " 'logical_not',\n",
       " 'logical_or',\n",
       " 'logical_xor',\n",
       " 'logspace',\n",
       " 'long',\n",
       " 'longcomplex',\n",
       " 'longdouble',\n",
       " 'longfloat',\n",
       " 'longlong',\n",
       " 'lookfor',\n",
       " 'ma',\n",
       " 'mafromtxt',\n",
       " 'mask_indices',\n",
       " 'mat',\n",
       " 'math',\n",
       " 'matmul',\n",
       " 'matrix',\n",
       " 'matrixlib',\n",
       " 'max',\n",
       " 'maximum',\n",
       " 'maximum_sctype',\n",
       " 'may_share_memory',\n",
       " 'mean',\n",
       " 'median',\n",
       " 'memmap',\n",
       " 'meshgrid',\n",
       " 'mgrid',\n",
       " 'min',\n",
       " 'min_scalar_type',\n",
       " 'minimum',\n",
       " 'mintypecode',\n",
       " 'mirr',\n",
       " 'mod',\n",
       " 'modf',\n",
       " 'moveaxis',\n",
       " 'msort',\n",
       " 'multiply',\n",
       " 'nan',\n",
       " 'nan_to_num',\n",
       " 'nanargmax',\n",
       " 'nanargmin',\n",
       " 'nanmax',\n",
       " 'nanmean',\n",
       " 'nanmedian',\n",
       " 'nanmin',\n",
       " 'nanpercentile',\n",
       " 'nanprod',\n",
       " 'nanstd',\n",
       " 'nansum',\n",
       " 'nanvar',\n",
       " 'nbytes',\n",
       " 'ndarray',\n",
       " 'ndenumerate',\n",
       " 'ndfromtxt',\n",
       " 'ndim',\n",
       " 'ndindex',\n",
       " 'nditer',\n",
       " 'negative',\n",
       " 'nested_iters',\n",
       " 'newaxis',\n",
       " 'newbuffer',\n",
       " 'nextafter',\n",
       " 'nonzero',\n",
       " 'not_equal',\n",
       " 'nper',\n",
       " 'npv',\n",
       " 'numarray',\n",
       " 'number',\n",
       " 'obj2sctype',\n",
       " 'object',\n",
       " 'object0',\n",
       " 'object_',\n",
       " 'ogrid',\n",
       " 'oldnumeric',\n",
       " 'ones',\n",
       " 'ones_like',\n",
       " 'outer',\n",
       " 'packbits',\n",
       " 'pad',\n",
       " 'partition',\n",
       " 'percentile',\n",
       " 'pi',\n",
       " 'piecewise',\n",
       " 'pkgload',\n",
       " 'place',\n",
       " 'pmt',\n",
       " 'poly',\n",
       " 'poly1d',\n",
       " 'polyadd',\n",
       " 'polyder',\n",
       " 'polydiv',\n",
       " 'polyfit',\n",
       " 'polyint',\n",
       " 'polymul',\n",
       " 'polynomial',\n",
       " 'polysub',\n",
       " 'polyval',\n",
       " 'power',\n",
       " 'ppmt',\n",
       " 'print_function',\n",
       " 'prod',\n",
       " 'product',\n",
       " 'promote_types',\n",
       " 'ptp',\n",
       " 'put',\n",
       " 'putmask',\n",
       " 'pv',\n",
       " 'r_',\n",
       " 'rad2deg',\n",
       " 'radians',\n",
       " 'random',\n",
       " 'rank',\n",
       " 'rate',\n",
       " 'ravel',\n",
       " 'ravel_multi_index',\n",
       " 'real',\n",
       " 'real_if_close',\n",
       " 'rec',\n",
       " 'recarray',\n",
       " 'recfromcsv',\n",
       " 'recfromtxt',\n",
       " 'reciprocal',\n",
       " 'record',\n",
       " 'remainder',\n",
       " 'repeat',\n",
       " 'require',\n",
       " 'reshape',\n",
       " 'resize',\n",
       " 'restoredot',\n",
       " 'result_type',\n",
       " 'right_shift',\n",
       " 'rint',\n",
       " 'roll',\n",
       " 'rollaxis',\n",
       " 'roots',\n",
       " 'rot90',\n",
       " 'round',\n",
       " 'round_',\n",
       " 'row_stack',\n",
       " 's_',\n",
       " 'safe_eval',\n",
       " 'save',\n",
       " 'savetxt',\n",
       " 'savez',\n",
       " 'savez_compressed',\n",
       " 'sctype2char',\n",
       " 'sctypeDict',\n",
       " 'sctypeNA',\n",
       " 'sctypes',\n",
       " 'searchsorted',\n",
       " 'select',\n",
       " 'set_numeric_ops',\n",
       " 'set_printoptions',\n",
       " 'set_string_function',\n",
       " 'setbufsize',\n",
       " 'setdiff1d',\n",
       " 'seterr',\n",
       " 'seterrcall',\n",
       " 'seterrobj',\n",
       " 'setxor1d',\n",
       " 'shape',\n",
       " 'shares_memory',\n",
       " 'short',\n",
       " 'show_config',\n",
       " 'sign',\n",
       " 'signbit',\n",
       " 'signedinteger',\n",
       " 'sin',\n",
       " 'sinc',\n",
       " 'single',\n",
       " 'singlecomplex',\n",
       " 'sinh',\n",
       " 'size',\n",
       " 'sometrue',\n",
       " 'sort',\n",
       " 'sort_complex',\n",
       " 'source',\n",
       " 'spacing',\n",
       " 'split',\n",
       " 'sqrt',\n",
       " 'square',\n",
       " 'squeeze',\n",
       " 'stack',\n",
       " 'std',\n",
       " 'str',\n",
       " 'str_',\n",
       " 'string0',\n",
       " 'string_',\n",
       " 'subtract',\n",
       " 'sum',\n",
       " 'swapaxes',\n",
       " 'take',\n",
       " 'tan',\n",
       " 'tanh',\n",
       " 'tensordot',\n",
       " 'test',\n",
       " 'testing',\n",
       " 'tile',\n",
       " 'timedelta64',\n",
       " 'trace',\n",
       " 'transpose',\n",
       " 'trapz',\n",
       " 'tri',\n",
       " 'tril',\n",
       " 'tril_indices',\n",
       " 'tril_indices_from',\n",
       " 'trim_zeros',\n",
       " 'triu',\n",
       " 'triu_indices',\n",
       " 'triu_indices_from',\n",
       " 'true_divide',\n",
       " 'trunc',\n",
       " 'typeDict',\n",
       " 'typeNA',\n",
       " 'typecodes',\n",
       " 'typename',\n",
       " 'ubyte',\n",
       " 'ufunc',\n",
       " 'uint',\n",
       " 'uint0',\n",
       " 'uint16',\n",
       " 'uint32',\n",
       " 'uint64',\n",
       " 'uint8',\n",
       " 'uintc',\n",
       " 'uintp',\n",
       " 'ulonglong',\n",
       " 'unicode',\n",
       " 'unicode0',\n",
       " 'unicode_',\n",
       " 'union1d',\n",
       " 'unique',\n",
       " 'unpackbits',\n",
       " 'unravel_index',\n",
       " 'unsignedinteger',\n",
       " 'unwrap',\n",
       " 'ushort',\n",
       " 'vander',\n",
       " 'var',\n",
       " 'vdot',\n",
       " 'vectorize',\n",
       " 'version',\n",
       " 'void',\n",
       " 'void0',\n",
       " 'vsplit',\n",
       " 'vstack',\n",
       " 'warnings',\n",
       " 'where',\n",
       " 'who',\n",
       " 'zeros',\n",
       " 'zeros_like']"
      ]
     },
     "execution_count": 3,
     "metadata": {},
     "output_type": "execute_result"
    }
   ],
   "source": [
    "import numpy\n",
    "dir(numpy)"
   ]
  },
  {
   "cell_type": "markdown",
   "metadata": {},
   "source": [
    "## Creating an Array"
   ]
  },
  {
   "cell_type": "raw",
   "metadata": {},
   "source": [
    "Arrays can be created in several ways. One of them is to start from a list and use the 'array' function to turn it into an array:\n",
    "\n",
    "array(list,dtype = type specification)\n",
    "\n",
    "Notes: Lists can hold any sequence of any Python objects, while arrays can only hold objects of the same type. Arrays are most efficient when the elements are of the basic number types (float, int, complex).\n",
    "\n",
    "Here are two examples of creating a 2x2 array with floating-point elements:"
   ]
  },
  {
   "cell_type": "code",
   "execution_count": 4,
   "metadata": {
    "collapsed": false
   },
   "outputs": [
    {
     "name": "stdout",
     "output_type": "stream",
     "text": [
      "[[ 2. -1.]\n",
      " [-1.  3.]]\n"
     ]
    }
   ],
   "source": [
    "from numpy import array,float\n",
    "a = array([[2.0, -1.0],[-1.0, 3.0]])\n",
    "print(a)"
   ]
  },
  {
   "cell_type": "code",
   "execution_count": 5,
   "metadata": {
    "collapsed": false
   },
   "outputs": [
    {
     "name": "stdout",
     "output_type": "stream",
     "text": [
      "[[ 2. -1.]\n",
      " [-1.  3.]]\n"
     ]
    }
   ],
   "source": [
    "b = array([[2, -1],[-1, 3]],dtype = float)\n",
    "print(b)"
   ]
  },
  {
   "cell_type": "raw",
   "metadata": {},
   "source": [
    "A couple of quite useful functions which also create arrays are:\n",
    "\n",
    "zeros((dim1,dim2),dtype = type specification)\n",
    "\n",
    "which creates a dim1 by dim2 array and fills it with zeroes, and\n",
    "\n",
    "ones((dim1,dim2),dtype = type specification)\n",
    "\n",
    "which fills the array with ones. The default type in both cases is float. Finally, there is the function\n",
    "\n",
    "arange(from,to,increment)\n",
    "\n",
    "which works just like the range function, but returns an array rather than a list. Here are examples of creating arrays:"
   ]
  },
  {
   "cell_type": "code",
   "execution_count": 6,
   "metadata": {
    "collapsed": false
   },
   "outputs": [
    {
     "name": "stdout",
     "output_type": "stream",
     "text": [
      "[2 4 6 8]\n"
     ]
    }
   ],
   "source": [
    "import numpy \n",
    "print(numpy.arange(2,10,2))"
   ]
  },
  {
   "cell_type": "code",
   "execution_count": 7,
   "metadata": {
    "collapsed": false
   },
   "outputs": [
    {
     "name": "stdout",
     "output_type": "stream",
     "text": [
      "[ 2.  4.  6.  8.]\n"
     ]
    }
   ],
   "source": [
    "print(numpy.arange(2.0,10.0,2.0))"
   ]
  },
  {
   "cell_type": "code",
   "execution_count": 8,
   "metadata": {
    "collapsed": false
   },
   "outputs": [
    {
     "name": "stdout",
     "output_type": "stream",
     "text": [
      "[ 0.  0.  0.]\n"
     ]
    }
   ],
   "source": [
    "print(numpy.zeros(3))"
   ]
  },
  {
   "cell_type": "code",
   "execution_count": 9,
   "metadata": {
    "collapsed": false
   },
   "outputs": [
    {
     "name": "stdout",
     "output_type": "stream",
     "text": [
      "[0 0 0]\n"
     ]
    }
   ],
   "source": [
    "print(numpy.zeros((3),dtype=int))"
   ]
  },
  {
   "cell_type": "code",
   "execution_count": 10,
   "metadata": {
    "collapsed": false
   },
   "outputs": [
    {
     "name": "stdout",
     "output_type": "stream",
     "text": [
      "[[ 1.  1.]\n",
      " [ 1.  1.]]\n"
     ]
    }
   ],
   "source": [
    "print(numpy.ones((2,2)))"
   ]
  },
  {
   "cell_type": "raw",
   "metadata": {},
   "source": [
    "An alternative, similar to Matlab, is to use \n",
    "\n",
    "numpy.linspace(0,n,num=n+1,endpoint=True)\n",
    "\n",
    "We can then 'reshape' the array, converting it from 1D (vector) to 2D (matrix), note that the total sizes of the two should be exactly the same (in the example below it is 9 numbers):"
   ]
  },
  {
   "cell_type": "code",
   "execution_count": 11,
   "metadata": {
    "collapsed": false
   },
   "outputs": [
    {
     "name": "stdout",
     "output_type": "stream",
     "text": [
      "[[ 0.  1.  2.]\n",
      " [ 3.  4.  5.]\n",
      " [ 6.  7.  8.]]\n"
     ]
    }
   ],
   "source": [
    "x = numpy.linspace(0,8,9).reshape(3,3)\n",
    "print(x)"
   ]
  },
  {
   "cell_type": "raw",
   "metadata": {},
   "source": [
    "Note of caution: Reshape does not copy - it does not create a new array, but rather creates a different view of the same data.\n",
    "\n",
    "We can also do the above as follows:"
   ]
  },
  {
   "cell_type": "code",
   "execution_count": 12,
   "metadata": {
    "collapsed": false
   },
   "outputs": [
    {
     "name": "stdout",
     "output_type": "stream",
     "text": [
      "[[0 1 2]\n",
      " [3 4 5]\n",
      " [6 7 8]]\n"
     ]
    }
   ],
   "source": [
    "x = numpy.arange(9).reshape(3,3)\n",
    "print(x)"
   ]
  },
  {
   "cell_type": "raw",
   "metadata": {},
   "source": [
    "with the same resulting matrix (but made of integers! If you want real numbers you can do: "
   ]
  },
  {
   "cell_type": "code",
   "execution_count": 13,
   "metadata": {
    "collapsed": false
   },
   "outputs": [
    {
     "name": "stdout",
     "output_type": "stream",
     "text": [
      "[[ 0.  1.  2.]\n",
      " [ 3.  4.  5.]\n",
      " [ 6.  7.  8.]]\n"
     ]
    }
   ],
   "source": [
    "x=numpy.arange(9.).reshape(3,3)\n",
    "print(x)"
   ]
  },
  {
   "cell_type": "raw",
   "metadata": {},
   "source": [
    "Here is another example, where we first create lists using a function and then convert them into arrays:"
   ]
  },
  {
   "cell_type": "code",
   "execution_count": 14,
   "metadata": {
    "collapsed": true
   },
   "outputs": [],
   "source": [
    "def f(x):\n",
    "  return x**3     # sample function\n",
    "\n",
    "n = 5           # no of points in [0,1]\n",
    "dx = 1.0/(n-1)  # x spacing\n",
    "xlist = [i*dx for i in range(n)]\n",
    "ylist = [f(x) for x in xlist]"
   ]
  },
  {
   "cell_type": "raw",
   "metadata": {},
   "source": [
    "Note that once we have defined the function we can use it as any other function. We can then turn these lists into Numerical Python (NumPy) arrays:"
   ]
  },
  {
   "cell_type": "code",
   "execution_count": 15,
   "metadata": {
    "collapsed": false
   },
   "outputs": [
    {
     "name": "stdout",
     "output_type": "stream",
     "text": [
      "(array([ 0.  ,  0.25,  0.5 ,  0.75,  1.  ]), array([ 0.      ,  0.015625,  0.125   ,  0.421875,  1.      ]))\n"
     ]
    }
   ],
   "source": [
    "import numpy as np\n",
    "x2 = np.array(xlist)\n",
    "y2 = np.array(ylist)\n",
    "print(x2,y2)"
   ]
  },
  {
   "cell_type": "raw",
   "metadata": {},
   "source": [
    "Alternatively, instead of first making lists with x and y=f(x) data, and then turning lists into arrays, we can make NumPy arrays directly:"
   ]
  },
  {
   "cell_type": "code",
   "execution_count": 16,
   "metadata": {
    "collapsed": false
   },
   "outputs": [
    {
     "name": "stdout",
     "output_type": "stream",
     "text": [
      "(array([ 0.  ,  0.25,  0.5 ,  0.75,  1.  ]), array([ 0.      ,  0.015625,  0.125   ,  0.421875,  1.      ]))\n"
     ]
    }
   ],
   "source": [
    "n = 5                     # number of points\n",
    "x3 = np.linspace(0, 1, n) # n points in [0, 1]\n",
    "y3 = np.zeros(n)          # n zeros (float data type)\n",
    "for i in xrange(n):\n",
    "     y3[i] = f(x3[i])\n",
    "print(x3,y3)"
   ]
  },
  {
   "cell_type": "raw",
   "metadata": {},
   "source": [
    "Note: 'xrange'  is similar to 'range' but faster; 'xrange' in Python 2.x is called 'range' in Python 3.x."
   ]
  },
  {
   "cell_type": "raw",
   "metadata": {},
   "source": [
    "Caution regarding Vectors, Column and Row Matrices. Note that an n vector, an n by 1 (column) and 1 by n (row) matrix are three different \n",
    "objects, even if they may contain the same data."
   ]
  },
  {
   "cell_type": "markdown",
   "metadata": {},
   "source": [
    "## Exercise:"
   ]
  },
  {
   "cell_type": "raw",
   "metadata": {},
   "source": [
    "Create the following arrays (with correct data types):\n",
    "\n",
    "[[ 1  1  1  1]\n",
    " [ 1  1  1  1]\n",
    " [ 1  1  1  2]\n",
    " [ 1  6  1  1]]\n",
    "\n",
    "[[0. 0. 0. 0. 0.]\n",
    " [2. 0. 0. 0. 0.]\n",
    " [0. 3. 0. 0. 0.]\n",
    " [0. 0. 4. 0. 0.]\n",
    " [0. 0. 0. 5. 0.]\n",
    " [0. 0. 0. 0. 6.]]\n"
   ]
  },
  {
   "cell_type": "markdown",
   "metadata": {},
   "source": [
    "## Accessing and Changing Array Elements"
   ]
  },
  {
   "cell_type": "raw",
   "metadata": {},
   "source": [
    "If a is a rank-2 array (i.e. a matrix), then a[i,j] accesses the element in row i and column j, whereas a[i] refers to row i. The elements of an array can be changed by assignment:"
   ]
  },
  {
   "cell_type": "code",
   "execution_count": 17,
   "metadata": {
    "collapsed": false
   },
   "outputs": [
    {
     "name": "stdout",
     "output_type": "stream",
     "text": [
      "[[0 0 0]\n",
      " [0 0 0]\n",
      " [0 0 0]]\n"
     ]
    }
   ],
   "source": [
    "import numpy\n",
    "a = numpy.zeros((3,3),dtype=int)\n",
    "print(a)"
   ]
  },
  {
   "cell_type": "code",
   "execution_count": 18,
   "metadata": {
    "collapsed": false
   },
   "outputs": [
    {
     "name": "stdout",
     "output_type": "stream",
     "text": [
      "[[ 2  3  5]\n",
      " [ 0  6  0]\n",
      " [ 8 -3  0]]\n"
     ]
    }
   ],
   "source": [
    "a[0]=[2,3,5]    # Change a row\n",
    "a[1,1]=6        # Change an element\n",
    "a[2,0:2]=[8,-3] # Change part of a row\n",
    "print(a)"
   ]
  },
  {
   "cell_type": "markdown",
   "metadata": {},
   "source": [
    "## Exercises:"
   ]
  },
  {
   "cell_type": "raw",
   "metadata": {},
   "source": [
    "Form the following rank-2 array (without typing it in explicitly):\n",
    "\n",
    "[[1  6 11]\n",
    "[2  7 12]\n",
    "[3  8 13]\n",
    "[4  9 14]\n",
    "[5 10 15]]\n",
    "\n",
    "and generate a new array containing just its 2nd and 4th rows.\n",
    "\n",
    "Change the fourth row to [1, 4, 9]."
   ]
  },
  {
   "cell_type": "markdown",
   "metadata": {},
   "source": [
    "## Operations on Arrays"
   ]
  },
  {
   "cell_type": "raw",
   "metadata": {},
   "source": [
    "Arithmetic operators work differently on arrays than they do on tuples and lists -- the operation is broadcast to all the elements of the array; that is, the operation is applied to each element in the array individually. Array operations like that are generally very efficient since they are done by underlying optimized and fast C language functions. Here are some examples:"
   ]
  },
  {
   "cell_type": "code",
   "execution_count": 19,
   "metadata": {
    "collapsed": false
   },
   "outputs": [
    {
     "name": "stdout",
     "output_type": "stream",
     "text": [
      "[ 0.      0.25    0.5625  1.    ]\n",
      "[ -4.   0.   5.  12.]\n"
     ]
    }
   ],
   "source": [
    "from numpy import array\n",
    "a = array([0.0, 4.0, 9.0, 16.0])\n",
    "print(a/16.0)\n",
    "print a - 4.0"
   ]
  },
  {
   "cell_type": "raw",
   "metadata": {},
   "source": [
    "All basic arithmetic operations are also performed element-wise (vectors should have the same length, matrices the same dimensions)."
   ]
  },
  {
   "cell_type": "code",
   "execution_count": 20,
   "metadata": {
    "collapsed": false
   },
   "outputs": [
    {
     "name": "stdout",
     "output_type": "stream",
     "text": [
      "('v1/v2=', array([ 3.        ,  2.33333333,  1.8       ]))\n",
      "('v1*v2=', array([ 12.,  21.,  45.]))\n",
      "('v1+v2=', array([  8.,  10.,  14.]))\n",
      "('v1-v2=', array([ 4.,  4.,  4.]))\n"
     ]
    }
   ],
   "source": [
    "v1=array([6.,7.,9.])\n",
    "v2=array([2.,3.,5.])\n",
    "print('v1/v2=',v1/v2)\n",
    "print('v1*v2=',v1*v2)\n",
    "print('v1+v2=',v1+v2)\n",
    "print('v1-v2=',v1-v2)"
   ]
  },
  {
   "cell_type": "raw",
   "metadata": {},
   "source": [
    "The mathematical functions available in NumPy are also broadcast:"
   ]
  },
  {
   "cell_type": "code",
   "execution_count": 21,
   "metadata": {
    "collapsed": false
   },
   "outputs": [
    {
     "name": "stdout",
     "output_type": "stream",
     "text": [
      "[ 1.  2.  3.  4.]\n",
      "[ 0.84147098 -0.7568025   0.41211849 -0.28790332]\n"
     ]
    }
   ],
   "source": [
    "from numpy import array,sqrt,sin\n",
    "a = array([1.0, 4.0, 9.0, 16.0])\n",
    "print(sqrt(a))\n",
    "print(sin(a))"
   ]
  },
  {
   "cell_type": "raw",
   "metadata": {},
   "source": [
    "Functions imported from the math module will of course work on the individual array elements, but not on the array itself, in which they differ from the NumPy functions (even if they sometimes have the same name). Here is an example:"
   ]
  },
  {
   "cell_type": "code",
   "execution_count": 22,
   "metadata": {
    "collapsed": false
   },
   "outputs": [
    {
     "name": "stdout",
     "output_type": "stream",
     "text": [
      "2.0\n"
     ]
    }
   ],
   "source": [
    "from numpy import array\n",
    "from math import sqrt\n",
    "a = array([1.0, 4.0, 9.0, 16.0])\n",
    "\n",
    "print sqrt(a[1])"
   ]
  },
  {
   "cell_type": "code",
   "execution_count": 23,
   "metadata": {
    "collapsed": false
   },
   "outputs": [
    {
     "ename": "TypeError",
     "evalue": "only length-1 arrays can be converted to Python scalars",
     "output_type": "error",
     "traceback": [
      "\u001b[1;31m---------------------------------------------------------------------------\u001b[0m",
      "\u001b[1;31mTypeError\u001b[0m                                 Traceback (most recent call last)",
      "\u001b[1;32m<ipython-input-23-a1cb37b96a61>\u001b[0m in \u001b[0;36m<module>\u001b[1;34m()\u001b[0m\n\u001b[1;32m----> 1\u001b[1;33m \u001b[1;32mprint\u001b[0m \u001b[0msqrt\u001b[0m\u001b[1;33m(\u001b[0m\u001b[0ma\u001b[0m\u001b[1;33m)\u001b[0m\u001b[1;33m\u001b[0m\u001b[0m\n\u001b[0m",
      "\u001b[1;31mTypeError\u001b[0m: only length-1 arrays can be converted to Python scalars"
     ]
    }
   ],
   "source": [
    "print sqrt(a)"
   ]
  },
  {
   "cell_type": "markdown",
   "metadata": {},
   "source": [
    "## Exercise:"
   ]
  },
  {
   "cell_type": "markdown",
   "metadata": {},
   "source": [
    "Create an array x containing 100 equally-spaced numbers from 0 to $2\\pi$.\n",
    "Create another array y whose first column contains x, the second one contains $\\sin(x)$ and the third one contains $\\sin^2(x)$. "
   ]
  },
  {
   "cell_type": "markdown",
   "metadata": {},
   "source": [
    "## Array Functions"
   ]
  },
  {
   "cell_type": "raw",
   "metadata": {},
   "source": [
    "There are numerous functions in NumPy that perform array operations and other useful tasks. Here are a few examples:"
   ]
  },
  {
   "cell_type": "code",
   "execution_count": null,
   "metadata": {
    "collapsed": false
   },
   "outputs": [],
   "source": [
    "import numpy as np\n",
    "A = np.array([[4,-2,1],[-2,4,-2],[1,-2,3]],dtype=float)\n",
    "b = np.array([1,4,3],dtype=float)\n",
    "\n",
    "print(np.diagonal(A)) # Principal diagonal of A"
   ]
  },
  {
   "cell_type": "code",
   "execution_count": null,
   "metadata": {
    "collapsed": false
   },
   "outputs": [],
   "source": [
    "print(np.trace(A)) # Sum of diagonal elements of A"
   ]
  },
  {
   "cell_type": "code",
   "execution_count": null,
   "metadata": {
    "collapsed": false
   },
   "outputs": [],
   "source": [
    "print(np.argmax(b)) # Index of largest element of b"
   ]
  },
  {
   "cell_type": "code",
   "execution_count": null,
   "metadata": {
    "collapsed": false
   },
   "outputs": [],
   "source": [
    "print(np.argmin(A,axis=0)) # Indices of smallest column elements "
   ]
  },
  {
   "cell_type": "code",
   "execution_count": null,
   "metadata": {
    "collapsed": false
   },
   "outputs": [],
   "source": [
    "print(np.identity(3)) # Identity matrix"
   ]
  },
  {
   "cell_type": "raw",
   "metadata": {},
   "source": [
    "There are three functions in NumPy that compute matrix/vector products. They are illustrated by the program listed below. For more details, see Appendix A2 of the book."
   ]
  },
  {
   "cell_type": "code",
   "execution_count": null,
   "metadata": {
    "collapsed": false
   },
   "outputs": [],
   "source": [
    "import numpy as np\n",
    "x = np.array([7,3])\n",
    "y = np.array([2,1])\n",
    "A = np.array([[1,2],[3,2]])\n",
    "B = np.array([[1,1],[2,2]])\n",
    "\n",
    "# Dot product\n",
    "print \"dot(x,y) =\\n\",np.dot(x,y) #{x}.{y} - scalar (dot) product of 2 vectors\n",
    "print \"dot(A,x) =\\n\",np.dot(A,x) #[A]{x}  - maxtrix-vector dot product\n",
    "print \"dot(A,B) =\\n\",np.dot(A,B) #[A][B]  - matrix-matrix dot product\n",
    "\n",
    "# Inner product\n",
    "print \"inner(x,y) =\\n\",np.inner(x,y) # {x}.{y}\n",
    "print \"inner(A,x) =\\n\",np.inner(A,x) # [A]{x}\n",
    "print \"inner(A,B) =\\n\",np.inner(A,B) # [A][B_transpose]\n",
    "\n",
    "# Outer product\n",
    "print \"outer(x,y) =\\n\",np.outer(x,y)\n",
    "print \"outer(A,x) =\\n\",np.outer(A,x)\n",
    "print \"Outer(A,B) =\\n\",np.outer(A,B)"
   ]
  },
  {
   "cell_type": "markdown",
   "metadata": {},
   "source": [
    "## Exercises:\n",
    "\n",
    "1) Taking the y array from the previous exercise, find the values \n",
    "of its largest and smallest elements in each row.\n",
    "\n",
    "2) What do 'diagonal' and 'trace' give you if a 2D array is not with two equal dimensions?"
   ]
  },
  {
   "cell_type": "markdown",
   "metadata": {},
   "source": [
    "## Linear Algebra Module"
   ]
  },
  {
   "cell_type": "raw",
   "metadata": {},
   "source": [
    "NumPy comes with a linear algebra module called 'linalg' that contains routine tasks such as matrix inversion and solution of simultaneous equations (which we will be discussing in more detail soon). For example:"
   ]
  },
  {
   "cell_type": "code",
   "execution_count": null,
   "metadata": {
    "collapsed": true
   },
   "outputs": [],
   "source": [
    "from numpy import array\n",
    "from numpy.linalg import inv,solve\n",
    "\n",
    "A = array([[ 4.0, -2.0, 1.0], \\\n",
    "[-2.0, 4.0, -2.0], \\\n",
    "[ 1.0, -2.0, 3.0]])\n",
    "\n",
    "# Note: The backslash '\\' above is Python's line continuation character. \n",
    "\n",
    "b = array([1.0, 4.0, 2.0])"
   ]
  },
  {
   "cell_type": "code",
   "execution_count": null,
   "metadata": {
    "collapsed": false
   },
   "outputs": [],
   "source": [
    "print(inv(A)) # Matrix inverse"
   ]
  },
  {
   "cell_type": "code",
   "execution_count": null,
   "metadata": {
    "collapsed": false
   },
   "outputs": [],
   "source": [
    "print(solve(A,b)) # Solve the system of equations [A]{x} = {b}"
   ]
  },
  {
   "cell_type": "markdown",
   "metadata": {},
   "source": [
    "## Exercises:\n",
    "\n",
    "1) Set up the matrix \n",
    "\n",
    "\\begin{equation}\n",
    "A=[[1. 2. 3.]\\\\\n",
    "     [4. 5. 6.]\\\\\n",
    "     [7. 8. 1.]]\n",
    "\\end{equation}\n",
    "\n",
    "starting with 'linspace' and then reshaping the array into a 3x3 one.\n",
    "\n",
    "2) Calculate the inverse of A. Check that $AA^{-1}=A^{-1}A=1$.\n",
    "\n",
    "3) Create a vector b=(6,15,16). Solve the equation Ax=b for x. Check your answer."
   ]
  },
  {
   "cell_type": "markdown",
   "metadata": {},
   "source": [
    "## Copying Arrays"
   ]
  },
  {
   "cell_type": "raw",
   "metadata": {},
   "source": [
    "We explained before that if 'a' is a mutable object, such as a list, the assignment statement 'b = a' does not result in a new object b, but simply creates a new reference to 'a', called a deep copy. This also applies to arrays. To make an independent copy of an array a, use the copy method in the NumPy module:"
   ]
  },
  {
   "cell_type": "code",
   "execution_count": null,
   "metadata": {
    "collapsed": true
   },
   "outputs": [],
   "source": [
    "b = a.copy()"
   ]
  },
  {
   "cell_type": "markdown",
   "metadata": {
    "collapsed": true
   },
   "source": [
    "## Exercise: \n",
    "\n",
    "Starting from the array A from the previous exercise, create arrays\n",
    "B=A and C=A.copy(). Now change A[0,0] to 5 and print out both B and C. Did they change?"
   ]
  },
  {
   "cell_type": "markdown",
   "metadata": {},
   "source": [
    "## Vectorizing Algorithms"
   ]
  },
  {
   "cell_type": "markdown",
   "metadata": {},
   "source": [
    "Sometimes the broadcasting properties of the mathematical functions in the NumPy module can be utilised to replace loops in the code. This procedure is known as vectorisation. Consider, for example, the sum:\n",
    "\n",
    "\\begin{equation}\n",
    "s=\\sum_{i=0}^{100}\\sqrt{\\frac{i\\pi}{100}}\\sin\\frac{i\\pi}{100}\n",
    "\\end{equation}\n",
    "\n",
    "The direct approach is to evaluate the sum in a loop, resulting in the following “scalar” code:"
   ]
  },
  {
   "cell_type": "code",
   "execution_count": 24,
   "metadata": {
    "collapsed": false
   },
   "outputs": [
    {
     "name": "stdout",
     "output_type": "stream",
     "text": [
      "77.5138979892\n"
     ]
    }
   ],
   "source": [
    "from math import sqrt,sin,pi\n",
    "x=0.0; sum = 0.0\n",
    "for i in range(0,101):\n",
    "    sum = sum + sqrt(x)*sin(x)\n",
    "    x = x + 0.01*pi\n",
    "print(sum)"
   ]
  },
  {
   "cell_type": "raw",
   "metadata": {},
   "source": [
    "The vectorised version of algorithm is:"
   ]
  },
  {
   "cell_type": "code",
   "execution_count": 25,
   "metadata": {
    "collapsed": false
   },
   "outputs": [
    {
     "name": "stdout",
     "output_type": "stream",
     "text": [
      "77.5138979892\n"
     ]
    }
   ],
   "source": [
    "from numpy import sqrt,sin,arange,sum\n",
    "from math import pi\n",
    "x = arange(0.0,1.001*pi,0.01*pi)\n",
    "print(sum(sqrt(x)*sin(x)))"
   ]
  },
  {
   "cell_type": "raw",
   "metadata": {},
   "source": [
    "Note that the first algorithm uses the scalar versions of 'sqrt' and \n",
    "'sin' functions in the math module, whereas the second algorithm imports these functions from the NumPy. The vectorised algorithm is faster, so generally preferable, but uses more memory. Also, the code is more elegant, short and reabable.\n",
    "\n",
    "Mathematical functions in Python without any 'if' tests automatically work for both scalar and array (vector) arguments (i.e., no vectorization by the programmer is necessary)."
   ]
  },
  {
   "cell_type": "markdown",
   "metadata": {},
   "source": [
    "## Exercises:"
   ]
  },
  {
   "cell_type": "raw",
   "metadata": {},
   "source": [
    "1) Make a function which takes as an input a number 'n' and returns the sum of i^2*ln(i) for i=1 to n using a vectorized algorithm.\n",
    "\n",
    "2) How much faster is Numpy with vectorised operations compared to standard Python? Try the following two ways to add 1 to a million numbers, first is a standard implicit for loop, the second is a vectorized Numpy array operation:\n",
    "\n",
    "In [1]: lst=range(1000000) \n",
    "In [2]: %timeit [i+1 for i in lst]\n",
    "In [3]: arr=arange(1000000) \n",
    "In [4]: %timeit arr+1\n",
    "\n",
    "The 'magic' command %timeit tests and reports how fast the statement execution is. How much faster is the vectorised Numpy one?\n",
    "\n",
    "3) The execution speed advantage is even better for standard Python \n",
    "functions vs. Numpy functions ('ufunc' in optimized, pre-compiled C-code). Try the following:\n",
    "\n",
    "In [5]: %timeit [sin(i)**2 for i in arr]\n",
    "In [6]: %timeit np.sin(arr)**2 \n",
    "\n",
    "How much faster is the second one?"
   ]
  },
  {
   "cell_type": "code",
   "execution_count": 26,
   "metadata": {
    "collapsed": false
   },
   "outputs": [
    {
     "name": "stdout",
     "output_type": "stream",
     "text": [
      "10 loops, best of 3: 42.2 ms per loop\n"
     ]
    }
   ],
   "source": [
    "lst=range(1000000)\n",
    "%timeit [i+1 for i in lst]"
   ]
  },
  {
   "cell_type": "code",
   "execution_count": 27,
   "metadata": {
    "collapsed": false
   },
   "outputs": [
    {
     "name": "stdout",
     "output_type": "stream",
     "text": [
      "The slowest run took 5.21 times longer than the fastest. This could mean that an intermediate result is being cached.\n",
      "1000 loops, best of 3: 1.28 ms per loop\n"
     ]
    }
   ],
   "source": [
    "arr=arange(1000000) \n",
    "%timeit arr+1"
   ]
  },
  {
   "cell_type": "code",
   "execution_count": 28,
   "metadata": {
    "collapsed": false
   },
   "outputs": [
    {
     "name": "stdout",
     "output_type": "stream",
     "text": [
      "1 loop, best of 3: 1.2 s per loop\n",
      "10 loops, best of 3: 36.5 ms per loop\n"
     ]
    }
   ],
   "source": [
    "%timeit [sin(i)**2 for i in arr]\n",
    "%timeit np.sin(arr)**2"
   ]
  },
  {
   "cell_type": "markdown",
   "metadata": {},
   "source": [
    "## Scoping of Variables (An important point!)"
   ]
  },
  {
   "cell_type": "raw",
   "metadata": {},
   "source": [
    "'Namespace' is a dictionary that contains the names of the variables and their values. The namespaces are automatically created and updated as a Python program runs. There are three levels of namespaces in Python:\n",
    "\n",
    "- Local namespace, which is created when a function is called. It contains the variables passed to the function as arguments and the variables created within the function. The namespace is deleted when the function terminates. If a variable is created inside a function, its scope is the function's local namespace. It is not visible outside the function.\n",
    "\n",
    "- A global namespace is created when a module is loaded. Each module has its own namespace. Variables assigned in a global namespace are visible to any function within the module.\n",
    "\n",
    "- Built-in namespace is created when the interpreter starts. It contains the functions that come with the Python interpreter. These functions can be accessed by any program unit.\n",
    "\n",
    "When a name is encountered during execution of a function, the Python interpreter tries to resolve it by searching the following in the order shown: \n",
    "(1) local namespace,\n",
    "(2) global namespace, \n",
    "and (3) built-in namespace. \n",
    "\n",
    "If the name cannot be resolved, Python raises a 'NameError' exception (i.e. lets you know this variable does not exist).\n",
    "\n",
    "Because the variables residing in a global namespace (i.e. not within a function) are visible to functions within the module, it is not necessary to pass them explicitly to the functions as arguments (although it is good programming practice to do so), as the following program illustrates:"
   ]
  },
  {
   "cell_type": "code",
   "execution_count": 30,
   "metadata": {
    "collapsed": false
   },
   "outputs": [
    {
     "name": "stdout",
     "output_type": "stream",
     "text": [
      "a/b = 20.0\n"
     ]
    }
   ],
   "source": [
    "def divide():\n",
    "    c = a/b\n",
    "    print 'a/b =',c\n",
    "a = 100.0\n",
    "b = 5.0\n",
    "divide()"
   ]
  },
  {
   "cell_type": "raw",
   "metadata": {},
   "source": [
    "Note that the variable 'c' is created inside the function 'divide' and is thus not accessible to statements outside the function. Hence an attempt to move the print statement out of the function fails:"
   ]
  },
  {
   "cell_type": "code",
   "execution_count": 31,
   "metadata": {
    "collapsed": false
   },
   "outputs": [
    {
     "name": "stdout",
     "output_type": "stream",
     "text": [
      "a/b ="
     ]
    },
    {
     "ename": "NameError",
     "evalue": "name 'c' is not defined",
     "output_type": "error",
     "traceback": [
      "\u001b[1;31m---------------------------------------------------------------------------\u001b[0m",
      "\u001b[1;31mNameError\u001b[0m                                 Traceback (most recent call last)",
      "\u001b[1;32m<ipython-input-31-4fa67970e979>\u001b[0m in \u001b[0;36m<module>\u001b[1;34m()\u001b[0m\n\u001b[0;32m      4\u001b[0m \u001b[0mb\u001b[0m \u001b[1;33m=\u001b[0m \u001b[1;36m5.0\u001b[0m\u001b[1;33m\u001b[0m\u001b[0m\n\u001b[0;32m      5\u001b[0m \u001b[0mdivide\u001b[0m\u001b[1;33m(\u001b[0m\u001b[1;33m)\u001b[0m\u001b[1;33m\u001b[0m\u001b[0m\n\u001b[1;32m----> 6\u001b[1;33m \u001b[1;32mprint\u001b[0m \u001b[1;34m'a/b ='\u001b[0m\u001b[1;33m,\u001b[0m\u001b[0mc\u001b[0m\u001b[1;33m\u001b[0m\u001b[0m\n\u001b[0m",
      "\u001b[1;31mNameError\u001b[0m: name 'c' is not defined"
     ]
    }
   ],
   "source": [
    "def divide():\n",
    "    c = a/b\n",
    "a = 100.0\n",
    "b = 5.0\n",
    "divide()\n",
    "print 'a/b =',c"
   ]
  },
  {
   "cell_type": "markdown",
   "metadata": {},
   "source": [
    "## Exercises:"
   ]
  },
  {
   "cell_type": "raw",
   "metadata": {},
   "source": [
    "Create a file called 'numpytest.py'. First define two vectors, \n",
    "called 'x' and 'y'. 'x' should be initialized to the vector \n",
    "\n",
    "(1, 5, -2, 6, 8, 10) \n",
    "\n",
    "and 'y' should be \n",
    "\n",
    "(-1, 0, 1, 1, 2, 3). \n",
    "\n",
    "Compute and store in a value 'a' the dot product of these two vectors. Store in a vector 'z1' a copy of 'x' but where every value less than zero has been replaced with zero (Hint: you can do this using slices, or the 'where' function). Store in a vector 'z2' all of the elements of 'x' that correspond to positions of 'y' that are strictly greater than zero. Finally, store in a vector 'z3' the sum of all values in 'y' that correspond to even elements of 'x'. (Hint: you can use modulus to get evenness: this is '%' in Python)"
   ]
  },
  {
   "cell_type": "markdown",
   "metadata": {},
   "source": [
    "# Visualising Data"
   ]
  },
  {
   "cell_type": "raw",
   "metadata": {},
   "source": [
    "Work through the Entought Matplotlib slides (available on Study Direct) and then through the online tutorial at\n",
    "\n",
    "http://cs.smith.edu/dftwiki/index.php/MatPlotLib_Tutorial_1\n",
    "\n",
    "(there is a link on Study Direct). You can skip any repeated info."
   ]
  },
  {
   "cell_type": "markdown",
   "metadata": {},
   "source": [
    "## Exercises:"
   ]
  },
  {
   "cell_type": "raw",
   "metadata": {},
   "source": [
    "1) Plot a simple graph of a sine function in the range 0 to 3 with a \n",
    "step size of 0.01. Make the line red. Add diamond-shaped markers with size of 5. Add a legend and a grid to the plot.\n",
    "\n",
    "2) Add to the previous plot a line showing the cosine of the same vector. Make the line blue and dashed, with circular markers. Change line color and thickness as well as the size and the kind of the marker. Experiment with different styles.\n",
    "\n",
    "3) Now draw a figure with two sub-plots on separate panels showing the\n",
    "sinus and cosine. Add labels and ticks only to the outermost axes. Place in one of these plots a smaller inset plot showing the exponent of 'x' over the same 'x' interval. Make sure the small plot does not overlap the lines on the larger plot. Use the pylab help and manual if needed.\n",
    "\n",
    "4) Using the 'random' module.\n",
    "\n",
    "import random\n",
    "a=random.random() # creates a random number between 0 and 1\n",
    "\n",
    "or 'randn(n)', create 2 random vectors 'x' and 'y', each of length 100. \n",
    "Using the plot command make a scatter plot of 'x' vs. 'y' (hint just use ’bo’ as the format).\n",
    "\n",
    "5) Do the same scatter plot but using the semilogx, semilogy, and loglog plots (check the help). These produce a plot where one or both axes use logscale. \n",
    "\n",
    "6) Go to \n",
    "\n",
    "http://matplotlib.sourceforge.net/gallery.html and \n",
    "\n",
    "http://www.scipy.org/Cookbook/Matplotlib \n",
    "\n",
    "and make a plot (or several) that you think looks interesting."
   ]
  },
  {
   "cell_type": "code",
   "execution_count": null,
   "metadata": {
    "collapsed": false
   },
   "outputs": [],
   "source": [
    "\n"
   ]
  }
 ],
 "metadata": {
  "kernelspec": {
   "display_name": "Python 3",
   "language": "python",
   "name": "python3"
  },
  "language_info": {
   "codemirror_mode": {
    "name": "ipython",
    "version": 3
   },
   "file_extension": ".py",
   "mimetype": "text/x-python",
   "name": "python",
   "nbconvert_exporter": "python",
   "pygments_lexer": "ipython3",
   "version": "3.6.0"
  }
 },
 "nbformat": 4,
 "nbformat_minor": 0
}
