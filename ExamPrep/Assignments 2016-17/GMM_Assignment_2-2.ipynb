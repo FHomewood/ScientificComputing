{
 "cells": [
  {
   "cell_type": "code",
   "execution_count": 30,
   "metadata": {
    "collapsed": false
   },
   "outputs": [],
   "source": [
    "#Import necessary codes\n",
    "from numpy import asarray, nan, empty, sin, cos, tan, pi, arctan"
   ]
  },
  {
   "cell_type": "code",
   "execution_count": 31,
   "metadata": {
    "collapsed": false
   },
   "outputs": [
    {
     "name": "stdout",
     "output_type": "stream",
     "text": [
      "[9, 10, 11] [ 0.95644043  0.94352499  0.93095862] [ 1.14476146  1.12730816  1.11037847]\n"
     ]
    }
   ],
   "source": [
    "#Create arrays for the times and corresponding angles measured. Also converting into radians.\n",
    "#Also define a as the seperation of the two radio stations in metres.\n",
    "time = [9, 10, 11]\n",
    "alpha = asarray([54.80, 54.06, 53.34]) * (pi / 180.)\n",
    "beta = asarray([65.59, 64.59, 63.62]) * (pi / 180.)\n",
    "a = 500\n",
    "print time, alpha, beta"
   ]
  },
  {
   "cell_type": "code",
   "execution_count": 32,
   "metadata": {
    "collapsed": false
   },
   "outputs": [],
   "source": [
    "#By using the tables found in the course book, define the code for the finite difference approxiamations method to help later find the derivatives of x and y.\n",
    "dt = 1\n",
    "def sec(x) : return 1./cos(x)\n",
    "def f(x,dt=1):\n",
    "    n = len(x)\n",
    "    xp = nan*empty(n)\n",
    "    #From table 5.3a in the course book, use forward differences to find the first location:\n",
    "    for ii in [0]: \n",
    "        xp[ii] = (-3*x[ii] + 4*x[ii+1] - x[ii+2]) / (2*dt) \n",
    "    #Again from the course book, use table 5.1 to find the middle locations:\n",
    "    for ii in range(1,n-1): \n",
    "        xp[ii] = (-x[ii-1] + x[ii+1]) / (2*dt) \n",
    "    #And table 5.3b for the last location:\n",
    "    for ii in [n-1]: \n",
    "        xp[ii] = (x[ii-2] - 4*x[ii-1] + 3*x[ii]) / (2*dt) \n",
    "    return xp"
   ]
  },
  {
   "cell_type": "code",
   "execution_count": 33,
   "metadata": {
    "collapsed": false
   },
   "outputs": [],
   "source": [
    "#Define the arrays as functions of alpha and beta respectively of previously defined formula\n",
    "f_alpha = f(alpha)\n",
    "f_beta = f(beta)"
   ]
  },
  {
   "cell_type": "code",
   "execution_count": 34,
   "metadata": {
    "collapsed": false
   },
   "outputs": [
    {
     "name": "stdout",
     "output_type": "stream",
     "text": [
      "dx/dt= [-9.08948709 -8.56152742 -8.03011676]\n",
      "dy/dt= [ 13.90177307  13.08554517  12.25522978]\n"
     ]
    }
   ],
   "source": [
    "#Use the formalas for dx/dt and dy/dt in terms of (d/dt)*alpha and (d/dt)*beta to compute dx/dt and dy/dt: \n",
    "dx_dt = ((-tan(alpha)*(sec(alpha)**2)*f_beta + tan(beta)*(sec(alpha)**2)*f_alpha) / ((tan(beta) - tan(alpha))**2)) * a\n",
    "dy_dt = (((sec(alpha)**2)*(tan(beta)**2)*f_alpha - (sec(beta)**2) * (tan(alpha)**2)*f_beta) / ((tan(beta) - tan(alpha))**2))*a\n",
    "print \"dx/dt=\", dx_dt\n",
    "print \"dy/dt=\", dy_dt"
   ]
  },
  {
   "cell_type": "code",
   "execution_count": 35,
   "metadata": {
    "collapsed": false
   },
   "outputs": [
    {
     "name": "stdout",
     "output_type": "stream",
     "text": [
      "gamma in radians= 33.1956666627\n",
      "v= 15.6374948179\n"
     ]
    }
   ],
   "source": [
    "gamma = abs(arctan(dx_dt[1]/dy_dt[1]))\n",
    "v = (dx_dt[1]**2+dy_dt[1]**2)**0.5\n",
    "print 'gamma in radians=', gamma*180/pi\n",
    "print 'v=', v"
   ]
  }
 ],
 "metadata": {
  "anaconda-cloud": {},
  "kernelspec": {
   "display_name": "Python [Root]",
   "language": "python",
   "name": "Python [Root]"
  },
  "language_info": {
   "codemirror_mode": {
    "name": "ipython",
    "version": 2
   },
   "file_extension": ".py",
   "mimetype": "text/x-python",
   "name": "python",
   "nbconvert_exporter": "python",
   "pygments_lexer": "ipython2",
   "version": "2.7.11"
  }
 },
 "nbformat": 4,
 "nbformat_minor": 1
}
