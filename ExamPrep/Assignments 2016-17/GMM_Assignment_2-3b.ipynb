{
 "cells": [
  {
   "cell_type": "markdown",
   "metadata": {},
   "source": [
    "\n"
   ]
  },
  {
   "cell_type": "code",
   "execution_count": 19,
   "metadata": {
    "collapsed": false,
    "scrolled": true
   },
   "outputs": [],
   "source": [
    "#import necessary codes\n",
    "import numpy as np"
   ]
  },
  {
   "cell_type": "code",
   "execution_count": 25,
   "metadata": {
    "collapsed": true
   },
   "outputs": [],
   "source": [
    "#define the functions for f(x) and df(x)\n",
    "def f(x):\n",
    "    f=-np.exp(-x)+3*x**2\n",
    "    return f\n",
    "\n",
    "def df(x):\n",
    "    df=np.exp(-x)+6*x\n",
    "    return df"
   ]
  },
  {
   "cell_type": "code",
   "execution_count": 26,
   "metadata": {
    "collapsed": false
   },
   "outputs": [],
   "source": [
    "#define the variable h1, h2 and x\n",
    "h1=0.1\n",
    "h2=0.5\n",
    "x=1."
   ]
  },
  {
   "cell_type": "code",
   "execution_count": 27,
   "metadata": {
    "collapsed": true
   },
   "outputs": [],
   "source": [
    "#Using the approxiamations found earlier, calculate f''(x) with each value of h1 & h2\n",
    "df_dx1=(8.*f(x+h1)-8.*(x-h1)-f(x+2.*h1)+f(x-2.*h1))/12./h1\n",
    "df_dx2=(8.*f(x+h2)-8.*(x-h2)-f(x+2.*h2)+f(x-2.*h2))/12./h2"
   ]
  },
  {
   "cell_type": "code",
   "execution_count": 28,
   "metadata": {
    "collapsed": true
   },
   "outputs": [],
   "source": [
    "#find the errors of the richardson extrapolation method by comparing to the original value.\n",
    "error1=df(x)-dfdx1\n",
    "error2=df(x)-dfdx2"
   ]
  },
  {
   "cell_type": "code",
   "execution_count": 29,
   "metadata": {
    "collapsed": false
   },
   "outputs": [
    {
     "name": "stdout",
     "output_type": "stream",
     "text": [
      "values= 18.5425861848 6.77495099966 exact= 6.36787944117\n",
      "errors= -12.1747067437 -0.407071558487\n",
      "error ratio= 29.9080259719\n"
     ]
    }
   ],
   "source": [
    "#print all the values.\n",
    "print 'values=',dfdx1,dfdx2,'exact=',df(x)\n",
    "print 'errors=', error1,error2\n",
    "print 'error ratio=',error1/error2"
   ]
  }
 ],
 "metadata": {
  "anaconda-cloud": {},
  "kernelspec": {
   "display_name": "Python [Root]",
   "language": "python",
   "name": "Python [Root]"
  },
  "language_info": {
   "codemirror_mode": {
    "name": "ipython",
    "version": 2
   },
   "file_extension": ".py",
   "mimetype": "text/x-python",
   "name": "python",
   "nbconvert_exporter": "python",
   "pygments_lexer": "ipython2",
   "version": "2.7.11"
  }
 },
 "nbformat": 4,
 "nbformat_minor": 0
}
