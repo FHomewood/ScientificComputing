{
 "cells": [
  {
   "cell_type": "code",
   "execution_count": 1,
   "metadata": {
    "collapsed": true
   },
   "outputs": [],
   "source": [
    "#import necessary codes.\n",
    "import numpy as np\n",
    "from scipy.interpolate import interp1d, barycentric_interpolate\n",
    "from scipy.optimize import curve_fit\n",
    "import pylab"
   ]
  },
  {
   "cell_type": "code",
   "execution_count": 2,
   "metadata": {
    "collapsed": true
   },
   "outputs": [],
   "source": [
    "#define 11 equally spaced set of values between -pi & pi for x.\n",
    "x = np.linspace(-np.pi,np.pi, 11)"
   ]
  },
  {
   "cell_type": "code",
   "execution_count": 3,
   "metadata": {
    "collapsed": true
   },
   "outputs": [],
   "source": [
    "#define the function to be used.\n",
    "def f(x):\n",
    "    y = ([])\n",
    "    for n in x:\n",
    "        if n<0:\n",
    "            y.append(-1)\n",
    "        if n>=0:\n",
    "            y.append(1)\n",
    "    return y"
   ]
  },
  {
   "cell_type": "code",
   "execution_count": 4,
   "metadata": {
    "collapsed": true
   },
   "outputs": [],
   "source": [
    "#to interpolate the points, begin by generating many (1000) points in the range -pi & pi.\n",
    "#interpolate the the point giving the x values, the y values and the 1000 generate values.\n",
    "#the last line is for part (b) to find the cubic spline fit of the x and y values.\n",
    "xi = np.linspace(-np.pi,np.pi, 1000)\n",
    "yi = barycentric_interpolate(x, f(x), xi)\n",
    "f_cubic = interp1d(x,f(x), kind='cubic')"
   ]
  },
  {
   "cell_type": "code",
   "execution_count": 5,
   "metadata": {
    "collapsed": true
   },
   "outputs": [],
   "source": [
    "#set up an array of the three values to be evaluated on the fit.\n",
    "#find the actual y values according to the function named 'xa_true'\n",
    "#interpolate the values in the same way as before but with the generated values 'xa' to find the values given from the interpolation method.\n",
    "#use the cubic spline function from before to find the values using this method.\n",
    "xa = ([-1.5,1,3])\n",
    "xa_true = f(xa)\n",
    "xa_bi = barycentric_interpolate(x, f(x), xa)\n",
    "xa_cubic = f_cubic(xa)"
   ]
  },
  {
   "cell_type": "code",
   "execution_count": 6,
   "metadata": {
    "collapsed": false
   },
   "outputs": [
    {
     "name": "stdout",
     "output_type": "stream",
     "text": [
      "x= [-1.5, 1, 3]\n",
      "True Values [-1, 1, 1]\n",
      "Interpolated Values [-0.55878995  0.78467732  6.21284005]\n",
      "Interpolated Errors [ 0.44121005  0.21532268  5.21284005]\n",
      "There 11 points in the fit therefore it is a 10th order polynomial\n",
      "Cubic Values [-0.93929221  0.95312773  1.016033  ]\n",
      "Cubic Errors [ 0.06070779  0.04687227  0.016033  ]\n"
     ]
    }
   ],
   "source": [
    "#print the value found and compare them with the true values by finding the decimal error.\n",
    "print 'x=', xa\n",
    "print 'True Values', xa_true\n",
    "print 'Interpolated Values', xa_bi\n",
    "print 'Interpolated Errors', abs((xa_true-xa_bi) / xa_true)\n",
    "print 'There 11 points in the fit therefore it is a 10th order polynomial'\n",
    "print 'Cubic Values', xa_cubic\n",
    "print 'Cubic Errors', abs((xa_true-xa_cubic) / xa_true)"
   ]
  },
  {
   "cell_type": "code",
   "execution_count": 7,
   "metadata": {
    "collapsed": true
   },
   "outputs": [],
   "source": [
    "#define the hyperbolic function in (d)\n",
    "def func(x, a, b, c):\n",
    "    return a*np.tanh(b*x+c)"
   ]
  },
  {
   "cell_type": "code",
   "execution_count": 8,
   "metadata": {
    "collapsed": true
   },
   "outputs": [],
   "source": [
    "#generate noise according to the given function which generates y values slightly higher lower than the true values.\n",
    "yn = f(x) + 0.1*np.random.random(len(x))"
   ]
  },
  {
   "cell_type": "code",
   "execution_count": 9,
   "metadata": {
    "collapsed": false
   },
   "outputs": [
    {
     "name": "stderr",
     "output_type": "stream",
     "text": [
      "C:\\Program Files\\Anaconda\\lib\\site-packages\\scipy\\optimize\\minpack.py:690: OptimizeWarning: Covariance of the parameters could not be estimated\n",
      "  category=OptimizeWarning)\n"
     ]
    }
   ],
   "source": [
    "#find the curve fit of the function for both the true values and the noisey values.\n",
    "popt1, pcov1 = curve_fit(func, x, f(x))\n",
    "popt2, pcov2 = curve_fit(func, x, yn)"
   ]
  },
  {
   "cell_type": "code",
   "execution_count": null,
   "metadata": {
    "collapsed": false
   },
   "outputs": [
    {
     "name": "stdout",
     "output_type": "stream",
     "text": [
      "(a,b,c)= 1.00000000001 38.4713125862 11.9717512914\n",
      "(a,b,c) w/ noise= 1.00858178967 8.40778091129 3.74119770871\n"
     ]
    }
   ],
   "source": [
    "#print the coefficients found from both fits.\n",
    "print '(a,b,c)=', popt1[0], popt1[1], popt1[2]\n",
    "print '(a,b,c) w/ noise=', popt2[0], popt2[1], popt2[2]"
   ]
  },
  {
   "cell_type": "code",
   "execution_count": null,
   "metadata": {
    "collapsed": false
   },
   "outputs": [],
   "source": [
    "#plot all values from this question.\n",
    "pylab.plot(x,f(x), 'o', label='data points')\n",
    "pylab.plot(xi, yi, label='polynomial')\n",
    "pylab.plot(xi, f_cubic(xi), label='cubic')\n",
    "pylab.plot(x,yn, 'o', label='tanh data points')\n",
    "pylab.plot(xi,popt1[0]*np.tanh(popt1[1]*xi+popt1[2]),label='tanh fit')\n",
    "pylab.plot(xi,popt2[0]*np.tanh(popt2[1]*xi+popt2[2]),label='tanh fit w/ noise')\n",
    "pylab.legend(loc='best')\n",
    "pylab.show()"
   ]
  },
  {
   "cell_type": "code",
   "execution_count": null,
   "metadata": {
    "collapsed": true
   },
   "outputs": [],
   "source": [
    "#the parameters a,b,c are reduced for the fit with noise introduced on the data points.\n",
    "#introducing noise into the values on the y axis gives a smoother fit between the two halves of the set of values."
   ]
  }
 ],
 "metadata": {
  "kernelspec": {
   "display_name": "Python [Root]",
   "language": "python",
   "name": "Python [Root]"
  },
  "language_info": {
   "codemirror_mode": {
    "name": "ipython",
    "version": 2
   },
   "file_extension": ".py",
   "mimetype": "text/x-python",
   "name": "python",
   "nbconvert_exporter": "python",
   "pygments_lexer": "ipython2",
   "version": "2.7.11"
  }
 },
 "nbformat": 4,
 "nbformat_minor": 1
}
