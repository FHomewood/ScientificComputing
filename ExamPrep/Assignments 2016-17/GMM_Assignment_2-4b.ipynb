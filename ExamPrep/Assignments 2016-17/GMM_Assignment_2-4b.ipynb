{
 "cells": [
  {
   "cell_type": "code",
   "execution_count": 72,
   "metadata": {
    "collapsed": false
   },
   "outputs": [],
   "source": [
    "#Import necessary codes\n",
    "from scipy import integrate\n",
    "from numpy import linspace, log, cos, tan, pi, asarray\n",
    "import matplotlib.pyplot as plt"
   ]
  },
  {
   "cell_type": "code",
   "execution_count": 73,
   "metadata": {
    "collapsed": true
   },
   "outputs": [],
   "source": [
    "#define the integral\n",
    "def f(x1):\n",
    "    return 1 / cos(x1)"
   ]
  },
  {
   "cell_type": "code",
   "execution_count": 74,
   "metadata": {
    "collapsed": false
   },
   "outputs": [],
   "source": [
    "#create a set of equally spaced values between -pi/2 & +pi/2 and define the arrays for approximate values and true values\n",
    "x1 = linspace( -pi/2, pi/2, 1000 )\n",
    "f_approx = []\n",
    "f_true = []"
   ]
  },
  {
   "cell_type": "code",
   "execution_count": 75,
   "metadata": {
    "collapsed": false
   },
   "outputs": [
    {
     "name": "stderr",
     "output_type": "stream",
     "text": [
      "C:\\Program Files\\Anaconda\\lib\\site-packages\\ipykernel\\__main__.py:4: RuntimeWarning: divide by zero encountered in log\n"
     ]
    }
   ],
   "source": [
    "#create a loop that fills these arrays with the approxiamate values and the true values for the equally spaced values of x.\n",
    "for i in x1:      \n",
    "    x2 = integrate.quad(f, 0, i)\n",
    "    f_approx.append(x2)\n",
    "    x3 = log((1/cos(i)) + tan(i))\n",
    "    f_true.append(x3)"
   ]
  },
  {
   "cell_type": "code",
   "execution_count": 76,
   "metadata": {
    "collapsed": false
   },
   "outputs": [
    {
     "name": "stderr",
     "output_type": "stream",
     "text": [
      "C:\\Program Files\\Anaconda\\lib\\site-packages\\ipykernel\\__main__.py:5: RuntimeWarning: divide by zero encountered in log\n"
     ]
    }
   ],
   "source": [
    "#create an array for the log of the errors\n",
    "#calculate the errors on the approxiamte values for the scipy.integrate.quad code by subtracting the true values and finding the absolute value of this\n",
    "#fill the error array with the log of these values\n",
    "error = []\n",
    "\n",
    "for j in range(len(x1)):\n",
    "    error1 = (abs(f_approx[j] - f_true[j]))\n",
    "    error.append(log(error1))"
   ]
  },
  {
   "cell_type": "code",
   "execution_count": 78,
   "metadata": {
    "collapsed": false
   },
   "outputs": [],
   "source": [
    "#plot the true values against these errors\n",
    "plt.plot(f_true, error)\n",
    "plt.xlabel('True Values')\n",
    "plt.ylabel('log(Abs(Error))')\n",
    "plt.title('Plot of log of Absolute values for Errors Against the True Values for the integral')\n",
    "plt.show()"
   ]
  }
 ],
 "metadata": {
  "anaconda-cloud": {},
  "kernelspec": {
   "display_name": "Python [Root]",
   "language": "python",
   "name": "Python [Root]"
  },
  "language_info": {
   "codemirror_mode": {
    "name": "ipython",
    "version": 2
   },
   "file_extension": ".py",
   "mimetype": "text/x-python",
   "name": "python",
   "nbconvert_exporter": "python",
   "pygments_lexer": "ipython2",
   "version": "2.7.11"
  }
 },
 "nbformat": 4,
 "nbformat_minor": 1
}
