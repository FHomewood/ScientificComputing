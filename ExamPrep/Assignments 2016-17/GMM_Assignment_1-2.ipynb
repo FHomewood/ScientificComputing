{
 "cells": [
  {
   "cell_type": "code",
   "execution_count": 42,
   "metadata": {
    "collapsed": false
   },
   "outputs": [],
   "source": [
    "#Import necessary codes\n",
    "import numpy as np\n",
    "from hilb import *\n",
    "import pylab\n",
    "from gaussPivot import *\n",
    "import time"
   ]
  },
  {
   "cell_type": "code",
   "execution_count": 43,
   "metadata": {
    "collapsed": true
   },
   "outputs": [],
   "source": [
    "#create empty arrays to store the values that will be plotted\n",
    "p1=[]\n",
    "errors1=[]\n",
    "p2=[]\n",
    "errors2=[]"
   ]
  },
  {
   "cell_type": "code",
   "execution_count": 44,
   "metadata": {
    "collapsed": true
   },
   "outputs": [],
   "source": [
    "#to find the most time efficient method, the time code has been imported.\n",
    "#This code starts the timer for this code to time how long this loop takes\n",
    "start1=time.time()"
   ]
  },
  {
   "cell_type": "code",
   "execution_count": 45,
   "metadata": {
    "collapsed": true
   },
   "outputs": [],
   "source": [
    "#create a loop for the integers between n=2-21 (as python takes the last number as the number below the upper boundary) which:\n",
    "#adds the number (n) to the array 'p1'.\n",
    "#sends (n) to the hilbert matrix code to create a hilbert matrix of nxn size.\n",
    "#finds the sum of this hilbert matrix\n",
    "#solves the matrix using the 'linalg.solve' code and it's sum to find x\n",
    "#calculates the error of this value x\n",
    "#adds this value to the 'errors1' array to be later logged\n",
    "#this process repeats up unitl n=20\n",
    "for n in range(2,21):\n",
    "    p1.append(n)\n",
    "    H=hilb(n)\n",
    "    B=sum(H)\n",
    "    sol=np.linalg.solve(H,B)\n",
    "    error=max(abs(sol))-1\n",
    "    errors1.append(error)"
   ]
  },
  {
   "cell_type": "code",
   "execution_count": 46,
   "metadata": {
    "collapsed": true
   },
   "outputs": [],
   "source": [
    "#take the log of the 'errors1 matrix to be plotted.\n",
    "Errors1_log = np.log(errors1)"
   ]
  },
  {
   "cell_type": "code",
   "execution_count": 47,
   "metadata": {
    "collapsed": true
   },
   "outputs": [],
   "source": [
    "#stop the first timer and begin the timer for the 'gaussPivot' code\n",
    "end1=time.time()\n",
    "start2=time.time()"
   ]
  },
  {
   "cell_type": "code",
   "execution_count": 48,
   "metadata": {
    "collapsed": true
   },
   "outputs": [],
   "source": [
    "#repeat the same process as above but using the gaussPivot code.\n",
    "#it was previously found, using trial and error on the upper limit, that n=12 is the highest number this code can calculate for. \n",
    "for n in range(2,13):\n",
    "    p2.append(n)\n",
    "    H=hilb(n)\n",
    "    B=sum(H)\n",
    "    sol=gaussPivot(H,B)\n",
    "    error=max(abs(sol))-1\n",
    "    errors2.append(error)"
   ]
  },
  {
   "cell_type": "code",
   "execution_count": 49,
   "metadata": {
    "collapsed": true
   },
   "outputs": [],
   "source": [
    "#log the 'errors2' array and end the timer.\n",
    "Errors2_log = np.log(errors2)\n",
    "end2=time.time()"
   ]
  },
  {
   "cell_type": "code",
   "execution_count": null,
   "metadata": {
    "collapsed": false
   },
   "outputs": [
    {
     "name": "stdout",
     "output_type": "stream",
     "text": [
      "0.115000009537\n",
      "0.085000038147\n"
     ]
    }
   ],
   "source": [
    "#from the the timers we can see the gaussPivot code is the faster code.\n",
    "print end1-start1\n",
    "print end2-start2"
   ]
  },
  {
   "cell_type": "code",
   "execution_count": null,
   "metadata": {
    "collapsed": false
   },
   "outputs": [],
   "source": [
    "#plots the arrays, 'errors1' vs. 'p1' and 'errors2' vs. 'p2' with title, axis labels and legend.\n",
    "pylab.plot(p1,Errors1_log, label='LinAlg.Solve')\n",
    "pylab.plot(p2,Errors2_log, label='Gauss Pivot')\n",
    "pylab.xlabel('n')\n",
    "pylab.ylabel('Log(errors)')\n",
    "pylab.title('Graph of n vs. Log(errors) for Gauss Pivot & LinAlg.Solve')\n",
    "pylab.legend(loc='best')\n",
    "pylab.show()"
   ]
  },
  {
   "cell_type": "code",
   "execution_count": null,
   "metadata": {
    "collapsed": false
   },
   "outputs": [],
   "source": [
    "#From the graph, we can see the error on the Gauss Pivot code is slightly higher than that of the LinAlg code. By running the code numerous times for both it can also be found that the linalg.solve code takes longer than the gaussPivot code showing the trade off between the two."
   ]
  }
 ],
 "metadata": {
  "anaconda-cloud": {},
  "kernelspec": {
   "display_name": "Python [Root]",
   "language": "python",
   "name": "Python [Root]"
  },
  "language_info": {
   "codemirror_mode": {
    "name": "ipython",
    "version": 2
   },
   "file_extension": ".py",
   "mimetype": "text/x-python",
   "name": "python",
   "nbconvert_exporter": "python",
   "pygments_lexer": "ipython2",
   "version": "2.7.11"
  }
 },
 "nbformat": 4,
 "nbformat_minor": 1
}
