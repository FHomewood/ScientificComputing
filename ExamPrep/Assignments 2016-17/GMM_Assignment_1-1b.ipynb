{
 "cells": [
  {
   "cell_type": "code",
   "execution_count": 1,
   "metadata": {
    "collapsed": true
   },
   "outputs": [],
   "source": [
    "#Begin by importing necessary codes\n",
    "import numpy as np"
   ]
  },
  {
   "cell_type": "code",
   "execution_count": 2,
   "metadata": {
    "collapsed": true
   },
   "outputs": [],
   "source": [
    "#Define variables to be used\n",
    "R1 = R3 = R5 = 1000.0\n",
    "R2 = R4 = R6 = 2000.0\n",
    "C1 = 10**-6\n",
    "C2 = 0.5*10**-6\n",
    "Xp = 3\n",
    "W = 1000"
   ]
  },
  {
   "cell_type": "code",
   "execution_count": 3,
   "metadata": {
    "collapsed": true
   },
   "outputs": [],
   "source": [
    "#Create the two matrices out of the LHS and RHS of the equations.\n",
    "#For the first equation,the x3 coefficient=0 and for the 3rd equation, the x1 coefficient=0.\n",
    "A = np.array([[1.0/R1+1.0/R4+complex(0,W*C1),complex(0,-W*C1),0],\n",
    "               [complex(0,-W*C1),complex(1.0/R2 + 1.0/R5, W*C1+W*C2),complex(0,-W*C2)],\n",
    "                [0,complex(0,-W*C2),complex(1.0/R3 + 1.0/R6, W*C2)]])\n",
    "B = np.array([Xp/R1,Xp/R2,Xp/R3])"
   ]
  },
  {
   "cell_type": "code",
   "execution_count": 4,
   "metadata": {
    "collapsed": false
   },
   "outputs": [
    {
     "name": "stdout",
     "output_type": "stream",
     "text": [
      "[ 1.69369369-0.16216216j  1.45045045+0.2972973j   1.85585586-0.13513514j] \n",
      "\n"
     ]
    }
   ],
   "source": [
    "#Use np.linalg.solve to solve for each parameter [0,1,2] and print solutions as complex numbers\n",
    "X1 = np.linalg.solve(A,B)[0]\n",
    "X2 = np.linalg.solve(A,B)[1]\n",
    "X3 = np.linalg.solve(A,B)[2]\n",
    "print np.linalg.solve(A,B), '\\n'"
   ]
  },
  {
   "cell_type": "code",
   "execution_count": 13,
   "metadata": {
    "collapsed": false
   },
   "outputs": [
    {
     "name": "stdout",
     "output_type": "stream",
     "text": [
      "V1: Amplitude = 1.70143906588 , Phase angle = -5.46909497011\n",
      "V2: Amplitude = 1.48060534654 , Phase angle = 11.5834186047\n",
      "V3: Amplitude = 1.86076932006 , Phase angle = -4.16467265187\n"
     ]
    }
   ],
   "source": [
    "#Print solutions with np.angle to find phase angle and \"deg='true'\" to give the phase angle in degrees.\n",
    "print 'V1: Amplitude =', abs(X1), ', Phase angle =',np.angle(X1, deg='true')\n",
    "print 'V2: Amplitude =', abs(X2), ', Phase angle =',np.angle(X2, deg='true')\n",
    "print 'V3: Amplitude =', abs(X3), ', Phase angle =',np.angle(X3, deg='true')"
   ]
  },
  {
   "cell_type": "code",
   "execution_count": null,
   "metadata": {
    "collapsed": true
   },
   "outputs": [],
   "source": []
  }
 ],
 "metadata": {
  "anaconda-cloud": {},
  "kernelspec": {
   "display_name": "Python [Root]",
   "language": "python",
   "name": "Python [Root]"
  },
  "language_info": {
   "codemirror_mode": {
    "name": "ipython",
    "version": 2
   },
   "file_extension": ".py",
   "mimetype": "text/x-python",
   "name": "python",
   "nbconvert_exporter": "python",
   "pygments_lexer": "ipython2",
   "version": "2.7.11"
  }
 },
 "nbformat": 4,
 "nbformat_minor": 1
}
